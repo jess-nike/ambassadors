{
 "cells": [
  {
   "cell_type": "code",
   "execution_count": 3,
   "id": "attractive-alias",
   "metadata": {
    "scrolled": true
   },
   "outputs": [
    {
     "name": "stderr",
     "output_type": "stream",
     "text": [
      "/Library/Frameworks/Python.framework/Versions/3.9/lib/python3.9/site-packages/ipykernel/ipkernel.py:283: DeprecationWarning: `should_run_async` will not call `transform_cell` automatically in the future. Please pass the result to `transformed_cell` argument and any exception that happen during thetransform in `preprocessing_exc_tuple` in IPython 7.17 and above.\n",
      "  and should_run_async(code)\n"
     ]
    }
   ],
   "source": [
    "#Copy the code and change the name for other artists\n",
    "artist_name = \"Billie Eilish\""
   ]
  },
  {
   "cell_type": "code",
   "execution_count": 4,
   "id": "chemical-pride",
   "metadata": {},
   "outputs": [
    {
     "name": "stderr",
     "output_type": "stream",
     "text": [
      "/Library/Frameworks/Python.framework/Versions/3.9/lib/python3.9/site-packages/ipykernel/ipkernel.py:283: DeprecationWarning: `should_run_async` will not call `transform_cell` automatically in the future. Please pass the result to `transformed_cell` argument and any exception that happen during thetransform in `preprocessing_exc_tuple` in IPython 7.17 and above.\n",
      "  and should_run_async(code)\n"
     ]
    }
   ],
   "source": [
    "import pandas as pd\n",
    "import codecs\n",
    "import json\n",
    "from pandas.io.json import json_normalize\n",
    "import re"
   ]
  },
  {
   "cell_type": "code",
   "execution_count": 5,
   "id": "simplified-sequence",
   "metadata": {},
   "outputs": [
    {
     "name": "stderr",
     "output_type": "stream",
     "text": [
      "/Library/Frameworks/Python.framework/Versions/3.9/lib/python3.9/site-packages/ipykernel/ipkernel.py:283: DeprecationWarning: `should_run_async` will not call `transform_cell` automatically in the future. Please pass the result to `transformed_cell` argument and any exception that happen during thetransform in `preprocessing_exc_tuple` in IPython 7.17 and above.\n",
      "  and should_run_async(code)\n"
     ]
    }
   ],
   "source": [
    "#Machine learning libraries for Text analysis\n",
    "import nltk  # machine learning with text\n",
    "from nltk import download as nltk_download\n",
    "from nltk.corpus import stopwords, wordnet  # List of common words\n",
    "from nltk.tokenize import word_tokenize  # Split text into significant forms\n",
    "from nltk.stem import WordNetLemmatizer  # Reduce words to their root form\n",
    "from nltk import pos_tag  # Tag words with parts of speech\n",
    "from collections import defaultdict, Counter  # Dictionaries that have a backup value\n",
    "from sklearn.feature_extraction.text import CountVectorizer  # Convert text to sparse matrices\n",
    "from textblob import TextBlob  # Sentiment analysis\n",
    "from gensim.models.ldamodel import LdaModel  # Topic extraction\n",
    "from gensim.models.phrases import Phrases, ENGLISH_CONNECTOR_WORDS  # ngrams\n",
    "from gensim.models.phrases import Phraser  # ngrams\n",
    "from gensim import corpora, models, similarities  # Vectorization\n",
    "import pyLDAvis\n",
    "from wordcloud import WordCloud  # Create wordclouds\n",
    "import matplotlib.pylab as plt"
   ]
  },
  {
   "cell_type": "code",
   "execution_count": null,
   "id": "deluxe-understanding",
   "metadata": {},
   "outputs": [],
   "source": []
  },
  {
   "cell_type": "markdown",
   "id": "editorial-buddy",
   "metadata": {},
   "source": [
    "# Run next 2 cells only if you want to pull data from Genius"
   ]
  },
  {
   "cell_type": "code",
   "execution_count": null,
   "id": "framed-testament",
   "metadata": {},
   "outputs": [],
   "source": [
    "from lyricsgenius import Genius\n",
    "\n",
    "genius = Genius('JOSfSO0Cn0Y3avlw_ItRLdmwFj3s-36fjS-POUolMGFiWkUiE_zHXfQZVsOOqbxA', timeout=10)\n",
    "artist = genius.search_artist(artist_name, max_songs = 300) # use max_songs=10 parameter to limit to 10 songs"
   ]
  },
  {
   "cell_type": "code",
   "execution_count": null,
   "id": "polyphonic-diagram",
   "metadata": {
    "scrolled": true
   },
   "outputs": [],
   "source": [
    "artist_json = artist.save_lyrics()"
   ]
  },
  {
   "cell_type": "markdown",
   "id": "rural-johnson",
   "metadata": {},
   "source": [
    "# Start here to use the data from the file on disk"
   ]
  },
  {
   "cell_type": "code",
   "execution_count": 6,
   "id": "anticipated-torture",
   "metadata": {
    "scrolled": true
   },
   "outputs": [
    {
     "name": "stderr",
     "output_type": "stream",
     "text": [
      "/Library/Frameworks/Python.framework/Versions/3.9/lib/python3.9/site-packages/ipykernel/ipkernel.py:283: DeprecationWarning: `should_run_async` will not call `transform_cell` automatically in the future. Please pass the result to `transformed_cell` argument and any exception that happen during thetransform in `preprocessing_exc_tuple` in IPython 7.17 and above.\n",
      "  and should_run_async(code)\n"
     ]
    }
   ],
   "source": [
    "#load the file\n",
    "name_string = artist_name.replace(' ', '')\n",
    "lyricsFile = \"Lyrics_\"+str(name_string)+\".json\"\n",
    "with open(lyricsFile) as json_data:\n",
    "    data = json.load(json_data)\n",
    "\n",
    "# convert to dataframe\n",
    "df = pd.DataFrame(data['songs'])\n",
    "artist_df = df[['full_title', 'title', 'artist', 'lyrics', 'featured_artists', 'release_date']]"
   ]
  },
  {
   "cell_type": "markdown",
   "id": "played-expansion",
   "metadata": {},
   "source": [
    "# Lyric Analysis\n",
    "\n",
    "## Cleaning the lyrics"
   ]
  },
  {
   "cell_type": "code",
   "execution_count": 7,
   "id": "covered-voltage",
   "metadata": {
    "scrolled": true
   },
   "outputs": [
    {
     "name": "stderr",
     "output_type": "stream",
     "text": [
      "/Library/Frameworks/Python.framework/Versions/3.9/lib/python3.9/site-packages/ipykernel/ipkernel.py:283: DeprecationWarning: `should_run_async` will not call `transform_cell` automatically in the future. Please pass the result to `transformed_cell` argument and any exception that happen during thetransform in `preprocessing_exc_tuple` in IPython 7.17 and above.\n",
      "  and should_run_async(code)\n",
      "/Library/Frameworks/Python.framework/Versions/3.9/lib/python3.9/site-packages/pandas/core/generic.py:5494: SettingWithCopyWarning: \n",
      "A value is trying to be set on a copy of a slice from a DataFrame.\n",
      "Try using .loc[row_indexer,col_indexer] = value instead\n",
      "\n",
      "See the caveats in the documentation: https://pandas.pydata.org/pandas-docs/stable/user_guide/indexing.html#returning-a-view-versus-a-copy\n",
      "  self[name] = value\n"
     ]
    }
   ],
   "source": [
    "# convert everything to lower case\n",
    "artist_df.lyrics = artist_df.lyrics.str.lower()"
   ]
  },
  {
   "cell_type": "code",
   "execution_count": 8,
   "id": "worldwide-wholesale",
   "metadata": {},
   "outputs": [
    {
     "name": "stderr",
     "output_type": "stream",
     "text": [
      "/Library/Frameworks/Python.framework/Versions/3.9/lib/python3.9/site-packages/ipykernel/ipkernel.py:283: DeprecationWarning: `should_run_async` will not call `transform_cell` automatically in the future. Please pass the result to `transformed_cell` argument and any exception that happen during thetransform in `preprocessing_exc_tuple` in IPython 7.17 and above.\n",
      "  and should_run_async(code)\n"
     ]
    },
    {
     "data": {
      "text/plain": [
       "\"[verse 1]\\nwhite shirt now red, my bloody nose\\nsleepin', you're on your tippy toes\\ncreepin' around like no one knows\\nthink you're so criminal\\nbruises on both my knees for you\\ndon't say thank you or please\\ni do what i want when i'm wanting to\\nmy soul? so cynical\\n\\n[chorus]\\nso you're a tough guy\\nlike it really rough guy\\njust can't get enough guy\\nchest always so puffed guy\\ni'm that bad type\\nmake your mama sad type\\nmake your girlfriend mad tight\\nmight seduce your dad type\\ni'm the bad guy\\nduh\\n\\n[post-chorus]\\ni'm the bad guy\\n\\n[verse 2]\\ni like it when you take control\\neven if you know that you don't\\nown me, i'll let you play the role\\ni'll be your animal\\nmy mommy likes to sing along with me\\nbut she won't sing this song\\nif she reads all the lyrics\\nshe'll pity the men i know\\n[chorus]\\nso you're a tough guy\\nlike it really rough guy\\njust can't get enough guy\\nchest always so puffed guy\\ni'm that bad type\\nmake your mama sad type\\nmake your girlfriend mad tight\\nmight seduce your dad type\\ni'm the bad guy\\nduh\\n\\n[post-chorus]\\ni'm the bad guy, duh\\ni'm only good at bein' bad, bad\\n\\n[bridge]\\ni like when you get mad\\ni guess i'm pretty glad that you're alone\\nyou said she's scared of me?\\ni mean, i don't see what she sees\\nbut maybe it's 'cause i'm wearing your cologne\\n\\n[outro]\\ni'm a bad guy\\ni'm, i'm a bad guy\\nbad guy, bad guy\\ni'm a badembedshare url:copyembed:copy\""
      ]
     },
     "execution_count": 8,
     "metadata": {},
     "output_type": "execute_result"
    }
   ],
   "source": [
    "artist_df.lyrics[2]"
   ]
  },
  {
   "cell_type": "code",
   "execution_count": 9,
   "id": "personal-salad",
   "metadata": {},
   "outputs": [
    {
     "name": "stderr",
     "output_type": "stream",
     "text": [
      "/Library/Frameworks/Python.framework/Versions/3.9/lib/python3.9/site-packages/ipykernel/ipkernel.py:283: DeprecationWarning: `should_run_async` will not call `transform_cell` automatically in the future. Please pass the result to `transformed_cell` argument and any exception that happen during thetransform in `preprocessing_exc_tuple` in IPython 7.17 and above.\n",
      "  and should_run_async(code)\n"
     ]
    }
   ],
   "source": [
    "# remove the embed, share, copy at the end of each lyric\n",
    "artist_df.lyrics = artist_df.lyrics.replace(to_replace=\"embedshare url:copyembed:copy\", value=\"\", regex=True) "
   ]
  },
  {
   "cell_type": "code",
   "execution_count": 10,
   "id": "unknown-beast",
   "metadata": {
    "scrolled": true
   },
   "outputs": [
    {
     "name": "stderr",
     "output_type": "stream",
     "text": [
      "/Library/Frameworks/Python.framework/Versions/3.9/lib/python3.9/site-packages/ipykernel/ipkernel.py:283: DeprecationWarning: `should_run_async` will not call `transform_cell` automatically in the future. Please pass the result to `transformed_cell` argument and any exception that happen during thetransform in `preprocessing_exc_tuple` in IPython 7.17 and above.\n",
      "  and should_run_async(code)\n"
     ]
    }
   ],
   "source": [
    "# Remove quotes\n",
    "artist_df.lyrics = artist_df.lyrics.replace(to_replace=\"(\\u2019)\", value=\"'\", regex=True)"
   ]
  },
  {
   "cell_type": "code",
   "execution_count": 11,
   "id": "integral-circuit",
   "metadata": {},
   "outputs": [
    {
     "name": "stderr",
     "output_type": "stream",
     "text": [
      "/Library/Frameworks/Python.framework/Versions/3.9/lib/python3.9/site-packages/ipykernel/ipkernel.py:283: DeprecationWarning: `should_run_async` will not call `transform_cell` automatically in the future. Please pass the result to `transformed_cell` argument and any exception that happen during thetransform in `preprocessing_exc_tuple` in IPython 7.17 and above.\n",
      "  and should_run_async(code)\n"
     ]
    }
   ],
   "source": [
    "# convert common contractions to the full word or phrase\n",
    "artist_df.lyrics = artist_df.lyrics.replace(to_replace=\"won't\", value=\"will not\", regex=True)\n",
    "artist_df.lyrics = artist_df.lyrics.replace(to_replace=\"wouldn't\", value=\"wouldnt\", regex=True)\n",
    "artist_df.lyrics = artist_df.lyrics.replace(to_replace=\"can't\", value=\"cannot\", regex=True)\n",
    "artist_df.lyrics = artist_df.lyrics.replace(to_replace=\"don't\", value=\"dont\", regex=True)\n",
    "artist_df.lyrics = artist_df.lyrics.replace(to_replace=\"wanna\", value=\"want to\", regex=True)\n",
    "artist_df.lyrics = artist_df.lyrics.replace(to_replace=\"ain't\", value=\"aint\", regex=True)\n",
    "artist_df.lyrics = artist_df.lyrics.replace(to_replace=\"gotta\", value=\"got to\", regex=True)\n",
    "artist_df.lyrics = artist_df.lyrics.replace(to_replace=\"'ll\", value=\" will\", regex=True)\n",
    "artist_df.lyrics = artist_df.lyrics.replace(to_replace=\"lil'\", value=\"little\", regex=True)\n",
    "artist_df.lyrics = artist_df.lyrics.replace(to_replace=\"hol'\", value=\"hold\", regex=True)"
   ]
  },
  {
   "cell_type": "code",
   "execution_count": 12,
   "id": "electoral-newsletter",
   "metadata": {
    "scrolled": true
   },
   "outputs": [
    {
     "name": "stderr",
     "output_type": "stream",
     "text": [
      "/Library/Frameworks/Python.framework/Versions/3.9/lib/python3.9/site-packages/ipykernel/ipkernel.py:283: DeprecationWarning: `should_run_async` will not call `transform_cell` automatically in the future. Please pass the result to `transformed_cell` argument and any exception that happen during thetransform in `preprocessing_exc_tuple` in IPython 7.17 and above.\n",
      "  and should_run_async(code)\n"
     ]
    }
   ],
   "source": [
    "# convert more common contractions to the full word or phrase\n",
    "artist_df.lyrics = artist_df.lyrics.replace(to_replace=\"it's\", value=\"it is\", regex=True)\n",
    "artist_df.lyrics = artist_df.lyrics.replace(to_replace=\"i've\", value=\"i have\", regex=True)\n",
    "artist_df.lyrics = artist_df.lyrics.replace(to_replace=\"i'm\", value=\"i am\", regex=True)\n",
    "artist_df.lyrics = artist_df.lyrics.replace(to_replace=\"i'd\", value=\"i would\", regex=True)\n",
    "artist_df.lyrics = artist_df.lyrics.replace(to_replace=\"you're\", value=\"you are\", regex=True)\n",
    "artist_df.lyrics = artist_df.lyrics.replace(to_replace=\"n' \", value=\"ng \", regex=True)\n",
    "artist_df.lyrics = artist_df.lyrics.replace(to_replace=\"'s \", value=\"s \", regex=True)\n",
    "artist_df.lyrics = artist_df.lyrics.replace(to_replace=\"'n \", value=\"ing \", regex=True)\n",
    "artist_df.lyrics = artist_df.lyrics.replace(to_replace=\" 'em \", value=\"them \", regex=True)\n",
    "artist_df.lyrics = artist_df.lyrics.replace(to_replace=\"&\", value=\"and\", regex=True)"
   ]
  },
  {
   "cell_type": "code",
   "execution_count": 13,
   "id": "material-front",
   "metadata": {},
   "outputs": [
    {
     "name": "stderr",
     "output_type": "stream",
     "text": [
      "/Library/Frameworks/Python.framework/Versions/3.9/lib/python3.9/site-packages/ipykernel/ipkernel.py:283: DeprecationWarning: `should_run_async` will not call `transform_cell` automatically in the future. Please pass the result to `transformed_cell` argument and any exception that happen during thetransform in `preprocessing_exc_tuple` in IPython 7.17 and above.\n",
      "  and should_run_async(code)\n"
     ]
    }
   ],
   "source": [
    "# Remove common interjections, or singing sounds\n",
    "artist_df.lyrics = artist_df.lyrics.replace(to_replace=r\"aah|aagh|ayy|ooh|da|ahh\", value=\"\", regex=True) \n",
    "artist_df.lyrics = artist_df.lyrics.replace(to_replace=r\"hmm|mmm|brr\", value=\"\", regex=True)\n",
    "artist_df.lyrics = artist_df.lyrics.replace(to_replace=r\"yeah\", value=\"\", regex=True)\n",
    "artist_df.lyrics = artist_df.lyrics.replace(to_replace=r\"woah\", value=\"\", regex=True)"
   ]
  },
  {
   "cell_type": "code",
   "execution_count": 14,
   "id": "broad-apartment",
   "metadata": {},
   "outputs": [
    {
     "name": "stderr",
     "output_type": "stream",
     "text": [
      "/Library/Frameworks/Python.framework/Versions/3.9/lib/python3.9/site-packages/ipykernel/ipkernel.py:283: DeprecationWarning: `should_run_async` will not call `transform_cell` automatically in the future. Please pass the result to `transformed_cell` argument and any exception that happen during thetransform in `preprocessing_exc_tuple` in IPython 7.17 and above.\n",
      "  and should_run_async(code)\n"
     ]
    }
   ],
   "source": [
    "# remove verse, chorus, bridge, intro , outro anotations \n",
    "artist_df.lyrics = artist_df.lyrics.replace(to_replace=r\"\\[[^]]*\\]\", value=\"\", regex=True) "
   ]
  },
  {
   "cell_type": "code",
   "execution_count": 15,
   "id": "royal-berry",
   "metadata": {
    "scrolled": false
   },
   "outputs": [
    {
     "name": "stderr",
     "output_type": "stream",
     "text": [
      "/Library/Frameworks/Python.framework/Versions/3.9/lib/python3.9/site-packages/ipykernel/ipkernel.py:283: DeprecationWarning: `should_run_async` will not call `transform_cell` automatically in the future. Please pass the result to `transformed_cell` argument and any exception that happen during thetransform in `preprocessing_exc_tuple` in IPython 7.17 and above.\n",
      "  and should_run_async(code)\n"
     ]
    }
   ],
   "source": [
    "# get rid of tabs, new line, return symbols and parentheses\n",
    "artist_df.lyrics = artist_df.lyrics.replace(to_replace=[r\"\\\\t|\\\\n|\\\\r\", \"\\t|\\n|\\r\"], value=\" \", regex=True)\n",
    "artist_df.lyrics = artist_df.lyrics.replace(to_replace=[r\"\\(|\\)\", \"\"], value=\" \", regex=True)"
   ]
  },
  {
   "cell_type": "code",
   "execution_count": 16,
   "id": "flush-cardiff",
   "metadata": {},
   "outputs": [
    {
     "name": "stderr",
     "output_type": "stream",
     "text": [
      "/Library/Frameworks/Python.framework/Versions/3.9/lib/python3.9/site-packages/ipykernel/ipkernel.py:283: DeprecationWarning: `should_run_async` will not call `transform_cell` automatically in the future. Please pass the result to `transformed_cell` argument and any exception that happen during thetransform in `preprocessing_exc_tuple` in IPython 7.17 and above.\n",
      "  and should_run_async(code)\n"
     ]
    },
    {
     "data": {
      "text/plain": [
       "\" white shirt now red, my bloody nose sleepin', you are on your tippy toes creeping around like no one knows think you are so criminal bruises on both my knees for you dont say thank you or please i do what i want when i am wanting to my soul? so cynical   so you are a tough guy like it really rough guy just cannot get enough guy chest always so puffed guy i am that bad type make your mama sad type make your girlfriend mad tight might seduce your d type i am the bad guy duh   i am the bad guy   i like it when you take control even if you know that you dont own me, i will let you play the role i will be your animal my mommy likes to sing along with me but she will not sing this song if she reads all the lyrics she will pity the men i know  so you are a tough guy like it really rough guy just cannot get enough guy chest always so puffed guy i am that bad type make your mama sad type make your girlfriend mad tight might seduce your d type i am the bad guy duh   i am the bad guy, duh i am only good at being bad, bad   i like when you get mad i guess i am pretty glad that you are alone you said shes scared of me? i mean, i dont see what she sees but maybe it is 'cause i am wearing your cologne   i am a bad guy i am, i am a bad guy bad guy, bad guy i am a bad\""
      ]
     },
     "execution_count": 16,
     "metadata": {},
     "output_type": "execute_result"
    }
   ],
   "source": [
    "artist_df.lyrics[2]"
   ]
  },
  {
   "cell_type": "code",
   "execution_count": 17,
   "id": "continued-logic",
   "metadata": {
    "scrolled": false
   },
   "outputs": [
    {
     "name": "stderr",
     "output_type": "stream",
     "text": [
      "/Library/Frameworks/Python.framework/Versions/3.9/lib/python3.9/site-packages/ipykernel/ipkernel.py:283: DeprecationWarning: `should_run_async` will not call `transform_cell` automatically in the future. Please pass the result to `transformed_cell` argument and any exception that happen during thetransform in `preprocessing_exc_tuple` in IPython 7.17 and above.\n",
      "  and should_run_async(code)\n"
     ]
    }
   ],
   "source": [
    "# remove any other symbols except letters, numbers and underscore\n",
    "artist_df.lyrics = artist_df.lyrics.replace(to_replace=r\"\\W\", value=\" \", regex=True)"
   ]
  },
  {
   "cell_type": "code",
   "execution_count": 18,
   "id": "focal-bowling",
   "metadata": {},
   "outputs": [
    {
     "name": "stderr",
     "output_type": "stream",
     "text": [
      "/Library/Frameworks/Python.framework/Versions/3.9/lib/python3.9/site-packages/ipykernel/ipkernel.py:283: DeprecationWarning: `should_run_async` will not call `transform_cell` automatically in the future. Please pass the result to `transformed_cell` argument and any exception that happen during thetransform in `preprocessing_exc_tuple` in IPython 7.17 and above.\n",
      "  and should_run_async(code)\n"
     ]
    },
    {
     "data": {
      "text/plain": [
       "' white shirt now red  my bloody nose sleepin   you are on your tippy toes creeping around like no one knows think you are so criminal bruises on both my knees for you dont say thank you or please i do what i want when i am wanting to my soul  so cynical   so you are a tough guy like it really rough guy just cannot get enough guy chest always so puffed guy i am that bad type make your mama sad type make your girlfriend mad tight might seduce your d type i am the bad guy duh   i am the bad guy   i like it when you take control even if you know that you dont own me  i will let you play the role i will be your animal my mommy likes to sing along with me but she will not sing this song if she reads all the lyrics she will pity the men i know  so you are a tough guy like it really rough guy just cannot get enough guy chest always so puffed guy i am that bad type make your mama sad type make your girlfriend mad tight might seduce your d type i am the bad guy duh   i am the bad guy  duh i am only good at being bad  bad   i like when you get mad i guess i am pretty glad that you are alone you said shes scared of me  i mean  i dont see what she sees but maybe it is  cause i am wearing your cologne   i am a bad guy i am  i am a bad guy bad guy  bad guy i am a bad'"
      ]
     },
     "execution_count": 18,
     "metadata": {},
     "output_type": "execute_result"
    }
   ],
   "source": [
    "artist_df.lyrics[2]"
   ]
  },
  {
   "cell_type": "code",
   "execution_count": 19,
   "id": "secondary-ancient",
   "metadata": {},
   "outputs": [
    {
     "name": "stderr",
     "output_type": "stream",
     "text": [
      "/Library/Frameworks/Python.framework/Versions/3.9/lib/python3.9/site-packages/ipykernel/ipkernel.py:283: DeprecationWarning: `should_run_async` will not call `transform_cell` automatically in the future. Please pass the result to `transformed_cell` argument and any exception that happen during thetransform in `preprocessing_exc_tuple` in IPython 7.17 and above.\n",
      "  and should_run_async(code)\n"
     ]
    }
   ],
   "source": [
    "artist_df_clean = artist_df"
   ]
  },
  {
   "cell_type": "code",
   "execution_count": 20,
   "id": "historic-crest",
   "metadata": {
    "scrolled": true
   },
   "outputs": [
    {
     "name": "stderr",
     "output_type": "stream",
     "text": [
      "/Library/Frameworks/Python.framework/Versions/3.9/lib/python3.9/site-packages/ipykernel/ipkernel.py:283: DeprecationWarning: `should_run_async` will not call `transform_cell` automatically in the future. Please pass the result to `transformed_cell` argument and any exception that happen during thetransform in `preprocessing_exc_tuple` in IPython 7.17 and above.\n",
      "  and should_run_async(code)\n"
     ]
    }
   ],
   "source": [
    "# Tokenize\n",
    "artist_df.lyrics = artist_df.lyrics.apply(word_tokenize)"
   ]
  },
  {
   "cell_type": "code",
   "execution_count": 21,
   "id": "romance-astrology",
   "metadata": {},
   "outputs": [
    {
     "name": "stderr",
     "output_type": "stream",
     "text": [
      "/Library/Frameworks/Python.framework/Versions/3.9/lib/python3.9/site-packages/ipykernel/ipkernel.py:283: DeprecationWarning: `should_run_async` will not call `transform_cell` automatically in the future. Please pass the result to `transformed_cell` argument and any exception that happen during thetransform in `preprocessing_exc_tuple` in IPython 7.17 and above.\n",
      "  and should_run_async(code)\n"
     ]
    },
    {
     "data": {
      "text/plain": [
       "['white',\n",
       " 'shirt',\n",
       " 'now',\n",
       " 'red',\n",
       " 'my',\n",
       " 'bloody',\n",
       " 'nose',\n",
       " 'sleepin',\n",
       " 'you',\n",
       " 'are',\n",
       " 'on',\n",
       " 'your',\n",
       " 'tippy',\n",
       " 'toes',\n",
       " 'creeping',\n",
       " 'around',\n",
       " 'like',\n",
       " 'no',\n",
       " 'one',\n",
       " 'knows',\n",
       " 'think',\n",
       " 'you',\n",
       " 'are',\n",
       " 'so',\n",
       " 'criminal',\n",
       " 'bruises',\n",
       " 'on',\n",
       " 'both',\n",
       " 'my',\n",
       " 'knees',\n",
       " 'for',\n",
       " 'you',\n",
       " 'dont',\n",
       " 'say',\n",
       " 'thank',\n",
       " 'you',\n",
       " 'or',\n",
       " 'please',\n",
       " 'i',\n",
       " 'do',\n",
       " 'what',\n",
       " 'i',\n",
       " 'want',\n",
       " 'when',\n",
       " 'i',\n",
       " 'am',\n",
       " 'wanting',\n",
       " 'to',\n",
       " 'my',\n",
       " 'soul',\n",
       " 'so',\n",
       " 'cynical',\n",
       " 'so',\n",
       " 'you',\n",
       " 'are',\n",
       " 'a',\n",
       " 'tough',\n",
       " 'guy',\n",
       " 'like',\n",
       " 'it',\n",
       " 'really',\n",
       " 'rough',\n",
       " 'guy',\n",
       " 'just',\n",
       " 'can',\n",
       " 'not',\n",
       " 'get',\n",
       " 'enough',\n",
       " 'guy',\n",
       " 'chest',\n",
       " 'always',\n",
       " 'so',\n",
       " 'puffed',\n",
       " 'guy',\n",
       " 'i',\n",
       " 'am',\n",
       " 'that',\n",
       " 'bad',\n",
       " 'type',\n",
       " 'make',\n",
       " 'your',\n",
       " 'mama',\n",
       " 'sad',\n",
       " 'type',\n",
       " 'make',\n",
       " 'your',\n",
       " 'girlfriend',\n",
       " 'mad',\n",
       " 'tight',\n",
       " 'might',\n",
       " 'seduce',\n",
       " 'your',\n",
       " 'd',\n",
       " 'type',\n",
       " 'i',\n",
       " 'am',\n",
       " 'the',\n",
       " 'bad',\n",
       " 'guy',\n",
       " 'duh',\n",
       " 'i',\n",
       " 'am',\n",
       " 'the',\n",
       " 'bad',\n",
       " 'guy',\n",
       " 'i',\n",
       " 'like',\n",
       " 'it',\n",
       " 'when',\n",
       " 'you',\n",
       " 'take',\n",
       " 'control',\n",
       " 'even',\n",
       " 'if',\n",
       " 'you',\n",
       " 'know',\n",
       " 'that',\n",
       " 'you',\n",
       " 'dont',\n",
       " 'own',\n",
       " 'me',\n",
       " 'i',\n",
       " 'will',\n",
       " 'let',\n",
       " 'you',\n",
       " 'play',\n",
       " 'the',\n",
       " 'role',\n",
       " 'i',\n",
       " 'will',\n",
       " 'be',\n",
       " 'your',\n",
       " 'animal',\n",
       " 'my',\n",
       " 'mommy',\n",
       " 'likes',\n",
       " 'to',\n",
       " 'sing',\n",
       " 'along',\n",
       " 'with',\n",
       " 'me',\n",
       " 'but',\n",
       " 'she',\n",
       " 'will',\n",
       " 'not',\n",
       " 'sing',\n",
       " 'this',\n",
       " 'song',\n",
       " 'if',\n",
       " 'she',\n",
       " 'reads',\n",
       " 'all',\n",
       " 'the',\n",
       " 'lyrics',\n",
       " 'she',\n",
       " 'will',\n",
       " 'pity',\n",
       " 'the',\n",
       " 'men',\n",
       " 'i',\n",
       " 'know',\n",
       " 'so',\n",
       " 'you',\n",
       " 'are',\n",
       " 'a',\n",
       " 'tough',\n",
       " 'guy',\n",
       " 'like',\n",
       " 'it',\n",
       " 'really',\n",
       " 'rough',\n",
       " 'guy',\n",
       " 'just',\n",
       " 'can',\n",
       " 'not',\n",
       " 'get',\n",
       " 'enough',\n",
       " 'guy',\n",
       " 'chest',\n",
       " 'always',\n",
       " 'so',\n",
       " 'puffed',\n",
       " 'guy',\n",
       " 'i',\n",
       " 'am',\n",
       " 'that',\n",
       " 'bad',\n",
       " 'type',\n",
       " 'make',\n",
       " 'your',\n",
       " 'mama',\n",
       " 'sad',\n",
       " 'type',\n",
       " 'make',\n",
       " 'your',\n",
       " 'girlfriend',\n",
       " 'mad',\n",
       " 'tight',\n",
       " 'might',\n",
       " 'seduce',\n",
       " 'your',\n",
       " 'd',\n",
       " 'type',\n",
       " 'i',\n",
       " 'am',\n",
       " 'the',\n",
       " 'bad',\n",
       " 'guy',\n",
       " 'duh',\n",
       " 'i',\n",
       " 'am',\n",
       " 'the',\n",
       " 'bad',\n",
       " 'guy',\n",
       " 'duh',\n",
       " 'i',\n",
       " 'am',\n",
       " 'only',\n",
       " 'good',\n",
       " 'at',\n",
       " 'being',\n",
       " 'bad',\n",
       " 'bad',\n",
       " 'i',\n",
       " 'like',\n",
       " 'when',\n",
       " 'you',\n",
       " 'get',\n",
       " 'mad',\n",
       " 'i',\n",
       " 'guess',\n",
       " 'i',\n",
       " 'am',\n",
       " 'pretty',\n",
       " 'glad',\n",
       " 'that',\n",
       " 'you',\n",
       " 'are',\n",
       " 'alone',\n",
       " 'you',\n",
       " 'said',\n",
       " 'shes',\n",
       " 'scared',\n",
       " 'of',\n",
       " 'me',\n",
       " 'i',\n",
       " 'mean',\n",
       " 'i',\n",
       " 'dont',\n",
       " 'see',\n",
       " 'what',\n",
       " 'she',\n",
       " 'sees',\n",
       " 'but',\n",
       " 'maybe',\n",
       " 'it',\n",
       " 'is',\n",
       " 'cause',\n",
       " 'i',\n",
       " 'am',\n",
       " 'wearing',\n",
       " 'your',\n",
       " 'cologne',\n",
       " 'i',\n",
       " 'am',\n",
       " 'a',\n",
       " 'bad',\n",
       " 'guy',\n",
       " 'i',\n",
       " 'am',\n",
       " 'i',\n",
       " 'am',\n",
       " 'a',\n",
       " 'bad',\n",
       " 'guy',\n",
       " 'bad',\n",
       " 'guy',\n",
       " 'bad',\n",
       " 'guy',\n",
       " 'i',\n",
       " 'am',\n",
       " 'a',\n",
       " 'bad']"
      ]
     },
     "execution_count": 21,
     "metadata": {},
     "output_type": "execute_result"
    }
   ],
   "source": [
    "artist_df.lyrics[2]"
   ]
  },
  {
   "cell_type": "markdown",
   "id": "communist-invasion",
   "metadata": {},
   "source": [
    "## Analysis: common 2 and 3 word phrases found in the lyrics"
   ]
  },
  {
   "cell_type": "code",
   "execution_count": 22,
   "id": "specified-chuck",
   "metadata": {},
   "outputs": [
    {
     "name": "stderr",
     "output_type": "stream",
     "text": [
      "/Library/Frameworks/Python.framework/Versions/3.9/lib/python3.9/site-packages/ipykernel/ipkernel.py:283: DeprecationWarning: `should_run_async` will not call `transform_cell` automatically in the future. Please pass the result to `transformed_cell` argument and any exception that happen during thetransform in `preprocessing_exc_tuple` in IPython 7.17 and above.\n",
      "  and should_run_async(code)\n"
     ]
    }
   ],
   "source": [
    "# Divide the lyrics into \"sentences\" so that the phrases don't straddle songs.   Each song = one sentence\n",
    "sentences = []\n",
    "for l in artist_df.lyrics:\n",
    "    sentences.append(l)"
   ]
  },
  {
   "cell_type": "code",
   "execution_count": 23,
   "id": "grand-fence",
   "metadata": {},
   "outputs": [
    {
     "name": "stderr",
     "output_type": "stream",
     "text": [
      "/Library/Frameworks/Python.framework/Versions/3.9/lib/python3.9/site-packages/ipykernel/ipkernel.py:283: DeprecationWarning: `should_run_async` will not call `transform_cell` automatically in the future. Please pass the result to `transformed_cell` argument and any exception that happen during thetransform in `preprocessing_exc_tuple` in IPython 7.17 and above.\n",
      "  and should_run_async(code)\n"
     ]
    },
    {
     "data": {
      "text/plain": [
       "153"
      ]
     },
     "execution_count": 23,
     "metadata": {},
     "output_type": "execute_result"
    }
   ],
   "source": [
    "# Number of sentences should equal the number of songs\n",
    "len(sentences)"
   ]
  },
  {
   "cell_type": "code",
   "execution_count": 24,
   "id": "victorian-island",
   "metadata": {},
   "outputs": [
    {
     "name": "stderr",
     "output_type": "stream",
     "text": [
      "/Library/Frameworks/Python.framework/Versions/3.9/lib/python3.9/site-packages/ipykernel/ipkernel.py:283: DeprecationWarning: `should_run_async` will not call `transform_cell` automatically in the future. Please pass the result to `transformed_cell` argument and any exception that happen during thetransform in `preprocessing_exc_tuple` in IPython 7.17 and above.\n",
      "  and should_run_async(code)\n"
     ]
    },
    {
     "data": {
      "text/plain": [
       "['dont',\n",
       " 'you',\n",
       " 'know',\n",
       " 'i',\n",
       " 'am',\n",
       " 'no',\n",
       " 'good',\n",
       " 'for',\n",
       " 'you',\n",
       " 'i',\n",
       " 'have',\n",
       " 'learned',\n",
       " 'to',\n",
       " 'lose',\n",
       " 'you',\n",
       " 'can',\n",
       " 'not',\n",
       " 'afford',\n",
       " 'to',\n",
       " 'tore',\n",
       " 'my',\n",
       " 'shirt',\n",
       " 'to',\n",
       " 'stop',\n",
       " 'you',\n",
       " 'bleedin',\n",
       " 'but',\n",
       " 'nothing',\n",
       " 'ever',\n",
       " 'stops',\n",
       " 'you',\n",
       " 'leavin',\n",
       " 'quiet',\n",
       " 'when',\n",
       " 'i',\n",
       " 'am',\n",
       " 'coming',\n",
       " 'home',\n",
       " 'and',\n",
       " 'i',\n",
       " 'am',\n",
       " 'on',\n",
       " 'my',\n",
       " 'own',\n",
       " 'i',\n",
       " 'could',\n",
       " 'lie',\n",
       " 'say',\n",
       " 'i',\n",
       " 'like',\n",
       " 'it',\n",
       " 'like',\n",
       " 'that',\n",
       " 'like',\n",
       " 'it',\n",
       " 'like',\n",
       " 'that',\n",
       " 'i',\n",
       " 'could',\n",
       " 'lie',\n",
       " 'say',\n",
       " 'i',\n",
       " 'like',\n",
       " 'it',\n",
       " 'like',\n",
       " 'that',\n",
       " 'like',\n",
       " 'it',\n",
       " 'like',\n",
       " 'that',\n",
       " 'dont',\n",
       " 'you',\n",
       " 'know',\n",
       " 'too',\n",
       " 'much',\n",
       " 'already',\n",
       " 'i',\n",
       " 'will',\n",
       " 'only',\n",
       " 'hurt',\n",
       " 'you',\n",
       " 'if',\n",
       " 'you',\n",
       " 'let',\n",
       " 'me',\n",
       " 'call',\n",
       " 'me',\n",
       " 'friend',\n",
       " 'but',\n",
       " 'keep',\n",
       " 'me',\n",
       " 'closer',\n",
       " 'call',\n",
       " 'me',\n",
       " 'back',\n",
       " 'and',\n",
       " 'i',\n",
       " 'will',\n",
       " 'call',\n",
       " 'you',\n",
       " 'when',\n",
       " 'the',\n",
       " 'partys',\n",
       " 'over',\n",
       " 'quiet',\n",
       " 'when',\n",
       " 'i',\n",
       " 'am',\n",
       " 'coming',\n",
       " 'home',\n",
       " 'and',\n",
       " 'i',\n",
       " 'am',\n",
       " 'on',\n",
       " 'my',\n",
       " 'own',\n",
       " 'and',\n",
       " 'i',\n",
       " 'could',\n",
       " 'lie',\n",
       " 'say',\n",
       " 'i',\n",
       " 'like',\n",
       " 'it',\n",
       " 'like',\n",
       " 'that',\n",
       " 'like',\n",
       " 'it',\n",
       " 'like',\n",
       " 'that',\n",
       " 'i',\n",
       " 'could',\n",
       " 'lie',\n",
       " 'say',\n",
       " 'i',\n",
       " 'like',\n",
       " 'it',\n",
       " 'like',\n",
       " 'that',\n",
       " 'like',\n",
       " 'it',\n",
       " 'like',\n",
       " 'that',\n",
       " 'but',\n",
       " 'nothing',\n",
       " 'is',\n",
       " 'better',\n",
       " 'sometimes',\n",
       " 'once',\n",
       " 'we',\n",
       " 've',\n",
       " 'both',\n",
       " 'said',\n",
       " 'our',\n",
       " 'goodbyes',\n",
       " 'lets',\n",
       " 'just',\n",
       " 'let',\n",
       " 'it',\n",
       " 'go',\n",
       " 'let',\n",
       " 'me',\n",
       " 'let',\n",
       " 'you',\n",
       " 'go',\n",
       " 'quiet',\n",
       " 'when',\n",
       " 'i',\n",
       " 'am',\n",
       " 'coming',\n",
       " 'home',\n",
       " 'and',\n",
       " 'i',\n",
       " 'am',\n",
       " 'on',\n",
       " 'my',\n",
       " 'own',\n",
       " 'i',\n",
       " 'could',\n",
       " 'lie',\n",
       " 'say',\n",
       " 'i',\n",
       " 'like',\n",
       " 'it',\n",
       " 'like',\n",
       " 'that',\n",
       " 'like',\n",
       " 'it',\n",
       " 'like',\n",
       " 'that',\n",
       " 'i',\n",
       " 'could',\n",
       " 'lie',\n",
       " 'say',\n",
       " 'i',\n",
       " 'like',\n",
       " 'it',\n",
       " 'like',\n",
       " 'that',\n",
       " 'like',\n",
       " 'it',\n",
       " 'like',\n",
       " 'that']"
      ]
     },
     "execution_count": 24,
     "metadata": {},
     "output_type": "execute_result"
    }
   ],
   "source": [
    "# check our result on the first sentence\n",
    "sentences[0]"
   ]
  },
  {
   "cell_type": "code",
   "execution_count": 25,
   "id": "overhead-transition",
   "metadata": {
    "scrolled": true
   },
   "outputs": [
    {
     "name": "stderr",
     "output_type": "stream",
     "text": [
      "/Library/Frameworks/Python.framework/Versions/3.9/lib/python3.9/site-packages/ipykernel/ipkernel.py:283: DeprecationWarning: `should_run_async` will not call `transform_cell` automatically in the future. Please pass the result to `transformed_cell` argument and any exception that happen during thetransform in `preprocessing_exc_tuple` in IPython 7.17 and above.\n",
      "  and should_run_async(code)\n"
     ]
    },
    {
     "data": {
      "text/html": [
       "<div>\n",
       "<style scoped>\n",
       "    .dataframe tbody tr th:only-of-type {\n",
       "        vertical-align: middle;\n",
       "    }\n",
       "\n",
       "    .dataframe tbody tr th {\n",
       "        vertical-align: top;\n",
       "    }\n",
       "\n",
       "    .dataframe thead th {\n",
       "        text-align: right;\n",
       "    }\n",
       "</style>\n",
       "<table border=\"1\" class=\"dataframe\">\n",
       "  <thead>\n",
       "    <tr style=\"text-align: right;\">\n",
       "      <th></th>\n",
       "      <th>Phrases</th>\n",
       "      <th>counts</th>\n",
       "    </tr>\n",
       "  </thead>\n",
       "  <tbody>\n",
       "    <tr>\n",
       "      <th>45</th>\n",
       "      <td>can_not</td>\n",
       "      <td>166</td>\n",
       "    </tr>\n",
       "    <tr>\n",
       "      <th>228</th>\n",
       "      <td>those_ocean</td>\n",
       "      <td>103</td>\n",
       "    </tr>\n",
       "    <tr>\n",
       "      <th>174</th>\n",
       "      <td>one_by</td>\n",
       "      <td>80</td>\n",
       "    </tr>\n",
       "    <tr>\n",
       "      <th>172</th>\n",
       "      <td>ocean_eyes</td>\n",
       "      <td>72</td>\n",
       "    </tr>\n",
       "    <tr>\n",
       "      <th>157</th>\n",
       "      <td>my_boy</td>\n",
       "      <td>71</td>\n",
       "    </tr>\n",
       "  </tbody>\n",
       "</table>\n",
       "</div>"
      ],
      "text/plain": [
       "         Phrases  counts\n",
       "45       can_not     166\n",
       "228  those_ocean     103\n",
       "174       one_by      80\n",
       "172   ocean_eyes      72\n",
       "157       my_boy      71"
      ]
     },
     "execution_count": 25,
     "metadata": {},
     "output_type": "execute_result"
    }
   ],
   "source": [
    "# Look for frequently used 2 word combinations\n",
    "from itertools import groupby\n",
    "\n",
    "# Build the bigram model\n",
    "bigram = Phrases(sentences)\n",
    "\n",
    "\n",
    "# Find bigrams in the songs\n",
    "two_word_phrases = []\n",
    "i=0\n",
    "while i < len(sentences): \n",
    "    bigrams = bigram[sentences[i]]\n",
    "    for s in bigrams:\n",
    "        if len(re.findall('_', s)) > 0:\n",
    "            two_word_phrases.append(s)\n",
    "    i = i + 1\n",
    "two_word_phrases_df = pd.DataFrame(two_word_phrases, columns = ['Phrases'])\n",
    "test = two_word_phrases_df.groupby(by = \"Phrases\").size().reset_index(name='counts')\n",
    "test.sort_values(by = 'counts', ascending = False).head()"
   ]
  },
  {
   "cell_type": "code",
   "execution_count": 26,
   "id": "prompt-wholesale",
   "metadata": {},
   "outputs": [
    {
     "name": "stderr",
     "output_type": "stream",
     "text": [
      "/Library/Frameworks/Python.framework/Versions/3.9/lib/python3.9/site-packages/ipykernel/ipkernel.py:283: DeprecationWarning: `should_run_async` will not call `transform_cell` automatically in the future. Please pass the result to `transformed_cell` argument and any exception that happen during thetransform in `preprocessing_exc_tuple` in IPython 7.17 and above.\n",
      "  and should_run_async(code)\n"
     ]
    },
    {
     "data": {
      "text/html": [
       "<div>\n",
       "<style scoped>\n",
       "    .dataframe tbody tr th:only-of-type {\n",
       "        vertical-align: middle;\n",
       "    }\n",
       "\n",
       "    .dataframe tbody tr th {\n",
       "        vertical-align: top;\n",
       "    }\n",
       "\n",
       "    .dataframe thead th {\n",
       "        text-align: right;\n",
       "    }\n",
       "</style>\n",
       "<table border=\"1\" class=\"dataframe\">\n",
       "  <thead>\n",
       "    <tr style=\"text-align: right;\">\n",
       "      <th></th>\n",
       "      <th>Phrases</th>\n",
       "      <th>counts</th>\n",
       "    </tr>\n",
       "  </thead>\n",
       "  <tbody>\n",
       "    <tr>\n",
       "      <th>140</th>\n",
       "      <td>those_ocean_eyes</td>\n",
       "      <td>67</td>\n",
       "    </tr>\n",
       "    <tr>\n",
       "      <th>118</th>\n",
       "      <td>really_know_how</td>\n",
       "      <td>44</td>\n",
       "    </tr>\n",
       "    <tr>\n",
       "      <th>91</th>\n",
       "      <td>make_me_cry</td>\n",
       "      <td>41</td>\n",
       "    </tr>\n",
       "    <tr>\n",
       "      <th>72</th>\n",
       "      <td>have_never_fallen_from</td>\n",
       "      <td>36</td>\n",
       "    </tr>\n",
       "    <tr>\n",
       "      <th>117</th>\n",
       "      <td>quite_this_high_falling</td>\n",
       "      <td>36</td>\n",
       "    </tr>\n",
       "    <tr>\n",
       "      <th>80</th>\n",
       "      <td>into_your_ocean_eyes</td>\n",
       "      <td>35</td>\n",
       "    </tr>\n",
       "    <tr>\n",
       "      <th>123</th>\n",
       "      <td>should_see_me</td>\n",
       "      <td>29</td>\n",
       "    </tr>\n",
       "    <tr>\n",
       "      <th>129</th>\n",
       "      <td>started_in_me</td>\n",
       "      <td>28</td>\n",
       "    </tr>\n",
       "    <tr>\n",
       "      <th>141</th>\n",
       "      <td>those_ocean_eyes_no</td>\n",
       "      <td>25</td>\n",
       "    </tr>\n",
       "    <tr>\n",
       "      <th>93</th>\n",
       "      <td>maybe_it_is</td>\n",
       "      <td>24</td>\n",
       "    </tr>\n",
       "    <tr>\n",
       "      <th>78</th>\n",
       "      <td>in_the_gutter</td>\n",
       "      <td>24</td>\n",
       "    </tr>\n",
       "    <tr>\n",
       "      <th>31</th>\n",
       "      <td>can_not_help_but</td>\n",
       "      <td>24</td>\n",
       "    </tr>\n",
       "    <tr>\n",
       "      <th>148</th>\n",
       "      <td>was_watered_by</td>\n",
       "      <td>23</td>\n",
       "    </tr>\n",
       "    <tr>\n",
       "      <th>161</th>\n",
       "      <td>wonder_if_our_grave</td>\n",
       "      <td>23</td>\n",
       "    </tr>\n",
       "    <tr>\n",
       "      <th>39</th>\n",
       "      <td>could_lie_say</td>\n",
       "      <td>23</td>\n",
       "    </tr>\n",
       "    <tr>\n",
       "      <th>76</th>\n",
       "      <td>in_a_crown</td>\n",
       "      <td>23</td>\n",
       "    </tr>\n",
       "    <tr>\n",
       "      <th>33</th>\n",
       "      <td>can_not_watch_mine</td>\n",
       "      <td>22</td>\n",
       "    </tr>\n",
       "    <tr>\n",
       "      <th>97</th>\n",
       "      <td>my_boy_my_boy</td>\n",
       "      <td>21</td>\n",
       "    </tr>\n",
       "    <tr>\n",
       "      <th>111</th>\n",
       "      <td>one_by_one_by</td>\n",
       "      <td>20</td>\n",
       "    </tr>\n",
       "    <tr>\n",
       "      <th>112</th>\n",
       "      <td>one_one_by</td>\n",
       "      <td>20</td>\n",
       "    </tr>\n",
       "    <tr>\n",
       "      <th>94</th>\n",
       "      <td>me_makethem_bow</td>\n",
       "      <td>20</td>\n",
       "    </tr>\n",
       "    <tr>\n",
       "      <th>146</th>\n",
       "      <td>ve_been_uninvited_cause</td>\n",
       "      <td>19</td>\n",
       "    </tr>\n",
       "    <tr>\n",
       "      <th>149</th>\n",
       "      <td>watch_my_heart</td>\n",
       "      <td>19</td>\n",
       "    </tr>\n",
       "    <tr>\n",
       "      <th>4</th>\n",
       "      <td>all_the_same</td>\n",
       "      <td>19</td>\n",
       "    </tr>\n",
       "    <tr>\n",
       "      <th>43</th>\n",
       "      <td>did_copycat_tryna_cop</td>\n",
       "      <td>18</td>\n",
       "    </tr>\n",
       "    <tr>\n",
       "      <th>86</th>\n",
       "      <td>left_my_lover</td>\n",
       "      <td>18</td>\n",
       "    </tr>\n",
       "    <tr>\n",
       "      <th>102</th>\n",
       "      <td>my_v_is</td>\n",
       "      <td>18</td>\n",
       "    </tr>\n",
       "    <tr>\n",
       "      <th>99</th>\n",
       "      <td>my_manner_watch_your</td>\n",
       "      <td>18</td>\n",
       "    </tr>\n",
       "    <tr>\n",
       "      <th>163</th>\n",
       "      <td>would_feel_better</td>\n",
       "      <td>18</td>\n",
       "    </tr>\n",
       "    <tr>\n",
       "      <th>38</th>\n",
       "      <td>copycat_tryna_cop_my</td>\n",
       "      <td>18</td>\n",
       "    </tr>\n",
       "  </tbody>\n",
       "</table>\n",
       "</div>"
      ],
      "text/plain": [
       "                     Phrases  counts\n",
       "140         those_ocean_eyes      67\n",
       "118          really_know_how      44\n",
       "91               make_me_cry      41\n",
       "72    have_never_fallen_from      36\n",
       "117  quite_this_high_falling      36\n",
       "80      into_your_ocean_eyes      35\n",
       "123            should_see_me      29\n",
       "129            started_in_me      28\n",
       "141      those_ocean_eyes_no      25\n",
       "93               maybe_it_is      24\n",
       "78             in_the_gutter      24\n",
       "31          can_not_help_but      24\n",
       "148           was_watered_by      23\n",
       "161      wonder_if_our_grave      23\n",
       "39             could_lie_say      23\n",
       "76                in_a_crown      23\n",
       "33        can_not_watch_mine      22\n",
       "97             my_boy_my_boy      21\n",
       "111            one_by_one_by      20\n",
       "112               one_one_by      20\n",
       "94           me_makethem_bow      20\n",
       "146  ve_been_uninvited_cause      19\n",
       "149           watch_my_heart      19\n",
       "4               all_the_same      19\n",
       "43     did_copycat_tryna_cop      18\n",
       "86             left_my_lover      18\n",
       "102                  my_v_is      18\n",
       "99      my_manner_watch_your      18\n",
       "163        would_feel_better      18\n",
       "38      copycat_tryna_cop_my      18"
      ]
     },
     "execution_count": 26,
     "metadata": {},
     "output_type": "execute_result"
    }
   ],
   "source": [
    "# Looking for 3 word combinations \n",
    "\n",
    "# Build the trigram models\n",
    "trigram = Phrases(bigram[sentences])\n",
    "\n",
    "tri = []\n",
    "\n",
    "# Construct trigram list looking at all songs\n",
    "i=0\n",
    "while i < len(sentences): \n",
    "    songtrigram = trigram[bigram[sentences[i]]]\n",
    "    for s in songtrigram:\n",
    "        if len(re.findall('_', s)) > 1:\n",
    "            tri.append(s)\n",
    "    i = i + 1\n",
    "\n",
    "tri_df = pd.DataFrame(tri, columns = ['Phrases'])\n",
    "test_tri = tri_df.groupby(by = \"Phrases\").size().reset_index(name='counts')\n",
    "test_tri.sort_values(by = 'counts', ascending = False).head(30)"
   ]
  },
  {
   "cell_type": "code",
   "execution_count": 27,
   "id": "american-closing",
   "metadata": {},
   "outputs": [
    {
     "name": "stderr",
     "output_type": "stream",
     "text": [
      "/Library/Frameworks/Python.framework/Versions/3.9/lib/python3.9/site-packages/ipykernel/ipkernel.py:283: DeprecationWarning: `should_run_async` will not call `transform_cell` automatically in the future. Please pass the result to `transformed_cell` argument and any exception that happen during thetransform in `preprocessing_exc_tuple` in IPython 7.17 and above.\n",
      "  and should_run_async(code)\n"
     ]
    },
    {
     "data": {
      "text/html": [
       "<div>\n",
       "<style scoped>\n",
       "    .dataframe tbody tr th:only-of-type {\n",
       "        vertical-align: middle;\n",
       "    }\n",
       "\n",
       "    .dataframe tbody tr th {\n",
       "        vertical-align: top;\n",
       "    }\n",
       "\n",
       "    .dataframe thead th {\n",
       "        text-align: right;\n",
       "    }\n",
       "</style>\n",
       "<table border=\"1\" class=\"dataframe\">\n",
       "  <thead>\n",
       "    <tr style=\"text-align: right;\">\n",
       "      <th></th>\n",
       "      <th>Phrases</th>\n",
       "      <th>counts</th>\n",
       "    </tr>\n",
       "  </thead>\n",
       "  <tbody>\n",
       "    <tr>\n",
       "      <th>17</th>\n",
       "      <td>give_me_those_ocean</td>\n",
       "      <td>40</td>\n",
       "    </tr>\n",
       "    <tr>\n",
       "      <th>23</th>\n",
       "      <td>high_falling_into_your</td>\n",
       "      <td>36</td>\n",
       "    </tr>\n",
       "    <tr>\n",
       "      <th>22</th>\n",
       "      <td>have_never_fallen_from</td>\n",
       "      <td>36</td>\n",
       "    </tr>\n",
       "    <tr>\n",
       "      <th>34</th>\n",
       "      <td>ocean_eyes_those_ocean</td>\n",
       "      <td>35</td>\n",
       "    </tr>\n",
       "    <tr>\n",
       "      <th>7</th>\n",
       "      <td>can_not_help_but</td>\n",
       "      <td>24</td>\n",
       "    </tr>\n",
       "    <tr>\n",
       "      <th>9</th>\n",
       "      <td>can_not_watch_mine</td>\n",
       "      <td>22</td>\n",
       "    </tr>\n",
       "    <tr>\n",
       "      <th>30</th>\n",
       "      <td>my_boy_my_boy</td>\n",
       "      <td>21</td>\n",
       "    </tr>\n",
       "    <tr>\n",
       "      <th>35</th>\n",
       "      <td>one_by_one_by</td>\n",
       "      <td>20</td>\n",
       "    </tr>\n",
       "    <tr>\n",
       "      <th>8</th>\n",
       "      <td>can_not_say_no</td>\n",
       "      <td>20</td>\n",
       "    </tr>\n",
       "    <tr>\n",
       "      <th>49</th>\n",
       "      <td>would_feel_better_but</td>\n",
       "      <td>18</td>\n",
       "    </tr>\n",
       "    <tr>\n",
       "      <th>39</th>\n",
       "      <td>roses_bloom_could_roses</td>\n",
       "      <td>16</td>\n",
       "    </tr>\n",
       "    <tr>\n",
       "      <th>15</th>\n",
       "      <td>give_me_those_eyes</td>\n",
       "      <td>15</td>\n",
       "    </tr>\n",
       "    <tr>\n",
       "      <th>37</th>\n",
       "      <td>our_love_is_six</td>\n",
       "      <td>15</td>\n",
       "    </tr>\n",
       "    <tr>\n",
       "      <th>45</th>\n",
       "      <td>watch_your_car_burn</td>\n",
       "      <td>15</td>\n",
       "    </tr>\n",
       "    <tr>\n",
       "      <th>18</th>\n",
       "      <td>glamor_why_so_sad</td>\n",
       "      <td>15</td>\n",
       "    </tr>\n",
       "    <tr>\n",
       "      <th>47</th>\n",
       "      <td>what_an_expensive_fake</td>\n",
       "      <td>13</td>\n",
       "    </tr>\n",
       "    <tr>\n",
       "      <th>5</th>\n",
       "      <td>burn_with_the_fire</td>\n",
       "      <td>13</td>\n",
       "    </tr>\n",
       "    <tr>\n",
       "      <th>33</th>\n",
       "      <td>ocean_eyes_no_fair</td>\n",
       "      <td>12</td>\n",
       "    </tr>\n",
       "    <tr>\n",
       "      <th>42</th>\n",
       "      <td>those_ocean_eyes_no</td>\n",
       "      <td>11</td>\n",
       "    </tr>\n",
       "    <tr>\n",
       "      <th>21</th>\n",
       "      <td>have_been_walking_through</td>\n",
       "      <td>11</td>\n",
       "    </tr>\n",
       "  </tbody>\n",
       "</table>\n",
       "</div>"
      ],
      "text/plain": [
       "                      Phrases  counts\n",
       "17        give_me_those_ocean      40\n",
       "23     high_falling_into_your      36\n",
       "22     have_never_fallen_from      36\n",
       "34     ocean_eyes_those_ocean      35\n",
       "7            can_not_help_but      24\n",
       "9          can_not_watch_mine      22\n",
       "30              my_boy_my_boy      21\n",
       "35              one_by_one_by      20\n",
       "8              can_not_say_no      20\n",
       "49      would_feel_better_but      18\n",
       "39    roses_bloom_could_roses      16\n",
       "15         give_me_those_eyes      15\n",
       "37            our_love_is_six      15\n",
       "45        watch_your_car_burn      15\n",
       "18          glamor_why_so_sad      15\n",
       "47     what_an_expensive_fake      13\n",
       "5          burn_with_the_fire      13\n",
       "33         ocean_eyes_no_fair      12\n",
       "42        those_ocean_eyes_no      11\n",
       "21  have_been_walking_through      11"
      ]
     },
     "execution_count": 27,
     "metadata": {},
     "output_type": "execute_result"
    }
   ],
   "source": [
    "fourgram = Phrases(trigram[sentences])\n",
    "four = []\n",
    "\n",
    "# Construct trigram list looking at all songs\n",
    "i=0\n",
    "while i < len(sentences): \n",
    "    songtrigram = fourgram[trigram[sentences[i]]]\n",
    "    for s in songtrigram:\n",
    "        if len(re.findall('_', s)) > 2:\n",
    "            four.append(s)\n",
    "    i = i + 1\n",
    "    \n",
    "four_df = pd.DataFrame(four, columns = ['Phrases'])\n",
    "test_four = four_df.groupby(by = \"Phrases\").size().reset_index(name='counts')\n",
    "test_four.sort_values(by = 'counts', ascending = False).head(20)"
   ]
  },
  {
   "cell_type": "code",
   "execution_count": 28,
   "id": "pretty-dominant",
   "metadata": {},
   "outputs": [
    {
     "name": "stderr",
     "output_type": "stream",
     "text": [
      "/Library/Frameworks/Python.framework/Versions/3.9/lib/python3.9/site-packages/ipykernel/ipkernel.py:283: DeprecationWarning: `should_run_async` will not call `transform_cell` automatically in the future. Please pass the result to `transformed_cell` argument and any exception that happen during thetransform in `preprocessing_exc_tuple` in IPython 7.17 and above.\n",
      "  and should_run_async(code)\n"
     ]
    },
    {
     "data": {
      "text/plain": [
       "170"
      ]
     },
     "execution_count": 28,
     "metadata": {},
     "output_type": "execute_result"
    }
   ],
   "source": [
    "len(set(tri))"
   ]
  },
  {
   "cell_type": "code",
   "execution_count": 29,
   "id": "included-classroom",
   "metadata": {},
   "outputs": [
    {
     "name": "stderr",
     "output_type": "stream",
     "text": [
      "/Library/Frameworks/Python.framework/Versions/3.9/lib/python3.9/site-packages/ipykernel/ipkernel.py:283: DeprecationWarning: `should_run_async` will not call `transform_cell` automatically in the future. Please pass the result to `transformed_cell` argument and any exception that happen during thetransform in `preprocessing_exc_tuple` in IPython 7.17 and above.\n",
      "  and should_run_async(code)\n"
     ]
    },
    {
     "data": {
      "text/html": [
       "<div>\n",
       "<style scoped>\n",
       "    .dataframe tbody tr th:only-of-type {\n",
       "        vertical-align: middle;\n",
       "    }\n",
       "\n",
       "    .dataframe tbody tr th {\n",
       "        vertical-align: top;\n",
       "    }\n",
       "\n",
       "    .dataframe thead th {\n",
       "        text-align: right;\n",
       "    }\n",
       "</style>\n",
       "<table border=\"1\" class=\"dataframe\">\n",
       "  <thead>\n",
       "    <tr style=\"text-align: right;\">\n",
       "      <th></th>\n",
       "      <th>phrase</th>\n",
       "      <th>score</th>\n",
       "      <th>wordcount</th>\n",
       "    </tr>\n",
       "  </thead>\n",
       "  <tbody>\n",
       "    <tr>\n",
       "      <th>57</th>\n",
       "      <td>cities_and_napalm</td>\n",
       "      <td>427.729592</td>\n",
       "      <td>3</td>\n",
       "    </tr>\n",
       "    <tr>\n",
       "      <th>253</th>\n",
       "      <td>killing_the_son</td>\n",
       "      <td>390.839161</td>\n",
       "      <td>3</td>\n",
       "    </tr>\n",
       "    <tr>\n",
       "      <th>35</th>\n",
       "      <td>step_on_the_glass</td>\n",
       "      <td>330.710059</td>\n",
       "      <td>4</td>\n",
       "    </tr>\n",
       "    <tr>\n",
       "      <th>22</th>\n",
       "      <td>filled_by_models</td>\n",
       "      <td>258.750000</td>\n",
       "      <td>3</td>\n",
       "    </tr>\n",
       "    <tr>\n",
       "      <th>122</th>\n",
       "      <td>belong_to_anyone</td>\n",
       "      <td>211.704545</td>\n",
       "      <td>3</td>\n",
       "    </tr>\n",
       "    <tr>\n",
       "      <th>67</th>\n",
       "      <td>fallen_from_quite</td>\n",
       "      <td>211.085526</td>\n",
       "      <td>3</td>\n",
       "    </tr>\n",
       "    <tr>\n",
       "      <th>158</th>\n",
       "      <td>ball_and_chain</td>\n",
       "      <td>190.102041</td>\n",
       "      <td>3</td>\n",
       "    </tr>\n",
       "    <tr>\n",
       "      <th>114</th>\n",
       "      <td>finger_on_the_trigger</td>\n",
       "      <td>190.102041</td>\n",
       "      <td>4</td>\n",
       "    </tr>\n",
       "    <tr>\n",
       "      <th>197</th>\n",
       "      <td>door_and_leave</td>\n",
       "      <td>153.333333</td>\n",
       "      <td>3</td>\n",
       "    </tr>\n",
       "    <tr>\n",
       "      <th>148</th>\n",
       "      <td>burn_with_the_fire</td>\n",
       "      <td>142.450133</td>\n",
       "      <td>4</td>\n",
       "    </tr>\n",
       "    <tr>\n",
       "      <th>157</th>\n",
       "      <td>build_a_wall</td>\n",
       "      <td>141.136364</td>\n",
       "      <td>3</td>\n",
       "    </tr>\n",
       "    <tr>\n",
       "      <th>155</th>\n",
       "      <td>stay_a_sec</td>\n",
       "      <td>126.366279</td>\n",
       "      <td>3</td>\n",
       "    </tr>\n",
       "    <tr>\n",
       "      <th>43</th>\n",
       "      <td>bury_a_friend</td>\n",
       "      <td>123.007203</td>\n",
       "      <td>3</td>\n",
       "    </tr>\n",
       "    <tr>\n",
       "      <th>245</th>\n",
       "      <td>dumb_and_broke</td>\n",
       "      <td>120.750000</td>\n",
       "      <td>3</td>\n",
       "    </tr>\n",
       "    <tr>\n",
       "      <th>211</th>\n",
       "      <td>black_and_white</td>\n",
       "      <td>105.852273</td>\n",
       "      <td>3</td>\n",
       "    </tr>\n",
       "    <tr>\n",
       "      <th>78</th>\n",
       "      <td>lonely_with_a_diamond</td>\n",
       "      <td>90.730519</td>\n",
       "      <td>4</td>\n",
       "    </tr>\n",
       "    <tr>\n",
       "      <th>193</th>\n",
       "      <td>begging_for_giving</td>\n",
       "      <td>74.124668</td>\n",
       "      <td>3</td>\n",
       "    </tr>\n",
       "    <tr>\n",
       "      <th>163</th>\n",
       "      <td>man_and_sure</td>\n",
       "      <td>66.535714</td>\n",
       "      <td>3</td>\n",
       "    </tr>\n",
       "    <tr>\n",
       "      <th>238</th>\n",
       "      <td>trying_to_cop</td>\n",
       "      <td>48.854895</td>\n",
       "      <td>3</td>\n",
       "    </tr>\n",
       "    <tr>\n",
       "      <th>229</th>\n",
       "      <td>left_the_city</td>\n",
       "      <td>45.661765</td>\n",
       "      <td>3</td>\n",
       "    </tr>\n",
       "    <tr>\n",
       "      <th>150</th>\n",
       "      <td>back_to_ask</td>\n",
       "      <td>40.696602</td>\n",
       "      <td>3</td>\n",
       "    </tr>\n",
       "    <tr>\n",
       "      <th>208</th>\n",
       "      <td>more_and_more</td>\n",
       "      <td>40.289792</td>\n",
       "      <td>3</td>\n",
       "    </tr>\n",
       "    <tr>\n",
       "      <th>152</th>\n",
       "      <td>back_to_put</td>\n",
       "      <td>38.078692</td>\n",
       "      <td>3</td>\n",
       "    </tr>\n",
       "    <tr>\n",
       "      <th>96</th>\n",
       "      <td>got_a_bellyache</td>\n",
       "      <td>36.964286</td>\n",
       "      <td>3</td>\n",
       "    </tr>\n",
       "    <tr>\n",
       "      <th>4</th>\n",
       "      <td>had_a_dream</td>\n",
       "      <td>28.227273</td>\n",
       "      <td>3</td>\n",
       "    </tr>\n",
       "    <tr>\n",
       "      <th>80</th>\n",
       "      <td>friend_or_anything</td>\n",
       "      <td>27.157434</td>\n",
       "      <td>3</td>\n",
       "    </tr>\n",
       "    <tr>\n",
       "      <th>92</th>\n",
       "      <td>what_an_expensive</td>\n",
       "      <td>24.834906</td>\n",
       "      <td>3</td>\n",
       "    </tr>\n",
       "    <tr>\n",
       "      <th>63</th>\n",
       "      <td>how_to_make</td>\n",
       "      <td>24.498831</td>\n",
       "      <td>3</td>\n",
       "    </tr>\n",
       "    <tr>\n",
       "      <th>201</th>\n",
       "      <td>call_the_cops</td>\n",
       "      <td>23.884615</td>\n",
       "      <td>3</td>\n",
       "    </tr>\n",
       "    <tr>\n",
       "      <th>126</th>\n",
       "      <td>all_the_same</td>\n",
       "      <td>22.193669</td>\n",
       "      <td>3</td>\n",
       "    </tr>\n",
       "    <tr>\n",
       "      <th>103</th>\n",
       "      <td>one_by_one</td>\n",
       "      <td>21.972529</td>\n",
       "      <td>3</td>\n",
       "    </tr>\n",
       "    <tr>\n",
       "      <th>94</th>\n",
       "      <td>is_for_vendetta</td>\n",
       "      <td>20.957944</td>\n",
       "      <td>3</td>\n",
       "    </tr>\n",
       "    <tr>\n",
       "      <th>25</th>\n",
       "      <td>tell_the_mirror</td>\n",
       "      <td>19.569328</td>\n",
       "      <td>3</td>\n",
       "    </tr>\n",
       "    <tr>\n",
       "      <th>232</th>\n",
       "      <td>gutter_the_gutter</td>\n",
       "      <td>19.386056</td>\n",
       "      <td>3</td>\n",
       "    </tr>\n",
       "    <tr>\n",
       "      <th>90</th>\n",
       "      <td>is_in_the_gutter</td>\n",
       "      <td>17.785650</td>\n",
       "      <td>4</td>\n",
       "    </tr>\n",
       "    <tr>\n",
       "      <th>34</th>\n",
       "      <td>want_to_end</td>\n",
       "      <td>16.200000</td>\n",
       "      <td>3</td>\n",
       "    </tr>\n",
       "    <tr>\n",
       "      <th>33</th>\n",
       "      <td>deadly_the_way</td>\n",
       "      <td>16.032702</td>\n",
       "      <td>3</td>\n",
       "    </tr>\n",
       "    <tr>\n",
       "      <th>23</th>\n",
       "      <td>told_a_tight</td>\n",
       "      <td>15.681818</td>\n",
       "      <td>3</td>\n",
       "    </tr>\n",
       "    <tr>\n",
       "      <th>7</th>\n",
       "      <td>are_a_tough</td>\n",
       "      <td>15.525000</td>\n",
       "      <td>3</td>\n",
       "    </tr>\n",
       "    <tr>\n",
       "      <th>189</th>\n",
       "      <td>what_a_shame</td>\n",
       "      <td>13.181604</td>\n",
       "      <td>3</td>\n",
       "    </tr>\n",
       "    <tr>\n",
       "      <th>124</th>\n",
       "      <td>name_by_the_way</td>\n",
       "      <td>12.469880</td>\n",
       "      <td>4</td>\n",
       "    </tr>\n",
       "    <tr>\n",
       "      <th>140</th>\n",
       "      <td>just_a_clone</td>\n",
       "      <td>10.213816</td>\n",
       "      <td>3</td>\n",
       "    </tr>\n",
       "  </tbody>\n",
       "</table>\n",
       "</div>"
      ],
      "text/plain": [
       "                    phrase       score  wordcount\n",
       "57       cities_and_napalm  427.729592          3\n",
       "253        killing_the_son  390.839161          3\n",
       "35       step_on_the_glass  330.710059          4\n",
       "22        filled_by_models  258.750000          3\n",
       "122       belong_to_anyone  211.704545          3\n",
       "67       fallen_from_quite  211.085526          3\n",
       "158         ball_and_chain  190.102041          3\n",
       "114  finger_on_the_trigger  190.102041          4\n",
       "197         door_and_leave  153.333333          3\n",
       "148     burn_with_the_fire  142.450133          4\n",
       "157           build_a_wall  141.136364          3\n",
       "155             stay_a_sec  126.366279          3\n",
       "43           bury_a_friend  123.007203          3\n",
       "245         dumb_and_broke  120.750000          3\n",
       "211        black_and_white  105.852273          3\n",
       "78   lonely_with_a_diamond   90.730519          4\n",
       "193     begging_for_giving   74.124668          3\n",
       "163           man_and_sure   66.535714          3\n",
       "238          trying_to_cop   48.854895          3\n",
       "229          left_the_city   45.661765          3\n",
       "150            back_to_ask   40.696602          3\n",
       "208          more_and_more   40.289792          3\n",
       "152            back_to_put   38.078692          3\n",
       "96         got_a_bellyache   36.964286          3\n",
       "4              had_a_dream   28.227273          3\n",
       "80      friend_or_anything   27.157434          3\n",
       "92       what_an_expensive   24.834906          3\n",
       "63             how_to_make   24.498831          3\n",
       "201          call_the_cops   23.884615          3\n",
       "126           all_the_same   22.193669          3\n",
       "103             one_by_one   21.972529          3\n",
       "94         is_for_vendetta   20.957944          3\n",
       "25         tell_the_mirror   19.569328          3\n",
       "232      gutter_the_gutter   19.386056          3\n",
       "90        is_in_the_gutter   17.785650          4\n",
       "34             want_to_end   16.200000          3\n",
       "33          deadly_the_way   16.032702          3\n",
       "23            told_a_tight   15.681818          3\n",
       "7              are_a_tough   15.525000          3\n",
       "189           what_a_shame   13.181604          3\n",
       "124        name_by_the_way   12.469880          4\n",
       "140           just_a_clone   10.213816          3"
      ]
     },
     "execution_count": 29,
     "metadata": {},
     "output_type": "execute_result"
    }
   ],
   "source": [
    "from gensim.models.phrases import Phrases, Phraser\n",
    "\n",
    "phrases = Phrases(sentences, min_count=5, threshold=10, connector_words=ENGLISH_CONNECTOR_WORDS)\n",
    "phrases_df = pd.DataFrame(columns = ['phrase', 'score'])\n",
    "phrase_col = []\n",
    "score_col = []\n",
    "wordcount_col = []\n",
    "for phrase, score in phrases.find_phrases(sentences).items():\n",
    "    phrase_col.append(phrase)\n",
    "    score_col.append(score)\n",
    "    wordcount_col.append(len(re.findall('_', phrase)) + 1)   \n",
    "phrases_df['phrase'] = phrase_col\n",
    "phrases_df['score'] = score_col\n",
    "phrases_df['wordcount'] = wordcount_col\n",
    "phrases_df[phrases_df['wordcount'] > 2].sort_values(by='score', ascending = False).head(50)\n"
   ]
  },
  {
   "cell_type": "code",
   "execution_count": 30,
   "id": "surgical-geneva",
   "metadata": {},
   "outputs": [
    {
     "name": "stderr",
     "output_type": "stream",
     "text": [
      "/Library/Frameworks/Python.framework/Versions/3.9/lib/python3.9/site-packages/ipykernel/ipkernel.py:283: DeprecationWarning: `should_run_async` will not call `transform_cell` automatically in the future. Please pass the result to `transformed_cell` argument and any exception that happen during thetransform in `preprocessing_exc_tuple` in IPython 7.17 and above.\n",
      "  and should_run_async(code)\n"
     ]
    },
    {
     "data": {
      "text/html": [
       "<div>\n",
       "<style scoped>\n",
       "    .dataframe tbody tr th:only-of-type {\n",
       "        vertical-align: middle;\n",
       "    }\n",
       "\n",
       "    .dataframe tbody tr th {\n",
       "        vertical-align: top;\n",
       "    }\n",
       "\n",
       "    .dataframe thead th {\n",
       "        text-align: right;\n",
       "    }\n",
       "</style>\n",
       "<table border=\"1\" class=\"dataframe\">\n",
       "  <thead>\n",
       "    <tr style=\"text-align: right;\">\n",
       "      <th></th>\n",
       "      <th>N-gram</th>\n",
       "      <th>Count</th>\n",
       "    </tr>\n",
       "  </thead>\n",
       "  <tbody>\n",
       "    <tr>\n",
       "      <th>44</th>\n",
       "      <td>(i, could, lie, say, i)</td>\n",
       "      <td>6</td>\n",
       "    </tr>\n",
       "    <tr>\n",
       "      <th>45</th>\n",
       "      <td>(could, lie, say, i, like)</td>\n",
       "      <td>6</td>\n",
       "    </tr>\n",
       "    <tr>\n",
       "      <th>52</th>\n",
       "      <td>(that, like, it, like, that)</td>\n",
       "      <td>6</td>\n",
       "    </tr>\n",
       "    <tr>\n",
       "      <th>51</th>\n",
       "      <td>(like, that, like, it, like)</td>\n",
       "      <td>6</td>\n",
       "    </tr>\n",
       "    <tr>\n",
       "      <th>50</th>\n",
       "      <td>(it, like, that, like, it)</td>\n",
       "      <td>6</td>\n",
       "    </tr>\n",
       "    <tr>\n",
       "      <th>49</th>\n",
       "      <td>(like, it, like, that, like)</td>\n",
       "      <td>6</td>\n",
       "    </tr>\n",
       "    <tr>\n",
       "      <th>48</th>\n",
       "      <td>(i, like, it, like, that)</td>\n",
       "      <td>6</td>\n",
       "    </tr>\n",
       "    <tr>\n",
       "      <th>47</th>\n",
       "      <td>(say, i, like, it, like)</td>\n",
       "      <td>6</td>\n",
       "    </tr>\n",
       "    <tr>\n",
       "      <th>46</th>\n",
       "      <td>(lie, say, i, like, it)</td>\n",
       "      <td>6</td>\n",
       "    </tr>\n",
       "    <tr>\n",
       "      <th>37</th>\n",
       "      <td>(home, and, i, am, on)</td>\n",
       "      <td>3</td>\n",
       "    </tr>\n",
       "  </tbody>\n",
       "</table>\n",
       "</div>"
      ],
      "text/plain": [
       "                          N-gram  Count\n",
       "44       (i, could, lie, say, i)      6\n",
       "45    (could, lie, say, i, like)      6\n",
       "52  (that, like, it, like, that)      6\n",
       "51  (like, that, like, it, like)      6\n",
       "50    (it, like, that, like, it)      6\n",
       "49  (like, it, like, that, like)      6\n",
       "48     (i, like, it, like, that)      6\n",
       "47      (say, i, like, it, like)      6\n",
       "46       (lie, say, i, like, it)      6\n",
       "37        (home, and, i, am, on)      3"
      ]
     },
     "execution_count": 30,
     "metadata": {},
     "output_type": "execute_result"
    }
   ],
   "source": [
    "from nltk import ngrams\n",
    "tgs = nltk.ngrams(sentences[0],5)\n",
    "fdist = nltk.FreqDist(tgs)\n",
    "d = Counter()\n",
    "ngrams_df = pd.DataFrame(columns = ['N-gram', 'Count'])\n",
    "ngrams_col = []\n",
    "Count_col = []\n",
    "for k, v in fdist.items():\n",
    "    d[k] = v\n",
    "    ngrams_col.append(k)\n",
    "    Count_col.append(v)\n",
    "ngrams_df['N-gram'] = ngrams_col\n",
    "ngrams_df['Count'] = Count_col\n",
    "ngrams_df.sort_values(by='Count', ascending = False).head(10)"
   ]
  },
  {
   "cell_type": "code",
   "execution_count": 31,
   "id": "international-television",
   "metadata": {
    "scrolled": true
   },
   "outputs": [
    {
     "name": "stderr",
     "output_type": "stream",
     "text": [
      "/Library/Frameworks/Python.framework/Versions/3.9/lib/python3.9/site-packages/ipykernel/ipkernel.py:283: DeprecationWarning: `should_run_async` will not call `transform_cell` automatically in the future. Please pass the result to `transformed_cell` argument and any exception that happen during thetransform in `preprocessing_exc_tuple` in IPython 7.17 and above.\n",
      "  and should_run_async(code)\n"
     ]
    },
    {
     "data": {
      "text/plain": [
       "0      [dont, you, know, i, am, no, good, for, you, i...\n",
       "1      [i, had, a, dream, i, got, everything, i, want...\n",
       "2      [white, shirt, now, red, my, bloody, nose, sle...\n",
       "3      [dont, be, that, way, fall, apart, twice, a, y...\n",
       "4      [billie, what, do, you, want, from, me, why, d...\n",
       "                             ...                        \n",
       "148    [oh, boy, we, bout, to, bomb, the, next, one, ...\n",
       "149    [north, americafebruary, february, 3, 2022, ne...\n",
       "150    [somethings, in, the, air, right, now, like, i...\n",
       "151    [من, دوست, شما, نیستم, یا, هر, چیز, دیگری, لعن...\n",
       "152    [ورس۱, کمک, من, خودم, را, دوباره, گم, کردم, ام...\n",
       "Name: lyrics, Length: 153, dtype: object"
      ]
     },
     "execution_count": 31,
     "metadata": {},
     "output_type": "execute_result"
    }
   ],
   "source": [
    "artist_df.lyrics"
   ]
  },
  {
   "cell_type": "code",
   "execution_count": 32,
   "id": "joined-comment",
   "metadata": {},
   "outputs": [
    {
     "name": "stderr",
     "output_type": "stream",
     "text": [
      "/Library/Frameworks/Python.framework/Versions/3.9/lib/python3.9/site-packages/ipykernel/ipkernel.py:283: DeprecationWarning: `should_run_async` will not call `transform_cell` automatically in the future. Please pass the result to `transformed_cell` argument and any exception that happen during thetransform in `preprocessing_exc_tuple` in IPython 7.17 and above.\n",
      "  and should_run_async(code)\n",
      "/Library/Frameworks/Python.framework/Versions/3.9/lib/python3.9/site-packages/pandas/core/generic.py:5494: SettingWithCopyWarning: \n",
      "A value is trying to be set on a copy of a slice from a DataFrame.\n",
      "Try using .loc[row_indexer,col_indexer] = value instead\n",
      "\n",
      "See the caveats in the documentation: https://pandas.pydata.org/pandas-docs/stable/user_guide/indexing.html#returning-a-view-versus-a-copy\n",
      "  self[name] = value\n"
     ]
    }
   ],
   "source": [
    "stop_words = stopwords.words(\"english\")\n",
    "artist_df.lyrics = artist_df.lyrics.apply(lambda x: [y for y in x if y not in stop_words])"
   ]
  },
  {
   "cell_type": "code",
   "execution_count": 33,
   "id": "steady-thanks",
   "metadata": {
    "scrolled": true
   },
   "outputs": [
    {
     "name": "stderr",
     "output_type": "stream",
     "text": [
      "/Library/Frameworks/Python.framework/Versions/3.9/lib/python3.9/site-packages/ipykernel/ipkernel.py:283: DeprecationWarning: `should_run_async` will not call `transform_cell` automatically in the future. Please pass the result to `transformed_cell` argument and any exception that happen during thetransform in `preprocessing_exc_tuple` in IPython 7.17 and above.\n",
      "  and should_run_async(code)\n"
     ]
    },
    {
     "data": {
      "text/plain": [
       "0      [dont, know, good, learned, lose, afford, tore...\n",
       "1      [dream, got, everything, wanted, think, honest...\n",
       "2      [white, shirt, red, bloody, nose, sleepin, tip...\n",
       "3      [dont, way, fall, apart, twice, wish, could, f...\n",
       "4      [billie, want, dont, run, wondering, know, sca...\n",
       "                             ...                        \n",
       "148    [oh, boy, bout, bomb, next, one, oh, oh, alrig...\n",
       "149    [north, americafebruary, february, 3, 2022, ne...\n",
       "150    [somethings, air, right, like, losing, track, ...\n",
       "151    [من, دوست, شما, نیستم, یا, هر, چیز, دیگری, لعن...\n",
       "152    [ورس۱, کمک, من, خودم, را, دوباره, گم, کردم, ام...\n",
       "Name: lyrics, Length: 153, dtype: object"
      ]
     },
     "execution_count": 33,
     "metadata": {},
     "output_type": "execute_result"
    }
   ],
   "source": [
    "artist_df.lyrics"
   ]
  },
  {
   "cell_type": "code",
   "execution_count": 34,
   "id": "indian-gospel",
   "metadata": {},
   "outputs": [
    {
     "name": "stderr",
     "output_type": "stream",
     "text": [
      "/Library/Frameworks/Python.framework/Versions/3.9/lib/python3.9/site-packages/ipykernel/ipkernel.py:283: DeprecationWarning: `should_run_async` will not call `transform_cell` automatically in the future. Please pass the result to `transformed_cell` argument and any exception that happen during thetransform in `preprocessing_exc_tuple` in IPython 7.17 and above.\n",
      "  and should_run_async(code)\n"
     ]
    }
   ],
   "source": [
    "lemma = WordNetLemmatizer()\n",
    "\n",
    "# Dictionary to convert between part-of-speech tags and the ones the lemmatizer understands\n",
    "\n",
    "tag_dict = defaultdict(lambda : wordnet.NOUN)\n",
    "tag_dict['J'] = wordnet.ADJ\n",
    "tag_dict['V'] = wordnet.VERB\n",
    "tag_dict['R'] = wordnet.ADV\n",
    "\n",
    "# function to lemmatize a sentence\n",
    "\n",
    "def get_lemma(word):\n",
    "    \"\"\"Gets the POS tag for a word, and then returns the lemmatized form of the word\"\"\"\n",
    "    tag = pos_tag([word])[0][1][0]\n",
    "    tag = tag_dict[tag]\n",
    "    \n",
    "    return lemma.lemmatize(word, tag)\n",
    "\n",
    "# Perform the lemmatization\n",
    "#artist_df.lyrics = artist_df.lyrics.apply(lambda x: [get_lemma(word) for word in x])#\n",
    "artist_df.lyrics = artist_df.lyrics.apply(lambda x: [get_lemma(word) for word in x])"
   ]
  },
  {
   "cell_type": "code",
   "execution_count": 35,
   "id": "meaningful-wonder",
   "metadata": {},
   "outputs": [
    {
     "name": "stderr",
     "output_type": "stream",
     "text": [
      "/Library/Frameworks/Python.framework/Versions/3.9/lib/python3.9/site-packages/ipykernel/ipkernel.py:283: DeprecationWarning: `should_run_async` will not call `transform_cell` automatically in the future. Please pass the result to `transformed_cell` argument and any exception that happen during thetransform in `preprocessing_exc_tuple` in IPython 7.17 and above.\n",
      "  and should_run_async(code)\n"
     ]
    }
   ],
   "source": [
    "remove_words = ['like', 'get', 'got', 'know', 'say', 'dont']\n",
    "artist_df.lyrics = artist_df.lyrics.apply(lambda x: [y for y in x if y not in remove_words])"
   ]
  },
  {
   "cell_type": "code",
   "execution_count": 36,
   "id": "random-canon",
   "metadata": {},
   "outputs": [
    {
     "name": "stderr",
     "output_type": "stream",
     "text": [
      "/Library/Frameworks/Python.framework/Versions/3.9/lib/python3.9/site-packages/ipykernel/ipkernel.py:283: DeprecationWarning: `should_run_async` will not call `transform_cell` automatically in the future. Please pass the result to `transformed_cell` argument and any exception that happen during thetransform in `preprocessing_exc_tuple` in IPython 7.17 and above.\n",
      "  and should_run_async(code)\n"
     ]
    },
    {
     "data": {
      "text/plain": [
       "['good',\n",
       " 'learn',\n",
       " 'lose',\n",
       " 'afford',\n",
       " 'tore',\n",
       " 'shirt',\n",
       " 'stop',\n",
       " 'bleedin',\n",
       " 'nothing',\n",
       " 'ever',\n",
       " 'stop',\n",
       " 'leavin',\n",
       " 'quiet',\n",
       " 'come',\n",
       " 'home',\n",
       " 'could',\n",
       " 'lie',\n",
       " 'could',\n",
       " 'lie',\n",
       " 'much',\n",
       " 'already',\n",
       " 'hurt',\n",
       " 'let',\n",
       " 'call',\n",
       " 'friend',\n",
       " 'keep',\n",
       " 'closer',\n",
       " 'call',\n",
       " 'back',\n",
       " 'call',\n",
       " 'party',\n",
       " 'quiet',\n",
       " 'come',\n",
       " 'home',\n",
       " 'could',\n",
       " 'lie',\n",
       " 'could',\n",
       " 'lie',\n",
       " 'nothing',\n",
       " 'well',\n",
       " 'sometimes',\n",
       " 'goodbye',\n",
       " 'let',\n",
       " 'let',\n",
       " 'go',\n",
       " 'let',\n",
       " 'let',\n",
       " 'go',\n",
       " 'quiet',\n",
       " 'come',\n",
       " 'home',\n",
       " 'could',\n",
       " 'lie',\n",
       " 'could',\n",
       " 'lie']"
      ]
     },
     "execution_count": 36,
     "metadata": {},
     "output_type": "execute_result"
    }
   ],
   "source": [
    "artist_df.lyrics[0]"
   ]
  },
  {
   "cell_type": "code",
   "execution_count": 37,
   "id": "streaming-reflection",
   "metadata": {},
   "outputs": [
    {
     "name": "stderr",
     "output_type": "stream",
     "text": [
      "/Library/Frameworks/Python.framework/Versions/3.9/lib/python3.9/site-packages/ipykernel/ipkernel.py:283: DeprecationWarning: `should_run_async` will not call `transform_cell` automatically in the future. Please pass the result to `transformed_cell` argument and any exception that happen during thetransform in `preprocessing_exc_tuple` in IPython 7.17 and above.\n",
      "  and should_run_async(code)\n"
     ]
    }
   ],
   "source": [
    "# Create the list of words and their frequency (corpus)\n",
    "from gensim import corpora\n",
    "pyLDAvis.enable_notebook()\n",
    "#dictionary = corpora.Dictionary(artist_df.lyrics )\n",
    "dictionary = corpora.Dictionary(artist_df.lyrics)\n",
    "corpus = [dictionary.doc2bow(text) for text in artist_df.lyrics ]\n",
    "\n",
    "import pickle\n",
    "pickle.dump(corpus, open('corpus.pkl', 'wb'))\n",
    "dictionary.save('dictionary.gensim')"
   ]
  },
  {
   "cell_type": "code",
   "execution_count": null,
   "id": "former-alaska",
   "metadata": {},
   "outputs": [],
   "source": []
  },
  {
   "cell_type": "code",
   "execution_count": 38,
   "id": "effective-parent",
   "metadata": {},
   "outputs": [
    {
     "name": "stderr",
     "output_type": "stream",
     "text": [
      "/Library/Frameworks/Python.framework/Versions/3.9/lib/python3.9/site-packages/ipykernel/ipkernel.py:283: DeprecationWarning: `should_run_async` will not call `transform_cell` automatically in the future. Please pass the result to `transformed_cell` argument and any exception that happen during thetransform in `preprocessing_exc_tuple` in IPython 7.17 and above.\n",
      "  and should_run_async(code)\n"
     ]
    },
    {
     "name": "stdout",
     "output_type": "stream",
     "text": [
      "(0, '0.047*\"eye\" + 0.040*\"ocean\" + 0.026*\"give\" + 0.023*\"make\" + 0.017*\"fall\" + 0.015*\"guy\" + 0.015*\"really\" + 0.014*\"bad\" + 0.012*\"fair\" + 0.011*\"never\"')\n",
      "(1, '0.035*\"want\" + 0.014*\"go\" + 0.013*\"feel\" + 0.013*\"mind\" + 0.012*\"cause\" + 0.012*\"let\" + 0.012*\"lie\" + 0.012*\"na\" + 0.011*\"think\" + 0.010*\"would\"')\n",
      "(2, '0.053*\"one\" + 0.029*\"watch\" + 0.026*\"sorry\" + 0.025*\"mine\" + 0.021*\"see\" + 0.017*\"cop\" + 0.017*\"tell\" + 0.017*\"copycat\" + 0.016*\"way\" + 0.015*\"tryna\"')\n",
      "(3, '0.029*\"love\" + 0.022*\"boy\" + 0.019*\"never\" + 0.018*\"would\" + 0.017*\"back\" + 0.016*\"could\" + 0.015*\"watch\" + 0.013*\"want\" + 0.013*\"come\" + 0.013*\"rose\"')\n"
     ]
    }
   ],
   "source": [
    "import gensim\n",
    "NUM_TOPICS = 4\n",
    "ldamodel = gensim.models.ldamodel.LdaModel(corpus, num_topics = NUM_TOPICS, id2word=dictionary, passes=15)\n",
    "ldamodel.save('model3.gensim')\n",
    "topics = ldamodel.print_topics(num_words=10)\n",
    "for topic in topics:\n",
    "    print(topic)"
   ]
  },
  {
   "cell_type": "code",
   "execution_count": 39,
   "id": "written-sweet",
   "metadata": {
    "scrolled": false
   },
   "outputs": [
    {
     "name": "stderr",
     "output_type": "stream",
     "text": [
      "/Library/Frameworks/Python.framework/Versions/3.9/lib/python3.9/site-packages/ipykernel/ipkernel.py:283: DeprecationWarning: `should_run_async` will not call `transform_cell` automatically in the future. Please pass the result to `transformed_cell` argument and any exception that happen during thetransform in `preprocessing_exc_tuple` in IPython 7.17 and above.\n",
      "  and should_run_async(code)\n"
     ]
    },
    {
     "data": {
      "text/html": [
       "\n",
       "<link rel=\"stylesheet\" type=\"text/css\" href=\"https://cdn.jsdelivr.net/gh/bmabey/pyLDAvis@3.3.1/pyLDAvis/js/ldavis.v1.0.0.css\">\n",
       "\n",
       "\n",
       "<div id=\"ldavis_el354641402400888376964561427053\"></div>\n",
       "<script type=\"text/javascript\">\n",
       "\n",
       "var ldavis_el354641402400888376964561427053_data = {\"mdsDat\": {\"x\": [0.036119056276989775, -0.23037219411004833, 0.12475853616401328, 0.0694946016690453], \"y\": [0.11113345858822977, 0.003403284362212032, 0.08558333408092421, -0.2001200770313661], \"topics\": [1, 2, 3, 4], \"cluster\": [1, 1, 1, 1], \"Freq\": [31.587078083384128, 27.682900007285248, 24.00288619593735, 16.727135713393267]}, \"tinfo\": {\"Term\": [\"one\", \"eye\", \"ocean\", \"sorry\", \"watch\", \"boy\", \"mine\", \"give\", \"guy\", \"copycat\", \"cop\", \"love\", \"see\", \"rose\", \"fair\", \"tryna\", \"bloom\", \"bad\", \"tell\", \"could\", \"back\", \"burn\", \"help\", \"really\", \"young\", \"mind\", \"crown\", \"would\", \"fall\", \"2022\", \"young\", \"wheres\", \"bury\", \"gutter\", \"dumb\", \"bellyache\", \"expensive\", \"lover\", \"gold\", \"vendetta\", \"v\", \"broke\", \"kill\", \"asleep\", \"job\", \"class\", \"sec\", \"fade\", \"staple\", \"son\", \"cannibal\", \"fingertip\", \"toy\", \"chain\", \"outlaw\", \"glass\", \"body\", \"ah\", \"rk\", \"owe\", \"night\", \"thought\", \"maybe\", \"lie\", \"bout\", \"ya\", \"want\", \"mind\", \"alone\", \"nothing\", \"na\", \"left\", \"feel\", \"right\", \"let\", \"cause\", \"friend\", \"go\", \"end\", \"think\", \"could\", \"would\", \"care\", \"love\", \"lose\", \"need\", \"well\", \"time\", \"make\", \"call\", \"fair\", \"\\u0645\\u0646\", \"quite\", \"bore\", \"\\u0634\\u0645\\u0627\", \"guy\", \"\\u0645\\u06cc\", \"diamond\", \"\\u0641\\u06a9\\u0631\", \"sky\", \"pretend\", \"burning\", \"song\", \"ocean\", \"flare\", \"napalm\", \"fifteen\", \"\\u0631\\u0627\", \"blah\", \"duh\", \"bullshit\", \"birthy\", \"blind\", \"\\u06a9\\u0646\\u06cc\\u062f\", \"creature\", \"\\u0645\\u0631\\u062f\", \"\\u06a9\\u0647\", \"\\u0645\\u0627\", \"\\u0628\\u0647\", \"seven\", \"eye\", \"bad\", \"give\", \"really\", \"walk\", \"stop\", \"fall\", \"cry\", \"make\", \"scar\", \"high\", \"type\", \"never\", \"time\", \"need\", \"want\", \"mind\", \"call\", \"go\", \"think\", \"rose\", \"bloom\", \"2022\", \"fire\", \"grave\", \"six\", \"remember\", \"blow\", \"february\", \"march\", \"foot\", \"boyfriend\", \"help\", \"touch\", \"retrace\", \"carelessly\", \"therefore\", \"anyway\", \"heart\", \"nervous\", \"erase\", \"boy\", \"showthem\", \"eres\", \"april\", \"teeth\", \"burn\", \"kept\", \"wonderful\", \"t\\u00fa\", \"car\", \"air\", \"man\", \"put\", \"rain\", \"love\", \"back\", \"start\", \"come\", \"never\", \"could\", \"would\", \"wonder\", \"hide\", \"water\", \"watch\", \"let\", \"think\", \"go\", \"see\", \"want\", \"make\", \"copycat\", \"crown\", \"manner\", \"bunny\", \"bow\", \"uninvited\", \"glamor\", \"finger\", \"sorry\", \"trigger\", \"favorite\", \"gay\", \"dirty\", \"silver\", \"button\", \"murder\", \"cautious\", \"cross\", \"aim\", \"flame\", \"anytime\", \"dollar\", \"cop\", \"glamour\", \"bold\", \"clone\", \"psych\", \"callous\", \"italic\", \"cocky\", \"one\", \"mine\", \"tryna\", \"makethem\", \"town\", \"baby\", \"sad\", \"watch\", \"tell\", \"see\", \"told\", \"way\", \"hate\", \"wish\", \"thing\", \"cause\", \"run\", \"call\", \"oh\", \"back\", \"make\", \"want\", \"time\", \"love\", \"feel\"], \"Freq\": [145.0, 194.0, 161.0, 62.0, 129.0, 81.0, 68.0, 122.0, 59.0, 38.0, 44.0, 167.0, 106.0, 42.0, 46.0, 40.0, 37.0, 63.0, 68.0, 99.0, 91.0, 43.0, 38.0, 73.0, 41.0, 77.0, 23.0, 122.0, 96.0, 29.0, 40.964837023736905, 33.585693519644465, 31.711210782506836, 28.948186341890548, 27.955681418402296, 22.46958068535013, 21.541480148607185, 18.76469856950421, 18.7569748036295, 16.912047725305207, 16.907944789867972, 16.885530941730902, 14.10187583632391, 13.20425583346705, 11.352511709759215, 11.349674552093301, 11.344598329365772, 10.428595804070614, 10.42098701721258, 10.420954742400882, 10.420755042003494, 9.49391524009254, 9.491422010888794, 12.877174823006703, 8.571389168482726, 13.614168130977088, 7.643542291587978, 19.534184544152538, 7.642358209433772, 7.6412164879699205, 15.779137285047753, 31.615388883748306, 44.16873337498547, 51.394418218152204, 18.316361091490812, 26.54518944295207, 151.1584673707315, 55.02111863700881, 28.319079660726917, 44.54069251111324, 51.33319290035924, 34.51444963850005, 55.2961847540648, 33.70954407518782, 51.891627829780774, 52.914694982772225, 44.54269354943858, 60.86068100473378, 32.234464150000754, 48.15091260424607, 42.95154936703053, 45.294503013154525, 25.552275032790387, 44.928950427149, 25.55841733289185, 28.207519756913673, 28.061520611841893, 28.358862400497365, 29.795043108884247, 27.03014874636515, 45.3449718381846, 31.282668638364072, 32.1379624292529, 30.37008937649947, 25.957129885157837, 57.74800465939636, 20.631999505726302, 19.726868203657435, 16.194330749237515, 16.17895220609413, 15.279455047834665, 14.406626818485362, 13.521644607746158, 153.6380350189541, 12.634724831391923, 12.633160282514822, 12.632863283405948, 10.87003391194785, 10.864354687916569, 10.86311453985184, 10.862983718815787, 10.860834010980133, 10.8394474233635, 9.98208612974951, 9.97512786491305, 8.20824215741144, 8.208084818597813, 8.207801078377727, 8.207623409267956, 8.205220014693472, 177.44030731605213, 55.02823531988939, 98.96439542083732, 56.87588799041206, 31.77644379968059, 33.51776371781928, 65.20072351227833, 40.67801623394197, 86.85611653666389, 39.29917312107208, 32.149106967243, 18.86640874969642, 42.68017208374493, 29.5354812199733, 25.625348291361462, 42.15967760974085, 22.279054028130822, 17.992870727833946, 19.358090774436118, 18.50306039347123, 41.73746089951976, 37.320750876660064, 28.465834237164692, 28.353013908078907, 20.537292950286428, 24.659839623048764, 16.98257733058686, 12.585010987110227, 12.578643556238479, 12.578441220929122, 25.913441754724136, 9.050136490473706, 35.402274918436255, 9.030410330654613, 8.17042165289065, 8.170420120047396, 8.168476474802963, 15.498778930592872, 24.038221100248485, 6.38226496232554, 10.277914045449084, 72.97070873924183, 5.517592298792115, 5.516570275553373, 5.515654784920693, 5.511438316343307, 38.58820991133991, 5.456194645515724, 4.637089196566353, 4.633917743876501, 30.936841939945992, 12.58853959227796, 20.531561649364555, 14.335639076319294, 22.29566036507842, 96.4151477501592, 57.029010152249334, 30.49337505850515, 41.74700744729763, 62.129638046229104, 52.29852711556038, 60.318620531393115, 26.66458706522146, 18.484150580939247, 20.543596001741562, 47.818571980093964, 33.93005255068672, 35.84932558740193, 37.60165359977825, 33.77660880971767, 43.22136046716843, 23.482724836840255, 38.25300583444445, 22.67395360461992, 19.234759397462625, 18.370218001772653, 17.496648111342076, 16.641336033512825, 14.047717187483336, 14.04684018864495, 59.21360707995491, 12.319590442340122, 8.856311347473833, 7.977363563435639, 7.1320990508607816, 7.131463467049771, 6.267728568464526, 6.267635634361068, 6.267519199679723, 6.26722223783189, 6.267176838988246, 6.267135178872903, 6.266774658643968, 6.266758101418639, 39.59926421205985, 5.403569591269246, 5.403506032888145, 5.403113466416638, 5.403069669885124, 5.4029195866490785, 5.402645591275088, 5.402633306882102, 121.98347542759863, 56.567288188015844, 34.105273476853625, 17.500171061608818, 10.696557213295455, 15.577727651798225, 20.914975941752687, 66.41339794310447, 38.29524705498663, 49.18879893062039, 19.001956263674415, 35.62717944642206, 14.008788480215014, 21.416206948988258, 20.102360141110132, 24.863352897135737, 14.97068636083858, 21.015231543430954, 16.061875875326773, 20.65651658616137, 19.39611009239624, 18.648496890186635, 15.96805836378121, 16.23856924299575, 15.465542302218504], \"Total\": [145.0, 194.0, 161.0, 62.0, 129.0, 81.0, 68.0, 122.0, 59.0, 38.0, 44.0, 167.0, 106.0, 42.0, 46.0, 40.0, 37.0, 63.0, 68.0, 99.0, 91.0, 43.0, 38.0, 73.0, 41.0, 77.0, 23.0, 122.0, 96.0, 29.0, 41.68883888994906, 34.27207751680294, 32.41664577438721, 29.635403951785097, 28.705110321216377, 23.14493712528832, 22.217597139611463, 19.43586750742099, 19.43554154369843, 17.58132357855394, 17.581125943060968, 17.58013102011519, 14.798032972407418, 13.872227216674442, 12.017625241589561, 12.017597241423303, 12.017319631987217, 11.090564754121202, 11.090221292073936, 11.090213101458371, 11.09020539404647, 10.16287699777738, 10.162750643531687, 13.856365050313292, 9.235732877729825, 14.776946885334516, 8.30841380882899, 21.236389599344673, 8.308389494348605, 8.308329001746799, 17.527192145628117, 35.94684446939277, 51.56398672280247, 62.50639518508925, 21.182078894263068, 33.08245594032083, 255.1880023378274, 77.79345875517092, 36.66304596552564, 63.68033831777383, 78.12752303385308, 47.6245401023591, 87.97609968778438, 47.538682036518146, 91.69823630231276, 94.75649813781894, 78.93932751527086, 126.46003469311002, 50.99142620617811, 111.70766524137511, 99.13237096049725, 122.01106281634307, 40.09323678908889, 167.0116528167395, 45.38053423122808, 64.95993633457182, 70.84109016989551, 76.2266940978067, 159.52999457478464, 71.58362188505855, 46.160064088873064, 31.956014383780694, 32.84367149603359, 31.068351145509464, 26.63047853737994, 59.51249216309384, 21.30490697453055, 20.41744308020331, 16.86694891963987, 16.86692831915182, 15.979185924311341, 15.091810082021192, 14.204319612615556, 161.61029735896705, 13.316645650623869, 13.316602006212438, 13.31661367866176, 11.541381701108493, 11.541652892105411, 11.541427977652882, 11.541672813784151, 11.541775078432348, 11.541917685264739, 10.653816800008364, 10.653844022225037, 8.878614054894387, 8.878623959817451, 8.8786154832586, 8.878610412889891, 8.87866780094832, 194.6612237773125, 63.83720811385213, 122.23949116512047, 73.22138293923543, 39.06273203371341, 41.832508211935284, 96.53826604177257, 56.99753073277908, 159.52999457478464, 58.475085567010765, 50.860461663590684, 27.743179758978357, 122.58729954134151, 76.2266940978067, 64.95993633457182, 255.1880023378274, 77.79345875517092, 71.58362188505855, 126.46003469311002, 111.70766524137511, 42.407608058173416, 37.99088072219425, 29.158156551233944, 29.15996956527147, 21.2073122665809, 25.617448211161555, 17.67462392628186, 13.25719947010866, 13.257478214171531, 13.257462792213898, 27.394428551765344, 9.723828918316688, 38.083920531233055, 9.72377372775149, 8.84046661210706, 8.840467004926062, 8.840501638874791, 16.803099893064182, 26.517226963389465, 7.073658495486725, 11.492705683464877, 81.65147358566303, 6.190371803375722, 6.190566449598509, 6.190597489602928, 6.1907426703882615, 43.48555898245814, 6.19042397464708, 5.307068918948518, 5.307186736497899, 36.450334147009215, 15.111102738069343, 25.83688147813037, 17.755479233104833, 29.027807108716473, 167.0116528167395, 91.94785364057999, 46.614308489657965, 72.23984975147619, 122.58729954134151, 99.13237096049725, 122.01106281634307, 43.15696759717853, 26.862221541607234, 32.823473755343585, 129.40392838728462, 91.69823630231276, 111.70766524137511, 126.46003469311002, 106.41433322892601, 255.1880023378274, 159.52999457478464, 38.94304397303731, 23.376610765033803, 19.916762019734975, 19.05193301878821, 18.187381879719922, 17.322269069471677, 14.727779473600393, 14.727813869580304, 62.34446390318559, 12.998098029325906, 9.538927084565378, 8.67443974356194, 7.8091056632684035, 7.809155452065783, 6.944291707902724, 6.944292886837395, 6.944295145454892, 6.944301248304576, 6.944301372105925, 6.94430373366291, 6.9443113574861, 6.9443114734464615, 44.232932035375974, 6.079451817189169, 6.079452723217026, 6.079461674823322, 6.079463049006413, 6.079465045261343, 6.0794710401975, 6.079472059069522, 145.34203958224955, 68.77429105237817, 40.89624654374196, 21.895649776972167, 13.081281921481619, 20.075841437968386, 29.637676100486672, 129.40392838728462, 68.91260640434015, 106.41433322892601, 30.06354836614344, 76.21091389183883, 20.958979643351203, 39.60758510267276, 37.42418960214215, 94.75649813781894, 34.81186882588289, 71.58362188505855, 45.45631355668661, 91.94785364057999, 159.52999457478464, 255.1880023378274, 76.2266940978067, 167.0116528167395, 87.97609968778438], \"Category\": [\"Default\", \"Default\", \"Default\", \"Default\", \"Default\", \"Default\", \"Default\", \"Default\", \"Default\", \"Default\", \"Default\", \"Default\", \"Default\", \"Default\", \"Default\", \"Default\", \"Default\", \"Default\", \"Default\", \"Default\", \"Default\", \"Default\", \"Default\", \"Default\", \"Default\", \"Default\", \"Default\", \"Default\", \"Default\", \"Default\", \"Topic1\", \"Topic1\", \"Topic1\", \"Topic1\", \"Topic1\", \"Topic1\", \"Topic1\", \"Topic1\", \"Topic1\", \"Topic1\", \"Topic1\", \"Topic1\", \"Topic1\", \"Topic1\", \"Topic1\", \"Topic1\", \"Topic1\", \"Topic1\", \"Topic1\", \"Topic1\", \"Topic1\", \"Topic1\", \"Topic1\", \"Topic1\", \"Topic1\", \"Topic1\", \"Topic1\", \"Topic1\", \"Topic1\", \"Topic1\", \"Topic1\", \"Topic1\", \"Topic1\", \"Topic1\", \"Topic1\", \"Topic1\", \"Topic1\", \"Topic1\", \"Topic1\", \"Topic1\", \"Topic1\", \"Topic1\", \"Topic1\", \"Topic1\", \"Topic1\", \"Topic1\", \"Topic1\", \"Topic1\", \"Topic1\", \"Topic1\", \"Topic1\", \"Topic1\", \"Topic1\", \"Topic1\", \"Topic1\", \"Topic1\", \"Topic1\", \"Topic1\", \"Topic1\", \"Topic1\", \"Topic2\", \"Topic2\", \"Topic2\", \"Topic2\", \"Topic2\", \"Topic2\", \"Topic2\", \"Topic2\", \"Topic2\", \"Topic2\", \"Topic2\", \"Topic2\", \"Topic2\", \"Topic2\", \"Topic2\", \"Topic2\", \"Topic2\", \"Topic2\", \"Topic2\", \"Topic2\", \"Topic2\", \"Topic2\", \"Topic2\", \"Topic2\", \"Topic2\", \"Topic2\", \"Topic2\", \"Topic2\", \"Topic2\", \"Topic2\", \"Topic2\", \"Topic2\", \"Topic2\", \"Topic2\", \"Topic2\", \"Topic2\", \"Topic2\", \"Topic2\", \"Topic2\", \"Topic2\", \"Topic2\", \"Topic2\", \"Topic2\", \"Topic2\", \"Topic2\", \"Topic2\", \"Topic2\", \"Topic2\", \"Topic2\", \"Topic2\", \"Topic3\", \"Topic3\", \"Topic3\", \"Topic3\", \"Topic3\", \"Topic3\", \"Topic3\", \"Topic3\", \"Topic3\", \"Topic3\", \"Topic3\", \"Topic3\", \"Topic3\", \"Topic3\", \"Topic3\", \"Topic3\", \"Topic3\", \"Topic3\", \"Topic3\", \"Topic3\", \"Topic3\", \"Topic3\", \"Topic3\", \"Topic3\", \"Topic3\", \"Topic3\", \"Topic3\", \"Topic3\", \"Topic3\", \"Topic3\", \"Topic3\", \"Topic3\", \"Topic3\", \"Topic3\", \"Topic3\", \"Topic3\", \"Topic3\", \"Topic3\", \"Topic3\", \"Topic3\", \"Topic3\", \"Topic3\", \"Topic3\", \"Topic3\", \"Topic3\", \"Topic3\", \"Topic3\", \"Topic3\", \"Topic3\", \"Topic3\", \"Topic3\", \"Topic3\", \"Topic4\", \"Topic4\", \"Topic4\", \"Topic4\", \"Topic4\", \"Topic4\", \"Topic4\", \"Topic4\", \"Topic4\", \"Topic4\", \"Topic4\", \"Topic4\", \"Topic4\", \"Topic4\", \"Topic4\", \"Topic4\", \"Topic4\", \"Topic4\", \"Topic4\", \"Topic4\", \"Topic4\", \"Topic4\", \"Topic4\", \"Topic4\", \"Topic4\", \"Topic4\", \"Topic4\", \"Topic4\", \"Topic4\", \"Topic4\", \"Topic4\", \"Topic4\", \"Topic4\", \"Topic4\", \"Topic4\", \"Topic4\", \"Topic4\", \"Topic4\", \"Topic4\", \"Topic4\", \"Topic4\", \"Topic4\", \"Topic4\", \"Topic4\", \"Topic4\", \"Topic4\", \"Topic4\", \"Topic4\", \"Topic4\", \"Topic4\", \"Topic4\", \"Topic4\", \"Topic4\", \"Topic4\", \"Topic4\"], \"logprob\": [30.0, 29.0, 28.0, 27.0, 26.0, 25.0, 24.0, 23.0, 22.0, 21.0, 20.0, 19.0, 18.0, 17.0, 16.0, 15.0, 14.0, 13.0, 12.0, 11.0, 10.0, 9.0, 8.0, 7.0, 6.0, 5.0, 4.0, 3.0, 2.0, 1.0, -4.661, -4.8597, -4.9171, -5.0082, -5.0431, -5.2616, -5.3038, -5.4418, -5.4422, -5.5457, -5.546, -5.5473, -5.7274, -5.7932, -5.9443, -5.9446, -5.945, -6.0292, -6.0299, -6.0299, -6.03, -6.1231, -6.1234, -5.8183, -6.2253, -5.7626, -6.3399, -5.4016, -6.34, -6.3402, -5.6151, -4.9201, -4.5857, -4.4342, -5.466, -5.0949, -3.3554, -4.366, -5.0302, -4.5773, -4.4354, -4.8324, -4.361, -4.856, -4.4246, -4.4051, -4.5773, -4.2652, -4.9007, -4.4994, -4.6137, -4.5606, -5.133, -4.5687, -5.1328, -5.0342, -5.0394, -5.0288, -4.9794, -5.0768, -4.4275, -4.7988, -4.7718, -4.8284, -4.9854, -4.1857, -5.215, -5.2598, -5.4572, -5.4581, -5.5153, -5.5741, -5.6375, -3.2072, -5.7054, -5.7055, -5.7055, -5.8558, -5.8563, -5.8564, -5.8565, -5.8567, -5.8586, -5.941, -5.9417, -6.1367, -6.1367, -6.1367, -6.1368, -6.137, -3.0632, -4.234, -3.6471, -4.2009, -4.7831, -4.7297, -4.0643, -4.5361, -3.7776, -4.5706, -4.7714, -5.3044, -4.4881, -4.8562, -4.9982, -4.5004, -5.1382, -5.3518, -5.2787, -5.3239, -4.3678, -4.4796, -4.7505, -4.7544, -5.0769, -4.894, -5.267, -5.5667, -5.5672, -5.5672, -4.8444, -5.8964, -4.5324, -5.8986, -5.9987, -5.9987, -5.9989, -5.3584, -4.9195, -6.2457, -5.7692, -3.8091, -6.3912, -6.3914, -6.3916, -6.3924, -4.4462, -6.4024, -6.5651, -6.5658, -4.6672, -5.5664, -5.0772, -5.4364, -4.9948, -3.5305, -4.0556, -4.6817, -4.3675, -3.97, -4.1422, -3.9995, -4.8158, -5.1823, -5.0766, -4.2318, -4.5749, -4.5199, -4.4721, -4.5794, -4.3328, -4.9429, -4.0938, -4.6168, -4.7813, -4.8273, -4.876, -4.9261, -5.0956, -5.0956, -3.6569, -5.2268, -5.5569, -5.6614, -5.7734, -5.7735, -5.9026, -5.9026, -5.9027, -5.9027, -5.9027, -5.9027, -5.9028, -5.9028, -4.0592, -6.051, -6.051, -6.0511, -6.0511, -6.0511, -6.0511, -6.0511, -2.9341, -3.7026, -4.2086, -4.8758, -5.3681, -4.9922, -4.6976, -3.5421, -4.0927, -3.8424, -4.7935, -4.1649, -5.0983, -4.6739, -4.7372, -4.5246, -5.0319, -4.6928, -4.9616, -4.71, -4.773, -4.8123, -4.9674, -4.9506, -4.9994], \"loglift\": [30.0, 29.0, 28.0, 27.0, 26.0, 25.0, 24.0, 23.0, 22.0, 21.0, 20.0, 19.0, 18.0, 17.0, 16.0, 15.0, 14.0, 13.0, 12.0, 11.0, 10.0, 9.0, 8.0, 7.0, 6.0, 5.0, 4.0, 3.0, 2.0, 1.0, 1.1349, 1.1322, 1.1304, 1.129, 1.126, 1.1228, 1.1215, 1.1173, 1.1169, 1.1136, 1.1134, 1.1121, 1.1042, 1.1031, 1.0955, 1.0952, 1.0948, 1.0909, 1.0902, 1.0902, 1.0902, 1.0843, 1.0841, 1.0791, 1.0778, 1.0705, 1.069, 1.0689, 1.0689, 1.0687, 1.0474, 1.024, 0.9976, 0.9567, 1.0071, 0.9323, 0.6288, 0.8061, 0.8942, 0.7949, 0.7324, 0.8305, 0.6881, 0.8087, 0.5831, 0.5698, 0.5802, 0.4211, 0.6938, 0.3109, 0.316, 0.1615, 0.7019, -0.1606, 0.5783, 0.3182, 0.2264, 0.1636, -0.5255, 0.1785, 1.2665, 1.2631, 1.2626, 1.2616, 1.2587, 1.2543, 1.2523, 1.2499, 1.2437, 1.2427, 1.2396, 1.2379, 1.2351, 1.2338, 1.2318, 1.2317, 1.2316, 1.2244, 1.2239, 1.2238, 1.2238, 1.2235, 1.2216, 1.2192, 1.2185, 1.2058, 1.2058, 1.2058, 1.2058, 1.2055, 1.1917, 1.1359, 1.0731, 1.0317, 1.0779, 1.0628, 0.8919, 0.947, 0.6764, 0.887, 0.8257, 0.8987, 0.2293, 0.3362, 0.3542, -0.5162, 0.0339, -0.0965, -0.5925, -0.5136, 1.4111, 1.4092, 1.403, 1.3989, 1.3949, 1.3889, 1.3871, 1.375, 1.3744, 1.3744, 1.3714, 1.3552, 1.354, 1.353, 1.3482, 1.3482, 1.3479, 1.3462, 1.3288, 1.3241, 1.3153, 1.3146, 1.3119, 1.3117, 1.3116, 1.3108, 1.3075, 1.3007, 1.292, 1.2913, 1.263, 1.2444, 1.1972, 1.2131, 1.1631, 0.8776, 0.9493, 1.0026, 0.8786, 0.7474, 0.7875, 0.7225, 0.9455, 1.0532, 0.9584, 0.4315, 0.4328, 0.2904, 0.2141, 0.2794, -0.3487, -0.489, 1.7703, 1.7576, 1.7533, 1.7517, 1.7494, 1.748, 1.7409, 1.7408, 1.7366, 1.7345, 1.7139, 1.7044, 1.6975, 1.6974, 1.6856, 1.6856, 1.6856, 1.6855, 1.6855, 1.6855, 1.6855, 1.6855, 1.6775, 1.6703, 1.6703, 1.6702, 1.6702, 1.6702, 1.6701, 1.6701, 1.6129, 1.5927, 1.6066, 1.5641, 1.5869, 1.5345, 1.4396, 1.1211, 1.2006, 1.0165, 1.3294, 1.0277, 1.3853, 1.1733, 1.1667, 0.4502, 0.9443, 0.5625, 0.7478, 0.2949, -0.319, -0.8281, 0.225, -0.5425, 0.0497]}, \"token.table\": {\"Topic\": [3, 1, 3, 4, 1, 3, 1, 2, 3, 4, 4, 2, 3, 3, 1, 1, 3, 4, 1, 2, 3, 4, 1, 2, 4, 1, 2, 2, 2, 3, 3, 1, 4, 2, 1, 2, 3, 4, 1, 3, 3, 1, 2, 4, 1, 3, 2, 1, 4, 1, 2, 3, 4, 4, 1, 1, 3, 1, 2, 3, 3, 1, 2, 3, 4, 4, 1, 3, 1, 4, 4, 1, 2, 3, 4, 2, 4, 4, 1, 3, 4, 2, 4, 4, 1, 2, 3, 2, 4, 4, 2, 1, 1, 3, 2, 3, 3, 1, 1, 2, 3, 4, 1, 2, 1, 2, 3, 4, 4, 3, 1, 3, 4, 2, 4, 1, 3, 4, 2, 2, 3, 1, 2, 3, 4, 4, 1, 2, 3, 4, 4, 4, 1, 2, 1, 2, 3, 4, 1, 3, 1, 1, 2, 1, 2, 3, 4, 2, 3, 1, 3, 1, 3, 1, 2, 3, 4, 1, 3, 1, 1, 2, 1, 2, 3, 1, 2, 3, 1, 2, 3, 4, 1, 2, 3, 4, 1, 1, 2, 3, 4, 1, 4, 1, 3, 4, 3, 1, 2, 3, 4, 1, 2, 1, 3, 4, 4, 1, 2, 3, 4, 2, 1, 2, 3, 4, 3, 1, 2, 3, 4, 1, 3, 1, 2, 3, 4, 1, 2, 4, 1, 2, 3, 4, 1, 2, 3, 4, 1, 1, 2, 4, 1, 2, 3, 2, 3, 4, 1, 2, 3, 3, 3, 1, 2, 3, 1, 3, 1, 2, 3, 4, 2, 4, 1, 2, 1, 1, 2, 3, 4, 2, 3, 4, 3, 4, 2, 1, 2, 3, 4, 1, 1, 2, 3, 1, 2, 3, 4, 3, 1, 2, 3, 4, 3, 1, 2, 3, 4, 1, 2, 3, 4, 1, 2, 3, 1, 2, 3, 4, 1, 2, 3, 4, 3, 1, 2, 3, 4, 1, 4, 1, 3, 4, 1, 2, 4, 3, 4, 1, 1, 1, 2, 3, 4, 1, 2, 3, 4, 2, 3, 4, 1, 3, 4, 1, 2, 3, 4, 1, 2, 3, 4, 1, 1, 2, 3, 4, 1, 3, 3, 1, 2, 3, 4, 1, 2, 1, 2, 2, 2, 2, 2, 2, 2, 2, 2, 2], \"Freq\": [0.9602801861222282, 0.941779670524465, 0.047088983526223246, 0.8640178008548098, 0.13235301451305784, 0.860294594334876, 0.7637117774210161, 0.16365252373307487, 0.027275420622179147, 0.05455084124435829, 0.8640165584643444, 0.05951282836881605, 0.8926924255322407, 0.9692117780354746, 0.9371242120640856, 0.09962222535875906, 0.09962222535875906, 0.7969778028700725, 0.11963302637817412, 0.04350291868297241, 0.6199165912323569, 0.22839032308560514, 0.03132969092935656, 0.8615665005573054, 0.09398907278806969, 0.9505318541549481, 0.9530596398950156, 0.9530697295119743, 0.9530478643114402, 0.9739179323206536, 0.9805992607497102, 0.962879339435254, 0.8224424512596886, 0.965612879148114, 0.8497749484294056, 0.0472097193571892, 0.0944194387143784, 0.9347139743602169, 0.09797741116829886, 0.8940438769107271, 0.9255613272922544, 0.9670007567377397, 0.953068084451568, 0.9447860215679513, 0.09198455978486055, 0.8968494579023903, 0.927655458418347, 0.9871471657713454, 0.8640190032875342, 0.3771812502495859, 0.25145416683305727, 0.08381805561101908, 0.2933631946385668, 0.8224407843083603, 0.9016965551754594, 0.13717295374671495, 0.8504723132296328, 0.6484884255360427, 0.09976745008246811, 0.24941862520617028, 0.9049295693929135, 0.5593283947968819, 0.06332019563738286, 0.11608702533520192, 0.26383414848909525, 0.8640185755824417, 0.9381969912597006, 0.07216899932766928, 0.9153244012941489, 0.82244124026743, 0.822439835469079, 0.24916995345262577, 0.05537110076725017, 0.5813965580561268, 0.12458497672631288, 0.09043036072763473, 0.9043036072763474, 0.9757840200244685, 0.4337634577219468, 0.5245511581753776, 0.030262566817810244, 0.9386283466454878, 0.8640178162583134, 0.9838894196930751, 0.10526771814255842, 0.7193294073074825, 0.17544619690426405, 0.9795545858233315, 0.8963894589012691, 0.8640165440364673, 0.9530883025305688, 0.975436069977574, 0.6275564811741408, 0.3530005206604542, 0.08701171225838919, 0.870117122583892, 0.9692166377422751, 0.990206090323624, 0.04623416942192746, 0.90927199863124, 0.02054851974307887, 0.02054851974307887, 0.9016673381113479, 0.9748686638164201, 0.21753032099119327, 0.6733081364013125, 0.010358586713866346, 0.09322728042479711, 0.9435023373396576, 0.9805786432372712, 0.625169792650365, 0.19323429954647645, 0.17050085254100864, 0.9762241598125585, 0.9505823555331878, 0.8855760039178177, 0.9602204809344879, 0.864017507027329, 0.9762218159939523, 0.036503772951874854, 0.9490980967487462, 0.5700580612533686, 0.1646834399176398, 0.22802322450134743, 0.050671827666966096, 0.922249763270014, 0.13907125952476757, 0.8098855701736464, 0.03272264929994531, 0.016361324649972656, 0.9505845755699329, 0.8224425738292547, 0.9474216905993211, 0.06767297789995151, 0.48236583319017146, 0.1502450955838239, 0.3004901911676478, 0.07116872948707448, 0.9775904601001639, 0.990224491252124, 0.978559295064145, 0.016803194819324695, 0.9745852995208324, 0.047712246350562634, 0.23856123175281319, 0.047712246350562634, 0.6679714489078769, 0.07542266779106518, 0.9050720134927823, 0.05251560165292797, 0.9190230289262394, 0.29781602342936153, 0.6700860527160635, 0.15729310624262255, 0.6291724249704902, 0.216278021083606, 0.8224399733035932, 0.9153222686568847, 0.8076991205251096, 0.9460716857507049, 0.734915233297261, 0.27296851522469695, 0.5670774280605055, 0.06543201093005832, 0.3707813952703305, 0.8159165130061112, 0.03199672600023966, 0.14398526700107844, 0.5729328761869975, 0.08814351941338423, 0.33053819780019084, 0.02203587985334606, 0.26944227687739924, 0.05388845537547984, 0.574810190671785, 0.0958016984452975, 0.9775740646896997, 0.18805241033175468, 0.5453519899620886, 0.1441735145876786, 0.11909985987677797, 0.18268469037200405, 0.8220811066740182, 0.19352180735249533, 0.8127915908804804, 0.9539703281674712, 0.9805797839112091, 0.8533087295312342, 0.11636028129971375, 0.019393380216618957, 0.019393380216618957, 0.7070003169944434, 0.2828001267977774, 0.058161268386665285, 0.11632253677333057, 0.8287980745099803, 0.8640188566027707, 0.6527789186136289, 0.07679751983689752, 0.07679751983689752, 0.1791942129527609, 0.9762250155058522, 0.43103490520353754, 0.4002466976889992, 0.09236462254361519, 0.07697051878634599, 0.848217369247927, 0.1060468747467258, 0.3507704318545546, 0.5057620180228461, 0.040787259517971464, 0.9128672674471107, 0.057054204215444417, 0.7066545371578222, 0.06281373663625087, 0.03140686831812543, 0.20414464406781532, 0.024750898088599163, 0.9529095764110678, 0.024750898088599163, 0.3299871640777501, 0.28598887553405006, 0.04399828854370001, 0.3519863083496001, 0.061922895989820405, 0.048162252436526984, 0.0550425742131737, 0.8393992567508989, 0.9744759965613288, 0.9628891680045442, 0.9387211633340112, 0.8224410543653468, 0.1126412851910541, 0.05632064259552705, 0.7884889963373787, 0.9743125096067448, 0.7578939710328252, 0.20669835573622505, 0.1502293395513797, 0.7784611231298767, 0.06828606343244532, 0.9618309317869724, 0.9049296096027288, 0.7152070386360725, 0.06310650340906522, 0.2313905124999058, 0.9628821572991526, 0.9903883270753145, 0.40216169002656055, 0.08617750500569155, 0.08617750500569155, 0.4308875250284577, 0.26992669644124473, 0.7085575781582675, 0.3249247062362405, 0.6669507128007042, 0.9153455460001783, 0.10336953365423082, 0.11276676398643362, 0.31950583129489524, 0.4604642862779373, 0.9010360765097586, 0.9692471131908573, 0.8963837437950177, 0.9758973569079947, 0.03903589427631979, 0.9486018851359288, 0.9016959285196235, 0.9856156705715007, 0.04811974972884016, 0.9463550780005231, 0.9016952625775732, 0.3003369663438447, 0.04290528090626353, 0.643579213593953, 0.09561941587950863, 0.8127650349758234, 0.047809707939754316, 0.047809707939754316, 0.9691890487872113, 0.246689261762262, 0.02902226608967788, 0.15962246349322834, 0.5514230557038797, 0.904926024199938, 0.42753096780709354, 0.026720685487943346, 0.026720685487943346, 0.5344137097588669, 0.42969298388148036, 0.17008680611975263, 0.3222697379111103, 0.08056743447777757, 0.8902033119276062, 0.027818853497737692, 0.08345656049321308, 0.36732538819108584, 0.3935629159190206, 0.026237527727934706, 0.20990022182347765, 0.29936585962472406, 0.03326287329163601, 0.03326287329163601, 0.6319945925410841, 0.9255665806284804, 0.07644510729165124, 0.07644510729165124, 0.07644510729165124, 0.8408961802081636, 0.8855870143511052, 0.92321199401066, 0.04890424351928807, 0.09780848703857614, 0.8313721398278973, 0.25231426465218476, 0.68485300405593, 0.07208978990062422, 0.9421187247124067, 0.9813956781193501, 0.966946033778324, 0.9669351641270598, 0.05119969587057771, 0.8191951339292434, 0.05119969587057771, 0.07679954380586657, 0.5917206084010977, 0.16458454008507356, 0.16850321961090864, 0.07445491099086661, 0.11591611002030382, 0.3709315520649722, 0.5100308840893367, 0.18279600887834774, 0.639786031074217, 0.18279600887834774, 0.2624296046152221, 0.15745776276913326, 0.10497184184608883, 0.4723732883073998, 0.39525083440766734, 0.11292880983076209, 0.28232202457690525, 0.21174151843267894, 0.992061248207975, 0.17673382464127138, 0.02524768923446734, 0.2524768923446734, 0.5302014739238141, 0.3707396717337024, 0.6256231960506229, 0.9421396398580485, 0.3688190149424087, 0.024587934329493914, 0.49175868658987826, 0.10654771542780696, 0.8161425514691748, 0.18136501143759443, 0.9834766592620277, 0.9010419004741629, 0.9530921240516206, 0.9763249264749424, 0.9486007265587675, 0.9010413859103027, 0.9010415308670788, 0.9700834286685663, 0.9856884155891853, 0.9386307449919872, 0.901040525672233], \"Term\": [\"2022\", \"ah\", \"ah\", \"aim\", \"air\", \"air\", \"alone\", \"alone\", \"alone\", \"alone\", \"anytime\", \"anyway\", \"anyway\", \"april\", \"asleep\", \"baby\", \"baby\", \"baby\", \"back\", \"back\", \"back\", \"back\", \"bad\", \"bad\", \"bad\", \"bellyache\", \"birthy\", \"blah\", \"blind\", \"bloom\", \"blow\", \"body\", \"bold\", \"bore\", \"bout\", \"bout\", \"bout\", \"bow\", \"boy\", \"boy\", \"boyfriend\", \"broke\", \"bullshit\", \"bunny\", \"burn\", \"burn\", \"burning\", \"bury\", \"button\", \"call\", \"call\", \"call\", \"call\", \"callous\", \"cannibal\", \"car\", \"car\", \"care\", \"care\", \"care\", \"carelessly\", \"cause\", \"cause\", \"cause\", \"cause\", \"cautious\", \"chain\", \"chain\", \"class\", \"clone\", \"cocky\", \"come\", \"come\", \"come\", \"come\", \"cop\", \"cop\", \"copycat\", \"could\", \"could\", \"could\", \"creature\", \"cross\", \"crown\", \"cry\", \"cry\", \"cry\", \"diamond\", \"dirty\", \"dollar\", \"duh\", \"dumb\", \"end\", \"end\", \"erase\", \"erase\", \"eres\", \"expensive\", \"eye\", \"eye\", \"eye\", \"eye\", \"fade\", \"fair\", \"fall\", \"fall\", \"fall\", \"fall\", \"favorite\", \"february\", \"feel\", \"feel\", \"feel\", \"fifteen\", \"finger\", \"fingertip\", \"fire\", \"flame\", \"flare\", \"foot\", \"foot\", \"friend\", \"friend\", \"friend\", \"friend\", \"gay\", \"give\", \"give\", \"give\", \"give\", \"glamor\", \"glamour\", \"glass\", \"glass\", \"go\", \"go\", \"go\", \"go\", \"gold\", \"grave\", \"gutter\", \"guy\", \"guy\", \"hate\", \"hate\", \"hate\", \"hate\", \"heart\", \"heart\", \"help\", \"help\", \"hide\", \"hide\", \"high\", \"high\", \"high\", \"italic\", \"job\", \"kept\", \"kill\", \"left\", \"left\", \"let\", \"let\", \"let\", \"lie\", \"lie\", \"lie\", \"lose\", \"lose\", \"lose\", \"lose\", \"love\", \"love\", \"love\", \"love\", \"lover\", \"make\", \"make\", \"make\", \"make\", \"makethem\", \"makethem\", \"man\", \"man\", \"manner\", \"march\", \"maybe\", \"maybe\", \"maybe\", \"maybe\", \"mind\", \"mind\", \"mine\", \"mine\", \"mine\", \"murder\", \"na\", \"na\", \"na\", \"na\", \"napalm\", \"need\", \"need\", \"need\", \"need\", \"nervous\", \"never\", \"never\", \"never\", \"never\", \"night\", \"night\", \"nothing\", \"nothing\", \"nothing\", \"nothing\", \"ocean\", \"ocean\", \"ocean\", \"oh\", \"oh\", \"oh\", \"oh\", \"one\", \"one\", \"one\", \"one\", \"outlaw\", \"owe\", \"pretend\", \"psych\", \"put\", \"put\", \"put\", \"quite\", \"rain\", \"rain\", \"really\", \"really\", \"really\", \"remember\", \"retrace\", \"right\", \"right\", \"right\", \"rk\", \"rose\", \"run\", \"run\", \"run\", \"run\", \"sad\", \"sad\", \"scar\", \"scar\", \"sec\", \"see\", \"see\", \"see\", \"see\", \"seven\", \"showthem\", \"silver\", \"six\", \"six\", \"sky\", \"son\", \"song\", \"sorry\", \"sorry\", \"staple\", \"start\", \"start\", \"start\", \"stop\", \"stop\", \"stop\", \"stop\", \"teeth\", \"tell\", \"tell\", \"tell\", \"tell\", \"therefore\", \"thing\", \"thing\", \"thing\", \"thing\", \"think\", \"think\", \"think\", \"think\", \"thought\", \"thought\", \"thought\", \"time\", \"time\", \"time\", \"time\", \"told\", \"told\", \"told\", \"told\", \"touch\", \"town\", \"town\", \"town\", \"town\", \"toy\", \"trigger\", \"tryna\", \"tryna\", \"tryna\", \"type\", \"type\", \"type\", \"t\\u00fa\", \"uninvited\", \"v\", \"vendetta\", \"walk\", \"walk\", \"walk\", \"walk\", \"want\", \"want\", \"want\", \"want\", \"watch\", \"watch\", \"watch\", \"water\", \"water\", \"water\", \"way\", \"way\", \"way\", \"way\", \"well\", \"well\", \"well\", \"well\", \"wheres\", \"wish\", \"wish\", \"wish\", \"wish\", \"wonder\", \"wonder\", \"wonderful\", \"would\", \"would\", \"would\", \"would\", \"ya\", \"ya\", \"young\", \"\\u0628\\u0647\", \"\\u0631\\u0627\", \"\\u0634\\u0645\\u0627\", \"\\u0641\\u06a9\\u0631\", \"\\u0645\\u0627\", \"\\u0645\\u0631\\u062f\", \"\\u0645\\u0646\", \"\\u0645\\u06cc\", \"\\u06a9\\u0646\\u06cc\\u062f\", \"\\u06a9\\u0647\"]}, \"R\": 30, \"lambda.step\": 0.01, \"plot.opts\": {\"xlab\": \"PC1\", \"ylab\": \"PC2\"}, \"topic.order\": [2, 1, 4, 3]};\n",
       "\n",
       "function LDAvis_load_lib(url, callback){\n",
       "  var s = document.createElement('script');\n",
       "  s.src = url;\n",
       "  s.async = true;\n",
       "  s.onreadystatechange = s.onload = callback;\n",
       "  s.onerror = function(){console.warn(\"failed to load library \" + url);};\n",
       "  document.getElementsByTagName(\"head\")[0].appendChild(s);\n",
       "}\n",
       "\n",
       "if(typeof(LDAvis) !== \"undefined\"){\n",
       "   // already loaded: just create the visualization\n",
       "   !function(LDAvis){\n",
       "       new LDAvis(\"#\" + \"ldavis_el354641402400888376964561427053\", ldavis_el354641402400888376964561427053_data);\n",
       "   }(LDAvis);\n",
       "}else if(typeof define === \"function\" && define.amd){\n",
       "   // require.js is available: use it to load d3/LDAvis\n",
       "   require.config({paths: {d3: \"https://d3js.org/d3.v5\"}});\n",
       "   require([\"d3\"], function(d3){\n",
       "      window.d3 = d3;\n",
       "      LDAvis_load_lib(\"https://cdn.jsdelivr.net/gh/bmabey/pyLDAvis@3.3.1/pyLDAvis/js/ldavis.v3.0.0.js\", function(){\n",
       "        new LDAvis(\"#\" + \"ldavis_el354641402400888376964561427053\", ldavis_el354641402400888376964561427053_data);\n",
       "      });\n",
       "    });\n",
       "}else{\n",
       "    // require.js not available: dynamically load d3 & LDAvis\n",
       "    LDAvis_load_lib(\"https://d3js.org/d3.v5.js\", function(){\n",
       "         LDAvis_load_lib(\"https://cdn.jsdelivr.net/gh/bmabey/pyLDAvis@3.3.1/pyLDAvis/js/ldavis.v3.0.0.js\", function(){\n",
       "                 new LDAvis(\"#\" + \"ldavis_el354641402400888376964561427053\", ldavis_el354641402400888376964561427053_data);\n",
       "            })\n",
       "         });\n",
       "}\n",
       "</script>"
      ],
      "text/plain": [
       "<IPython.core.display.HTML object>"
      ]
     },
     "execution_count": 39,
     "metadata": {},
     "output_type": "execute_result"
    }
   ],
   "source": [
    "import pyLDAvis.gensim_models\n",
    "lda_display = pyLDAvis.gensim_models.prepare(ldamodel, corpus, dictionary)\n",
    "pyLDAvis.display(lda_display)"
   ]
  },
  {
   "cell_type": "code",
   "execution_count": 40,
   "id": "desirable-surgery",
   "metadata": {},
   "outputs": [
    {
     "name": "stderr",
     "output_type": "stream",
     "text": [
      "/Library/Frameworks/Python.framework/Versions/3.9/lib/python3.9/site-packages/ipykernel/ipkernel.py:283: DeprecationWarning: `should_run_async` will not call `transform_cell` automatically in the future. Please pass the result to `transformed_cell` argument and any exception that happen during thetransform in `preprocessing_exc_tuple` in IPython 7.17 and above.\n",
      "  and should_run_async(code)\n"
     ]
    },
    {
     "data": {
      "text/plain": [
       "<gensim.corpora.dictionary.Dictionary at 0x7f8c49a0ef40>"
      ]
     },
     "execution_count": 40,
     "metadata": {},
     "output_type": "execute_result"
    }
   ],
   "source": [
    "dictionary"
   ]
  },
  {
   "cell_type": "code",
   "execution_count": 41,
   "id": "visible-melbourne",
   "metadata": {},
   "outputs": [
    {
     "name": "stdout",
     "output_type": "stream",
     "text": [
      "['good', 'learn', 'lose', 'afford', 'tore', 'shirt', 'stop', 'bleedin', 'nothing', 'ever', 'stop', 'leavin', 'quiet_come', 'home_could', 'lie', 'could_lie', 'much', 'already', 'hurt', 'let', 'call', 'friend', 'keep', 'closer', 'call', 'back', 'call', 'party', 'quiet_come', 'home_could', 'lie', 'could_lie', 'nothing', 'well', 'sometimes', 'goodbye', 'let', 'let', 'go', 'let', 'let', 'go', 'quiet_come', 'home_could', 'lie', 'could_lie']\n"
     ]
    },
    {
     "name": "stderr",
     "output_type": "stream",
     "text": [
      "/Library/Frameworks/Python.framework/Versions/3.9/lib/python3.9/site-packages/ipykernel/ipkernel.py:283: DeprecationWarning: `should_run_async` will not call `transform_cell` automatically in the future. Please pass the result to `transformed_cell` argument and any exception that happen during thetransform in `preprocessing_exc_tuple` in IPython 7.17 and above.\n",
      "  and should_run_async(code)\n",
      "<ipython-input-41-00f6d1d42edf>:6: UserWarning: Pandas doesn't allow columns to be created via a new attribute name - see https://pandas.pydata.org/pandas-docs/stable/indexing.html#attribute-access\n",
      "  artist_df.lyrics1 = [wd for wd in artist_df.lyrics]\n"
     ]
    }
   ],
   "source": [
    "from gensim.test.utils import datapath\n",
    "from gensim.models.word2vec import Text8Corpus\n",
    "from gensim.models.phrases import Phrases, Phraser\n",
    "\n",
    "#sentences = Text8Corpus(datapath('testcorpus.txt'))\n",
    "artist_df.lyrics1 = [wd for wd in artist_df.lyrics]\n",
    "\n",
    "# Build the bigram models\n",
    "bigram = gensim.models.phrases.Phrases(artist_df.lyrics1, min_count=3, threshold=10)\n",
    "\n",
    "# Construct bigram\n",
    "print(bigram[artist_df.lyrics[0]])"
   ]
  },
  {
   "cell_type": "markdown",
   "id": "cloudy-france",
   "metadata": {},
   "source": [
    "# Wordcloud"
   ]
  },
  {
   "cell_type": "code",
   "execution_count": 42,
   "id": "played-stand",
   "metadata": {},
   "outputs": [
    {
     "name": "stderr",
     "output_type": "stream",
     "text": [
      "/Library/Frameworks/Python.framework/Versions/3.9/lib/python3.9/site-packages/ipykernel/ipkernel.py:283: DeprecationWarning: `should_run_async` will not call `transform_cell` automatically in the future. Please pass the result to `transformed_cell` argument and any exception that happen during thetransform in `preprocessing_exc_tuple` in IPython 7.17 and above.\n",
      "  and should_run_async(code)\n",
      "/Library/Frameworks/Python.framework/Versions/3.9/lib/python3.9/site-packages/pandas/core/generic.py:5494: SettingWithCopyWarning: \n",
      "A value is trying to be set on a copy of a slice from a DataFrame.\n",
      "Try using .loc[row_indexer,col_indexer] = value instead\n",
      "\n",
      "See the caveats in the documentation: https://pandas.pydata.org/pandas-docs/stable/user_guide/indexing.html#returning-a-view-versus-a-copy\n",
      "  self[name] = value\n"
     ]
    }
   ],
   "source": [
    "artist_df.lyrics = artist_df.lyrics.apply(lambda x: \" \".join(x))"
   ]
  },
  {
   "cell_type": "code",
   "execution_count": 43,
   "id": "welsh-organization",
   "metadata": {},
   "outputs": [
    {
     "name": "stderr",
     "output_type": "stream",
     "text": [
      "/Library/Frameworks/Python.framework/Versions/3.9/lib/python3.9/site-packages/ipykernel/ipkernel.py:283: DeprecationWarning: `should_run_async` will not call `transform_cell` automatically in the future. Please pass the result to `transformed_cell` argument and any exception that happen during thetransform in `preprocessing_exc_tuple` in IPython 7.17 and above.\n",
      "  and should_run_async(code)\n"
     ]
    },
    {
     "data": {
      "text/html": [
       "<div>\n",
       "<style scoped>\n",
       "    .dataframe tbody tr th:only-of-type {\n",
       "        vertical-align: middle;\n",
       "    }\n",
       "\n",
       "    .dataframe tbody tr th {\n",
       "        vertical-align: top;\n",
       "    }\n",
       "\n",
       "    .dataframe thead th {\n",
       "        text-align: right;\n",
       "    }\n",
       "</style>\n",
       "<table border=\"1\" class=\"dataframe\">\n",
       "  <thead>\n",
       "    <tr style=\"text-align: right;\">\n",
       "      <th></th>\n",
       "      <th>full_title</th>\n",
       "      <th>title</th>\n",
       "      <th>artist</th>\n",
       "      <th>lyrics</th>\n",
       "      <th>featured_artists</th>\n",
       "      <th>release_date</th>\n",
       "    </tr>\n",
       "  </thead>\n",
       "  <tbody>\n",
       "    <tr>\n",
       "      <th>0</th>\n",
       "      <td>​when the party's over by Billie Eilish</td>\n",
       "      <td>​when the party’s over</td>\n",
       "      <td>Billie Eilish</td>\n",
       "      <td>good learn lose afford tore shirt stop bleedin...</td>\n",
       "      <td>[]</td>\n",
       "      <td>2018-10-17</td>\n",
       "    </tr>\n",
       "    <tr>\n",
       "      <th>1</th>\n",
       "      <td>​everything i wanted by Billie Eilish</td>\n",
       "      <td>​everything i wanted</td>\n",
       "      <td>Billie Eilish</td>\n",
       "      <td>dream everything want think honest might night...</td>\n",
       "      <td>[]</td>\n",
       "      <td>2019-11-13</td>\n",
       "    </tr>\n",
       "    <tr>\n",
       "      <th>2</th>\n",
       "      <td>​bad guy by Billie Eilish</td>\n",
       "      <td>​bad guy</td>\n",
       "      <td>Billie Eilish</td>\n",
       "      <td>white shirt red bloody nose sleepin tippy toe ...</td>\n",
       "      <td>[]</td>\n",
       "      <td>2019-03-29</td>\n",
       "    </tr>\n",
       "    <tr>\n",
       "      <th>3</th>\n",
       "      <td>​idontwannabeyouanymore by Billie Eilish</td>\n",
       "      <td>​idontwannabeyouanymore</td>\n",
       "      <td>Billie Eilish</td>\n",
       "      <td>way fall apart twice wish could feel show neve...</td>\n",
       "      <td>[]</td>\n",
       "      <td>2017-07-21</td>\n",
       "    </tr>\n",
       "    <tr>\n",
       "      <th>4</th>\n",
       "      <td>​bury a friend by Billie Eilish</td>\n",
       "      <td>​bury a friend</td>\n",
       "      <td>Billie Eilish</td>\n",
       "      <td>billie want run wonder scar care fall asleep g...</td>\n",
       "      <td>[]</td>\n",
       "      <td>2019-01-30</td>\n",
       "    </tr>\n",
       "  </tbody>\n",
       "</table>\n",
       "</div>"
      ],
      "text/plain": [
       "                                 full_title                    title  \\\n",
       "0   ​when the party's over by Billie Eilish   ​when the party’s over   \n",
       "1     ​everything i wanted by Billie Eilish     ​everything i wanted   \n",
       "2                 ​bad guy by Billie Eilish                 ​bad guy   \n",
       "3  ​idontwannabeyouanymore by Billie Eilish  ​idontwannabeyouanymore   \n",
       "4           ​bury a friend by Billie Eilish           ​bury a friend   \n",
       "\n",
       "          artist                                             lyrics  \\\n",
       "0  Billie Eilish  good learn lose afford tore shirt stop bleedin...   \n",
       "1  Billie Eilish  dream everything want think honest might night...   \n",
       "2  Billie Eilish  white shirt red bloody nose sleepin tippy toe ...   \n",
       "3  Billie Eilish  way fall apart twice wish could feel show neve...   \n",
       "4  Billie Eilish  billie want run wonder scar care fall asleep g...   \n",
       "\n",
       "  featured_artists release_date  \n",
       "0               []   2018-10-17  \n",
       "1               []   2019-11-13  \n",
       "2               []   2019-03-29  \n",
       "3               []   2017-07-21  \n",
       "4               []   2019-01-30  "
      ]
     },
     "execution_count": 43,
     "metadata": {},
     "output_type": "execute_result"
    }
   ],
   "source": [
    "artist_df.head()"
   ]
  },
  {
   "cell_type": "code",
   "execution_count": 44,
   "id": "living-government",
   "metadata": {},
   "outputs": [
    {
     "name": "stderr",
     "output_type": "stream",
     "text": [
      "/Library/Frameworks/Python.framework/Versions/3.9/lib/python3.9/site-packages/ipykernel/ipkernel.py:283: DeprecationWarning: `should_run_async` will not call `transform_cell` automatically in the future. Please pass the result to `transformed_cell` argument and any exception that happen during thetransform in `preprocessing_exc_tuple` in IPython 7.17 and above.\n",
      "  and should_run_async(code)\n"
     ]
    }
   ],
   "source": [
    "# Create an object that converts strings into a sparse matrix\n",
    "from sklearn.feature_extraction.text import CountVectorizer\n",
    "\n",
    "vectorizer = CountVectorizer(max_features= 20000 , min_df=0.01, ngram_range= (1,1))\n",
    "\n",
    "# Convert the text column to a sparse matrix\n",
    "\n",
    "data_dtm = vectorizer.fit_transform(artist_df.lyrics)"
   ]
  },
  {
   "cell_type": "code",
   "execution_count": 45,
   "id": "soviet-executive",
   "metadata": {},
   "outputs": [
    {
     "name": "stderr",
     "output_type": "stream",
     "text": [
      "/Library/Frameworks/Python.framework/Versions/3.9/lib/python3.9/site-packages/ipykernel/ipkernel.py:283: DeprecationWarning: `should_run_async` will not call `transform_cell` automatically in the future. Please pass the result to `transformed_cell` argument and any exception that happen during thetransform in `preprocessing_exc_tuple` in IPython 7.17 and above.\n",
      "  and should_run_async(code)\n"
     ]
    }
   ],
   "source": [
    "# Create a dataframe of terms and frequencies\n",
    "# Get the frequency of each term\n",
    "\n",
    "term_frequencies = data_dtm.sum(axis=0)\n",
    "\n",
    "# Match frequencies to terms\n",
    "\n",
    "frequent_terms = [(word, term_frequencies[0, id]) for word, id in vectorizer.vocabulary_.items()]\n",
    "\n",
    "# Convert the word-frequency pairings to a dataframe\n",
    "\n",
    "term_df = pd.DataFrame(columns=[\"term\",\"frequency\"], data=frequent_terms)\n",
    "\n",
    "# Sort the dataframe\n",
    "\n",
    "term_df.sort_values(by=\"frequency\", ascending=False, inplace=True)"
   ]
  },
  {
   "cell_type": "code",
   "execution_count": 46,
   "id": "mental-beatles",
   "metadata": {},
   "outputs": [
    {
     "name": "stderr",
     "output_type": "stream",
     "text": [
      "/Library/Frameworks/Python.framework/Versions/3.9/lib/python3.9/site-packages/ipykernel/ipkernel.py:283: DeprecationWarning: `should_run_async` will not call `transform_cell` automatically in the future. Please pass the result to `transformed_cell` argument and any exception that happen during thetransform in `preprocessing_exc_tuple` in IPython 7.17 and above.\n",
      "  and should_run_async(code)\n"
     ]
    },
    {
     "data": {
      "text/html": [
       "<div>\n",
       "<style scoped>\n",
       "    .dataframe tbody tr th:only-of-type {\n",
       "        vertical-align: middle;\n",
       "    }\n",
       "\n",
       "    .dataframe tbody tr th {\n",
       "        vertical-align: top;\n",
       "    }\n",
       "\n",
       "    .dataframe thead th {\n",
       "        text-align: right;\n",
       "    }\n",
       "</style>\n",
       "<table border=\"1\" class=\"dataframe\">\n",
       "  <thead>\n",
       "    <tr style=\"text-align: right;\">\n",
       "      <th></th>\n",
       "      <th>term</th>\n",
       "      <th>frequency</th>\n",
       "    </tr>\n",
       "  </thead>\n",
       "  <tbody>\n",
       "    <tr>\n",
       "      <th>32</th>\n",
       "      <td>want</td>\n",
       "      <td>280</td>\n",
       "    </tr>\n",
       "    <tr>\n",
       "      <th>222</th>\n",
       "      <td>eye</td>\n",
       "      <td>218</td>\n",
       "    </tr>\n",
       "    <tr>\n",
       "      <th>160</th>\n",
       "      <td>love</td>\n",
       "      <td>186</td>\n",
       "    </tr>\n",
       "    <tr>\n",
       "      <th>315</th>\n",
       "      <td>ocean</td>\n",
       "      <td>181</td>\n",
       "    </tr>\n",
       "    <tr>\n",
       "      <th>110</th>\n",
       "      <td>make</td>\n",
       "      <td>178</td>\n",
       "    </tr>\n",
       "    <tr>\n",
       "      <th>55</th>\n",
       "      <td>one</td>\n",
       "      <td>166</td>\n",
       "    </tr>\n",
       "    <tr>\n",
       "      <th>314</th>\n",
       "      <td>watch</td>\n",
       "      <td>147</td>\n",
       "    </tr>\n",
       "    <tr>\n",
       "      <th>29</th>\n",
       "      <td>go</td>\n",
       "      <td>139</td>\n",
       "    </tr>\n",
       "    <tr>\n",
       "      <th>146</th>\n",
       "      <td>never</td>\n",
       "      <td>137</td>\n",
       "    </tr>\n",
       "    <tr>\n",
       "      <th>233</th>\n",
       "      <td>give</td>\n",
       "      <td>136</td>\n",
       "    </tr>\n",
       "    <tr>\n",
       "      <th>81</th>\n",
       "      <td>would</td>\n",
       "      <td>135</td>\n",
       "    </tr>\n",
       "    <tr>\n",
       "      <th>33</th>\n",
       "      <td>think</td>\n",
       "      <td>123</td>\n",
       "    </tr>\n",
       "    <tr>\n",
       "      <th>53</th>\n",
       "      <td>see</td>\n",
       "      <td>120</td>\n",
       "    </tr>\n",
       "    <tr>\n",
       "      <th>14</th>\n",
       "      <td>could</td>\n",
       "      <td>109</td>\n",
       "    </tr>\n",
       "    <tr>\n",
       "      <th>141</th>\n",
       "      <td>fall</td>\n",
       "      <td>107</td>\n",
       "    </tr>\n",
       "    <tr>\n",
       "      <th>76</th>\n",
       "      <td>cause</td>\n",
       "      <td>104</td>\n",
       "    </tr>\n",
       "    <tr>\n",
       "      <th>24</th>\n",
       "      <td>back</td>\n",
       "      <td>103</td>\n",
       "    </tr>\n",
       "    <tr>\n",
       "      <th>19</th>\n",
       "      <td>let</td>\n",
       "      <td>100</td>\n",
       "    </tr>\n",
       "    <tr>\n",
       "      <th>71</th>\n",
       "      <td>feel</td>\n",
       "      <td>96</td>\n",
       "    </tr>\n",
       "    <tr>\n",
       "      <th>580</th>\n",
       "      <td>boy</td>\n",
       "      <td>91</td>\n",
       "    </tr>\n",
       "  </tbody>\n",
       "</table>\n",
       "</div>"
      ],
      "text/plain": [
       "      term  frequency\n",
       "32    want        280\n",
       "222    eye        218\n",
       "160   love        186\n",
       "315  ocean        181\n",
       "110   make        178\n",
       "55     one        166\n",
       "314  watch        147\n",
       "29      go        139\n",
       "146  never        137\n",
       "233   give        136\n",
       "81   would        135\n",
       "33   think        123\n",
       "53     see        120\n",
       "14   could        109\n",
       "141   fall        107\n",
       "76   cause        104\n",
       "24    back        103\n",
       "19     let        100\n",
       "71    feel         96\n",
       "580    boy         91"
      ]
     },
     "execution_count": 46,
     "metadata": {},
     "output_type": "execute_result"
    }
   ],
   "source": [
    "term_df.head(20)"
   ]
  },
  {
   "cell_type": "code",
   "execution_count": 47,
   "id": "rotary-repair",
   "metadata": {},
   "outputs": [
    {
     "name": "stderr",
     "output_type": "stream",
     "text": [
      "/Library/Frameworks/Python.framework/Versions/3.9/lib/python3.9/site-packages/ipykernel/ipkernel.py:283: DeprecationWarning: `should_run_async` will not call `transform_cell` automatically in the future. Please pass the result to `transformed_cell` argument and any exception that happen during thetransform in `preprocessing_exc_tuple` in IPython 7.17 and above.\n",
      "  and should_run_async(code)\n"
     ]
    },
    {
     "data": {
      "image/png": "[encoded data removed]",
      "text/plain": [
       "<Figure size 1440x720 with 1 Axes>"
      ]
     },
     "metadata": {
      "needs_background": "light"
     },
     "output_type": "display_data"
    }
   ],
   "source": [
    "# Create a dictionary of most frequent terms ((required for word clouds)\n",
    "\n",
    "term_dict = term_df.set_index('term')['frequency'].to_dict()\n",
    "\n",
    "# Create a wordcloud of most frequent terms\n",
    "\n",
    "wc = WordCloud(width=800, height=300, background_color=\"white\",\n",
    "               max_words=100)\n",
    "\n",
    "wc.generate_from_frequencies(term_dict)\n",
    "\n",
    "# Display the cloud\n",
    "\n",
    "plt.figure(figsize=(20, 10))\n",
    "plt.title(\"Word cloud for lyrics\", fontsize = 40, pad = 50 )\n",
    "plt.imshow(wc, interpolation=\"bilinear\")\n",
    "plt.axis(\"off\")\n",
    "plt.show()"
   ]
  },
  {
   "cell_type": "code",
   "execution_count": null,
   "id": "australian-earthquake",
   "metadata": {},
   "outputs": [],
   "source": []
  },
  {
   "cell_type": "code",
   "execution_count": null,
   "id": "about-shuttle",
   "metadata": {},
   "outputs": [],
   "source": []
  },
  {
   "cell_type": "markdown",
   "id": "national-senegal",
   "metadata": {},
   "source": [
    "# Sentiment"
   ]
  },
  {
   "cell_type": "code",
   "execution_count": 48,
   "id": "dense-foundation",
   "metadata": {},
   "outputs": [
    {
     "name": "stderr",
     "output_type": "stream",
     "text": [
      "/Library/Frameworks/Python.framework/Versions/3.9/lib/python3.9/site-packages/ipykernel/ipkernel.py:283: DeprecationWarning: `should_run_async` will not call `transform_cell` automatically in the future. Please pass the result to `transformed_cell` argument and any exception that happen during thetransform in `preprocessing_exc_tuple` in IPython 7.17 and above.\n",
      "  and should_run_async(code)\n",
      "<ipython-input-48-d312c35c4e1f>:2: SettingWithCopyWarning: \n",
      "A value is trying to be set on a copy of a slice from a DataFrame.\n",
      "Try using .loc[row_indexer,col_indexer] = value instead\n",
      "\n",
      "See the caveats in the documentation: https://pandas.pydata.org/pandas-docs/stable/user_guide/indexing.html#returning-a-view-versus-a-copy\n",
      "  artist_df[\"sentiment\"] = artist_df.lyrics.apply(lambda x: TextBlob(x).sentiment.polarity)\n"
     ]
    }
   ],
   "source": [
    "# Assign sentiment to each lyric\n",
    "artist_df[\"sentiment\"] = artist_df.lyrics.apply(lambda x: TextBlob(x).sentiment.polarity)"
   ]
  },
  {
   "cell_type": "code",
   "execution_count": 49,
   "id": "sealed-settle",
   "metadata": {},
   "outputs": [
    {
     "name": "stderr",
     "output_type": "stream",
     "text": [
      "/Library/Frameworks/Python.framework/Versions/3.9/lib/python3.9/site-packages/ipykernel/ipkernel.py:283: DeprecationWarning: `should_run_async` will not call `transform_cell` automatically in the future. Please pass the result to `transformed_cell` argument and any exception that happen during thetransform in `preprocessing_exc_tuple` in IPython 7.17 and above.\n",
      "  and should_run_async(code)\n"
     ]
    },
    {
     "data": {
      "text/html": [
       "<div>\n",
       "<style scoped>\n",
       "    .dataframe tbody tr th:only-of-type {\n",
       "        vertical-align: middle;\n",
       "    }\n",
       "\n",
       "    .dataframe tbody tr th {\n",
       "        vertical-align: top;\n",
       "    }\n",
       "\n",
       "    .dataframe thead th {\n",
       "        text-align: right;\n",
       "    }\n",
       "</style>\n",
       "<table border=\"1\" class=\"dataframe\">\n",
       "  <thead>\n",
       "    <tr style=\"text-align: right;\">\n",
       "      <th></th>\n",
       "      <th>full_title</th>\n",
       "      <th>title</th>\n",
       "      <th>artist</th>\n",
       "      <th>lyrics</th>\n",
       "      <th>featured_artists</th>\n",
       "      <th>release_date</th>\n",
       "      <th>sentiment</th>\n",
       "    </tr>\n",
       "  </thead>\n",
       "  <tbody>\n",
       "    <tr>\n",
       "      <th>128</th>\n",
       "      <td>Billie Bossa Nova pt 2 by Billie Eilish</td>\n",
       "      <td>Billie Bossa Nova pt 2</td>\n",
       "      <td>Billie Eilish</td>\n",
       "      <td>jk pranked idiot</td>\n",
       "      <td>[]</td>\n",
       "      <td>2021-05-12</td>\n",
       "      <td>-0.800000</td>\n",
       "    </tr>\n",
       "    <tr>\n",
       "      <th>66</th>\n",
       "      <td>Getting Older by Billie Eilish</td>\n",
       "      <td>Getting Older</td>\n",
       "      <td>Billie Eilish</td>\n",
       "      <td>decision abuse trauma thing want afraid tell y...</td>\n",
       "      <td>[]</td>\n",
       "      <td>2021-07-30</td>\n",
       "      <td>-0.600000</td>\n",
       "    </tr>\n",
       "    <tr>\n",
       "      <th>51</th>\n",
       "      <td>​daddy* by Billie Eilish (Ft. MadeinTYO)</td>\n",
       "      <td>​daddy*</td>\n",
       "      <td>Billie Eilish</td>\n",
       "      <td>make sad boy well look who sad ddy givenchy ki...</td>\n",
       "      <td>[{'api_path': '/artists/346237', 'header_image...</td>\n",
       "      <td>None</td>\n",
       "      <td>-0.500000</td>\n",
       "    </tr>\n",
       "    <tr>\n",
       "      <th>84</th>\n",
       "      <td>Stoned by Billie Eilish</td>\n",
       "      <td>Stoned</td>\n",
       "      <td>Billie Eilish</td>\n",
       "      <td>want nce little girl shadow see thing hid burn...</td>\n",
       "      <td>[]</td>\n",
       "      <td>None</td>\n",
       "      <td>-0.393750</td>\n",
       "    </tr>\n",
       "    <tr>\n",
       "      <th>2</th>\n",
       "      <td>​bad guy by Billie Eilish</td>\n",
       "      <td>​bad guy</td>\n",
       "      <td>Billie Eilish</td>\n",
       "      <td>white shirt red bloody nose sleepin tippy toe ...</td>\n",
       "      <td>[]</td>\n",
       "      <td>2019-03-29</td>\n",
       "      <td>-0.368061</td>\n",
       "    </tr>\n",
       "    <tr>\n",
       "      <th>131</th>\n",
       "      <td>Bad guy (Topic Remix) by Billie Eilish (Ft. To...</td>\n",
       "      <td>Bad guy (Topic Remix)</td>\n",
       "      <td>Billie Eilish</td>\n",
       "      <td>white shirt red bloody nose sleepin tippy toe ...</td>\n",
       "      <td>[{'api_path': '/artists/18954', 'header_image_...</td>\n",
       "      <td>None</td>\n",
       "      <td>-0.368061</td>\n",
       "    </tr>\n",
       "    <tr>\n",
       "      <th>75</th>\n",
       "      <td>​bad guy (Demo) by Billie Eilish</td>\n",
       "      <td>​bad guy (Demo)</td>\n",
       "      <td>Billie Eilish</td>\n",
       "      <td>white shirt red bloody nose sleepin tippy toe ...</td>\n",
       "      <td>[]</td>\n",
       "      <td>None</td>\n",
       "      <td>-0.363478</td>\n",
       "    </tr>\n",
       "    <tr>\n",
       "      <th>142</th>\n",
       "      <td>​bad guy (Live at Third Man Records) by Billie...</td>\n",
       "      <td>​bad guy (Live at Third Man Records)</td>\n",
       "      <td>Billie Eilish</td>\n",
       "      <td>must song white shirt red bloody nose sleepin ...</td>\n",
       "      <td>[]</td>\n",
       "      <td>2019-12-06</td>\n",
       "      <td>-0.314874</td>\n",
       "    </tr>\n",
       "    <tr>\n",
       "      <th>65</th>\n",
       "      <td>COPYCAT (Sofi Tukker Remix) by Billie Eilish</td>\n",
       "      <td>COPYCAT (Sofi Tukker Remix)</td>\n",
       "      <td>Billie Eilish</td>\n",
       "      <td>copycat try cop manner watch back watch mine c...</td>\n",
       "      <td>[]</td>\n",
       "      <td>2018-01-12</td>\n",
       "      <td>-0.252381</td>\n",
       "    </tr>\n",
       "    <tr>\n",
       "      <th>44</th>\n",
       "      <td>​another stupid song* by Billie Eilish</td>\n",
       "      <td>​another stupid song*</td>\n",
       "      <td>Billie Eilish</td>\n",
       "      <td>miss oh well never even kiss without countdown...</td>\n",
       "      <td>[]</td>\n",
       "      <td>None</td>\n",
       "      <td>-0.245455</td>\n",
       "    </tr>\n",
       "  </tbody>\n",
       "</table>\n",
       "</div>"
      ],
      "text/plain": [
       "                                            full_title  \\\n",
       "128            Billie Bossa Nova pt 2 by Billie Eilish   \n",
       "66                      Getting Older by Billie Eilish   \n",
       "51            ​daddy* by Billie Eilish (Ft. MadeinTYO)   \n",
       "84                             Stoned by Billie Eilish   \n",
       "2                            ​bad guy by Billie Eilish   \n",
       "131  Bad guy (Topic Remix) by Billie Eilish (Ft. To...   \n",
       "75                    ​bad guy (Demo) by Billie Eilish   \n",
       "142  ​bad guy (Live at Third Man Records) by Billie...   \n",
       "65        COPYCAT (Sofi Tukker Remix) by Billie Eilish   \n",
       "44              ​another stupid song* by Billie Eilish   \n",
       "\n",
       "                                    title         artist  \\\n",
       "128                Billie Bossa Nova pt 2  Billie Eilish   \n",
       "66                          Getting Older  Billie Eilish   \n",
       "51                                ​daddy*  Billie Eilish   \n",
       "84                                 Stoned  Billie Eilish   \n",
       "2                                ​bad guy  Billie Eilish   \n",
       "131                 Bad guy (Topic Remix)  Billie Eilish   \n",
       "75                        ​bad guy (Demo)  Billie Eilish   \n",
       "142  ​bad guy (Live at Third Man Records)  Billie Eilish   \n",
       "65            COPYCAT (Sofi Tukker Remix)  Billie Eilish   \n",
       "44                  ​another stupid song*  Billie Eilish   \n",
       "\n",
       "                                                lyrics  \\\n",
       "128                                   jk pranked idiot   \n",
       "66   decision abuse trauma thing want afraid tell y...   \n",
       "51   make sad boy well look who sad ddy givenchy ki...   \n",
       "84   want nce little girl shadow see thing hid burn...   \n",
       "2    white shirt red bloody nose sleepin tippy toe ...   \n",
       "131  white shirt red bloody nose sleepin tippy toe ...   \n",
       "75   white shirt red bloody nose sleepin tippy toe ...   \n",
       "142  must song white shirt red bloody nose sleepin ...   \n",
       "65   copycat try cop manner watch back watch mine c...   \n",
       "44   miss oh well never even kiss without countdown...   \n",
       "\n",
       "                                      featured_artists release_date  sentiment  \n",
       "128                                                 []   2021-05-12  -0.800000  \n",
       "66                                                  []   2021-07-30  -0.600000  \n",
       "51   [{'api_path': '/artists/346237', 'header_image...         None  -0.500000  \n",
       "84                                                  []         None  -0.393750  \n",
       "2                                                   []   2019-03-29  -0.368061  \n",
       "131  [{'api_path': '/artists/18954', 'header_image_...         None  -0.368061  \n",
       "75                                                  []         None  -0.363478  \n",
       "142                                                 []   2019-12-06  -0.314874  \n",
       "65                                                  []   2018-01-12  -0.252381  \n",
       "44                                                  []         None  -0.245455  "
      ]
     },
     "execution_count": 49,
     "metadata": {},
     "output_type": "execute_result"
    }
   ],
   "source": [
    "artist_df.sort_values(by=\"sentiment\", ascending=True).head(10)"
   ]
  },
  {
   "cell_type": "code",
   "execution_count": 50,
   "id": "imperial-editing",
   "metadata": {},
   "outputs": [
    {
     "name": "stderr",
     "output_type": "stream",
     "text": [
      "/Library/Frameworks/Python.framework/Versions/3.9/lib/python3.9/site-packages/ipykernel/ipkernel.py:283: DeprecationWarning: `should_run_async` will not call `transform_cell` automatically in the future. Please pass the result to `transformed_cell` argument and any exception that happen during thetransform in `preprocessing_exc_tuple` in IPython 7.17 and above.\n",
      "  and should_run_async(code)\n"
     ]
    },
    {
     "data": {
      "text/html": [
       "<div>\n",
       "<style scoped>\n",
       "    .dataframe tbody tr th:only-of-type {\n",
       "        vertical-align: middle;\n",
       "    }\n",
       "\n",
       "    .dataframe tbody tr th {\n",
       "        vertical-align: top;\n",
       "    }\n",
       "\n",
       "    .dataframe thead th {\n",
       "        text-align: right;\n",
       "    }\n",
       "</style>\n",
       "<table border=\"1\" class=\"dataframe\">\n",
       "  <thead>\n",
       "    <tr style=\"text-align: right;\">\n",
       "      <th></th>\n",
       "      <th>sentiment</th>\n",
       "    </tr>\n",
       "  </thead>\n",
       "  <tbody>\n",
       "    <tr>\n",
       "      <th>count</th>\n",
       "      <td>153.000000</td>\n",
       "    </tr>\n",
       "    <tr>\n",
       "      <th>mean</th>\n",
       "      <td>0.085237</td>\n",
       "    </tr>\n",
       "    <tr>\n",
       "      <th>std</th>\n",
       "      <td>0.235495</td>\n",
       "    </tr>\n",
       "    <tr>\n",
       "      <th>min</th>\n",
       "      <td>-0.800000</td>\n",
       "    </tr>\n",
       "    <tr>\n",
       "      <th>25%</th>\n",
       "      <td>-0.046429</td>\n",
       "    </tr>\n",
       "    <tr>\n",
       "      <th>50%</th>\n",
       "      <td>0.100000</td>\n",
       "    </tr>\n",
       "    <tr>\n",
       "      <th>75%</th>\n",
       "      <td>0.224167</td>\n",
       "    </tr>\n",
       "    <tr>\n",
       "      <th>max</th>\n",
       "      <td>0.700000</td>\n",
       "    </tr>\n",
       "  </tbody>\n",
       "</table>\n",
       "</div>"
      ],
      "text/plain": [
       "        sentiment\n",
       "count  153.000000\n",
       "mean     0.085237\n",
       "std      0.235495\n",
       "min     -0.800000\n",
       "25%     -0.046429\n",
       "50%      0.100000\n",
       "75%      0.224167\n",
       "max      0.700000"
      ]
     },
     "execution_count": 50,
     "metadata": {},
     "output_type": "execute_result"
    }
   ],
   "source": [
    "artist_df.describe()"
   ]
  },
  {
   "cell_type": "code",
   "execution_count": 51,
   "id": "fleet-uncle",
   "metadata": {
    "scrolled": true
   },
   "outputs": [
    {
     "name": "stderr",
     "output_type": "stream",
     "text": [
      "/Library/Frameworks/Python.framework/Versions/3.9/lib/python3.9/site-packages/ipykernel/ipkernel.py:283: DeprecationWarning: `should_run_async` will not call `transform_cell` automatically in the future. Please pass the result to `transformed_cell` argument and any exception that happen during thetransform in `preprocessing_exc_tuple` in IPython 7.17 and above.\n",
      "  and should_run_async(code)\n",
      "<ipython-input-51-20a3b369a7a7>:1: SettingWithCopyWarning: \n",
      "A value is trying to be set on a copy of a slice from a DataFrame.\n",
      "Try using .loc[row_indexer,col_indexer] = value instead\n",
      "\n",
      "See the caveats in the documentation: https://pandas.pydata.org/pandas-docs/stable/user_guide/indexing.html#returning-a-view-versus-a-copy\n",
      "  artist_df['Datetime'] = pd.to_datetime(df['release_date'], format=\"%Y/%m/%d\")\n"
     ]
    }
   ],
   "source": [
    "artist_df['Datetime'] = pd.to_datetime(df['release_date'], format=\"%Y/%m/%d\")\n",
    "artist_df = artist_df.sort_values(by = \"Datetime\")"
   ]
  },
  {
   "cell_type": "code",
   "execution_count": 52,
   "id": "french-increase",
   "metadata": {},
   "outputs": [
    {
     "name": "stderr",
     "output_type": "stream",
     "text": [
      "/Library/Frameworks/Python.framework/Versions/3.9/lib/python3.9/site-packages/ipykernel/ipkernel.py:283: DeprecationWarning: `should_run_async` will not call `transform_cell` automatically in the future. Please pass the result to `transformed_cell` argument and any exception that happen during thetransform in `preprocessing_exc_tuple` in IPython 7.17 and above.\n",
      "  and should_run_async(code)\n"
     ]
    },
    {
     "data": {
      "image/png": "[encoded data removed]",
      "text/plain": [
       "<Figure size 1080x360 with 1 Axes>"
      ]
     },
     "metadata": {
      "needs_background": "light"
     },
     "output_type": "display_data"
    }
   ],
   "source": [
    "plt = artist_df.plot(x = 'release_date', y = 'sentiment', figsize=(15, 5))"
   ]
  },
  {
   "cell_type": "code",
   "execution_count": null,
   "id": "minor-strand",
   "metadata": {},
   "outputs": [],
   "source": []
  },
  {
   "cell_type": "code",
   "execution_count": null,
   "id": "reasonable-mason",
   "metadata": {},
   "outputs": [],
   "source": []
  }
 ],
 "metadata": {
  "kernelspec": {
   "display_name": "Python 3",
   "language": "python",
   "name": "python3"
  },
  "language_info": {
   "codemirror_mode": {
    "name": "ipython",
    "version": 3
   },
   "file_extension": ".py",
   "mimetype": "text/x-python",
   "name": "python",
   "nbconvert_exporter": "python",
   "pygments_lexer": "ipython3",
   "version": "3.9.1"
  }
 },
 "nbformat": 4,
 "nbformat_minor": 5
}
