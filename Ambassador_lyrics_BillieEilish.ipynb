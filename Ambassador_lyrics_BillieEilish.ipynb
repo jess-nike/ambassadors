{
 "cells": [
  {
   "cell_type": "code",
   "execution_count": 1,
   "id": "attractive-alias",
   "metadata": {
    "scrolled": true
   },
   "outputs": [],
   "source": [
    "#Copy the code and change the name for other artists\n",
    "artist_name = \"Billie Eilish\""
   ]
  },
  {
   "cell_type": "code",
   "execution_count": 2,
   "id": "chemical-pride",
   "metadata": {},
   "outputs": [],
   "source": [
    "import pandas as pd\n",
    "import codecs\n",
    "import json\n",
    "from pandas.io.json import json_normalize\n",
    "import re"
   ]
  },
  {
   "cell_type": "code",
   "execution_count": 3,
   "id": "simplified-sequence",
   "metadata": {},
   "outputs": [],
   "source": [
    "#Machine learning libraries for Text analysis\n",
    "import nltk  # machine learning with text\n",
    "from nltk import download as nltk_download\n",
    "from nltk.corpus import stopwords, wordnet  # List of common words\n",
    "from nltk.tokenize import word_tokenize  # Split text into significant forms\n",
    "from nltk.stem import WordNetLemmatizer  # Reduce words to their root form\n",
    "from nltk import pos_tag  # Tag words with parts of speech\n",
    "from collections import defaultdict, Counter  # Dictionaries that have a backup value\n",
    "from sklearn.feature_extraction.text import CountVectorizer  # Convert text to sparse matrices\n",
    "from textblob import TextBlob  # Sentiment analysis\n",
    "from gensim.models.ldamodel import LdaModel  # Topic extraction\n",
    "from gensim.models.phrases import Phrases, ENGLISH_CONNECTOR_WORDS  # ngrams\n",
    "from gensim.models.phrases import Phraser  # ngrams\n",
    "from gensim import corpora, models, similarities  # Vectorization\n",
    "import pyLDAvis\n",
    "from wordcloud import WordCloud  # Create wordclouds\n",
    "import matplotlib.pylab as plt"
   ]
  },
  {
   "cell_type": "code",
   "execution_count": null,
   "id": "deluxe-understanding",
   "metadata": {},
   "outputs": [],
   "source": []
  },
  {
   "cell_type": "markdown",
   "id": "editorial-buddy",
   "metadata": {},
   "source": [
    "# Run next 2 cells only if you want to pull data from Genius"
   ]
  },
  {
   "cell_type": "code",
   "execution_count": 4,
   "id": "framed-testament",
   "metadata": {},
   "outputs": [
    {
     "name": "stderr",
     "output_type": "stream",
     "text": [
      "/Library/Frameworks/Python.framework/Versions/3.9/lib/python3.9/site-packages/ipykernel/ipkernel.py:283: DeprecationWarning: `should_run_async` will not call `transform_cell` automatically in the future. Please pass the result to `transformed_cell` argument and any exception that happen during thetransform in `preprocessing_exc_tuple` in IPython 7.17 and above.\n",
      "  and should_run_async(code)\n"
     ]
    },
    {
     "name": "stdout",
     "output_type": "stream",
     "text": [
      "Searching for songs by Billie Eilish...\n",
      "\n",
      "Song 1: \"​when the party’s over\"\n",
      "Song 2: \"​everything i wanted\"\n",
      "Song 3: \"​bad guy\"\n",
      "Song 4: \"​idontwannabeyouanymore\"\n",
      "Song 5: \"​bury a friend\"\n",
      "Song 6: \"​i love you\"\n",
      "Song 7: \"​wish you were gay\"\n",
      "Song 8: \"Your Power\"\n",
      "Song 9: \"No Time To Die\"\n",
      "Song 10: \"​​ocean eyes\"\n",
      "Song 11: \"Therefore I Am\"\n",
      "Song 12: \"​my future\"\n",
      "Song 13: \"​bellyache\"\n",
      "Song 14: \"​you should see me in a crown\"\n",
      "Song 15: \"​xanny\"\n",
      "Song 16: \"​all the good girls go to hell\"\n",
      "Song 17: \"​ilomilo\"\n",
      "Song 18: \"COPYCAT\"\n",
      "Song 19: \"​my strange addiction\"\n",
      "Song 20: \"​listen before i go\"\n",
      "Song 21: \"​watch\"\n",
      "Song 22: \"​hostage\"\n",
      "Song 23: \"​my boy\"\n",
      "Song 24: \"Six Feet Under\"\n",
      "Song 25: \"8\"\n",
      "Song 26: \"​bitches broken hearts\"\n",
      "Song 27: \"​​come out and play\"\n",
      "Song 28: \"Bored\"\n",
      "Song 29: \"​​party favor\"\n",
      "Song 30: \"6.18.18*\"\n",
      "Song 31: \"​goodbye\"\n",
      "Song 32: \"The End of the World\"\n",
      "Song 33: \"​ocean eyes (blackbear Remix)\"\n",
      "Song 34: \"WHEN I WAS OLDER\"\n",
      "Song 35: \"Lost Cause\"\n",
      "Song 36: \"!!!!!!!\"\n",
      "Song 37: \"​ocean eyes (Astronomyy Remix)\"\n",
      "Song 38: \"Happier Than Ever\"\n",
      "Song 39: \"​sHE’s brOKen\"\n",
      "Song 40: \"Fingers Crossed\"\n",
      "Song 41: \"​limbo*\"\n",
      "Song 42: \"Not My Responsibility\"\n",
      "Song 43: \"​hotline bling\"\n",
      "Song 44: \"​see-through\"\n",
      "Song 45: \"​another stupid song*\"\n",
      "Song 46: \"​true blue*\"\n",
      "Song 47: \"​because i’m in love with you*\"\n",
      "Song 48: \"Bad\"\n",
      "Song 49: \"​bad company\"\n",
      "Song 50: \"Eres Tú\"\n",
      "Song 51: \"​call me back\"\n",
      "Song 52: \"​daddy*\"\n",
      "Song 53: \"​i don’t know, i just wish i wasn’t ​breathing\"\n",
      "Song 54: \"The Hill\"\n",
      "Song 55: \"Sex (Cover)\"\n",
      "Song 56: \"​bellyache (Marian Hill Remix)\"\n",
      "Song 57: \"​use me*\"\n",
      "Song 58: \"​dancing on my own\"\n",
      "Song 59: \"Billie Bossa Nova\"\n",
      "Song 60: \"​​my boy (TroyBoi Remix)\"\n",
      "Song 61: \"​you don’t get me high anymore\"\n",
      "\"NDA\" is not valid. Skipping.\n",
      "Song 62: \"Oxytocin\"\n",
      "\"Male Fantasy\" is not valid. Skipping.\n",
      "Song 63: \"Unreleased Songs [Discography List]\"\n",
      "Song 64: \"​good*\"\n",
      "Song 65: \"Thinkin Bout You (Cover)\"\n",
      "Song 66: \"COPYCAT (Sofi Tukker Remix)\"\n",
      "Song 67: \"Getting Older\"\n",
      "Song 68: \"​if you want me\"\n",
      "\"GOLDWING\" is not valid. Skipping.\n",
      "Song 69: \"​underneath*\"\n",
      "\"Everybody Dies\" is not valid. Skipping.\n",
      "Song 70: \"‌bellyache (Live)\"\n",
      "Song 71: \"​guess*\"\n",
      "Song 72: \"Cant Help Falling In Love\"\n",
      "Song 73: \"Telegraph Ave\"\n",
      "\"Winner\" is not valid. Skipping.\n",
      "Song 74: \"Yesterday (Live at the 92nd Academy Awards)\"\n",
      "Song 75: \"Shady*\"\n",
      "Song 76: \"​bad guy (Demo)\"\n",
      "\"I Didn’t Change My Number\" is not valid. Skipping.\n",
      "Song 77: \"Secret\"\n",
      "Song 78: \"​party favor (Mahogany Sessions)\"\n",
      "Song 79: \"‌watch (Live)\"\n",
      "Song 80: \"Six Feet Under (BLU J Remix)\"\n",
      "Song 81: \"Vertigo\"\n",
      "\"‎let me know\" is not valid. Skipping.\n",
      "\"Halley’s Comet\" is not valid. Skipping.\n",
      "Song 82: \"​ocean eyes (GOLDHOUSE Remix)\"\n",
      "\"​born blue\" is not valid. Skipping.\n",
      "Song 83: \"‌ocean eyes (Live)\"\n",
      "Song 84: \"Six Feet Under (Jerry Folk Remix)\"\n",
      "Song 85: \"Stoned\"\n",
      "Song 86: \"How do you see me?*\"\n",
      "\"OverHeated\" is not valid. Skipping.\n",
      "Song 87: \"​ilomilo (Live from the Film - Billie Eilish: The World’s a Little Blurry)\"\n",
      "Song 88: \"​ocean eyes (Cautious Clay Remix)\"\n",
      "Song 89: \"Bury a friend (Zeds Dead Remix)\"\n",
      "Song 90: \"My boy (Debut / Demo Version)\"\n",
      "Song 91: \"Bellyache (DEVAULT Remix)\"\n",
      "Song 92: \"​bury a friend (Elijah Hill Remix)\"\n",
      "Song 93: \"Six Feet Under (Gazzo Remix)\"\n",
      "Song 94: \"COPYCAT (Live from The Hi Hat)\"\n",
      "Song 95: \"&burn[MacAttack remix}\"\n",
      "Song 96: \"Six Feet Under (Aire Atlantica Remix)\"\n",
      "Song 97: \"Hotline Bling (Flyboy Remix)\"\n",
      "Song 98: \"​idontwannabeyouanymore (Elijah Hill Remix)\"\n",
      "Song 99: \"What a wonderful life\"\n",
      "Song 100: \"​watch (Xie Remix)\"\n",
      "Song 101: \"​sHE’S brOKen (SUNNY & BARE Remix)\"\n",
      "Song 102: \"Hostage (sonn Remix)\"\n",
      "Song 103: \"Bored (Yamill Remix)\"\n",
      "Song 104: \"​when the party’s over (SAYA Remix)\"\n",
      "Song 105: \"​listen before i go (live)\"\n",
      "Song 106: \"​come out and play (live)\"\n",
      "Song 107: \"Something (The Beatles Cover)\"\n",
      "Song 108: \"​hostage (AKAY Remix)\"\n",
      "Song 109: \"Bitches broken hearts[killer frost remix]\"\n",
      "Song 110: \"Ocean Eyes (Jengi Beats Remix)\"\n",
      "Song 111: \"Ocean Eyes (AC3 Remix)\"\n",
      "Song 112: \"Lie (Cover by Billie Eilish)\"\n",
      "Song 113: \"Paparazzi Instagram Monologue\"\n",
      "Song 114: \"I hate myself\"\n",
      "Song 115: \"Ocean Eyes (vowl. remix)\"\n",
      "Song 116: \"Ocean Eyes (Young Bombs Remix)\"\n",
      "Song 117: \"Wish you were gay (Demo)\"\n",
      "Song 118: \"Six Feet Under (Hazey Eyes Remix)\"\n",
      "Song 119: \"Everything I Wanted (Aquadrop Remix)\"\n",
      "Song 120: \"Six Feet Under (Ninski & Mickey Valen Remix)\"\n",
      "Song 121: \"You should see me in a crown (IIZI Remix)\"\n",
      "Song 122: \"Watch (Cole Jackson Remix)\"\n",
      "Song 123: \"Six Feet Under (Módl Remix)\"\n",
      "Song 124: \"Young dumb and broke (cover)\"\n",
      "Song 125: \"Bored{killer frostremix)\"\n",
      "Song 126: \"​all the good girls go to hell (Live at Third Man Records)\"\n",
      "Song 127: \"COPYCAT[live in London]\"\n",
      "Couldn't find the lyrics section. Please report this if the song has lyrics.\n",
      "Song URL: https://genius.com/Vitamin-string-quartet-bad-guy-lyrics\n",
      "Song 128: \"Ocean Eyes[Live In The Lounge]\"\n",
      "Song 129: \"Billie Bossa Nova pt 2\"\n",
      "Song 130: \"You should see me in a crown[live from Ellen]\"\n",
      "Song 131: \"Bury a friend[Harel Atias remix]\"\n",
      "Song 132: \"Bad guy (Topic Remix)\"\n",
      "Song 133: \"Ocean eyes (Naderi Remix)\"\n",
      "\"Where Do We Go? World Tour Setlist\" is not valid. Skipping.\n",
      "Song 134: \"Hostage[aporia remix]\"\n",
      "Song 135: \"You should see me in a crown[killer frost remix]\"\n",
      "Song 136: \"COPYCAT[itsyo_boiiii remix]\"\n",
      "Song 137: \"​i love you (Live at Third Man Records)\"\n",
      "Song 138: \"​ocean eyes (Live at Third Man Records)\"\n",
      "Song 139: \"Party favor[ityo_boiiii remix\"\n",
      "Song 140: \"COPYCAT[Osheaga live]\"\n",
      "Song 141: \"​come out and play (Live at Third Man Records)\"\n",
      "Song 142: \"​idontwannabeyouanymore (Live at Third Man Records)\"\n",
      "Song 143: \"​bad guy (Live at Third Man Records)\"\n",
      "Song 144: \"COPYCAT (Live at Third Man Records)\"\n",
      "Song 145: \"Hostage[killer frost remix]\"\n",
      "Song 146: \"​bellyache (Live at Third Man Records)\"\n",
      "Song 147: \"Six Feet Under[killer frost remix]\"\n",
      "Song 148: \"​when the party’s over (Live at Third Man Records)\"\n",
      "Song 149: \"​bury a friend (Live at Third Man Records)\"\n",
      "Song 150: \"Happier Than Ever, The World Tour Dates\"\n",
      "Song 151: \"Lost Cause ( Terry Kingsley Remix )\"\n",
      "Couldn't find the lyrics section. Please report this if the song has lyrics.\n",
      "Song URL: https://genius.com/Medieval-bops-bad-guy-lyrics\n",
      "Song 152: \"Therefore A Am\"\n",
      "Song 153: \"Six Feet Under1\"\n",
      "Done. Found 153 songs.\n"
     ]
    }
   ],
   "source": [
    "from lyricsgenius import Genius\n",
    "\n",
    "genius = Genius('JOSfSO0Cn0Y3avlw_ItRLdmwFj3s-36fjS-POUolMGFiWkUiE_zHXfQZVsOOqbxA', timeout=10)\n",
    "artist = genius.search_artist(artist_name, max_songs = 300) # use max_songs=10 parameter to limit to 10 songs"
   ]
  },
  {
   "cell_type": "code",
   "execution_count": 5,
   "id": "polyphonic-diagram",
   "metadata": {
    "scrolled": true
   },
   "outputs": [
    {
     "name": "stdout",
     "output_type": "stream",
     "text": [
      "Wrote Lyrics_BillieEilish.json.\n"
     ]
    },
    {
     "name": "stderr",
     "output_type": "stream",
     "text": [
      "/Library/Frameworks/Python.framework/Versions/3.9/lib/python3.9/site-packages/ipykernel/ipkernel.py:283: DeprecationWarning: `should_run_async` will not call `transform_cell` automatically in the future. Please pass the result to `transformed_cell` argument and any exception that happen during thetransform in `preprocessing_exc_tuple` in IPython 7.17 and above.\n",
      "  and should_run_async(code)\n"
     ]
    }
   ],
   "source": [
    "artist_json = artist.save_lyrics()"
   ]
  },
  {
   "cell_type": "markdown",
   "id": "rural-johnson",
   "metadata": {},
   "source": [
    "# Start here to use the data from the file on disk"
   ]
  },
  {
   "cell_type": "code",
   "execution_count": 6,
   "id": "anticipated-torture",
   "metadata": {
    "scrolled": true
   },
   "outputs": [
    {
     "name": "stderr",
     "output_type": "stream",
     "text": [
      "/Library/Frameworks/Python.framework/Versions/3.9/lib/python3.9/site-packages/ipykernel/ipkernel.py:283: DeprecationWarning: `should_run_async` will not call `transform_cell` automatically in the future. Please pass the result to `transformed_cell` argument and any exception that happen during thetransform in `preprocessing_exc_tuple` in IPython 7.17 and above.\n",
      "  and should_run_async(code)\n"
     ]
    }
   ],
   "source": [
    "#load the file\n",
    "name_string = artist_name.replace(' ', '')\n",
    "lyricsFile = \"Lyrics_\"+str(name_string)+\".json\"\n",
    "with open(lyricsFile) as json_data:\n",
    "    data = json.load(json_data)\n",
    "\n",
    "# convert to dataframe\n",
    "df = pd.DataFrame(data['songs'])\n",
    "artist_df = df[['full_title', 'title', 'artist', 'lyrics', 'featured_artists', 'release_date']]"
   ]
  },
  {
   "cell_type": "markdown",
   "id": "played-expansion",
   "metadata": {},
   "source": [
    "# Lyric Analysis\n",
    "\n",
    "## Cleaning the lyrics"
   ]
  },
  {
   "cell_type": "code",
   "execution_count": 7,
   "id": "covered-voltage",
   "metadata": {
    "scrolled": false
   },
   "outputs": [
    {
     "name": "stderr",
     "output_type": "stream",
     "text": [
      "/Library/Frameworks/Python.framework/Versions/3.9/lib/python3.9/site-packages/ipykernel/ipkernel.py:283: DeprecationWarning: `should_run_async` will not call `transform_cell` automatically in the future. Please pass the result to `transformed_cell` argument and any exception that happen during thetransform in `preprocessing_exc_tuple` in IPython 7.17 and above.\n",
      "  and should_run_async(code)\n",
      "/Library/Frameworks/Python.framework/Versions/3.9/lib/python3.9/site-packages/pandas/core/generic.py:5494: SettingWithCopyWarning: \n",
      "A value is trying to be set on a copy of a slice from a DataFrame.\n",
      "Try using .loc[row_indexer,col_indexer] = value instead\n",
      "\n",
      "See the caveats in the documentation: https://pandas.pydata.org/pandas-docs/stable/user_guide/indexing.html#returning-a-view-versus-a-copy\n",
      "  self[name] = value\n"
     ]
    }
   ],
   "source": [
    "# convert everything to lower case\n",
    "artist_df.lyrics = artist_df.lyrics.str.lower()"
   ]
  },
  {
   "cell_type": "code",
   "execution_count": 8,
   "id": "worldwide-wholesale",
   "metadata": {},
   "outputs": [
    {
     "name": "stderr",
     "output_type": "stream",
     "text": [
      "/Library/Frameworks/Python.framework/Versions/3.9/lib/python3.9/site-packages/ipykernel/ipkernel.py:283: DeprecationWarning: `should_run_async` will not call `transform_cell` automatically in the future. Please pass the result to `transformed_cell` argument and any exception that happen during thetransform in `preprocessing_exc_tuple` in IPython 7.17 and above.\n",
      "  and should_run_async(code)\n"
     ]
    },
    {
     "data": {
      "text/plain": [
       "\"[verse 1]\\nwhite shirt now red, my bloody nose\\nsleepin', you're on your tippy toes\\ncreepin' around like no one knows\\nthink you're so criminal\\nbruises on both my knees for you\\ndon't say thank you or please\\ni do what i want when i'm wanting to\\nmy soul? so cynical\\n\\n[chorus]\\nso you're a tough guy\\nlike it really rough guy\\njust can't get enough guy\\nchest always so puffed guy\\ni'm that bad type\\nmake your mama sad type\\nmake your girlfriend mad tight\\nmight seduce your dad type\\ni'm the bad guy\\nduh\\n\\n[post-chorus]\\ni'm the bad guy\\n\\n[verse 2]\\ni like it when you take control\\neven if you know that you don't\\nown me, i'll let you play the role\\ni'll be your animal\\nmy mommy likes to sing along with me\\nbut she won't sing this song\\nif she reads all the lyrics\\nshe'll pity the men i know\\n[chorus]\\nso you're a tough guy\\nlike it really rough guy\\njust can't get enough guy\\nchest always so puffed guy\\ni'm that bad type\\nmake your mama sad type\\nmake your girlfriend mad tight\\nmight seduce your dad type\\ni'm the bad guy\\nduh\\n\\n[post-chorus]\\ni'm the bad guy, duh\\ni'm only good at bein' bad, bad\\n\\n[bridge]\\ni like when you get mad\\ni guess i'm pretty glad that you're alone\\nyou said she's scared of me?\\ni mean, i don't see what she sees\\nbut maybe it's 'cause i'm wearing your cologne\\n\\n[outro]\\ni'm a bad guy\\ni'm, i'm a bad guy\\nbad guy, bad guy\\ni'm a badembedshare url:copyembed:copy\""
      ]
     },
     "execution_count": 8,
     "metadata": {},
     "output_type": "execute_result"
    }
   ],
   "source": [
    "artist_df.lyrics[2]"
   ]
  },
  {
   "cell_type": "code",
   "execution_count": 9,
   "id": "personal-salad",
   "metadata": {},
   "outputs": [
    {
     "name": "stderr",
     "output_type": "stream",
     "text": [
      "/Library/Frameworks/Python.framework/Versions/3.9/lib/python3.9/site-packages/ipykernel/ipkernel.py:283: DeprecationWarning: `should_run_async` will not call `transform_cell` automatically in the future. Please pass the result to `transformed_cell` argument and any exception that happen during thetransform in `preprocessing_exc_tuple` in IPython 7.17 and above.\n",
      "  and should_run_async(code)\n"
     ]
    }
   ],
   "source": [
    "# remove the embed, share, copy at the end of each lyric\n",
    "artist_df.lyrics = artist_df.lyrics.replace(to_replace=\"embedshare url:copyembed:copy\", value=\"\", regex=True) "
   ]
  },
  {
   "cell_type": "code",
   "execution_count": 10,
   "id": "unknown-beast",
   "metadata": {
    "scrolled": true
   },
   "outputs": [
    {
     "name": "stderr",
     "output_type": "stream",
     "text": [
      "/Library/Frameworks/Python.framework/Versions/3.9/lib/python3.9/site-packages/ipykernel/ipkernel.py:283: DeprecationWarning: `should_run_async` will not call `transform_cell` automatically in the future. Please pass the result to `transformed_cell` argument and any exception that happen during thetransform in `preprocessing_exc_tuple` in IPython 7.17 and above.\n",
      "  and should_run_async(code)\n"
     ]
    }
   ],
   "source": [
    "# Remove quotes\n",
    "artist_df.lyrics = artist_df.lyrics.replace(to_replace=\"(\\u2019)\", value=\"'\", regex=True)"
   ]
  },
  {
   "cell_type": "code",
   "execution_count": 11,
   "id": "integral-circuit",
   "metadata": {},
   "outputs": [
    {
     "name": "stderr",
     "output_type": "stream",
     "text": [
      "/Library/Frameworks/Python.framework/Versions/3.9/lib/python3.9/site-packages/ipykernel/ipkernel.py:283: DeprecationWarning: `should_run_async` will not call `transform_cell` automatically in the future. Please pass the result to `transformed_cell` argument and any exception that happen during thetransform in `preprocessing_exc_tuple` in IPython 7.17 and above.\n",
      "  and should_run_async(code)\n"
     ]
    }
   ],
   "source": [
    "# convert common contractions to the full word or phrase\n",
    "artist_df.lyrics = artist_df.lyrics.replace(to_replace=\"won’t\", value=\"will not\", regex=True)\n",
    "artist_df.lyrics = artist_df.lyrics.replace(to_replace=\"wouldn’t\", value=\"wouldnt\", regex=True)\n",
    "artist_df.lyrics = artist_df.lyrics.replace(to_replace=\"can’t\", value=\"can not\", regex=True)\n",
    "artist_df.lyrics = artist_df.lyrics.replace(to_replace=\"don’t\", value=\"dont\", regex=True)\n",
    "artist_df.lyrics = artist_df.lyrics.replace(to_replace=\"wanna\", value=\"want to\", regex=True)\n",
    "artist_df.lyrics = artist_df.lyrics.replace(to_replace=\"ain't\", value=\"aint\", regex=True)\n",
    "artist_df.lyrics = artist_df.lyrics.replace(to_replace=\"gotta\", value=\"got to\", regex=True)\n",
    "artist_df.lyrics = artist_df.lyrics.replace(to_replace=\"'ll\", value=\" will\", regex=True)\n",
    "artist_df.lyrics = artist_df.lyrics.replace(to_replace=\"lil'\", value=\"little\", regex=True)\n",
    "artist_df.lyrics = artist_df.lyrics.replace(to_replace=\"hol'\", value=\"hold\", regex=True)"
   ]
  },
  {
   "cell_type": "code",
   "execution_count": 12,
   "id": "electoral-newsletter",
   "metadata": {
    "scrolled": true
   },
   "outputs": [
    {
     "name": "stderr",
     "output_type": "stream",
     "text": [
      "/Library/Frameworks/Python.framework/Versions/3.9/lib/python3.9/site-packages/ipykernel/ipkernel.py:283: DeprecationWarning: `should_run_async` will not call `transform_cell` automatically in the future. Please pass the result to `transformed_cell` argument and any exception that happen during thetransform in `preprocessing_exc_tuple` in IPython 7.17 and above.\n",
      "  and should_run_async(code)\n"
     ]
    }
   ],
   "source": [
    "# convert more common contractions to the full word or phrase\n",
    "artist_df.lyrics = artist_df.lyrics.replace(to_replace=\"it's\", value=\"it is\", regex=True)\n",
    "artist_df.lyrics = artist_df.lyrics.replace(to_replace=\"i've\", value=\"i have\", regex=True)\n",
    "artist_df.lyrics = artist_df.lyrics.replace(to_replace=\"i'm\", value=\"i am\", regex=True)\n",
    "artist_df.lyrics = artist_df.lyrics.replace(to_replace=\"n' \", value=\"ng \", regex=True)\n",
    "artist_df.lyrics = artist_df.lyrics.replace(to_replace=\"'n \", value=\"ing \", regex=True)\n",
    "artist_df.lyrics = artist_df.lyrics.replace(to_replace=\" 'em \", value=\"them \", regex=True)\n",
    "artist_df.lyrics = artist_df.lyrics.replace(to_replace=\"&\", value=\"and\", regex=True)"
   ]
  },
  {
   "cell_type": "code",
   "execution_count": 13,
   "id": "material-front",
   "metadata": {},
   "outputs": [
    {
     "name": "stderr",
     "output_type": "stream",
     "text": [
      "/Library/Frameworks/Python.framework/Versions/3.9/lib/python3.9/site-packages/ipykernel/ipkernel.py:283: DeprecationWarning: `should_run_async` will not call `transform_cell` automatically in the future. Please pass the result to `transformed_cell` argument and any exception that happen during thetransform in `preprocessing_exc_tuple` in IPython 7.17 and above.\n",
      "  and should_run_async(code)\n"
     ]
    }
   ],
   "source": [
    "# Remove common interjections, or singing sounds\n",
    "artist_df.lyrics = artist_df.lyrics.replace(to_replace=r\"aah|aagh|ayy|ooh\", value=\"\", regex=True) \n",
    "artist_df.lyrics = artist_df.lyrics.replace(to_replace=r\"hmm|mmm|brr\", value=\"\", regex=True)\n",
    "artist_df.lyrics = artist_df.lyrics.replace(to_replace=r\"yeah\", value=\"\", regex=True)\n",
    "artist_df.lyrics = artist_df.lyrics.replace(to_replace=r\"woah\", value=\"\", regex=True)"
   ]
  },
  {
   "cell_type": "code",
   "execution_count": 14,
   "id": "broad-apartment",
   "metadata": {},
   "outputs": [
    {
     "name": "stderr",
     "output_type": "stream",
     "text": [
      "/Library/Frameworks/Python.framework/Versions/3.9/lib/python3.9/site-packages/ipykernel/ipkernel.py:283: DeprecationWarning: `should_run_async` will not call `transform_cell` automatically in the future. Please pass the result to `transformed_cell` argument and any exception that happen during thetransform in `preprocessing_exc_tuple` in IPython 7.17 and above.\n",
      "  and should_run_async(code)\n"
     ]
    }
   ],
   "source": [
    "# remove verse, chorus, bridge, intro , outro anotations \n",
    "artist_df.lyrics = artist_df.lyrics.replace(to_replace=r\"\\[[^]]*\\]\", value=\"\", regex=True) "
   ]
  },
  {
   "cell_type": "code",
   "execution_count": 15,
   "id": "royal-berry",
   "metadata": {
    "scrolled": false
   },
   "outputs": [
    {
     "name": "stderr",
     "output_type": "stream",
     "text": [
      "/Library/Frameworks/Python.framework/Versions/3.9/lib/python3.9/site-packages/ipykernel/ipkernel.py:283: DeprecationWarning: `should_run_async` will not call `transform_cell` automatically in the future. Please pass the result to `transformed_cell` argument and any exception that happen during thetransform in `preprocessing_exc_tuple` in IPython 7.17 and above.\n",
      "  and should_run_async(code)\n"
     ]
    }
   ],
   "source": [
    "# get rid of tabs, new line, return symbols and parentheses\n",
    "artist_df.lyrics = artist_df.lyrics.replace(to_replace=[r\"\\\\t|\\\\n|\\\\r\", \"\\t|\\n|\\r\"], value=\" \", regex=True)\n",
    "artist_df.lyrics = artist_df.lyrics.replace(to_replace=[r\"\\(|\\)\", \"\"], value=\" \", regex=True)"
   ]
  },
  {
   "cell_type": "code",
   "execution_count": 16,
   "id": "flush-cardiff",
   "metadata": {},
   "outputs": [
    {
     "name": "stderr",
     "output_type": "stream",
     "text": [
      "/Library/Frameworks/Python.framework/Versions/3.9/lib/python3.9/site-packages/ipykernel/ipkernel.py:283: DeprecationWarning: `should_run_async` will not call `transform_cell` automatically in the future. Please pass the result to `transformed_cell` argument and any exception that happen during thetransform in `preprocessing_exc_tuple` in IPython 7.17 and above.\n",
      "  and should_run_async(code)\n"
     ]
    },
    {
     "data": {
      "text/plain": [
       "\" white shirt now red, my bloody nose sleepin', you're on your tippy toes creeping around like no one knows think you're so criminal bruises on both my knees for you don't say thank you or please i do what i want when i am wanting to my soul? so cynical   so you're a tough guy like it really rough guy just can't get enough guy chest always so puffed guy i am that bad type make your mama sad type make your girlfriend mad tight might seduce your dad type i am the bad guy duh   i am the bad guy   i like it when you take control even if you know that you don't own me, i will let you play the role i will be your animal my mommy likes to sing along with me but she won't sing this song if she reads all the lyrics she will pity the men i know  so you're a tough guy like it really rough guy just can't get enough guy chest always so puffed guy i am that bad type make your mama sad type make your girlfriend mad tight might seduce your dad type i am the bad guy duh   i am the bad guy, duh i am only good at being bad, bad   i like when you get mad i guess i am pretty glad that you're alone you said she's scared of me? i mean, i don't see what she sees but maybe it is 'cause i am wearing your cologne   i am a bad guy i am, i am a bad guy bad guy, bad guy i am a bad\""
      ]
     },
     "execution_count": 16,
     "metadata": {},
     "output_type": "execute_result"
    }
   ],
   "source": [
    "artist_df.lyrics[2]"
   ]
  },
  {
   "cell_type": "code",
   "execution_count": 17,
   "id": "continued-logic",
   "metadata": {
    "scrolled": false
   },
   "outputs": [
    {
     "name": "stderr",
     "output_type": "stream",
     "text": [
      "/Library/Frameworks/Python.framework/Versions/3.9/lib/python3.9/site-packages/ipykernel/ipkernel.py:283: DeprecationWarning: `should_run_async` will not call `transform_cell` automatically in the future. Please pass the result to `transformed_cell` argument and any exception that happen during thetransform in `preprocessing_exc_tuple` in IPython 7.17 and above.\n",
      "  and should_run_async(code)\n"
     ]
    }
   ],
   "source": [
    "# remove any other symbols except letters, numbers and underscore\n",
    "artist_df.lyrics = artist_df.lyrics.replace(to_replace=r\"\\W\", value=\" \", regex=True)"
   ]
  },
  {
   "cell_type": "code",
   "execution_count": 18,
   "id": "focal-bowling",
   "metadata": {},
   "outputs": [
    {
     "name": "stderr",
     "output_type": "stream",
     "text": [
      "/Library/Frameworks/Python.framework/Versions/3.9/lib/python3.9/site-packages/ipykernel/ipkernel.py:283: DeprecationWarning: `should_run_async` will not call `transform_cell` automatically in the future. Please pass the result to `transformed_cell` argument and any exception that happen during thetransform in `preprocessing_exc_tuple` in IPython 7.17 and above.\n",
      "  and should_run_async(code)\n"
     ]
    },
    {
     "data": {
      "text/plain": [
       "' white shirt now red  my bloody nose sleepin   you re on your tippy toes creeping around like no one knows think you re so criminal bruises on both my knees for you don t say thank you or please i do what i want when i am wanting to my soul  so cynical   so you re a tough guy like it really rough guy just can t get enough guy chest always so puffed guy i am that bad type make your mama sad type make your girlfriend mad tight might seduce your dad type i am the bad guy duh   i am the bad guy   i like it when you take control even if you know that you don t own me  i will let you play the role i will be your animal my mommy likes to sing along with me but she won t sing this song if she reads all the lyrics she will pity the men i know  so you re a tough guy like it really rough guy just can t get enough guy chest always so puffed guy i am that bad type make your mama sad type make your girlfriend mad tight might seduce your dad type i am the bad guy duh   i am the bad guy  duh i am only good at being bad  bad   i like when you get mad i guess i am pretty glad that you re alone you said she s scared of me  i mean  i don t see what she sees but maybe it is  cause i am wearing your cologne   i am a bad guy i am  i am a bad guy bad guy  bad guy i am a bad'"
      ]
     },
     "execution_count": 18,
     "metadata": {},
     "output_type": "execute_result"
    }
   ],
   "source": [
    "artist_df.lyrics[2]"
   ]
  },
  {
   "cell_type": "code",
   "execution_count": 19,
   "id": "secondary-ancient",
   "metadata": {},
   "outputs": [
    {
     "name": "stderr",
     "output_type": "stream",
     "text": [
      "/Library/Frameworks/Python.framework/Versions/3.9/lib/python3.9/site-packages/ipykernel/ipkernel.py:283: DeprecationWarning: `should_run_async` will not call `transform_cell` automatically in the future. Please pass the result to `transformed_cell` argument and any exception that happen during thetransform in `preprocessing_exc_tuple` in IPython 7.17 and above.\n",
      "  and should_run_async(code)\n"
     ]
    }
   ],
   "source": [
    "artist_df_clean = artist_df"
   ]
  },
  {
   "cell_type": "code",
   "execution_count": 20,
   "id": "historic-crest",
   "metadata": {
    "scrolled": true
   },
   "outputs": [
    {
     "name": "stderr",
     "output_type": "stream",
     "text": [
      "/Library/Frameworks/Python.framework/Versions/3.9/lib/python3.9/site-packages/ipykernel/ipkernel.py:283: DeprecationWarning: `should_run_async` will not call `transform_cell` automatically in the future. Please pass the result to `transformed_cell` argument and any exception that happen during thetransform in `preprocessing_exc_tuple` in IPython 7.17 and above.\n",
      "  and should_run_async(code)\n"
     ]
    }
   ],
   "source": [
    "# Tokenize\n",
    "artist_df.lyrics = artist_df.lyrics.apply(word_tokenize)"
   ]
  },
  {
   "cell_type": "code",
   "execution_count": 21,
   "id": "romance-astrology",
   "metadata": {},
   "outputs": [
    {
     "name": "stderr",
     "output_type": "stream",
     "text": [
      "/Library/Frameworks/Python.framework/Versions/3.9/lib/python3.9/site-packages/ipykernel/ipkernel.py:283: DeprecationWarning: `should_run_async` will not call `transform_cell` automatically in the future. Please pass the result to `transformed_cell` argument and any exception that happen during thetransform in `preprocessing_exc_tuple` in IPython 7.17 and above.\n",
      "  and should_run_async(code)\n"
     ]
    },
    {
     "data": {
      "text/plain": [
       "['white',\n",
       " 'shirt',\n",
       " 'now',\n",
       " 'red',\n",
       " 'my',\n",
       " 'bloody',\n",
       " 'nose',\n",
       " 'sleepin',\n",
       " 'you',\n",
       " 're',\n",
       " 'on',\n",
       " 'your',\n",
       " 'tippy',\n",
       " 'toes',\n",
       " 'creeping',\n",
       " 'around',\n",
       " 'like',\n",
       " 'no',\n",
       " 'one',\n",
       " 'knows',\n",
       " 'think',\n",
       " 'you',\n",
       " 're',\n",
       " 'so',\n",
       " 'criminal',\n",
       " 'bruises',\n",
       " 'on',\n",
       " 'both',\n",
       " 'my',\n",
       " 'knees',\n",
       " 'for',\n",
       " 'you',\n",
       " 'don',\n",
       " 't',\n",
       " 'say',\n",
       " 'thank',\n",
       " 'you',\n",
       " 'or',\n",
       " 'please',\n",
       " 'i',\n",
       " 'do',\n",
       " 'what',\n",
       " 'i',\n",
       " 'want',\n",
       " 'when',\n",
       " 'i',\n",
       " 'am',\n",
       " 'wanting',\n",
       " 'to',\n",
       " 'my',\n",
       " 'soul',\n",
       " 'so',\n",
       " 'cynical',\n",
       " 'so',\n",
       " 'you',\n",
       " 're',\n",
       " 'a',\n",
       " 'tough',\n",
       " 'guy',\n",
       " 'like',\n",
       " 'it',\n",
       " 'really',\n",
       " 'rough',\n",
       " 'guy',\n",
       " 'just',\n",
       " 'can',\n",
       " 't',\n",
       " 'get',\n",
       " 'enough',\n",
       " 'guy',\n",
       " 'chest',\n",
       " 'always',\n",
       " 'so',\n",
       " 'puffed',\n",
       " 'guy',\n",
       " 'i',\n",
       " 'am',\n",
       " 'that',\n",
       " 'bad',\n",
       " 'type',\n",
       " 'make',\n",
       " 'your',\n",
       " 'mama',\n",
       " 'sad',\n",
       " 'type',\n",
       " 'make',\n",
       " 'your',\n",
       " 'girlfriend',\n",
       " 'mad',\n",
       " 'tight',\n",
       " 'might',\n",
       " 'seduce',\n",
       " 'your',\n",
       " 'dad',\n",
       " 'type',\n",
       " 'i',\n",
       " 'am',\n",
       " 'the',\n",
       " 'bad',\n",
       " 'guy',\n",
       " 'duh',\n",
       " 'i',\n",
       " 'am',\n",
       " 'the',\n",
       " 'bad',\n",
       " 'guy',\n",
       " 'i',\n",
       " 'like',\n",
       " 'it',\n",
       " 'when',\n",
       " 'you',\n",
       " 'take',\n",
       " 'control',\n",
       " 'even',\n",
       " 'if',\n",
       " 'you',\n",
       " 'know',\n",
       " 'that',\n",
       " 'you',\n",
       " 'don',\n",
       " 't',\n",
       " 'own',\n",
       " 'me',\n",
       " 'i',\n",
       " 'will',\n",
       " 'let',\n",
       " 'you',\n",
       " 'play',\n",
       " 'the',\n",
       " 'role',\n",
       " 'i',\n",
       " 'will',\n",
       " 'be',\n",
       " 'your',\n",
       " 'animal',\n",
       " 'my',\n",
       " 'mommy',\n",
       " 'likes',\n",
       " 'to',\n",
       " 'sing',\n",
       " 'along',\n",
       " 'with',\n",
       " 'me',\n",
       " 'but',\n",
       " 'she',\n",
       " 'won',\n",
       " 't',\n",
       " 'sing',\n",
       " 'this',\n",
       " 'song',\n",
       " 'if',\n",
       " 'she',\n",
       " 'reads',\n",
       " 'all',\n",
       " 'the',\n",
       " 'lyrics',\n",
       " 'she',\n",
       " 'will',\n",
       " 'pity',\n",
       " 'the',\n",
       " 'men',\n",
       " 'i',\n",
       " 'know',\n",
       " 'so',\n",
       " 'you',\n",
       " 're',\n",
       " 'a',\n",
       " 'tough',\n",
       " 'guy',\n",
       " 'like',\n",
       " 'it',\n",
       " 'really',\n",
       " 'rough',\n",
       " 'guy',\n",
       " 'just',\n",
       " 'can',\n",
       " 't',\n",
       " 'get',\n",
       " 'enough',\n",
       " 'guy',\n",
       " 'chest',\n",
       " 'always',\n",
       " 'so',\n",
       " 'puffed',\n",
       " 'guy',\n",
       " 'i',\n",
       " 'am',\n",
       " 'that',\n",
       " 'bad',\n",
       " 'type',\n",
       " 'make',\n",
       " 'your',\n",
       " 'mama',\n",
       " 'sad',\n",
       " 'type',\n",
       " 'make',\n",
       " 'your',\n",
       " 'girlfriend',\n",
       " 'mad',\n",
       " 'tight',\n",
       " 'might',\n",
       " 'seduce',\n",
       " 'your',\n",
       " 'dad',\n",
       " 'type',\n",
       " 'i',\n",
       " 'am',\n",
       " 'the',\n",
       " 'bad',\n",
       " 'guy',\n",
       " 'duh',\n",
       " 'i',\n",
       " 'am',\n",
       " 'the',\n",
       " 'bad',\n",
       " 'guy',\n",
       " 'duh',\n",
       " 'i',\n",
       " 'am',\n",
       " 'only',\n",
       " 'good',\n",
       " 'at',\n",
       " 'being',\n",
       " 'bad',\n",
       " 'bad',\n",
       " 'i',\n",
       " 'like',\n",
       " 'when',\n",
       " 'you',\n",
       " 'get',\n",
       " 'mad',\n",
       " 'i',\n",
       " 'guess',\n",
       " 'i',\n",
       " 'am',\n",
       " 'pretty',\n",
       " 'glad',\n",
       " 'that',\n",
       " 'you',\n",
       " 're',\n",
       " 'alone',\n",
       " 'you',\n",
       " 'said',\n",
       " 'she',\n",
       " 's',\n",
       " 'scared',\n",
       " 'of',\n",
       " 'me',\n",
       " 'i',\n",
       " 'mean',\n",
       " 'i',\n",
       " 'don',\n",
       " 't',\n",
       " 'see',\n",
       " 'what',\n",
       " 'she',\n",
       " 'sees',\n",
       " 'but',\n",
       " 'maybe',\n",
       " 'it',\n",
       " 'is',\n",
       " 'cause',\n",
       " 'i',\n",
       " 'am',\n",
       " 'wearing',\n",
       " 'your',\n",
       " 'cologne',\n",
       " 'i',\n",
       " 'am',\n",
       " 'a',\n",
       " 'bad',\n",
       " 'guy',\n",
       " 'i',\n",
       " 'am',\n",
       " 'i',\n",
       " 'am',\n",
       " 'a',\n",
       " 'bad',\n",
       " 'guy',\n",
       " 'bad',\n",
       " 'guy',\n",
       " 'bad',\n",
       " 'guy',\n",
       " 'i',\n",
       " 'am',\n",
       " 'a',\n",
       " 'bad']"
      ]
     },
     "execution_count": 21,
     "metadata": {},
     "output_type": "execute_result"
    }
   ],
   "source": [
    "artist_df.lyrics[2]"
   ]
  },
  {
   "cell_type": "markdown",
   "id": "communist-invasion",
   "metadata": {},
   "source": [
    "## Analysis: common 2 and 3 word phrases found in the lyrics"
   ]
  },
  {
   "cell_type": "code",
   "execution_count": 22,
   "id": "specified-chuck",
   "metadata": {},
   "outputs": [
    {
     "name": "stderr",
     "output_type": "stream",
     "text": [
      "/Library/Frameworks/Python.framework/Versions/3.9/lib/python3.9/site-packages/ipykernel/ipkernel.py:283: DeprecationWarning: `should_run_async` will not call `transform_cell` automatically in the future. Please pass the result to `transformed_cell` argument and any exception that happen during thetransform in `preprocessing_exc_tuple` in IPython 7.17 and above.\n",
      "  and should_run_async(code)\n"
     ]
    }
   ],
   "source": [
    "# Divide the lyrics into \"sentences\" so that the phrases don't straddle songs.   Each song = one sentence\n",
    "sentences = []\n",
    "for l in artist_df.lyrics:\n",
    "    sentences.append(l)"
   ]
  },
  {
   "cell_type": "code",
   "execution_count": 23,
   "id": "grand-fence",
   "metadata": {},
   "outputs": [
    {
     "name": "stderr",
     "output_type": "stream",
     "text": [
      "/Library/Frameworks/Python.framework/Versions/3.9/lib/python3.9/site-packages/ipykernel/ipkernel.py:283: DeprecationWarning: `should_run_async` will not call `transform_cell` automatically in the future. Please pass the result to `transformed_cell` argument and any exception that happen during thetransform in `preprocessing_exc_tuple` in IPython 7.17 and above.\n",
      "  and should_run_async(code)\n"
     ]
    },
    {
     "data": {
      "text/plain": [
       "153"
      ]
     },
     "execution_count": 23,
     "metadata": {},
     "output_type": "execute_result"
    }
   ],
   "source": [
    "# Number of sentences should equal the number of songs\n",
    "len(sentences)"
   ]
  },
  {
   "cell_type": "code",
   "execution_count": 24,
   "id": "victorian-island",
   "metadata": {},
   "outputs": [
    {
     "name": "stderr",
     "output_type": "stream",
     "text": [
      "/Library/Frameworks/Python.framework/Versions/3.9/lib/python3.9/site-packages/ipykernel/ipkernel.py:283: DeprecationWarning: `should_run_async` will not call `transform_cell` automatically in the future. Please pass the result to `transformed_cell` argument and any exception that happen during thetransform in `preprocessing_exc_tuple` in IPython 7.17 and above.\n",
      "  and should_run_async(code)\n"
     ]
    },
    {
     "data": {
      "text/plain": [
       "['don',\n",
       " 't',\n",
       " 'you',\n",
       " 'know',\n",
       " 'i',\n",
       " 'am',\n",
       " 'no',\n",
       " 'good',\n",
       " 'for',\n",
       " 'you',\n",
       " 'i',\n",
       " 'have',\n",
       " 'learned',\n",
       " 'to',\n",
       " 'lose',\n",
       " 'you',\n",
       " 'can',\n",
       " 't',\n",
       " 'afford',\n",
       " 'to',\n",
       " 'tore',\n",
       " 'my',\n",
       " 'shirt',\n",
       " 'to',\n",
       " 'stop',\n",
       " 'you',\n",
       " 'bleedin',\n",
       " 'but',\n",
       " 'nothing',\n",
       " 'ever',\n",
       " 'stops',\n",
       " 'you',\n",
       " 'leavin',\n",
       " 'quiet',\n",
       " 'when',\n",
       " 'i',\n",
       " 'am',\n",
       " 'coming',\n",
       " 'home',\n",
       " 'and',\n",
       " 'i',\n",
       " 'am',\n",
       " 'on',\n",
       " 'my',\n",
       " 'own',\n",
       " 'i',\n",
       " 'could',\n",
       " 'lie',\n",
       " 'say',\n",
       " 'i',\n",
       " 'like',\n",
       " 'it',\n",
       " 'like',\n",
       " 'that',\n",
       " 'like',\n",
       " 'it',\n",
       " 'like',\n",
       " 'that',\n",
       " 'i',\n",
       " 'could',\n",
       " 'lie',\n",
       " 'say',\n",
       " 'i',\n",
       " 'like',\n",
       " 'it',\n",
       " 'like',\n",
       " 'that',\n",
       " 'like',\n",
       " 'it',\n",
       " 'like',\n",
       " 'that',\n",
       " 'don',\n",
       " 't',\n",
       " 'you',\n",
       " 'know',\n",
       " 'too',\n",
       " 'much',\n",
       " 'already',\n",
       " 'i',\n",
       " 'will',\n",
       " 'only',\n",
       " 'hurt',\n",
       " 'you',\n",
       " 'if',\n",
       " 'you',\n",
       " 'let',\n",
       " 'me',\n",
       " 'call',\n",
       " 'me',\n",
       " 'friend',\n",
       " 'but',\n",
       " 'keep',\n",
       " 'me',\n",
       " 'closer',\n",
       " 'call',\n",
       " 'me',\n",
       " 'back',\n",
       " 'and',\n",
       " 'i',\n",
       " 'will',\n",
       " 'call',\n",
       " 'you',\n",
       " 'when',\n",
       " 'the',\n",
       " 'party',\n",
       " 's',\n",
       " 'over',\n",
       " 'quiet',\n",
       " 'when',\n",
       " 'i',\n",
       " 'am',\n",
       " 'coming',\n",
       " 'home',\n",
       " 'and',\n",
       " 'i',\n",
       " 'am',\n",
       " 'on',\n",
       " 'my',\n",
       " 'own',\n",
       " 'and',\n",
       " 'i',\n",
       " 'could',\n",
       " 'lie',\n",
       " 'say',\n",
       " 'i',\n",
       " 'like',\n",
       " 'it',\n",
       " 'like',\n",
       " 'that',\n",
       " 'like',\n",
       " 'it',\n",
       " 'like',\n",
       " 'that',\n",
       " 'i',\n",
       " 'could',\n",
       " 'lie',\n",
       " 'say',\n",
       " 'i',\n",
       " 'like',\n",
       " 'it',\n",
       " 'like',\n",
       " 'that',\n",
       " 'like',\n",
       " 'it',\n",
       " 'like',\n",
       " 'that',\n",
       " 'but',\n",
       " 'nothing',\n",
       " 'is',\n",
       " 'better',\n",
       " 'sometimes',\n",
       " 'once',\n",
       " 'we',\n",
       " 've',\n",
       " 'both',\n",
       " 'said',\n",
       " 'our',\n",
       " 'goodbyes',\n",
       " 'let',\n",
       " 's',\n",
       " 'just',\n",
       " 'let',\n",
       " 'it',\n",
       " 'go',\n",
       " 'let',\n",
       " 'me',\n",
       " 'let',\n",
       " 'you',\n",
       " 'go',\n",
       " 'quiet',\n",
       " 'when',\n",
       " 'i',\n",
       " 'am',\n",
       " 'coming',\n",
       " 'home',\n",
       " 'and',\n",
       " 'i',\n",
       " 'am',\n",
       " 'on',\n",
       " 'my',\n",
       " 'own',\n",
       " 'i',\n",
       " 'could',\n",
       " 'lie',\n",
       " 'say',\n",
       " 'i',\n",
       " 'like',\n",
       " 'it',\n",
       " 'like',\n",
       " 'that',\n",
       " 'like',\n",
       " 'it',\n",
       " 'like',\n",
       " 'that',\n",
       " 'i',\n",
       " 'could',\n",
       " 'lie',\n",
       " 'say',\n",
       " 'i',\n",
       " 'like',\n",
       " 'it',\n",
       " 'like',\n",
       " 'that',\n",
       " 'like',\n",
       " 'it',\n",
       " 'like',\n",
       " 'that']"
      ]
     },
     "execution_count": 24,
     "metadata": {},
     "output_type": "execute_result"
    }
   ],
   "source": [
    "# check our result on the first sentence\n",
    "sentences[0]"
   ]
  },
  {
   "cell_type": "code",
   "execution_count": 25,
   "id": "overhead-transition",
   "metadata": {
    "scrolled": true
   },
   "outputs": [
    {
     "name": "stderr",
     "output_type": "stream",
     "text": [
      "/Library/Frameworks/Python.framework/Versions/3.9/lib/python3.9/site-packages/ipykernel/ipkernel.py:283: DeprecationWarning: `should_run_async` will not call `transform_cell` automatically in the future. Please pass the result to `transformed_cell` argument and any exception that happen during thetransform in `preprocessing_exc_tuple` in IPython 7.17 and above.\n",
      "  and should_run_async(code)\n"
     ]
    },
    {
     "data": {
      "text/html": [
       "<div>\n",
       "<style scoped>\n",
       "    .dataframe tbody tr th:only-of-type {\n",
       "        vertical-align: middle;\n",
       "    }\n",
       "\n",
       "    .dataframe tbody tr th {\n",
       "        vertical-align: top;\n",
       "    }\n",
       "\n",
       "    .dataframe thead th {\n",
       "        text-align: right;\n",
       "    }\n",
       "</style>\n",
       "<table border=\"1\" class=\"dataframe\">\n",
       "  <thead>\n",
       "    <tr style=\"text-align: right;\">\n",
       "      <th></th>\n",
       "      <th>Phrases</th>\n",
       "      <th>counts</th>\n",
       "    </tr>\n",
       "  </thead>\n",
       "  <tbody>\n",
       "    <tr>\n",
       "      <th>73</th>\n",
       "      <td>don_t</td>\n",
       "      <td>342</td>\n",
       "    </tr>\n",
       "    <tr>\n",
       "      <th>45</th>\n",
       "      <td>can_t</td>\n",
       "      <td>164</td>\n",
       "    </tr>\n",
       "    <tr>\n",
       "      <th>230</th>\n",
       "      <td>those_ocean</td>\n",
       "      <td>103</td>\n",
       "    </tr>\n",
       "    <tr>\n",
       "      <th>174</th>\n",
       "      <td>one_by</td>\n",
       "      <td>80</td>\n",
       "    </tr>\n",
       "    <tr>\n",
       "      <th>158</th>\n",
       "      <td>my_boy</td>\n",
       "      <td>79</td>\n",
       "    </tr>\n",
       "  </tbody>\n",
       "</table>\n",
       "</div>"
      ],
      "text/plain": [
       "         Phrases  counts\n",
       "73         don_t     342\n",
       "45         can_t     164\n",
       "230  those_ocean     103\n",
       "174       one_by      80\n",
       "158       my_boy      79"
      ]
     },
     "execution_count": 25,
     "metadata": {},
     "output_type": "execute_result"
    }
   ],
   "source": [
    "# Look for frequently used 2 word combinations\n",
    "from itertools import groupby\n",
    "\n",
    "# Build the bigram model\n",
    "bigram = Phrases(sentences)\n",
    "\n",
    "\n",
    "# Find bigrams in the songs\n",
    "two_word_phrases = []\n",
    "i=0\n",
    "while i < len(sentences): \n",
    "    bigrams = bigram[sentences[i]]\n",
    "    for s in bigrams:\n",
    "        if len(re.findall('_', s)) > 0:\n",
    "            two_word_phrases.append(s)\n",
    "    i = i + 1\n",
    "two_word_phrases_df = pd.DataFrame(two_word_phrases, columns = ['Phrases'])\n",
    "test = two_word_phrases_df.groupby(by = \"Phrases\").size().reset_index(name='counts')\n",
    "test.sort_values(by = 'counts', ascending = False).head()"
   ]
  },
  {
   "cell_type": "code",
   "execution_count": 26,
   "id": "prompt-wholesale",
   "metadata": {},
   "outputs": [
    {
     "name": "stderr",
     "output_type": "stream",
     "text": [
      "/Library/Frameworks/Python.framework/Versions/3.9/lib/python3.9/site-packages/ipykernel/ipkernel.py:283: DeprecationWarning: `should_run_async` will not call `transform_cell` automatically in the future. Please pass the result to `transformed_cell` argument and any exception that happen during thetransform in `preprocessing_exc_tuple` in IPython 7.17 and above.\n",
      "  and should_run_async(code)\n"
     ]
    },
    {
     "data": {
      "text/html": [
       "<div>\n",
       "<style scoped>\n",
       "    .dataframe tbody tr th:only-of-type {\n",
       "        vertical-align: middle;\n",
       "    }\n",
       "\n",
       "    .dataframe tbody tr th {\n",
       "        vertical-align: top;\n",
       "    }\n",
       "\n",
       "    .dataframe thead th {\n",
       "        text-align: right;\n",
       "    }\n",
       "</style>\n",
       "<table border=\"1\" class=\"dataframe\">\n",
       "  <thead>\n",
       "    <tr style=\"text-align: right;\">\n",
       "      <th></th>\n",
       "      <th>Phrases</th>\n",
       "      <th>counts</th>\n",
       "    </tr>\n",
       "  </thead>\n",
       "  <tbody>\n",
       "    <tr>\n",
       "      <th>153</th>\n",
       "      <td>those_ocean_eyes</td>\n",
       "      <td>67</td>\n",
       "    </tr>\n",
       "    <tr>\n",
       "      <th>127</th>\n",
       "      <td>really_know_how</td>\n",
       "      <td>44</td>\n",
       "    </tr>\n",
       "    <tr>\n",
       "      <th>95</th>\n",
       "      <td>make_me_cry</td>\n",
       "      <td>41</td>\n",
       "    </tr>\n",
       "    <tr>\n",
       "      <th>75</th>\n",
       "      <td>have_never_fallen_from</td>\n",
       "      <td>36</td>\n",
       "    </tr>\n",
       "    <tr>\n",
       "      <th>123</th>\n",
       "      <td>quite_this_high_falling</td>\n",
       "      <td>36</td>\n",
       "    </tr>\n",
       "    <tr>\n",
       "      <th>84</th>\n",
       "      <td>into_your_ocean_eyes</td>\n",
       "      <td>35</td>\n",
       "    </tr>\n",
       "    <tr>\n",
       "      <th>46</th>\n",
       "      <td>da_da_da_da</td>\n",
       "      <td>29</td>\n",
       "    </tr>\n",
       "    <tr>\n",
       "      <th>133</th>\n",
       "      <td>should_see_me</td>\n",
       "      <td>29</td>\n",
       "    </tr>\n",
       "    <tr>\n",
       "      <th>139</th>\n",
       "      <td>started_in_me</td>\n",
       "      <td>28</td>\n",
       "    </tr>\n",
       "    <tr>\n",
       "      <th>154</th>\n",
       "      <td>those_ocean_eyes_no</td>\n",
       "      <td>25</td>\n",
       "    </tr>\n",
       "    <tr>\n",
       "      <th>33</th>\n",
       "      <td>can_t_help_but</td>\n",
       "      <td>24</td>\n",
       "    </tr>\n",
       "    <tr>\n",
       "      <th>97</th>\n",
       "      <td>maybe_it_is</td>\n",
       "      <td>24</td>\n",
       "    </tr>\n",
       "    <tr>\n",
       "      <th>83</th>\n",
       "      <td>in_the_gutter</td>\n",
       "      <td>24</td>\n",
       "    </tr>\n",
       "    <tr>\n",
       "      <th>42</th>\n",
       "      <td>could_lie_say</td>\n",
       "      <td>23</td>\n",
       "    </tr>\n",
       "    <tr>\n",
       "      <th>81</th>\n",
       "      <td>in_a_crown</td>\n",
       "      <td>23</td>\n",
       "    </tr>\n",
       "    <tr>\n",
       "      <th>174</th>\n",
       "      <td>wonder_if_our_grave</td>\n",
       "      <td>23</td>\n",
       "    </tr>\n",
       "    <tr>\n",
       "      <th>161</th>\n",
       "      <td>was_watered_by</td>\n",
       "      <td>23</td>\n",
       "    </tr>\n",
       "    <tr>\n",
       "      <th>35</th>\n",
       "      <td>can_t_watch_mine</td>\n",
       "      <td>22</td>\n",
       "    </tr>\n",
       "    <tr>\n",
       "      <th>103</th>\n",
       "      <td>my_boy_my_boy</td>\n",
       "      <td>21</td>\n",
       "    </tr>\n",
       "    <tr>\n",
       "      <th>117</th>\n",
       "      <td>one_by_one_by</td>\n",
       "      <td>20</td>\n",
       "    </tr>\n",
       "    <tr>\n",
       "      <th>118</th>\n",
       "      <td>one_one_by</td>\n",
       "      <td>20</td>\n",
       "    </tr>\n",
       "    <tr>\n",
       "      <th>98</th>\n",
       "      <td>me_makethem_bow</td>\n",
       "      <td>20</td>\n",
       "    </tr>\n",
       "    <tr>\n",
       "      <th>159</th>\n",
       "      <td>ve_been_uninvited_cause</td>\n",
       "      <td>19</td>\n",
       "    </tr>\n",
       "    <tr>\n",
       "      <th>130</th>\n",
       "      <td>say_are_all</td>\n",
       "      <td>19</td>\n",
       "    </tr>\n",
       "    <tr>\n",
       "      <th>147</th>\n",
       "      <td>the_same_things</td>\n",
       "      <td>19</td>\n",
       "    </tr>\n",
       "    <tr>\n",
       "      <th>162</th>\n",
       "      <td>watch_my_heart</td>\n",
       "      <td>19</td>\n",
       "    </tr>\n",
       "    <tr>\n",
       "      <th>90</th>\n",
       "      <td>left_my_lover</td>\n",
       "      <td>18</td>\n",
       "    </tr>\n",
       "    <tr>\n",
       "      <th>44</th>\n",
       "      <td>d_feel_better</td>\n",
       "      <td>18</td>\n",
       "    </tr>\n",
       "    <tr>\n",
       "      <th>105</th>\n",
       "      <td>my_manner_watch_your</td>\n",
       "      <td>18</td>\n",
       "    </tr>\n",
       "    <tr>\n",
       "      <th>48</th>\n",
       "      <td>did_copycat_tryna_cop</td>\n",
       "      <td>18</td>\n",
       "    </tr>\n",
       "  </tbody>\n",
       "</table>\n",
       "</div>"
      ],
      "text/plain": [
       "                     Phrases  counts\n",
       "153         those_ocean_eyes      67\n",
       "127          really_know_how      44\n",
       "95               make_me_cry      41\n",
       "75    have_never_fallen_from      36\n",
       "123  quite_this_high_falling      36\n",
       "84      into_your_ocean_eyes      35\n",
       "46               da_da_da_da      29\n",
       "133            should_see_me      29\n",
       "139            started_in_me      28\n",
       "154      those_ocean_eyes_no      25\n",
       "33            can_t_help_but      24\n",
       "97               maybe_it_is      24\n",
       "83             in_the_gutter      24\n",
       "42             could_lie_say      23\n",
       "81                in_a_crown      23\n",
       "174      wonder_if_our_grave      23\n",
       "161           was_watered_by      23\n",
       "35          can_t_watch_mine      22\n",
       "103            my_boy_my_boy      21\n",
       "117            one_by_one_by      20\n",
       "118               one_one_by      20\n",
       "98           me_makethem_bow      20\n",
       "159  ve_been_uninvited_cause      19\n",
       "130              say_are_all      19\n",
       "147          the_same_things      19\n",
       "162           watch_my_heart      19\n",
       "90             left_my_lover      18\n",
       "44             d_feel_better      18\n",
       "105     my_manner_watch_your      18\n",
       "48     did_copycat_tryna_cop      18"
      ]
     },
     "execution_count": 26,
     "metadata": {},
     "output_type": "execute_result"
    }
   ],
   "source": [
    "# Looking for 3 word combinations \n",
    "\n",
    "# Build the trigram models\n",
    "trigram = Phrases(bigram[sentences])\n",
    "\n",
    "tri = []\n",
    "\n",
    "# Construct trigram list looking at all songs\n",
    "i=0\n",
    "while i < len(sentences): \n",
    "    songtrigram = trigram[bigram[sentences[i]]]\n",
    "    for s in songtrigram:\n",
    "        if len(re.findall('_', s)) > 1:\n",
    "            tri.append(s)\n",
    "    i = i + 1\n",
    "\n",
    "tri_df = pd.DataFrame(tri, columns = ['Phrases'])\n",
    "test_tri = tri_df.groupby(by = \"Phrases\").size().reset_index(name='counts')\n",
    "test_tri.sort_values(by = 'counts', ascending = False).head(30)"
   ]
  },
  {
   "cell_type": "code",
   "execution_count": 27,
   "id": "american-closing",
   "metadata": {},
   "outputs": [
    {
     "name": "stderr",
     "output_type": "stream",
     "text": [
      "/Library/Frameworks/Python.framework/Versions/3.9/lib/python3.9/site-packages/ipykernel/ipkernel.py:283: DeprecationWarning: `should_run_async` will not call `transform_cell` automatically in the future. Please pass the result to `transformed_cell` argument and any exception that happen during thetransform in `preprocessing_exc_tuple` in IPython 7.17 and above.\n",
      "  and should_run_async(code)\n"
     ]
    },
    {
     "data": {
      "text/html": [
       "<div>\n",
       "<style scoped>\n",
       "    .dataframe tbody tr th:only-of-type {\n",
       "        vertical-align: middle;\n",
       "    }\n",
       "\n",
       "    .dataframe tbody tr th {\n",
       "        vertical-align: top;\n",
       "    }\n",
       "\n",
       "    .dataframe thead th {\n",
       "        text-align: right;\n",
       "    }\n",
       "</style>\n",
       "<table border=\"1\" class=\"dataframe\">\n",
       "  <thead>\n",
       "    <tr style=\"text-align: right;\">\n",
       "      <th></th>\n",
       "      <th>Phrases</th>\n",
       "      <th>counts</th>\n",
       "    </tr>\n",
       "  </thead>\n",
       "  <tbody>\n",
       "    <tr>\n",
       "      <th>21</th>\n",
       "      <td>give_me_those_ocean</td>\n",
       "      <td>40</td>\n",
       "    </tr>\n",
       "    <tr>\n",
       "      <th>26</th>\n",
       "      <td>have_never_fallen_from</td>\n",
       "      <td>36</td>\n",
       "    </tr>\n",
       "    <tr>\n",
       "      <th>27</th>\n",
       "      <td>high_falling_into_your</td>\n",
       "      <td>36</td>\n",
       "    </tr>\n",
       "    <tr>\n",
       "      <th>38</th>\n",
       "      <td>ocean_eyes_those_ocean</td>\n",
       "      <td>35</td>\n",
       "    </tr>\n",
       "    <tr>\n",
       "      <th>15</th>\n",
       "      <td>da_da_da_da</td>\n",
       "      <td>29</td>\n",
       "    </tr>\n",
       "    <tr>\n",
       "      <th>9</th>\n",
       "      <td>can_t_help_but</td>\n",
       "      <td>24</td>\n",
       "    </tr>\n",
       "    <tr>\n",
       "      <th>11</th>\n",
       "      <td>can_t_watch_mine</td>\n",
       "      <td>22</td>\n",
       "    </tr>\n",
       "    <tr>\n",
       "      <th>34</th>\n",
       "      <td>my_boy_my_boy</td>\n",
       "      <td>21</td>\n",
       "    </tr>\n",
       "    <tr>\n",
       "      <th>10</th>\n",
       "      <td>can_t_say_no</td>\n",
       "      <td>20</td>\n",
       "    </tr>\n",
       "    <tr>\n",
       "      <th>39</th>\n",
       "      <td>one_by_one_by</td>\n",
       "      <td>20</td>\n",
       "    </tr>\n",
       "    <tr>\n",
       "      <th>14</th>\n",
       "      <td>d_feel_better_but</td>\n",
       "      <td>18</td>\n",
       "    </tr>\n",
       "    <tr>\n",
       "      <th>44</th>\n",
       "      <td>roses_bloom_could_roses</td>\n",
       "      <td>16</td>\n",
       "    </tr>\n",
       "    <tr>\n",
       "      <th>41</th>\n",
       "      <td>our_love_is_six</td>\n",
       "      <td>15</td>\n",
       "    </tr>\n",
       "    <tr>\n",
       "      <th>22</th>\n",
       "      <td>glamor_why_so_sad</td>\n",
       "      <td>15</td>\n",
       "    </tr>\n",
       "    <tr>\n",
       "      <th>50</th>\n",
       "      <td>watch_your_car_burn</td>\n",
       "      <td>15</td>\n",
       "    </tr>\n",
       "    <tr>\n",
       "      <th>19</th>\n",
       "      <td>give_me_those_eyes</td>\n",
       "      <td>15</td>\n",
       "    </tr>\n",
       "    <tr>\n",
       "      <th>52</th>\n",
       "      <td>what_an_expensive_fake</td>\n",
       "      <td>13</td>\n",
       "    </tr>\n",
       "    <tr>\n",
       "      <th>6</th>\n",
       "      <td>burn_with_the_fire</td>\n",
       "      <td>13</td>\n",
       "    </tr>\n",
       "    <tr>\n",
       "      <th>37</th>\n",
       "      <td>ocean_eyes_no_fair</td>\n",
       "      <td>12</td>\n",
       "    </tr>\n",
       "    <tr>\n",
       "      <th>48</th>\n",
       "      <td>those_ocean_eyes_no</td>\n",
       "      <td>11</td>\n",
       "    </tr>\n",
       "  </tbody>\n",
       "</table>\n",
       "</div>"
      ],
      "text/plain": [
       "                    Phrases  counts\n",
       "21      give_me_those_ocean      40\n",
       "26   have_never_fallen_from      36\n",
       "27   high_falling_into_your      36\n",
       "38   ocean_eyes_those_ocean      35\n",
       "15              da_da_da_da      29\n",
       "9            can_t_help_but      24\n",
       "11         can_t_watch_mine      22\n",
       "34            my_boy_my_boy      21\n",
       "10             can_t_say_no      20\n",
       "39            one_by_one_by      20\n",
       "14        d_feel_better_but      18\n",
       "44  roses_bloom_could_roses      16\n",
       "41          our_love_is_six      15\n",
       "22        glamor_why_so_sad      15\n",
       "50      watch_your_car_burn      15\n",
       "19       give_me_those_eyes      15\n",
       "52   what_an_expensive_fake      13\n",
       "6        burn_with_the_fire      13\n",
       "37       ocean_eyes_no_fair      12\n",
       "48      those_ocean_eyes_no      11"
      ]
     },
     "execution_count": 27,
     "metadata": {},
     "output_type": "execute_result"
    }
   ],
   "source": [
    "fourgram = Phrases(trigram[sentences])\n",
    "four = []\n",
    "\n",
    "# Construct trigram list looking at all songs\n",
    "i=0\n",
    "while i < len(sentences): \n",
    "    songtrigram = fourgram[trigram[sentences[i]]]\n",
    "    for s in songtrigram:\n",
    "        if len(re.findall('_', s)) > 2:\n",
    "            four.append(s)\n",
    "    i = i + 1\n",
    "    \n",
    "four_df = pd.DataFrame(four, columns = ['Phrases'])\n",
    "test_four = four_df.groupby(by = \"Phrases\").size().reset_index(name='counts')\n",
    "test_four.sort_values(by = 'counts', ascending = False).head(20)"
   ]
  },
  {
   "cell_type": "code",
   "execution_count": 28,
   "id": "pretty-dominant",
   "metadata": {},
   "outputs": [
    {
     "name": "stderr",
     "output_type": "stream",
     "text": [
      "/Library/Frameworks/Python.framework/Versions/3.9/lib/python3.9/site-packages/ipykernel/ipkernel.py:283: DeprecationWarning: `should_run_async` will not call `transform_cell` automatically in the future. Please pass the result to `transformed_cell` argument and any exception that happen during thetransform in `preprocessing_exc_tuple` in IPython 7.17 and above.\n",
      "  and should_run_async(code)\n"
     ]
    },
    {
     "data": {
      "text/plain": [
       "182"
      ]
     },
     "execution_count": 28,
     "metadata": {},
     "output_type": "execute_result"
    }
   ],
   "source": [
    "len(set(tri))"
   ]
  },
  {
   "cell_type": "code",
   "execution_count": 29,
   "id": "included-classroom",
   "metadata": {},
   "outputs": [
    {
     "name": "stderr",
     "output_type": "stream",
     "text": [
      "/Library/Frameworks/Python.framework/Versions/3.9/lib/python3.9/site-packages/ipykernel/ipkernel.py:283: DeprecationWarning: `should_run_async` will not call `transform_cell` automatically in the future. Please pass the result to `transformed_cell` argument and any exception that happen during thetransform in `preprocessing_exc_tuple` in IPython 7.17 and above.\n",
      "  and should_run_async(code)\n"
     ]
    },
    {
     "data": {
      "text/html": [
       "<div>\n",
       "<style scoped>\n",
       "    .dataframe tbody tr th:only-of-type {\n",
       "        vertical-align: middle;\n",
       "    }\n",
       "\n",
       "    .dataframe tbody tr th {\n",
       "        vertical-align: top;\n",
       "    }\n",
       "\n",
       "    .dataframe thead th {\n",
       "        text-align: right;\n",
       "    }\n",
       "</style>\n",
       "<table border=\"1\" class=\"dataframe\">\n",
       "  <thead>\n",
       "    <tr style=\"text-align: right;\">\n",
       "      <th></th>\n",
       "      <th>phrase</th>\n",
       "      <th>score</th>\n",
       "      <th>wordcount</th>\n",
       "    </tr>\n",
       "  </thead>\n",
       "  <tbody>\n",
       "    <tr>\n",
       "      <th>117</th>\n",
       "      <td>finger_on_the_trigger</td>\n",
       "      <td>95.061224</td>\n",
       "      <td>4</td>\n",
       "    </tr>\n",
       "    <tr>\n",
       "      <th>82</th>\n",
       "      <td>lonely_with_a_diamond</td>\n",
       "      <td>90.740260</td>\n",
       "      <td>4</td>\n",
       "    </tr>\n",
       "    <tr>\n",
       "      <th>152</th>\n",
       "      <td>burn_with_the_fire</td>\n",
       "      <td>142.465426</td>\n",
       "      <td>4</td>\n",
       "    </tr>\n",
       "    <tr>\n",
       "      <th>39</th>\n",
       "      <td>step_on_the_glass</td>\n",
       "      <td>330.745562</td>\n",
       "      <td>4</td>\n",
       "    </tr>\n",
       "    <tr>\n",
       "      <th>94</th>\n",
       "      <td>is_in_the_gutter</td>\n",
       "      <td>17.787559</td>\n",
       "      <td>4</td>\n",
       "    </tr>\n",
       "    <tr>\n",
       "      <th>127</th>\n",
       "      <td>name_by_the_way</td>\n",
       "      <td>12.471218</td>\n",
       "      <td>4</td>\n",
       "    </tr>\n",
       "    <tr>\n",
       "      <th>144</th>\n",
       "      <td>just_a_clone</td>\n",
       "      <td>10.214912</td>\n",
       "      <td>3</td>\n",
       "    </tr>\n",
       "    <tr>\n",
       "      <th>154</th>\n",
       "      <td>back_to_ask</td>\n",
       "      <td>40.700971</td>\n",
       "      <td>3</td>\n",
       "    </tr>\n",
       "    <tr>\n",
       "      <th>156</th>\n",
       "      <td>back_to_put</td>\n",
       "      <td>38.082780</td>\n",
       "      <td>3</td>\n",
       "    </tr>\n",
       "    <tr>\n",
       "      <th>158</th>\n",
       "      <td>stay_a_sec</td>\n",
       "      <td>126.379845</td>\n",
       "      <td>3</td>\n",
       "    </tr>\n",
       "    <tr>\n",
       "      <th>161</th>\n",
       "      <td>ball_and_chain</td>\n",
       "      <td>190.122449</td>\n",
       "      <td>3</td>\n",
       "    </tr>\n",
       "    <tr>\n",
       "      <th>192</th>\n",
       "      <td>what_a_shame</td>\n",
       "      <td>12.820183</td>\n",
       "      <td>3</td>\n",
       "    </tr>\n",
       "    <tr>\n",
       "      <th>166</th>\n",
       "      <td>man_and_sure</td>\n",
       "      <td>66.542857</td>\n",
       "      <td>3</td>\n",
       "    </tr>\n",
       "    <tr>\n",
       "      <th>200</th>\n",
       "      <td>door_and_leave</td>\n",
       "      <td>153.349794</td>\n",
       "      <td>3</td>\n",
       "    </tr>\n",
       "    <tr>\n",
       "      <th>207</th>\n",
       "      <td>more_and_more</td>\n",
       "      <td>40.294118</td>\n",
       "      <td>3</td>\n",
       "    </tr>\n",
       "    <tr>\n",
       "      <th>210</th>\n",
       "      <td>black_and_white</td>\n",
       "      <td>105.863636</td>\n",
       "      <td>3</td>\n",
       "    </tr>\n",
       "    <tr>\n",
       "      <th>229</th>\n",
       "      <td>left_the_city</td>\n",
       "      <td>45.666667</td>\n",
       "      <td>3</td>\n",
       "    </tr>\n",
       "    <tr>\n",
       "      <th>231</th>\n",
       "      <td>got_a_boyfriend</td>\n",
       "      <td>32.860670</td>\n",
       "      <td>3</td>\n",
       "    </tr>\n",
       "    <tr>\n",
       "      <th>232</th>\n",
       "      <td>gutter_the_gutter</td>\n",
       "      <td>19.388137</td>\n",
       "      <td>3</td>\n",
       "    </tr>\n",
       "    <tr>\n",
       "      <th>238</th>\n",
       "      <td>trying_to_cop</td>\n",
       "      <td>48.860140</td>\n",
       "      <td>3</td>\n",
       "    </tr>\n",
       "    <tr>\n",
       "      <th>130</th>\n",
       "      <td>all_the_same</td>\n",
       "      <td>22.196052</td>\n",
       "      <td>3</td>\n",
       "    </tr>\n",
       "    <tr>\n",
       "      <th>6</th>\n",
       "      <td>had_a_dream</td>\n",
       "      <td>28.230303</td>\n",
       "      <td>3</td>\n",
       "    </tr>\n",
       "    <tr>\n",
       "      <th>125</th>\n",
       "      <td>belong_to_anyone</td>\n",
       "      <td>211.727273</td>\n",
       "      <td>3</td>\n",
       "    </tr>\n",
       "    <tr>\n",
       "      <th>61</th>\n",
       "      <td>cities_and_napalm</td>\n",
       "      <td>427.775510</td>\n",
       "      <td>3</td>\n",
       "    </tr>\n",
       "    <tr>\n",
       "      <th>26</th>\n",
       "      <td>filled_by_models</td>\n",
       "      <td>258.777778</td>\n",
       "      <td>3</td>\n",
       "    </tr>\n",
       "    <tr>\n",
       "      <th>27</th>\n",
       "      <td>told_a_tight</td>\n",
       "      <td>15.683502</td>\n",
       "      <td>3</td>\n",
       "    </tr>\n",
       "    <tr>\n",
       "      <th>29</th>\n",
       "      <td>tell_the_mirror</td>\n",
       "      <td>19.571429</td>\n",
       "      <td>3</td>\n",
       "    </tr>\n",
       "    <tr>\n",
       "      <th>38</th>\n",
       "      <td>want_to_end</td>\n",
       "      <td>16.201739</td>\n",
       "      <td>3</td>\n",
       "    </tr>\n",
       "    <tr>\n",
       "      <th>42</th>\n",
       "      <td>bury_a_friend</td>\n",
       "      <td>123.020408</td>\n",
       "      <td>3</td>\n",
       "    </tr>\n",
       "    <tr>\n",
       "      <th>43</th>\n",
       "      <td>try_to_wake</td>\n",
       "      <td>95.061224</td>\n",
       "      <td>3</td>\n",
       "    </tr>\n",
       "    <tr>\n",
       "      <th>67</th>\n",
       "      <td>how_to_make</td>\n",
       "      <td>24.501461</td>\n",
       "      <td>3</td>\n",
       "    </tr>\n",
       "    <tr>\n",
       "      <th>9</th>\n",
       "      <td>re_a_tough</td>\n",
       "      <td>17.733503</td>\n",
       "      <td>3</td>\n",
       "    </tr>\n",
       "    <tr>\n",
       "      <th>71</th>\n",
       "      <td>fallen_from_quite</td>\n",
       "      <td>211.108187</td>\n",
       "      <td>3</td>\n",
       "    </tr>\n",
       "    <tr>\n",
       "      <th>85</th>\n",
       "      <td>friend_or_anything</td>\n",
       "      <td>27.160350</td>\n",
       "      <td>3</td>\n",
       "    </tr>\n",
       "    <tr>\n",
       "      <th>96</th>\n",
       "      <td>what_an_expensive</td>\n",
       "      <td>24.153969</td>\n",
       "      <td>3</td>\n",
       "    </tr>\n",
       "    <tr>\n",
       "      <th>98</th>\n",
       "      <td>is_for_vendetta</td>\n",
       "      <td>20.960194</td>\n",
       "      <td>3</td>\n",
       "    </tr>\n",
       "    <tr>\n",
       "      <th>100</th>\n",
       "      <td>got_a_bellyache</td>\n",
       "      <td>36.968254</td>\n",
       "      <td>3</td>\n",
       "    </tr>\n",
       "    <tr>\n",
       "      <th>107</th>\n",
       "      <td>one_by_one</td>\n",
       "      <td>21.974888</td>\n",
       "      <td>3</td>\n",
       "    </tr>\n",
       "    <tr>\n",
       "      <th>245</th>\n",
       "      <td>dumb_and_broke</td>\n",
       "      <td>120.762963</td>\n",
       "      <td>3</td>\n",
       "    </tr>\n",
       "  </tbody>\n",
       "</table>\n",
       "</div>"
      ],
      "text/plain": [
       "                    phrase       score  wordcount\n",
       "117  finger_on_the_trigger   95.061224          4\n",
       "82   lonely_with_a_diamond   90.740260          4\n",
       "152     burn_with_the_fire  142.465426          4\n",
       "39       step_on_the_glass  330.745562          4\n",
       "94        is_in_the_gutter   17.787559          4\n",
       "127        name_by_the_way   12.471218          4\n",
       "144           just_a_clone   10.214912          3\n",
       "154            back_to_ask   40.700971          3\n",
       "156            back_to_put   38.082780          3\n",
       "158             stay_a_sec  126.379845          3\n",
       "161         ball_and_chain  190.122449          3\n",
       "192           what_a_shame   12.820183          3\n",
       "166           man_and_sure   66.542857          3\n",
       "200         door_and_leave  153.349794          3\n",
       "207          more_and_more   40.294118          3\n",
       "210        black_and_white  105.863636          3\n",
       "229          left_the_city   45.666667          3\n",
       "231        got_a_boyfriend   32.860670          3\n",
       "232      gutter_the_gutter   19.388137          3\n",
       "238          trying_to_cop   48.860140          3\n",
       "130           all_the_same   22.196052          3\n",
       "6              had_a_dream   28.230303          3\n",
       "125       belong_to_anyone  211.727273          3\n",
       "61       cities_and_napalm  427.775510          3\n",
       "26        filled_by_models  258.777778          3\n",
       "27            told_a_tight   15.683502          3\n",
       "29         tell_the_mirror   19.571429          3\n",
       "38             want_to_end   16.201739          3\n",
       "42           bury_a_friend  123.020408          3\n",
       "43             try_to_wake   95.061224          3\n",
       "67             how_to_make   24.501461          3\n",
       "9               re_a_tough   17.733503          3\n",
       "71       fallen_from_quite  211.108187          3\n",
       "85      friend_or_anything   27.160350          3\n",
       "96       what_an_expensive   24.153969          3\n",
       "98         is_for_vendetta   20.960194          3\n",
       "100        got_a_bellyache   36.968254          3\n",
       "107             one_by_one   21.974888          3\n",
       "245         dumb_and_broke  120.762963          3"
      ]
     },
     "execution_count": 29,
     "metadata": {},
     "output_type": "execute_result"
    }
   ],
   "source": [
    "from gensim.models.phrases import Phrases, Phraser\n",
    "\n",
    "phrases = Phrases(sentences, min_count=5, threshold=10, connector_words=ENGLISH_CONNECTOR_WORDS)\n",
    "phrases_df = pd.DataFrame(columns = ['phrase', 'score'])\n",
    "phrase_col = []\n",
    "score_col = []\n",
    "wordcount_col = []\n",
    "for phrase, score in phrases.find_phrases(sentences).items():\n",
    "    phrase_col.append(phrase)\n",
    "    score_col.append(score)\n",
    "    wordcount_col.append(len(re.findall('_', phrase)) + 1)   \n",
    "phrases_df['phrase'] = phrase_col\n",
    "phrases_df['score'] = score_col\n",
    "phrases_df['wordcount'] = wordcount_col\n",
    "phrases_df[phrases_df['wordcount'] > 2].sort_values(by='wordcount', ascending = False).head(50)\n"
   ]
  },
  {
   "cell_type": "code",
   "execution_count": 30,
   "id": "surgical-geneva",
   "metadata": {},
   "outputs": [
    {
     "name": "stderr",
     "output_type": "stream",
     "text": [
      "/Library/Frameworks/Python.framework/Versions/3.9/lib/python3.9/site-packages/ipykernel/ipkernel.py:283: DeprecationWarning: `should_run_async` will not call `transform_cell` automatically in the future. Please pass the result to `transformed_cell` argument and any exception that happen during thetransform in `preprocessing_exc_tuple` in IPython 7.17 and above.\n",
      "  and should_run_async(code)\n"
     ]
    },
    {
     "data": {
      "text/html": [
       "<div>\n",
       "<style scoped>\n",
       "    .dataframe tbody tr th:only-of-type {\n",
       "        vertical-align: middle;\n",
       "    }\n",
       "\n",
       "    .dataframe tbody tr th {\n",
       "        vertical-align: top;\n",
       "    }\n",
       "\n",
       "    .dataframe thead th {\n",
       "        text-align: right;\n",
       "    }\n",
       "</style>\n",
       "<table border=\"1\" class=\"dataframe\">\n",
       "  <thead>\n",
       "    <tr style=\"text-align: right;\">\n",
       "      <th></th>\n",
       "      <th>N-gram</th>\n",
       "      <th>Count</th>\n",
       "    </tr>\n",
       "  </thead>\n",
       "  <tbody>\n",
       "    <tr>\n",
       "      <th>46</th>\n",
       "      <td>(could, lie, say, i, like)</td>\n",
       "      <td>6</td>\n",
       "    </tr>\n",
       "    <tr>\n",
       "      <th>47</th>\n",
       "      <td>(lie, say, i, like, it)</td>\n",
       "      <td>6</td>\n",
       "    </tr>\n",
       "    <tr>\n",
       "      <th>53</th>\n",
       "      <td>(that, like, it, like, that)</td>\n",
       "      <td>6</td>\n",
       "    </tr>\n",
       "    <tr>\n",
       "      <th>52</th>\n",
       "      <td>(like, that, like, it, like)</td>\n",
       "      <td>6</td>\n",
       "    </tr>\n",
       "    <tr>\n",
       "      <th>51</th>\n",
       "      <td>(it, like, that, like, it)</td>\n",
       "      <td>6</td>\n",
       "    </tr>\n",
       "    <tr>\n",
       "      <th>50</th>\n",
       "      <td>(like, it, like, that, like)</td>\n",
       "      <td>6</td>\n",
       "    </tr>\n",
       "    <tr>\n",
       "      <th>49</th>\n",
       "      <td>(i, like, it, like, that)</td>\n",
       "      <td>6</td>\n",
       "    </tr>\n",
       "    <tr>\n",
       "      <th>48</th>\n",
       "      <td>(say, i, like, it, like)</td>\n",
       "      <td>6</td>\n",
       "    </tr>\n",
       "    <tr>\n",
       "      <th>45</th>\n",
       "      <td>(i, could, lie, say, i)</td>\n",
       "      <td>6</td>\n",
       "    </tr>\n",
       "    <tr>\n",
       "      <th>54</th>\n",
       "      <td>(like, it, like, that, i)</td>\n",
       "      <td>3</td>\n",
       "    </tr>\n",
       "  </tbody>\n",
       "</table>\n",
       "</div>"
      ],
      "text/plain": [
       "                          N-gram  Count\n",
       "46    (could, lie, say, i, like)      6\n",
       "47       (lie, say, i, like, it)      6\n",
       "53  (that, like, it, like, that)      6\n",
       "52  (like, that, like, it, like)      6\n",
       "51    (it, like, that, like, it)      6\n",
       "50  (like, it, like, that, like)      6\n",
       "49     (i, like, it, like, that)      6\n",
       "48      (say, i, like, it, like)      6\n",
       "45       (i, could, lie, say, i)      6\n",
       "54     (like, it, like, that, i)      3"
      ]
     },
     "execution_count": 30,
     "metadata": {},
     "output_type": "execute_result"
    }
   ],
   "source": [
    "from nltk import ngrams\n",
    "tgs = nltk.ngrams(sentences[0],5)\n",
    "fdist = nltk.FreqDist(tgs)\n",
    "d = Counter()\n",
    "ngrams_df = pd.DataFrame(columns = ['N-gram', 'Count'])\n",
    "ngrams_col = []\n",
    "Count_col = []\n",
    "for k, v in fdist.items():\n",
    "    d[k] = v\n",
    "    ngrams_col.append(k)\n",
    "    Count_col.append(v)\n",
    "ngrams_df['N-gram'] = ngrams_col\n",
    "ngrams_df['Count'] = Count_col\n",
    "ngrams_df.sort_values(by='Count', ascending = False).head(10)"
   ]
  },
  {
   "cell_type": "code",
   "execution_count": 31,
   "id": "international-television",
   "metadata": {
    "scrolled": true
   },
   "outputs": [
    {
     "name": "stderr",
     "output_type": "stream",
     "text": [
      "/Library/Frameworks/Python.framework/Versions/3.9/lib/python3.9/site-packages/ipykernel/ipkernel.py:283: DeprecationWarning: `should_run_async` will not call `transform_cell` automatically in the future. Please pass the result to `transformed_cell` argument and any exception that happen during thetransform in `preprocessing_exc_tuple` in IPython 7.17 and above.\n",
      "  and should_run_async(code)\n"
     ]
    },
    {
     "data": {
      "text/plain": [
       "0      [don, t, you, know, i, am, no, good, for, you,...\n",
       "1      [i, had, a, dream, i, got, everything, i, want...\n",
       "2      [white, shirt, now, red, my, bloody, nose, sle...\n",
       "3      [don, t, be, that, way, fall, apart, twice, a,...\n",
       "4      [billie, what, do, you, want, from, me, why, d...\n",
       "                             ...                        \n",
       "148    [oh, boy, we, bout, to, bomb, the, next, one, ...\n",
       "149    [north, americafebruary, february, 3, 2022, ne...\n",
       "150    [something, s, in, the, air, right, now, like,...\n",
       "151    [من, دوست, شما, نیستم, یا, هر, چیز, دیگری, لعن...\n",
       "152    [ورس۱, کمک, من, خودم, را, دوباره, گم, کردم, ام...\n",
       "Name: lyrics, Length: 153, dtype: object"
      ]
     },
     "execution_count": 31,
     "metadata": {},
     "output_type": "execute_result"
    }
   ],
   "source": [
    "artist_df.lyrics"
   ]
  },
  {
   "cell_type": "code",
   "execution_count": 32,
   "id": "joined-comment",
   "metadata": {},
   "outputs": [
    {
     "name": "stderr",
     "output_type": "stream",
     "text": [
      "/Library/Frameworks/Python.framework/Versions/3.9/lib/python3.9/site-packages/ipykernel/ipkernel.py:283: DeprecationWarning: `should_run_async` will not call `transform_cell` automatically in the future. Please pass the result to `transformed_cell` argument and any exception that happen during thetransform in `preprocessing_exc_tuple` in IPython 7.17 and above.\n",
      "  and should_run_async(code)\n",
      "/Library/Frameworks/Python.framework/Versions/3.9/lib/python3.9/site-packages/pandas/core/generic.py:5494: SettingWithCopyWarning: \n",
      "A value is trying to be set on a copy of a slice from a DataFrame.\n",
      "Try using .loc[row_indexer,col_indexer] = value instead\n",
      "\n",
      "See the caveats in the documentation: https://pandas.pydata.org/pandas-docs/stable/user_guide/indexing.html#returning-a-view-versus-a-copy\n",
      "  self[name] = value\n"
     ]
    }
   ],
   "source": [
    "stop_words = stopwords.words(\"english\")\n",
    "artist_df.lyrics = artist_df.lyrics.apply(lambda x: [y for y in x if y not in stop_words])"
   ]
  },
  {
   "cell_type": "code",
   "execution_count": 33,
   "id": "steady-thanks",
   "metadata": {
    "scrolled": true
   },
   "outputs": [
    {
     "name": "stderr",
     "output_type": "stream",
     "text": [
      "/Library/Frameworks/Python.framework/Versions/3.9/lib/python3.9/site-packages/ipykernel/ipkernel.py:283: DeprecationWarning: `should_run_async` will not call `transform_cell` automatically in the future. Please pass the result to `transformed_cell` argument and any exception that happen during thetransform in `preprocessing_exc_tuple` in IPython 7.17 and above.\n",
      "  and should_run_async(code)\n"
     ]
    },
    {
     "data": {
      "text/plain": [
       "0      [know, good, learned, lose, afford, tore, shir...\n",
       "1      [dream, got, everything, wanted, think, honest...\n",
       "2      [white, shirt, red, bloody, nose, sleepin, tip...\n",
       "3      [way, fall, apart, twice, day, wish, could, fe...\n",
       "4      [billie, want, run, wondering, know, scared, c...\n",
       "                             ...                        \n",
       "148    [oh, boy, bout, bomb, next, one, oh, oh, alrig...\n",
       "149    [north, americafebruary, february, 3, 2022, ne...\n",
       "150    [something, air, right, like, losing, track, t...\n",
       "151    [من, دوست, شما, نیستم, یا, هر, چیز, دیگری, لعن...\n",
       "152    [ورس۱, کمک, من, خودم, را, دوباره, گم, کردم, ام...\n",
       "Name: lyrics, Length: 153, dtype: object"
      ]
     },
     "execution_count": 33,
     "metadata": {},
     "output_type": "execute_result"
    }
   ],
   "source": [
    "artist_df.lyrics"
   ]
  },
  {
   "cell_type": "code",
   "execution_count": 34,
   "id": "indian-gospel",
   "metadata": {},
   "outputs": [
    {
     "name": "stderr",
     "output_type": "stream",
     "text": [
      "/Library/Frameworks/Python.framework/Versions/3.9/lib/python3.9/site-packages/ipykernel/ipkernel.py:283: DeprecationWarning: `should_run_async` will not call `transform_cell` automatically in the future. Please pass the result to `transformed_cell` argument and any exception that happen during thetransform in `preprocessing_exc_tuple` in IPython 7.17 and above.\n",
      "  and should_run_async(code)\n"
     ]
    }
   ],
   "source": [
    "lemma = WordNetLemmatizer()\n",
    "\n",
    "# Dictionary to convert between part-of-speech tags and the ones the lemmatizer understands\n",
    "\n",
    "tag_dict = defaultdict(lambda : wordnet.NOUN)\n",
    "tag_dict['J'] = wordnet.ADJ\n",
    "tag_dict['V'] = wordnet.VERB\n",
    "tag_dict['R'] = wordnet.ADV\n",
    "\n",
    "# function to lemmatize a sentence\n",
    "\n",
    "def get_lemma(word):\n",
    "    \"\"\"Gets the POS tag for a word, and then returns the lemmatized form of the word\"\"\"\n",
    "    tag = pos_tag([word])[0][1][0]\n",
    "    tag = tag_dict[tag]\n",
    "    \n",
    "    return lemma.lemmatize(word, tag)\n",
    "\n",
    "# Perform the lemmatization\n",
    "#artist_df.lyrics = artist_df.lyrics.apply(lambda x: [get_lemma(word) for word in x])#\n",
    "artist_df.lyrics = artist_df.lyrics.apply(lambda x: [get_lemma(word) for word in x])"
   ]
  },
  {
   "cell_type": "code",
   "execution_count": 35,
   "id": "meaningful-wonder",
   "metadata": {},
   "outputs": [
    {
     "name": "stderr",
     "output_type": "stream",
     "text": [
      "/Library/Frameworks/Python.framework/Versions/3.9/lib/python3.9/site-packages/ipykernel/ipkernel.py:283: DeprecationWarning: `should_run_async` will not call `transform_cell` automatically in the future. Please pass the result to `transformed_cell` argument and any exception that happen during thetransform in `preprocessing_exc_tuple` in IPython 7.17 and above.\n",
      "  and should_run_async(code)\n"
     ]
    }
   ],
   "source": [
    "remove_words = ['like', 'get', 'got', 'know', 'say']\n",
    "artist_df.lyrics = artist_df.lyrics.apply(lambda x: [y for y in x if y not in remove_words])"
   ]
  },
  {
   "cell_type": "code",
   "execution_count": 36,
   "id": "random-canon",
   "metadata": {},
   "outputs": [
    {
     "name": "stderr",
     "output_type": "stream",
     "text": [
      "/Library/Frameworks/Python.framework/Versions/3.9/lib/python3.9/site-packages/ipykernel/ipkernel.py:283: DeprecationWarning: `should_run_async` will not call `transform_cell` automatically in the future. Please pass the result to `transformed_cell` argument and any exception that happen during thetransform in `preprocessing_exc_tuple` in IPython 7.17 and above.\n",
      "  and should_run_async(code)\n"
     ]
    },
    {
     "data": {
      "text/plain": [
       "['good',\n",
       " 'learn',\n",
       " 'lose',\n",
       " 'afford',\n",
       " 'tore',\n",
       " 'shirt',\n",
       " 'stop',\n",
       " 'bleedin',\n",
       " 'nothing',\n",
       " 'ever',\n",
       " 'stop',\n",
       " 'leavin',\n",
       " 'quiet',\n",
       " 'come',\n",
       " 'home',\n",
       " 'could',\n",
       " 'lie',\n",
       " 'could',\n",
       " 'lie',\n",
       " 'much',\n",
       " 'already',\n",
       " 'hurt',\n",
       " 'let',\n",
       " 'call',\n",
       " 'friend',\n",
       " 'keep',\n",
       " 'closer',\n",
       " 'call',\n",
       " 'back',\n",
       " 'call',\n",
       " 'party',\n",
       " 'quiet',\n",
       " 'come',\n",
       " 'home',\n",
       " 'could',\n",
       " 'lie',\n",
       " 'could',\n",
       " 'lie',\n",
       " 'nothing',\n",
       " 'well',\n",
       " 'sometimes',\n",
       " 'goodbye',\n",
       " 'let',\n",
       " 'let',\n",
       " 'go',\n",
       " 'let',\n",
       " 'let',\n",
       " 'go',\n",
       " 'quiet',\n",
       " 'come',\n",
       " 'home',\n",
       " 'could',\n",
       " 'lie',\n",
       " 'could',\n",
       " 'lie']"
      ]
     },
     "execution_count": 36,
     "metadata": {},
     "output_type": "execute_result"
    }
   ],
   "source": [
    "artist_df.lyrics[0]"
   ]
  },
  {
   "cell_type": "code",
   "execution_count": 37,
   "id": "streaming-reflection",
   "metadata": {},
   "outputs": [
    {
     "name": "stderr",
     "output_type": "stream",
     "text": [
      "/Library/Frameworks/Python.framework/Versions/3.9/lib/python3.9/site-packages/ipykernel/ipkernel.py:283: DeprecationWarning: `should_run_async` will not call `transform_cell` automatically in the future. Please pass the result to `transformed_cell` argument and any exception that happen during thetransform in `preprocessing_exc_tuple` in IPython 7.17 and above.\n",
      "  and should_run_async(code)\n"
     ]
    }
   ],
   "source": [
    "# Create the list of words and their frequency (corpus)\n",
    "from gensim import corpora\n",
    "pyLDAvis.enable_notebook()\n",
    "#dictionary = corpora.Dictionary(artist_df.lyrics )\n",
    "dictionary = corpora.Dictionary(artist_df.lyrics)\n",
    "corpus = [dictionary.doc2bow(text) for text in artist_df.lyrics ]\n",
    "\n",
    "import pickle\n",
    "pickle.dump(corpus, open('corpus.pkl', 'wb'))\n",
    "dictionary.save('dictionary.gensim')"
   ]
  },
  {
   "cell_type": "code",
   "execution_count": null,
   "id": "former-alaska",
   "metadata": {},
   "outputs": [],
   "source": []
  },
  {
   "cell_type": "code",
   "execution_count": 38,
   "id": "effective-parent",
   "metadata": {},
   "outputs": [
    {
     "name": "stderr",
     "output_type": "stream",
     "text": [
      "/Library/Frameworks/Python.framework/Versions/3.9/lib/python3.9/site-packages/ipykernel/ipkernel.py:283: DeprecationWarning: `should_run_async` will not call `transform_cell` automatically in the future. Please pass the result to `transformed_cell` argument and any exception that happen during thetransform in `preprocessing_exc_tuple` in IPython 7.17 and above.\n",
      "  and should_run_async(code)\n"
     ]
    },
    {
     "name": "stdout",
     "output_type": "stream",
     "text": [
      "(0, '0.051*\"eye\" + 0.043*\"ocean\" + 0.025*\"want\" + 0.024*\"fall\" + 0.020*\"give\" + 0.018*\"make\" + 0.015*\"think\" + 0.014*\"cry\" + 0.013*\"scar\" + 0.013*\"friend\"')\n",
      "(1, '0.027*\"one\" + 0.020*\"da\" + 0.014*\"see\" + 0.013*\"watch\" + 0.013*\"want\" + 0.013*\"na\" + 0.012*\"mine\" + 0.012*\"bad\" + 0.012*\"sorry\" + 0.011*\"guy\"')\n",
      "(2, '0.030*\"love\" + 0.019*\"want\" + 0.017*\"boy\" + 0.016*\"let\" + 0.015*\"could\" + 0.013*\"never\" + 0.011*\"back\" + 0.011*\"need\" + 0.011*\"go\" + 0.010*\"watch\"')\n"
     ]
    }
   ],
   "source": [
    "import gensim\n",
    "NUM_TOPICS = 3\n",
    "ldamodel = gensim.models.ldamodel.LdaModel(corpus, num_topics = NUM_TOPICS, id2word=dictionary, passes=15)\n",
    "ldamodel.save('model3.gensim')\n",
    "topics = ldamodel.print_topics(num_words=10)\n",
    "for topic in topics:\n",
    "    print(topic)"
   ]
  },
  {
   "cell_type": "code",
   "execution_count": 39,
   "id": "written-sweet",
   "metadata": {
    "scrolled": false
   },
   "outputs": [
    {
     "name": "stderr",
     "output_type": "stream",
     "text": [
      "/Library/Frameworks/Python.framework/Versions/3.9/lib/python3.9/site-packages/ipykernel/ipkernel.py:283: DeprecationWarning: `should_run_async` will not call `transform_cell` automatically in the future. Please pass the result to `transformed_cell` argument and any exception that happen during thetransform in `preprocessing_exc_tuple` in IPython 7.17 and above.\n",
      "  and should_run_async(code)\n"
     ]
    },
    {
     "data": {
      "text/html": [
       "\n",
       "<link rel=\"stylesheet\" type=\"text/css\" href=\"https://cdn.jsdelivr.net/gh/bmabey/pyLDAvis@3.3.1/pyLDAvis/js/ldavis.v1.0.0.css\">\n",
       "\n",
       "\n",
       "<div id=\"ldavis_el268441407041390727845795711602\"></div>\n",
       "<script type=\"text/javascript\">\n",
       "\n",
       "var ldavis_el268441407041390727845795711602_data = {\"mdsDat\": {\"x\": [-0.09952682671127058, -0.10325706562137199, 0.20278389233264263], \"y\": [0.1439838653522275, -0.14222889039542977, -0.001754974956797685], \"topics\": [1, 2, 3], \"cluster\": [1, 1, 1], \"Freq\": [39.40283497079603, 34.6863268971691, 25.91083813203487]}, \"tinfo\": {\"Term\": [\"eye\", \"ocean\", \"one\", \"love\", \"fall\", \"boy\", \"give\", \"cry\", \"bad\", \"scar\", \"sorry\", \"fair\", \"guy\", \"let\", \"da\", \"rose\", \"quite\", \"mine\", \"burn\", \"ahh\", \"cop\", \"need\", \"high\", \"bury\", \"na\", \"bloom\", \"help\", \"really\", \"copycat\", \"end\", \"cop\", \"bad\", \"copycat\", \"guy\", \"2022\", \"sad\", \"gutter\", \"crown\", \"sorry\", \"makethem\", \"bellyache\", \"type\", \"manner\", \"bunny\", \"bow\", \"lover\", \"uninvited\", \"miss\", \"one\", \"v\", \"vendetta\", \"glamor\", \"finger\", \"la\", \"pretend\", \"february\", \"march\", \"trigger\", \"silence\", \"mad\", \"mine\", \"kinda\", \"maybe\", \"na\", \"baby\", \"tryna\", \"oh\", \"gon\", \"da\", \"way\", \"see\", \"mind\", \"tell\", \"cause\", \"watch\", \"time\", \"call\", \"feel\", \"well\", \"want\", \"nothing\", \"make\", \"think\", \"back\", \"go\", \"rose\", \"bloom\", \"help\", \"bore\", \"boy\", \"dumb\", \"burn\", \"grave\", \"foot\", \"gold\", \"sure\", \"broke\", \"fire\", \"remember\", \"lip\", \"sec\", \"teach\", \"god\", \"live\", \"fade\", \"goodbye\", \"fingertip\", \"free\", \"touch\", \"seven\", \"torn\", \"door\", \"retrace\", \"carelessly\", \"afraid\", \"love\", \"girl\", \"hell\", \"smoke\", \"young\", \"let\", \"home\", \"mean\", \"need\", \"car\", \"could\", \"start\", \"six\", \"heart\", \"water\", \"back\", \"come\", \"never\", \"want\", \"lie\", \"go\", \"watch\", \"would\", \"give\", \"feel\", \"make\", \"see\", \"nothing\", \"well\", \"quite\", \"\\u0634\\u0645\\u0627\", \"bury\", \"ocean\", \"diamond\", \"\\u0641\\u06a9\\u0631\", \"burning\", \"anyway\", \"ahh\", \"careful\", \"eye\", \"asleep\", \"fifteen\", \"flare\", \"napalm\", \"son\", \"staple\", \"cannibal\", \"creature\", \"boyfriend\", \"blind\", \"\\u06a9\\u0647\", \"therefore\", \"fair\", \"\\u062f\\u06cc\\u06af\\u0631\\u06cc\", \"\\u062f\\u0648\\u0633\\u062a\", \"\\u06cc\\u0627\", \"\\u0647\\u0631\", \"\\u0647\\u0633\\u062a\\u0645\", \"\\u0646\\u06cc\\u0633\\u062a\\u0645\", \"fall\", \"cry\", \"scar\", \"probably\", \"hug\", \"star\", \"\\u0645\\u0646\", \"high\", \"end\", \"give\", \"friend\", \"stop\", \"really\", \"think\", \"want\", \"make\", \"walk\", \"da\", \"care\", \"never\", \"go\", \"would\", \"time\", \"try\", \"mind\"], \"Freq\": [190.0, 158.0, 152.0, 167.0, 94.0, 82.0, 120.0, 55.0, 65.0, 56.0, 65.0, 45.0, 61.0, 90.0, 161.0, 42.0, 32.0, 72.0, 43.0, 33.0, 46.0, 64.0, 49.0, 30.0, 78.0, 38.0, 38.0, 72.0, 41.0, 49.0, 45.991788809036926, 64.90458987084457, 40.509066743937574, 60.136369625723916, 29.553116312385832, 30.436194406344587, 28.582506821885975, 24.061870117863027, 64.11341633461218, 22.238918382773985, 22.22486972871235, 27.54546669005585, 20.401616265700884, 19.49252139757766, 18.584045134818407, 18.572541599968513, 17.664819025785356, 16.75378628167502, 147.22134013747242, 16.74367524012401, 16.743121020216297, 14.923865767791924, 14.92309692969671, 14.012987043792617, 15.75259243699677, 13.098594893817975, 13.097191038379753, 13.09627196755329, 12.184722877333035, 12.18281403792423, 65.43391911864998, 16.309038061562585, 45.52333032904566, 68.00480261257034, 19.455470723655946, 36.10546260001722, 38.209528811850724, 41.70136167260377, 109.15781986595638, 57.33077968195572, 75.56565996261375, 56.12127237465218, 49.56079332017455, 59.71476860836311, 70.46047906344178, 46.23525673077438, 44.12422174014682, 49.69112463314246, 43.34975307366133, 68.31054515756017, 34.596562921153954, 50.60818562340164, 40.888122861776715, 34.855556575067, 35.1329417451887, 42.374886936518784, 37.89709147647373, 37.84857020466266, 30.74785882067191, 80.79548803963759, 27.155744384097954, 42.794917116052716, 20.88592254985339, 26.960683536967032, 18.206488123864087, 18.1904447642703, 16.419905111765594, 28.51370430613472, 17.23075935486473, 18.737332619816385, 11.042894683033804, 11.042813554933891, 12.739383273162986, 15.208046895577912, 10.142203849734946, 10.101650913216712, 9.251947979369437, 9.245313812349826, 9.211710664500181, 8.358859293569974, 8.357702940310253, 8.35763959371169, 8.353243117502698, 8.35296139184067, 9.18651761111756, 144.19601789556157, 25.041123789704038, 16.368821081072333, 9.980236599305586, 35.23071534053894, 74.84741580427327, 29.079629481564538, 26.049419378427437, 54.222701286575884, 31.405049774472527, 72.8341408768284, 36.97244673816764, 21.80421929217724, 22.124588602015116, 26.221024202588946, 54.663242427918, 45.352630497232596, 60.044391501089194, 92.92950454468696, 35.20277837922912, 52.41092188706327, 49.39745973551098, 38.5124025492178, 44.28620718059334, 35.80191495380695, 44.22507882432453, 30.261336939524224, 28.32948128407713, 27.83487993325316, 31.48436495437162, 25.42395741137767, 29.554707517313755, 153.55257763962672, 19.348052092179834, 15.887958538375946, 14.14668027367336, 15.807648710091637, 32.38452441155867, 13.286092114993615, 181.8496241804567, 12.422502860268388, 12.419566518162476, 12.417615598188236, 12.416758023578282, 9.82364500453995, 9.823168481959007, 9.822517621848451, 9.820170706628376, 8.948297928710392, 10.561848217431354, 8.08762924269554, 8.0872996617467, 41.835182573278686, 7.223554333423534, 7.222906794027828, 7.222720833996242, 7.222465969131521, 7.222327329286544, 7.222297442852896, 85.75813842118713, 49.125968099550704, 47.991691604025036, 7.977309284135132, 7.970283481691728, 18.401178478843615, 25.442659677411587, 37.342285267971036, 35.70048067695079, 70.8578517987917, 46.56884166733935, 27.42832263076828, 40.98633148123546, 53.81520267035111, 88.941760879101, 64.426171732019, 22.109058793665206, 46.05812568558899, 21.55305324243623, 38.171879534600436, 37.35125451878027, 27.846852247574123, 26.192536863357365, 19.809968508855373, 19.627599830378177], \"Total\": [190.0, 158.0, 152.0, 167.0, 94.0, 82.0, 120.0, 55.0, 65.0, 56.0, 65.0, 45.0, 61.0, 90.0, 161.0, 42.0, 32.0, 72.0, 43.0, 33.0, 46.0, 64.0, 49.0, 30.0, 78.0, 38.0, 38.0, 72.0, 41.0, 49.0, 46.61391099299459, 65.80925723590934, 41.127229919347016, 61.22520015560241, 30.15429512293757, 31.06775807402776, 29.238613407506378, 24.667388880463196, 65.76214618213758, 22.838593442852957, 22.838264057646715, 28.32078274812901, 21.009386339977134, 20.09507002009145, 19.180854389653728, 19.1805353069253, 18.26617143554673, 17.35182180545283, 152.5167197847492, 17.35162577054225, 17.351582306030934, 15.522841103392073, 15.522857898089754, 14.608422337783214, 16.43271833792098, 13.694122261909092, 13.694087411901588, 13.694008089421608, 12.779641966073243, 12.779484881984525, 72.07399881427052, 17.328801939569825, 51.0819031757522, 78.39410797664996, 20.989187182877018, 42.82721807799487, 46.349651688978824, 51.86281511287084, 161.06178749026844, 77.84958666007327, 109.7984220152075, 76.64257858962479, 70.84128288043689, 94.71950541563406, 133.5590837423045, 76.22475453813472, 72.272394106955, 88.69166669491196, 71.63346217505007, 250.18181058134812, 63.3920034365777, 159.25943617974517, 110.1437644255789, 93.72831771042573, 124.89511815103225, 42.98971941653456, 38.51143491923822, 38.511670124458114, 31.345523352134162, 82.37121341191417, 27.762297595392898, 43.887397353285095, 21.493120391532376, 27.75768900350951, 18.8058776520102, 18.80610915952515, 17.01439279938592, 29.555396971484544, 17.907902138761564, 19.70865093530018, 11.640291744034844, 11.640264468840986, 13.431589786990806, 16.10884467161325, 10.744572873931501, 10.745176251568, 9.84889629829832, 9.848916730197374, 9.847694216081097, 8.953164065103866, 8.953169436752617, 8.95316350502749, 8.953257071323442, 8.953268485527706, 9.84995887122789, 167.84345618807012, 27.697682845995033, 17.881669584763465, 10.747778760129357, 40.395455337605725, 90.71857204936883, 33.2056848343498, 29.614052999818636, 64.68697899269712, 36.8110477879077, 98.72945335119749, 46.288718109333296, 26.04550820126641, 26.950488727349686, 33.26858713464671, 93.72831771042573, 72.72799325404551, 122.86168800535977, 250.18181058134812, 61.32019602480716, 124.89511815103225, 133.5590837423045, 86.3809387974647, 120.50136827538996, 88.69166669491196, 159.25943617974517, 109.7984220152075, 63.3920034365777, 71.63346217505007, 32.117429343391215, 26.045419600955555, 30.38852479269793, 158.06281001772945, 19.97445955005535, 16.504565409171548, 14.770165979750129, 16.50702371226234, 33.878393838654475, 13.902644094113175, 190.30648831710081, 13.035073664391572, 13.035273904386623, 13.03538845758789, 13.03544014867775, 10.43294576249886, 10.43296392260366, 10.43298280768281, 10.433165360995929, 9.565835106935275, 11.306915344546015, 8.698345801130646, 8.698409793645194, 45.2146205203619, 7.830874515484594, 7.830891385694123, 7.830919801333563, 7.830914249212663, 7.830921485472446, 7.830928768927149, 94.03786210189439, 55.72655875595224, 56.82427578790917, 8.701739593226584, 8.702354710726986, 21.796378059540586, 31.418407978934727, 49.83923925117191, 49.03230375802991, 120.50136827538996, 76.73487289695113, 41.36446249765781, 72.72108755534754, 110.1437644255789, 250.18181058134812, 159.25943617974517, 38.76109157524051, 161.06178749026844, 39.05145861516499, 122.86168800535977, 124.89511815103225, 86.3809387974647, 76.22475453813472, 48.06044696257584, 76.64257858962479], \"Category\": [\"Default\", \"Default\", \"Default\", \"Default\", \"Default\", \"Default\", \"Default\", \"Default\", \"Default\", \"Default\", \"Default\", \"Default\", \"Default\", \"Default\", \"Default\", \"Default\", \"Default\", \"Default\", \"Default\", \"Default\", \"Default\", \"Default\", \"Default\", \"Default\", \"Default\", \"Default\", \"Default\", \"Default\", \"Default\", \"Default\", \"Topic1\", \"Topic1\", \"Topic1\", \"Topic1\", \"Topic1\", \"Topic1\", \"Topic1\", \"Topic1\", \"Topic1\", \"Topic1\", \"Topic1\", \"Topic1\", \"Topic1\", \"Topic1\", \"Topic1\", \"Topic1\", \"Topic1\", \"Topic1\", \"Topic1\", \"Topic1\", \"Topic1\", \"Topic1\", \"Topic1\", \"Topic1\", \"Topic1\", \"Topic1\", \"Topic1\", \"Topic1\", \"Topic1\", \"Topic1\", \"Topic1\", \"Topic1\", \"Topic1\", \"Topic1\", \"Topic1\", \"Topic1\", \"Topic1\", \"Topic1\", \"Topic1\", \"Topic1\", \"Topic1\", \"Topic1\", \"Topic1\", \"Topic1\", \"Topic1\", \"Topic1\", \"Topic1\", \"Topic1\", \"Topic1\", \"Topic1\", \"Topic1\", \"Topic1\", \"Topic1\", \"Topic1\", \"Topic1\", \"Topic2\", \"Topic2\", \"Topic2\", \"Topic2\", \"Topic2\", \"Topic2\", \"Topic2\", \"Topic2\", \"Topic2\", \"Topic2\", \"Topic2\", \"Topic2\", \"Topic2\", \"Topic2\", \"Topic2\", \"Topic2\", \"Topic2\", \"Topic2\", \"Topic2\", \"Topic2\", \"Topic2\", \"Topic2\", \"Topic2\", \"Topic2\", \"Topic2\", \"Topic2\", \"Topic2\", \"Topic2\", \"Topic2\", \"Topic2\", \"Topic2\", \"Topic2\", \"Topic2\", \"Topic2\", \"Topic2\", \"Topic2\", \"Topic2\", \"Topic2\", \"Topic2\", \"Topic2\", \"Topic2\", \"Topic2\", \"Topic2\", \"Topic2\", \"Topic2\", \"Topic2\", \"Topic2\", \"Topic2\", \"Topic2\", \"Topic2\", \"Topic2\", \"Topic2\", \"Topic2\", \"Topic2\", \"Topic2\", \"Topic2\", \"Topic2\", \"Topic2\", \"Topic2\", \"Topic3\", \"Topic3\", \"Topic3\", \"Topic3\", \"Topic3\", \"Topic3\", \"Topic3\", \"Topic3\", \"Topic3\", \"Topic3\", \"Topic3\", \"Topic3\", \"Topic3\", \"Topic3\", \"Topic3\", \"Topic3\", \"Topic3\", \"Topic3\", \"Topic3\", \"Topic3\", \"Topic3\", \"Topic3\", \"Topic3\", \"Topic3\", \"Topic3\", \"Topic3\", \"Topic3\", \"Topic3\", \"Topic3\", \"Topic3\", \"Topic3\", \"Topic3\", \"Topic3\", \"Topic3\", \"Topic3\", \"Topic3\", \"Topic3\", \"Topic3\", \"Topic3\", \"Topic3\", \"Topic3\", \"Topic3\", \"Topic3\", \"Topic3\", \"Topic3\", \"Topic3\", \"Topic3\", \"Topic3\", \"Topic3\", \"Topic3\", \"Topic3\", \"Topic3\", \"Topic3\", \"Topic3\", \"Topic3\"], \"logprob\": [30.0, 29.0, 28.0, 27.0, 26.0, 25.0, 24.0, 23.0, 22.0, 21.0, 20.0, 19.0, 18.0, 17.0, 16.0, 15.0, 14.0, 13.0, 12.0, 11.0, 10.0, 9.0, 8.0, 7.0, 6.0, 5.0, 4.0, 3.0, 2.0, 1.0, -4.7698, -4.4253, -4.8967, -4.5016, -5.2121, -5.1826, -5.2455, -5.4176, -4.4376, -5.4964, -5.497, -5.2824, -5.5826, -5.6282, -5.676, -5.6766, -5.7267, -5.7796, -3.6063, -5.7802, -5.7803, -5.8953, -5.8954, -5.9583, -5.8413, -6.0258, -6.0259, -6.0259, -6.0981, -6.0982, -4.4172, -5.8065, -4.78, -4.3787, -5.6301, -5.0118, -4.9552, -4.8677, -3.9055, -4.5494, -4.2733, -4.5707, -4.6951, -4.5087, -4.3432, -4.7645, -4.8113, -4.6924, -4.829, -4.3742, -5.0545, -4.6741, -4.8874, -5.047, -5.0391, -4.7242, -4.8359, -4.8372, -5.0449, -4.0788, -5.1692, -4.7143, -5.4317, -5.1764, -5.569, -5.5699, -5.6723, -5.1204, -5.6241, -5.5403, -6.069, -6.069, -5.9261, -5.7489, -6.1541, -6.1581, -6.2459, -6.2467, -6.2503, -6.3474, -6.3476, -6.3476, -6.3481, -6.3482, -6.253, -3.4996, -5.2502, -5.6754, -6.1702, -4.9089, -4.1553, -5.1007, -5.2108, -4.4777, -5.0238, -4.1826, -4.8606, -5.3887, -5.3741, -5.2042, -4.4696, -4.6563, -4.3757, -3.9389, -4.9096, -4.5117, -4.5709, -4.8198, -4.6801, -4.8928, -4.6815, -5.0609, -5.1269, -5.1445, -4.7296, -4.9434, -4.7928, -3.145, -5.2165, -5.4135, -5.5296, -5.4186, -4.7014, -5.5924, -2.9759, -5.6596, -5.6598, -5.66, -5.66, -5.8943, -5.8943, -5.8944, -5.8946, -5.9876, -5.8218, -6.0887, -6.0888, -4.4453, -6.2017, -6.2018, -6.2019, -6.2019, -6.2019, -6.2019, -3.7276, -4.2847, -4.3081, -6.1025, -6.1034, -5.2667, -4.9427, -4.559, -4.6039, -3.9184, -4.3382, -4.8675, -4.4658, -4.1935, -3.6911, -4.0136, -5.0831, -4.3492, -5.1086, -4.537, -4.5587, -4.8524, -4.9136, -5.1929, -5.2021], \"loglift\": [30.0, 29.0, 28.0, 27.0, 26.0, 25.0, 24.0, 23.0, 22.0, 21.0, 20.0, 19.0, 18.0, 17.0, 16.0, 15.0, 14.0, 13.0, 12.0, 11.0, 10.0, 9.0, 8.0, 7.0, 6.0, 5.0, 4.0, 3.0, 2.0, 1.0, 0.9179, 0.9175, 0.9162, 0.9134, 0.9112, 0.9108, 0.9086, 0.9065, 0.9059, 0.9047, 0.9041, 0.9036, 0.902, 0.9009, 0.8997, 0.8991, 0.8979, 0.8963, 0.896, 0.8957, 0.8956, 0.892, 0.8919, 0.8897, 0.8891, 0.8869, 0.8868, 0.8867, 0.8837, 0.8835, 0.8347, 0.8707, 0.8161, 0.7892, 0.8555, 0.7606, 0.7382, 0.7133, 0.5423, 0.6254, 0.5577, 0.6197, 0.5741, 0.47, 0.2918, 0.4314, 0.4379, 0.352, 0.4291, -0.3668, 0.3257, -0.2151, -0.0596, -0.0579, -0.337, 1.0444, 1.0427, 1.0415, 1.0396, 1.0395, 1.0367, 1.0336, 1.0302, 1.0297, 1.0264, 1.0255, 1.0233, 1.0229, 1.0203, 1.0083, 1.0061, 1.0061, 1.0059, 1.0013, 1.0011, 0.9971, 0.9963, 0.9956, 0.9921, 0.9901, 0.99, 0.99, 0.9895, 0.9894, 0.9891, 0.907, 0.958, 0.9704, 0.9847, 0.922, 0.8665, 0.9261, 0.9306, 0.8824, 0.9, 0.7546, 0.8341, 0.8811, 0.8615, 0.8208, 0.5196, 0.5866, 0.3428, 0.0685, 0.5038, 0.1905, 0.0642, 0.251, 0.0578, 0.1517, -0.2224, -0.23, 0.2534, 0.1136, 1.3306, 1.3264, 1.3227, 1.3216, 1.3186, 1.3124, 1.3074, 1.3072, 1.3054, 1.3051, 1.3051, 1.3024, 1.3021, 1.302, 1.3019, 1.2903, 1.2903, 1.2902, 1.29, 1.2838, 1.2823, 1.2777, 1.2777, 1.2728, 1.2698, 1.2697, 1.2697, 1.2696, 1.2696, 1.2696, 1.2583, 1.2244, 1.1816, 1.2636, 1.2626, 1.1812, 1.1395, 1.0618, 1.0332, 0.8195, 0.8511, 0.9397, 0.7771, 0.6343, 0.3163, 0.4455, 0.7891, 0.0986, 0.7561, 0.1815, 0.1434, 0.2185, 0.2823, 0.4642, -0.0117]}, \"token.table\": {\"Topic\": [1, 2, 2, 3, 3, 3, 1, 2, 1, 2, 3, 1, 2, 1, 3, 2, 2, 1, 2, 3, 3, 2, 1, 1, 2, 3, 2, 3, 1, 2, 3, 3, 1, 2, 1, 2, 3, 3, 2, 1, 2, 3, 1, 2, 3, 1, 1, 1, 2, 3, 3, 1, 2, 3, 1, 2, 3, 3, 2, 2, 1, 2, 3, 1, 2, 3, 2, 2, 3, 1, 2, 3, 1, 1, 2, 3, 3, 1, 2, 1, 2, 3, 2, 2, 1, 2, 3, 2, 3, 1, 2, 3, 1, 1, 2, 3, 2, 2, 1, 2, 3, 2, 2, 1, 1, 3, 1, 2, 2, 3, 2, 2, 3, 1, 2, 3, 1, 3, 1, 1, 2, 3, 1, 2, 3, 1, 2, 2, 3, 1, 2, 3, 1, 1, 1, 2, 3, 1, 1, 1, 1, 2, 1, 2, 1, 2, 3, 1, 2, 3, 1, 1, 2, 3, 3, 1, 2, 1, 2, 3, 1, 2, 1, 2, 3, 1, 2, 3, 1, 2, 3, 1, 3, 3, 1, 2, 3, 2, 2, 2, 1, 1, 3, 2, 1, 2, 3, 2, 1, 1, 2, 2, 3, 1, 3, 3, 2, 3, 2, 3, 1, 2, 3, 2, 2, 1, 2, 3, 3, 1, 2, 3, 1, 2, 3, 2, 2, 1, 1, 2, 3, 1, 2, 1, 1, 1, 1, 1, 2, 3, 1, 2, 3, 1, 2, 3, 1, 2, 1, 2, 3, 1, 2, 1, 2, 3, 1, 2, 3, 3, 3, 3, 2, 3, 3, 3, 3, 3, 3], \"Freq\": [0.9948831460888569, 0.9137093989589486, 0.029517337945904117, 0.9445548142689317, 0.9692843651829436, 0.9205931864260097, 0.9052280030881903, 0.04764357910990475, 0.3734196970027003, 0.5868023810042433, 0.0426765368003086, 0.9877029878485277, 0.015195430582285042, 0.9632956315974441, 0.9728559615780569, 0.9867199204519193, 0.9889769474175764, 0.9905710983473561, 0.9833532449612326, 0.012140163518039909, 0.9408483315246526, 0.9403803114606282, 0.9455055384730396, 0.022785584479986194, 0.9797801326394063, 0.947856646918794, 0.03290715843634142, 0.9872147530902425, 0.6088078379537968, 0.2628942936618668, 0.12452887594509479, 0.9584986560733174, 0.13582878783587582, 0.84213848458243, 0.43532304817414247, 0.025607238127890734, 0.5633592388135962, 0.9350739263694895, 0.8935284374562659, 0.6334492535272108, 0.19003477605816324, 0.17947728849937641, 0.2749972755351323, 0.6187438699540477, 0.09624904643729632, 0.9868298758907647, 0.9969064311018145, 0.20257379455811014, 0.7393943501371021, 0.060772138367433046, 0.9584818848347497, 0.9729444861919789, 0.10766858987787634, 0.8792934840026567, 0.6767589115859398, 0.037252784123996685, 0.28560467828397457, 0.9512147226004596, 0.8935389145420769, 0.9725419845827386, 0.04078943567224219, 0.22434189619733202, 0.7342098421003594, 0.02627340793377828, 0.021018726347022624, 0.9563520487895294, 0.930702422267712, 0.06635021958547642, 0.9289030741966698, 0.053170073077397996, 0.0319020438464388, 0.9145252569312455, 0.9493123948630261, 0.56375082195708, 0.40590059180909766, 0.033825049317424805, 0.9205790448301794, 0.9663169049460862, 0.9138079767938068, 0.03383476801089202, 0.9812082723158684, 0.9205709549081224, 0.972703455125039, 0.9138060810693481, 0.20851015185086363, 0.18244638286950568, 0.6124985710619119, 0.9026025801149244, 0.07220820640919395, 0.041493304777860784, 0.36514108204517487, 0.5892049278456231, 0.9663179504377055, 0.28023513263084837, 0.416349339908689, 0.29624856878118255, 0.9678675574645064, 0.9571475648771938, 0.8098287744040493, 0.17353473737229627, 0.019281637485810698, 0.9306501602094002, 0.9770568264379773, 0.9918390997486523, 0.9799886296412492, 0.016333143827354152, 0.14842031402349862, 0.8163117271292424, 0.8947710348944827, 0.05592318968090517, 0.9867138941831255, 0.24077414062289954, 0.7423869335872736, 0.12046130112823868, 0.8733444331797304, 0.9192914177744069, 0.9233183030076912, 0.0577073939379807, 0.9583512631470416, 0.1653465179306067, 0.8267325896530335, 0.01102310119537378, 0.3913881813145341, 0.5707744310836956, 0.03261568177621118, 0.05073914004985999, 0.9640436609473398, 0.931165474978647, 0.0620776983319098, 0.12511658468513248, 0.8579422949837656, 0.017873797812161783, 0.9905875772476425, 0.9390049842240997, 0.3202322023948384, 0.2762787628504488, 0.4018600186915619, 0.9632817386521066, 0.9519554582107689, 0.9493148107629024, 0.9005146077218887, 0.09788202257846618, 0.1013032562620987, 0.8779615542715221, 0.730664351728646, 0.013047577709440107, 0.2609515541888021, 0.9018508903259315, 0.08324777449162445, 0.013874629081937408, 0.9797242151632591, 0.8674121277105941, 0.11480454631463745, 0.012756060701626383, 0.9205673044509525, 0.15459061708738875, 0.8347893322718992, 0.20348084423933188, 0.4883540261743965, 0.30929088324378445, 0.5521201114114768, 0.4416960891291814, 0.018979796700207333, 0.006326598900069111, 0.9742962306106431, 0.8198551362368871, 0.10787567582064304, 0.06472540549238583, 0.96382875403736, 0.01966997457219102, 0.01966997457219102, 0.9736672698318928, 0.9193564015897675, 0.9652080080431111, 0.41253508450581405, 0.02750233896705427, 0.5637979488246125, 0.9493015914579735, 0.8935295765854141, 0.9769777651501977, 0.9656313123243871, 0.15838301280937717, 0.8447094016500116, 0.944993496888687, 0.6921775250055389, 0.2732279703969232, 0.03643039605292309, 0.8935388586456324, 0.9389934422151265, 0.15357734504890588, 0.8446753977689824, 0.930424808993709, 0.9585020594993333, 0.9732042476646509, 0.01520631636976017, 0.9585003910858335, 0.13763754655956967, 0.8258252793574179, 0.7993308415369491, 0.19443182631979844, 0.193402730676193, 0.14505204800714477, 0.6527342160321514, 0.9571357821712493, 0.9449957111752173, 0.7058031414307956, 0.28232125657231827, 0.014116062828615912, 0.9197083363265511, 0.37224077290097135, 0.1361856486223066, 0.4902683350403037, 0.6034784930266521, 0.05247639069796975, 0.34109653953680336, 0.8935383225475582, 0.913919522937986, 0.9493203096646542, 0.3537212213868448, 0.24968556803777278, 0.416142613396288, 0.840586935495986, 0.14009782258266434, 0.9886732386254331, 0.985428175987183, 0.9797352838752895, 0.9797377380442858, 0.10319626815038116, 0.3353878714887388, 0.5675794748270964, 0.27180233383869207, 0.37172966245585826, 0.3557412898771117, 0.5241126102292036, 0.3668788271604425, 0.10482252204584072, 0.21040869489495187, 0.7815180096098212, 0.7321811514412779, 0.1284528335861891, 0.14129811694480804, 0.600278119950719, 0.39087877578186353, 0.23153256121577376, 0.45148849437075883, 0.32414558570208324, 0.1237763000370317, 0.866434100259222, 0.8938956825257418, 0.8938976082630821, 0.9598616717652266, 0.9694287370395611, 0.190970847536987, 0.7957118647374459, 0.8938914152527802, 0.8938930726643821, 0.8938922466514404, 0.919715102492261, 0.893892438894335], \"Term\": [\"2022\", \"afraid\", \"ahh\", \"ahh\", \"anyway\", \"asleep\", \"baby\", \"baby\", \"back\", \"back\", \"back\", \"bad\", \"bad\", \"bellyache\", \"blind\", \"bloom\", \"bore\", \"bow\", \"boy\", \"boy\", \"boyfriend\", \"broke\", \"bunny\", \"burn\", \"burn\", \"burning\", \"bury\", \"bury\", \"call\", \"call\", \"call\", \"cannibal\", \"car\", \"car\", \"care\", \"care\", \"care\", \"careful\", \"carelessly\", \"cause\", \"cause\", \"cause\", \"come\", \"come\", \"come\", \"cop\", \"copycat\", \"could\", \"could\", \"could\", \"creature\", \"crown\", \"cry\", \"cry\", \"da\", \"da\", \"da\", \"diamond\", \"door\", \"dumb\", \"end\", \"end\", \"end\", \"eye\", \"eye\", \"eye\", \"fade\", \"fair\", \"fair\", \"fall\", \"fall\", \"fall\", \"february\", \"feel\", \"feel\", \"feel\", \"fifteen\", \"finger\", \"fingertip\", \"fire\", \"fire\", \"flare\", \"foot\", \"free\", \"friend\", \"friend\", \"friend\", \"girl\", \"girl\", \"give\", \"give\", \"give\", \"glamor\", \"go\", \"go\", \"go\", \"god\", \"gold\", \"gon\", \"gon\", \"gon\", \"goodbye\", \"grave\", \"gutter\", \"guy\", \"guy\", \"heart\", \"heart\", \"hell\", \"hell\", \"help\", \"high\", \"high\", \"home\", \"home\", \"hug\", \"kinda\", \"kinda\", \"la\", \"let\", \"let\", \"let\", \"lie\", \"lie\", \"lie\", \"lip\", \"lip\", \"live\", \"live\", \"love\", \"love\", \"love\", \"lover\", \"mad\", \"make\", \"make\", \"make\", \"makethem\", \"manner\", \"march\", \"maybe\", \"maybe\", \"mean\", \"mean\", \"mind\", \"mind\", \"mind\", \"mine\", \"mine\", \"mine\", \"miss\", \"na\", \"na\", \"na\", \"napalm\", \"need\", \"need\", \"never\", \"never\", \"never\", \"nothing\", \"nothing\", \"ocean\", \"ocean\", \"ocean\", \"oh\", \"oh\", \"oh\", \"one\", \"one\", \"one\", \"pretend\", \"probably\", \"quite\", \"really\", \"really\", \"really\", \"remember\", \"retrace\", \"rose\", \"sad\", \"scar\", \"scar\", \"sec\", \"see\", \"see\", \"see\", \"seven\", \"silence\", \"six\", \"six\", \"smoke\", \"son\", \"sorry\", \"sorry\", \"staple\", \"star\", \"star\", \"start\", \"start\", \"stop\", \"stop\", \"stop\", \"sure\", \"teach\", \"tell\", \"tell\", \"tell\", \"therefore\", \"think\", \"think\", \"think\", \"time\", \"time\", \"time\", \"torn\", \"touch\", \"trigger\", \"try\", \"try\", \"try\", \"tryna\", \"tryna\", \"type\", \"uninvited\", \"v\", \"vendetta\", \"walk\", \"walk\", \"walk\", \"want\", \"want\", \"want\", \"watch\", \"watch\", \"watch\", \"water\", \"water\", \"way\", \"way\", \"way\", \"well\", \"well\", \"would\", \"would\", \"would\", \"young\", \"young\", \"\\u062f\\u0648\\u0633\\u062a\", \"\\u062f\\u06cc\\u06af\\u0631\\u06cc\", \"\\u0634\\u0645\\u0627\", \"\\u0641\\u06a9\\u0631\", \"\\u0645\\u0646\", \"\\u0645\\u0646\", \"\\u0646\\u06cc\\u0633\\u062a\\u0645\", \"\\u0647\\u0631\", \"\\u0647\\u0633\\u062a\\u0645\", \"\\u06a9\\u0647\", \"\\u06cc\\u0627\"]}, \"R\": 30, \"lambda.step\": 0.01, \"plot.opts\": {\"xlab\": \"PC1\", \"ylab\": \"PC2\"}, \"topic.order\": [2, 3, 1]};\n",
       "\n",
       "function LDAvis_load_lib(url, callback){\n",
       "  var s = document.createElement('script');\n",
       "  s.src = url;\n",
       "  s.async = true;\n",
       "  s.onreadystatechange = s.onload = callback;\n",
       "  s.onerror = function(){console.warn(\"failed to load library \" + url);};\n",
       "  document.getElementsByTagName(\"head\")[0].appendChild(s);\n",
       "}\n",
       "\n",
       "if(typeof(LDAvis) !== \"undefined\"){\n",
       "   // already loaded: just create the visualization\n",
       "   !function(LDAvis){\n",
       "       new LDAvis(\"#\" + \"ldavis_el268441407041390727845795711602\", ldavis_el268441407041390727845795711602_data);\n",
       "   }(LDAvis);\n",
       "}else if(typeof define === \"function\" && define.amd){\n",
       "   // require.js is available: use it to load d3/LDAvis\n",
       "   require.config({paths: {d3: \"https://d3js.org/d3.v5\"}});\n",
       "   require([\"d3\"], function(d3){\n",
       "      window.d3 = d3;\n",
       "      LDAvis_load_lib(\"https://cdn.jsdelivr.net/gh/bmabey/pyLDAvis@3.3.1/pyLDAvis/js/ldavis.v3.0.0.js\", function(){\n",
       "        new LDAvis(\"#\" + \"ldavis_el268441407041390727845795711602\", ldavis_el268441407041390727845795711602_data);\n",
       "      });\n",
       "    });\n",
       "}else{\n",
       "    // require.js not available: dynamically load d3 & LDAvis\n",
       "    LDAvis_load_lib(\"https://d3js.org/d3.v5.js\", function(){\n",
       "         LDAvis_load_lib(\"https://cdn.jsdelivr.net/gh/bmabey/pyLDAvis@3.3.1/pyLDAvis/js/ldavis.v3.0.0.js\", function(){\n",
       "                 new LDAvis(\"#\" + \"ldavis_el268441407041390727845795711602\", ldavis_el268441407041390727845795711602_data);\n",
       "            })\n",
       "         });\n",
       "}\n",
       "</script>"
      ],
      "text/plain": [
       "<IPython.core.display.HTML object>"
      ]
     },
     "execution_count": 39,
     "metadata": {},
     "output_type": "execute_result"
    }
   ],
   "source": [
    "import pyLDAvis.gensim_models\n",
    "lda_display = pyLDAvis.gensim_models.prepare(ldamodel, corpus, dictionary)\n",
    "pyLDAvis.display(lda_display)"
   ]
  },
  {
   "cell_type": "code",
   "execution_count": 40,
   "id": "desirable-surgery",
   "metadata": {},
   "outputs": [
    {
     "name": "stderr",
     "output_type": "stream",
     "text": [
      "/Library/Frameworks/Python.framework/Versions/3.9/lib/python3.9/site-packages/ipykernel/ipkernel.py:283: DeprecationWarning: `should_run_async` will not call `transform_cell` automatically in the future. Please pass the result to `transformed_cell` argument and any exception that happen during thetransform in `preprocessing_exc_tuple` in IPython 7.17 and above.\n",
      "  and should_run_async(code)\n"
     ]
    },
    {
     "data": {
      "text/plain": [
       "<gensim.corpora.dictionary.Dictionary at 0x7ff8584701f0>"
      ]
     },
     "execution_count": 40,
     "metadata": {},
     "output_type": "execute_result"
    }
   ],
   "source": [
    "dictionary"
   ]
  },
  {
   "cell_type": "code",
   "execution_count": 41,
   "id": "visible-melbourne",
   "metadata": {},
   "outputs": [
    {
     "name": "stdout",
     "output_type": "stream",
     "text": [
      "['good', 'learn', 'lose', 'afford', 'tore', 'shirt', 'stop', 'bleedin', 'nothing', 'ever', 'stop', 'leavin', 'quiet_come', 'home_could', 'lie', 'could_lie', 'much', 'already', 'hurt', 'let', 'call', 'friend', 'keep', 'closer', 'call', 'back', 'call', 'party', 'quiet_come', 'home_could', 'lie', 'could_lie', 'nothing', 'well', 'sometimes', 'goodbye', 'let', 'let', 'go', 'let', 'let', 'go', 'quiet_come', 'home_could', 'lie', 'could_lie']\n"
     ]
    },
    {
     "name": "stderr",
     "output_type": "stream",
     "text": [
      "/Library/Frameworks/Python.framework/Versions/3.9/lib/python3.9/site-packages/ipykernel/ipkernel.py:283: DeprecationWarning: `should_run_async` will not call `transform_cell` automatically in the future. Please pass the result to `transformed_cell` argument and any exception that happen during thetransform in `preprocessing_exc_tuple` in IPython 7.17 and above.\n",
      "  and should_run_async(code)\n",
      "<ipython-input-41-00f6d1d42edf>:6: UserWarning: Pandas doesn't allow columns to be created via a new attribute name - see https://pandas.pydata.org/pandas-docs/stable/indexing.html#attribute-access\n",
      "  artist_df.lyrics1 = [wd for wd in artist_df.lyrics]\n"
     ]
    }
   ],
   "source": [
    "from gensim.test.utils import datapath\n",
    "from gensim.models.word2vec import Text8Corpus\n",
    "from gensim.models.phrases import Phrases, Phraser\n",
    "\n",
    "#sentences = Text8Corpus(datapath('testcorpus.txt'))\n",
    "artist_df.lyrics1 = [wd for wd in artist_df.lyrics]\n",
    "\n",
    "# Build the bigram models\n",
    "bigram = gensim.models.phrases.Phrases(artist_df.lyrics1, min_count=3, threshold=10)\n",
    "\n",
    "# Construct bigram\n",
    "print(bigram[artist_df.lyrics[0]])"
   ]
  },
  {
   "cell_type": "markdown",
   "id": "cloudy-france",
   "metadata": {},
   "source": [
    "# Wordcloud"
   ]
  },
  {
   "cell_type": "code",
   "execution_count": 42,
   "id": "played-stand",
   "metadata": {},
   "outputs": [
    {
     "name": "stderr",
     "output_type": "stream",
     "text": [
      "/Library/Frameworks/Python.framework/Versions/3.9/lib/python3.9/site-packages/ipykernel/ipkernel.py:283: DeprecationWarning: `should_run_async` will not call `transform_cell` automatically in the future. Please pass the result to `transformed_cell` argument and any exception that happen during thetransform in `preprocessing_exc_tuple` in IPython 7.17 and above.\n",
      "  and should_run_async(code)\n",
      "/Library/Frameworks/Python.framework/Versions/3.9/lib/python3.9/site-packages/pandas/core/generic.py:5494: SettingWithCopyWarning: \n",
      "A value is trying to be set on a copy of a slice from a DataFrame.\n",
      "Try using .loc[row_indexer,col_indexer] = value instead\n",
      "\n",
      "See the caveats in the documentation: https://pandas.pydata.org/pandas-docs/stable/user_guide/indexing.html#returning-a-view-versus-a-copy\n",
      "  self[name] = value\n"
     ]
    }
   ],
   "source": [
    "artist_df.lyrics = artist_df.lyrics.apply(lambda x: \" \".join(x))"
   ]
  },
  {
   "cell_type": "code",
   "execution_count": 43,
   "id": "welsh-organization",
   "metadata": {},
   "outputs": [
    {
     "name": "stderr",
     "output_type": "stream",
     "text": [
      "/Library/Frameworks/Python.framework/Versions/3.9/lib/python3.9/site-packages/ipykernel/ipkernel.py:283: DeprecationWarning: `should_run_async` will not call `transform_cell` automatically in the future. Please pass the result to `transformed_cell` argument and any exception that happen during thetransform in `preprocessing_exc_tuple` in IPython 7.17 and above.\n",
      "  and should_run_async(code)\n"
     ]
    },
    {
     "data": {
      "text/html": [
       "<div>\n",
       "<style scoped>\n",
       "    .dataframe tbody tr th:only-of-type {\n",
       "        vertical-align: middle;\n",
       "    }\n",
       "\n",
       "    .dataframe tbody tr th {\n",
       "        vertical-align: top;\n",
       "    }\n",
       "\n",
       "    .dataframe thead th {\n",
       "        text-align: right;\n",
       "    }\n",
       "</style>\n",
       "<table border=\"1\" class=\"dataframe\">\n",
       "  <thead>\n",
       "    <tr style=\"text-align: right;\">\n",
       "      <th></th>\n",
       "      <th>full_title</th>\n",
       "      <th>title</th>\n",
       "      <th>artist</th>\n",
       "      <th>lyrics</th>\n",
       "      <th>featured_artists</th>\n",
       "      <th>release_date</th>\n",
       "    </tr>\n",
       "  </thead>\n",
       "  <tbody>\n",
       "    <tr>\n",
       "      <th>0</th>\n",
       "      <td>​when the party's over by Billie Eilish</td>\n",
       "      <td>​when the party’s over</td>\n",
       "      <td>Billie Eilish</td>\n",
       "      <td>good learn lose afford tore shirt stop bleedin...</td>\n",
       "      <td>[]</td>\n",
       "      <td>2018-10-17</td>\n",
       "    </tr>\n",
       "    <tr>\n",
       "      <th>1</th>\n",
       "      <td>​everything i wanted by Billie Eilish</td>\n",
       "      <td>​everything i wanted</td>\n",
       "      <td>Billie Eilish</td>\n",
       "      <td>dream everything want think honest might night...</td>\n",
       "      <td>[]</td>\n",
       "      <td>2019-11-13</td>\n",
       "    </tr>\n",
       "    <tr>\n",
       "      <th>2</th>\n",
       "      <td>​bad guy by Billie Eilish</td>\n",
       "      <td>​bad guy</td>\n",
       "      <td>Billie Eilish</td>\n",
       "      <td>white shirt red bloody nose sleepin tippy toe ...</td>\n",
       "      <td>[]</td>\n",
       "      <td>2019-03-29</td>\n",
       "    </tr>\n",
       "    <tr>\n",
       "      <th>3</th>\n",
       "      <td>​idontwannabeyouanymore by Billie Eilish</td>\n",
       "      <td>​idontwannabeyouanymore</td>\n",
       "      <td>Billie Eilish</td>\n",
       "      <td>way fall apart twice day wish could feel show ...</td>\n",
       "      <td>[]</td>\n",
       "      <td>2017-07-21</td>\n",
       "    </tr>\n",
       "    <tr>\n",
       "      <th>4</th>\n",
       "      <td>​bury a friend by Billie Eilish</td>\n",
       "      <td>​bury a friend</td>\n",
       "      <td>Billie Eilish</td>\n",
       "      <td>billie want run wonder scar care fall asleep g...</td>\n",
       "      <td>[]</td>\n",
       "      <td>2019-01-30</td>\n",
       "    </tr>\n",
       "  </tbody>\n",
       "</table>\n",
       "</div>"
      ],
      "text/plain": [
       "                                 full_title                    title  \\\n",
       "0   ​when the party's over by Billie Eilish   ​when the party’s over   \n",
       "1     ​everything i wanted by Billie Eilish     ​everything i wanted   \n",
       "2                 ​bad guy by Billie Eilish                 ​bad guy   \n",
       "3  ​idontwannabeyouanymore by Billie Eilish  ​idontwannabeyouanymore   \n",
       "4           ​bury a friend by Billie Eilish           ​bury a friend   \n",
       "\n",
       "          artist                                             lyrics  \\\n",
       "0  Billie Eilish  good learn lose afford tore shirt stop bleedin...   \n",
       "1  Billie Eilish  dream everything want think honest might night...   \n",
       "2  Billie Eilish  white shirt red bloody nose sleepin tippy toe ...   \n",
       "3  Billie Eilish  way fall apart twice day wish could feel show ...   \n",
       "4  Billie Eilish  billie want run wonder scar care fall asleep g...   \n",
       "\n",
       "  featured_artists release_date  \n",
       "0               []   2018-10-17  \n",
       "1               []   2019-11-13  \n",
       "2               []   2019-03-29  \n",
       "3               []   2017-07-21  \n",
       "4               []   2019-01-30  "
      ]
     },
     "execution_count": 43,
     "metadata": {},
     "output_type": "execute_result"
    }
   ],
   "source": [
    "artist_df.head()"
   ]
  },
  {
   "cell_type": "code",
   "execution_count": 44,
   "id": "living-government",
   "metadata": {},
   "outputs": [
    {
     "name": "stderr",
     "output_type": "stream",
     "text": [
      "/Library/Frameworks/Python.framework/Versions/3.9/lib/python3.9/site-packages/ipykernel/ipkernel.py:283: DeprecationWarning: `should_run_async` will not call `transform_cell` automatically in the future. Please pass the result to `transformed_cell` argument and any exception that happen during thetransform in `preprocessing_exc_tuple` in IPython 7.17 and above.\n",
      "  and should_run_async(code)\n"
     ]
    }
   ],
   "source": [
    "# Create an object that converts strings into a sparse matrix\n",
    "from sklearn.feature_extraction.text import CountVectorizer\n",
    "\n",
    "vectorizer = CountVectorizer(max_features= 20000 , min_df=0.01, ngram_range= (1,1))\n",
    "\n",
    "# Convert the text column to a sparse matrix\n",
    "\n",
    "data_dtm = vectorizer.fit_transform(artist_df.lyrics)"
   ]
  },
  {
   "cell_type": "code",
   "execution_count": 45,
   "id": "soviet-executive",
   "metadata": {},
   "outputs": [
    {
     "name": "stderr",
     "output_type": "stream",
     "text": [
      "/Library/Frameworks/Python.framework/Versions/3.9/lib/python3.9/site-packages/ipykernel/ipkernel.py:283: DeprecationWarning: `should_run_async` will not call `transform_cell` automatically in the future. Please pass the result to `transformed_cell` argument and any exception that happen during thetransform in `preprocessing_exc_tuple` in IPython 7.17 and above.\n",
      "  and should_run_async(code)\n"
     ]
    }
   ],
   "source": [
    "# Create a dataframe of terms and frequencies\n",
    "# Get the frequency of each term\n",
    "\n",
    "term_frequencies = data_dtm.sum(axis=0)\n",
    "\n",
    "# Match frequencies to terms\n",
    "\n",
    "frequent_terms = [(word, term_frequencies[0, id]) for word, id in vectorizer.vocabulary_.items()]\n",
    "\n",
    "# Convert the word-frequency pairings to a dataframe\n",
    "\n",
    "term_df = pd.DataFrame(columns=[\"term\",\"frequency\"], data=frequent_terms)\n",
    "\n",
    "# Sort the dataframe\n",
    "\n",
    "term_df.sort_values(by=\"frequency\", ascending=False, inplace=True)"
   ]
  },
  {
   "cell_type": "code",
   "execution_count": 46,
   "id": "rotary-repair",
   "metadata": {},
   "outputs": [
    {
     "name": "stderr",
     "output_type": "stream",
     "text": [
      "/Library/Frameworks/Python.framework/Versions/3.9/lib/python3.9/site-packages/ipykernel/ipkernel.py:283: DeprecationWarning: `should_run_async` will not call `transform_cell` automatically in the future. Please pass the result to `transformed_cell` argument and any exception that happen during thetransform in `preprocessing_exc_tuple` in IPython 7.17 and above.\n",
      "  and should_run_async(code)\n"
     ]
    },
    {
     "data": {
      "image/png": "[encoded data removed]",
      "text/plain": [
       "<Figure size 1440x720 with 1 Axes>"
      ]
     },
     "metadata": {
      "needs_background": "light"
     },
     "output_type": "display_data"
    }
   ],
   "source": [
    "# Create a dictionary of most frequent terms ((required for word clouds)\n",
    "\n",
    "term_dict = term_df.set_index('term')['frequency'].to_dict()\n",
    "\n",
    "# Create a wordcloud of most frequent terms\n",
    "\n",
    "wc = WordCloud(width=800, height=300, background_color=\"white\",\n",
    "               max_words=100)\n",
    "\n",
    "wc.generate_from_frequencies(term_dict)\n",
    "\n",
    "# Display the cloud\n",
    "\n",
    "plt.figure(figsize=(20, 10))\n",
    "plt.title(\"Word cloud for lyrics\", fontsize = 40, pad = 50 )\n",
    "plt.imshow(wc, interpolation=\"bilinear\")\n",
    "plt.axis(\"off\")\n",
    "plt.show()"
   ]
  },
  {
   "cell_type": "code",
   "execution_count": null,
   "id": "australian-earthquake",
   "metadata": {},
   "outputs": [],
   "source": []
  },
  {
   "cell_type": "code",
   "execution_count": null,
   "id": "about-shuttle",
   "metadata": {},
   "outputs": [],
   "source": []
  },
  {
   "cell_type": "markdown",
   "id": "national-senegal",
   "metadata": {},
   "source": [
    "# Sentiment"
   ]
  },
  {
   "cell_type": "code",
   "execution_count": 47,
   "id": "dense-foundation",
   "metadata": {},
   "outputs": [
    {
     "name": "stderr",
     "output_type": "stream",
     "text": [
      "/Library/Frameworks/Python.framework/Versions/3.9/lib/python3.9/site-packages/ipykernel/ipkernel.py:283: DeprecationWarning: `should_run_async` will not call `transform_cell` automatically in the future. Please pass the result to `transformed_cell` argument and any exception that happen during thetransform in `preprocessing_exc_tuple` in IPython 7.17 and above.\n",
      "  and should_run_async(code)\n",
      "<ipython-input-47-d312c35c4e1f>:2: SettingWithCopyWarning: \n",
      "A value is trying to be set on a copy of a slice from a DataFrame.\n",
      "Try using .loc[row_indexer,col_indexer] = value instead\n",
      "\n",
      "See the caveats in the documentation: https://pandas.pydata.org/pandas-docs/stable/user_guide/indexing.html#returning-a-view-versus-a-copy\n",
      "  artist_df[\"sentiment\"] = artist_df.lyrics.apply(lambda x: TextBlob(x).sentiment.polarity)\n"
     ]
    }
   ],
   "source": [
    "# Assign sentiment to each lyric\n",
    "artist_df[\"sentiment\"] = artist_df.lyrics.apply(lambda x: TextBlob(x).sentiment.polarity)"
   ]
  },
  {
   "cell_type": "code",
   "execution_count": 48,
   "id": "sealed-settle",
   "metadata": {},
   "outputs": [
    {
     "name": "stderr",
     "output_type": "stream",
     "text": [
      "/Library/Frameworks/Python.framework/Versions/3.9/lib/python3.9/site-packages/ipykernel/ipkernel.py:283: DeprecationWarning: `should_run_async` will not call `transform_cell` automatically in the future. Please pass the result to `transformed_cell` argument and any exception that happen during thetransform in `preprocessing_exc_tuple` in IPython 7.17 and above.\n",
      "  and should_run_async(code)\n"
     ]
    },
    {
     "data": {
      "text/html": [
       "<div>\n",
       "<style scoped>\n",
       "    .dataframe tbody tr th:only-of-type {\n",
       "        vertical-align: middle;\n",
       "    }\n",
       "\n",
       "    .dataframe tbody tr th {\n",
       "        vertical-align: top;\n",
       "    }\n",
       "\n",
       "    .dataframe thead th {\n",
       "        text-align: right;\n",
       "    }\n",
       "</style>\n",
       "<table border=\"1\" class=\"dataframe\">\n",
       "  <thead>\n",
       "    <tr style=\"text-align: right;\">\n",
       "      <th></th>\n",
       "      <th>full_title</th>\n",
       "      <th>title</th>\n",
       "      <th>artist</th>\n",
       "      <th>lyrics</th>\n",
       "      <th>featured_artists</th>\n",
       "      <th>release_date</th>\n",
       "      <th>sentiment</th>\n",
       "    </tr>\n",
       "  </thead>\n",
       "  <tbody>\n",
       "    <tr>\n",
       "      <th>63</th>\n",
       "      <td>​good* by Billie Eilish</td>\n",
       "      <td>​good*</td>\n",
       "      <td>Billie Eilish</td>\n",
       "      <td>baby look good wait call baby good</td>\n",
       "      <td>[]</td>\n",
       "      <td>None</td>\n",
       "      <td>0.700000</td>\n",
       "    </tr>\n",
       "    <tr>\n",
       "      <th>98</th>\n",
       "      <td>What a wonderful life by Billie Eilish</td>\n",
       "      <td>What a wonderful life</td>\n",
       "      <td>Billie Eilish</td>\n",
       "      <td>lay day comfy bed wonderful life play outside ...</td>\n",
       "      <td>[]</td>\n",
       "      <td>None</td>\n",
       "      <td>0.675000</td>\n",
       "    </tr>\n",
       "    <tr>\n",
       "      <th>46</th>\n",
       "      <td>​because i'm in love with you* by Billie Eilish</td>\n",
       "      <td>​because i’m in love with you*</td>\n",
       "      <td>Billie Eilish</td>\n",
       "      <td>want swear stop breathing would benefit mm giv...</td>\n",
       "      <td>[]</td>\n",
       "      <td>None</td>\n",
       "      <td>0.500000</td>\n",
       "    </tr>\n",
       "    <tr>\n",
       "      <th>79</th>\n",
       "      <td>Six Feet Under (BLU J Remix) by Billie Eilish</td>\n",
       "      <td>Six Feet Under (BLU J Remix)</td>\n",
       "      <td>Billie Eilish</td>\n",
       "      <td>help lose remember come back end well wish tel...</td>\n",
       "      <td>[]</td>\n",
       "      <td>2017-02-03</td>\n",
       "      <td>0.500000</td>\n",
       "    </tr>\n",
       "    <tr>\n",
       "      <th>48</th>\n",
       "      <td>​bad company by Billie Eilish</td>\n",
       "      <td>​bad company</td>\n",
       "      <td>Billie Eilish</td>\n",
       "      <td>man love girl love brother county tattoo cousi...</td>\n",
       "      <td>[]</td>\n",
       "      <td>None</td>\n",
       "      <td>0.500000</td>\n",
       "    </tr>\n",
       "    <tr>\n",
       "      <th>70</th>\n",
       "      <td>​guess* by Billie Eilish</td>\n",
       "      <td>​guess*</td>\n",
       "      <td>Billie Eilish</td>\n",
       "      <td>guess think look eye come guess think might be...</td>\n",
       "      <td>[]</td>\n",
       "      <td>None</td>\n",
       "      <td>0.500000</td>\n",
       "    </tr>\n",
       "    <tr>\n",
       "      <th>83</th>\n",
       "      <td>Six Feet Under (Jerry Folk Remix) by Billie Ei...</td>\n",
       "      <td>Six Feet Under (Jerry Folk Remix)</td>\n",
       "      <td>Billie Eilish</td>\n",
       "      <td>help lose remember come back end well wish tel...</td>\n",
       "      <td>[]</td>\n",
       "      <td>2017-02-03</td>\n",
       "      <td>0.481818</td>\n",
       "    </tr>\n",
       "    <tr>\n",
       "      <th>117</th>\n",
       "      <td>Six Feet Under (Hazey Eyes Remix) by Billie Ei...</td>\n",
       "      <td>Six Feet Under (Hazey Eyes Remix)</td>\n",
       "      <td>Billie Eilish</td>\n",
       "      <td>help lose remember come back end well wish tel...</td>\n",
       "      <td>[]</td>\n",
       "      <td>2016-09-13</td>\n",
       "      <td>0.450000</td>\n",
       "    </tr>\n",
       "    <tr>\n",
       "      <th>122</th>\n",
       "      <td>Six Feet Under (Módl Remix) by Billie Eilish</td>\n",
       "      <td>Six Feet Under (Módl Remix)</td>\n",
       "      <td>Billie Eilish</td>\n",
       "      <td>help lose remember come back end well wish tel...</td>\n",
       "      <td>[]</td>\n",
       "      <td>2016-08-27</td>\n",
       "      <td>0.425000</td>\n",
       "    </tr>\n",
       "    <tr>\n",
       "      <th>59</th>\n",
       "      <td>​​my boy (TroyBoi Remix) by Billie Eilish</td>\n",
       "      <td>​​my boy (TroyBoi Remix)</td>\n",
       "      <td>Billie Eilish</td>\n",
       "      <td>boy boy boy love promise boy boy boy aint man ...</td>\n",
       "      <td>[]</td>\n",
       "      <td>2018-03-09</td>\n",
       "      <td>0.420833</td>\n",
       "    </tr>\n",
       "  </tbody>\n",
       "</table>\n",
       "</div>"
      ],
      "text/plain": [
       "                                            full_title  \\\n",
       "63                             ​good* by Billie Eilish   \n",
       "98              What a wonderful life by Billie Eilish   \n",
       "46     ​because i'm in love with you* by Billie Eilish   \n",
       "79       Six Feet Under (BLU J Remix) by Billie Eilish   \n",
       "48                       ​bad company by Billie Eilish   \n",
       "70                            ​guess* by Billie Eilish   \n",
       "83   Six Feet Under (Jerry Folk Remix) by Billie Ei...   \n",
       "117  Six Feet Under (Hazey Eyes Remix) by Billie Ei...   \n",
       "122       Six Feet Under (Módl Remix) by Billie Eilish   \n",
       "59           ​​my boy (TroyBoi Remix) by Billie Eilish   \n",
       "\n",
       "                                 title         artist  \\\n",
       "63                              ​good*  Billie Eilish   \n",
       "98               What a wonderful life  Billie Eilish   \n",
       "46      ​because i’m in love with you*  Billie Eilish   \n",
       "79        Six Feet Under (BLU J Remix)  Billie Eilish   \n",
       "48                        ​bad company  Billie Eilish   \n",
       "70                             ​guess*  Billie Eilish   \n",
       "83   Six Feet Under (Jerry Folk Remix)  Billie Eilish   \n",
       "117  Six Feet Under (Hazey Eyes Remix)  Billie Eilish   \n",
       "122        Six Feet Under (Módl Remix)  Billie Eilish   \n",
       "59            ​​my boy (TroyBoi Remix)  Billie Eilish   \n",
       "\n",
       "                                                lyrics featured_artists  \\\n",
       "63                  baby look good wait call baby good               []   \n",
       "98   lay day comfy bed wonderful life play outside ...               []   \n",
       "46   want swear stop breathing would benefit mm giv...               []   \n",
       "79   help lose remember come back end well wish tel...               []   \n",
       "48   man love girl love brother county tattoo cousi...               []   \n",
       "70   guess think look eye come guess think might be...               []   \n",
       "83   help lose remember come back end well wish tel...               []   \n",
       "117  help lose remember come back end well wish tel...               []   \n",
       "122  help lose remember come back end well wish tel...               []   \n",
       "59   boy boy boy love promise boy boy boy aint man ...               []   \n",
       "\n",
       "    release_date  sentiment  \n",
       "63          None   0.700000  \n",
       "98          None   0.675000  \n",
       "46          None   0.500000  \n",
       "79    2017-02-03   0.500000  \n",
       "48          None   0.500000  \n",
       "70          None   0.500000  \n",
       "83    2017-02-03   0.481818  \n",
       "117   2016-09-13   0.450000  \n",
       "122   2016-08-27   0.425000  \n",
       "59    2018-03-09   0.420833  "
      ]
     },
     "execution_count": 48,
     "metadata": {},
     "output_type": "execute_result"
    }
   ],
   "source": [
    "artist_df.sort_values(by=\"sentiment\", ascending=False).head(10)"
   ]
  },
  {
   "cell_type": "code",
   "execution_count": 49,
   "id": "fleet-uncle",
   "metadata": {},
   "outputs": [
    {
     "name": "stderr",
     "output_type": "stream",
     "text": [
      "/Library/Frameworks/Python.framework/Versions/3.9/lib/python3.9/site-packages/ipykernel/ipkernel.py:283: DeprecationWarning: `should_run_async` will not call `transform_cell` automatically in the future. Please pass the result to `transformed_cell` argument and any exception that happen during thetransform in `preprocessing_exc_tuple` in IPython 7.17 and above.\n",
      "  and should_run_async(code)\n",
      "<ipython-input-49-20a3b369a7a7>:1: SettingWithCopyWarning: \n",
      "A value is trying to be set on a copy of a slice from a DataFrame.\n",
      "Try using .loc[row_indexer,col_indexer] = value instead\n",
      "\n",
      "See the caveats in the documentation: https://pandas.pydata.org/pandas-docs/stable/user_guide/indexing.html#returning-a-view-versus-a-copy\n",
      "  artist_df['Datetime'] = pd.to_datetime(df['release_date'], format=\"%Y/%m/%d\")\n"
     ]
    }
   ],
   "source": [
    "artist_df['Datetime'] = pd.to_datetime(df['release_date'], format=\"%Y/%m/%d\")\n",
    "artist_df = artist_df.sort_values(by = \"Datetime\")"
   ]
  },
  {
   "cell_type": "code",
   "execution_count": 50,
   "id": "french-increase",
   "metadata": {},
   "outputs": [
    {
     "name": "stderr",
     "output_type": "stream",
     "text": [
      "/Library/Frameworks/Python.framework/Versions/3.9/lib/python3.9/site-packages/ipykernel/ipkernel.py:283: DeprecationWarning: `should_run_async` will not call `transform_cell` automatically in the future. Please pass the result to `transformed_cell` argument and any exception that happen during thetransform in `preprocessing_exc_tuple` in IPython 7.17 and above.\n",
      "  and should_run_async(code)\n"
     ]
    },
    {
     "data": {
      "image/png": "[encoded data removed]",
      "text/plain": [
       "<Figure size 1080x360 with 1 Axes>"
      ]
     },
     "metadata": {
      "needs_background": "light"
     },
     "output_type": "display_data"
    }
   ],
   "source": [
    "plt = artist_df.plot(x = 'release_date', y = 'sentiment', figsize=(15, 5))"
   ]
  },
  {
   "cell_type": "code",
   "execution_count": null,
   "id": "minor-strand",
   "metadata": {},
   "outputs": [],
   "source": []
  }
 ],
 "metadata": {
  "kernelspec": {
   "display_name": "Python 3",
   "language": "python",
   "name": "python3"
  },
  "language_info": {
   "codemirror_mode": {
    "name": "ipython",
    "version": 3
   },
   "file_extension": ".py",
   "mimetype": "text/x-python",
   "name": "python",
   "nbconvert_exporter": "python",
   "pygments_lexer": "ipython3",
   "version": "3.9.1"
  }
 },
 "nbformat": 4,
 "nbformat_minor": 5
}
