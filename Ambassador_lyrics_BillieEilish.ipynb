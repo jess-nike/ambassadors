{
 "cells": [
  {
   "cell_type": "code",
   "execution_count": 1,
   "id": "attractive-alias",
   "metadata": {
    "scrolled": true
   },
   "outputs": [],
   "source": [
    "#Copy the code and change the name for other artists\n",
    "artist_name = \"Billie Eilish\""
   ]
  },
  {
   "cell_type": "code",
   "execution_count": 2,
   "id": "chemical-pride",
   "metadata": {},
   "outputs": [],
   "source": [
    "import pandas as pd\n",
    "import codecs\n",
    "import json\n",
    "from pandas.io.json import json_normalize\n",
    "import re"
   ]
  },
  {
   "cell_type": "code",
   "execution_count": 3,
   "id": "simplified-sequence",
   "metadata": {},
   "outputs": [],
   "source": [
    "#Machine learning libraries for Text analysis\n",
    "import nltk  # machine learning with text\n",
    "from nltk import download as nltk_download\n",
    "from nltk.corpus import stopwords, wordnet  # List of common words\n",
    "from nltk.tokenize import word_tokenize  # Split text into significant forms\n",
    "from nltk.stem import WordNetLemmatizer  # Reduce words to their root form\n",
    "from nltk import pos_tag  # Tag words with parts of speech\n",
    "from collections import defaultdict, Counter  # Dictionaries that have a backup value\n",
    "from sklearn.feature_extraction.text import CountVectorizer  # Convert text to sparse matrices\n",
    "from textblob import TextBlob  # Sentiment analysis\n",
    "from gensim.models.ldamodel import LdaModel  # Topic extraction\n",
    "from gensim.models.phrases import Phrases, ENGLISH_CONNECTOR_WORDS  # ngrams\n",
    "from gensim.models.phrases import Phraser  # ngrams\n",
    "from gensim import corpora, models, similarities  # Vectorization\n",
    "import pyLDAvis\n",
    "from wordcloud import WordCloud  # Create wordclouds\n",
    "import matplotlib.pylab as plt"
   ]
  },
  {
   "cell_type": "code",
   "execution_count": null,
   "id": "deluxe-understanding",
   "metadata": {},
   "outputs": [],
   "source": []
  },
  {
   "cell_type": "markdown",
   "id": "editorial-buddy",
   "metadata": {},
   "source": [
    "# Run next 2 cells only if you want to pull data from Genius"
   ]
  },
  {
   "cell_type": "code",
   "execution_count": null,
   "id": "framed-testament",
   "metadata": {},
   "outputs": [],
   "source": [
    "from lyricsgenius import Genius\n",
    "\n",
    "genius = Genius('JOSfSO0Cn0Y3avlw_ItRLdmwFj3s-36fjS-POUolMGFiWkUiE_zHXfQZVsOOqbxA', timeout=10)\n",
    "artist = genius.search_artist(artist_name, max_songs = 300) # use max_songs=10 parameter to limit to 10 songs"
   ]
  },
  {
   "cell_type": "code",
   "execution_count": null,
   "id": "polyphonic-diagram",
   "metadata": {
    "scrolled": true
   },
   "outputs": [],
   "source": [
    "artist_json = artist.save_lyrics()"
   ]
  },
  {
   "cell_type": "markdown",
   "id": "rural-johnson",
   "metadata": {},
   "source": [
    "# Start here to use the data from the file on disk"
   ]
  },
  {
   "cell_type": "code",
   "execution_count": 4,
   "id": "anticipated-torture",
   "metadata": {
    "scrolled": true
   },
   "outputs": [
    {
     "name": "stderr",
     "output_type": "stream",
     "text": [
      "/Library/Frameworks/Python.framework/Versions/3.9/lib/python3.9/site-packages/ipykernel/ipkernel.py:283: DeprecationWarning: `should_run_async` will not call `transform_cell` automatically in the future. Please pass the result to `transformed_cell` argument and any exception that happen during thetransform in `preprocessing_exc_tuple` in IPython 7.17 and above.\n",
      "  and should_run_async(code)\n"
     ]
    }
   ],
   "source": [
    "#load the file\n",
    "name_string = artist_name.replace(' ', '')\n",
    "lyricsFile = \"Lyrics_\"+str(name_string)+\".json\"\n",
    "with open(lyricsFile) as json_data:\n",
    "    data = json.load(json_data)\n",
    "\n",
    "# convert to dataframe\n",
    "df = pd.DataFrame(data['songs'])\n",
    "artist_df = df[['full_title', 'title', 'artist', 'lyrics', 'featured_artists', 'release_date']]"
   ]
  },
  {
   "cell_type": "markdown",
   "id": "played-expansion",
   "metadata": {},
   "source": [
    "# Lyric Analysis\n",
    "\n",
    "## Cleaning the lyrics"
   ]
  },
  {
   "cell_type": "code",
   "execution_count": 5,
   "id": "covered-voltage",
   "metadata": {
    "scrolled": true
   },
   "outputs": [
    {
     "name": "stderr",
     "output_type": "stream",
     "text": [
      "/Library/Frameworks/Python.framework/Versions/3.9/lib/python3.9/site-packages/ipykernel/ipkernel.py:283: DeprecationWarning: `should_run_async` will not call `transform_cell` automatically in the future. Please pass the result to `transformed_cell` argument and any exception that happen during thetransform in `preprocessing_exc_tuple` in IPython 7.17 and above.\n",
      "  and should_run_async(code)\n",
      "/Library/Frameworks/Python.framework/Versions/3.9/lib/python3.9/site-packages/pandas/core/generic.py:5494: SettingWithCopyWarning: \n",
      "A value is trying to be set on a copy of a slice from a DataFrame.\n",
      "Try using .loc[row_indexer,col_indexer] = value instead\n",
      "\n",
      "See the caveats in the documentation: https://pandas.pydata.org/pandas-docs/stable/user_guide/indexing.html#returning-a-view-versus-a-copy\n",
      "  self[name] = value\n"
     ]
    }
   ],
   "source": [
    "# convert everything to lower case\n",
    "artist_df.lyrics = artist_df.lyrics.str.lower()"
   ]
  },
  {
   "cell_type": "code",
   "execution_count": 6,
   "id": "worldwide-wholesale",
   "metadata": {},
   "outputs": [
    {
     "name": "stderr",
     "output_type": "stream",
     "text": [
      "/Library/Frameworks/Python.framework/Versions/3.9/lib/python3.9/site-packages/ipykernel/ipkernel.py:283: DeprecationWarning: `should_run_async` will not call `transform_cell` automatically in the future. Please pass the result to `transformed_cell` argument and any exception that happen during thetransform in `preprocessing_exc_tuple` in IPython 7.17 and above.\n",
      "  and should_run_async(code)\n"
     ]
    },
    {
     "data": {
      "text/plain": [
       "\"[verse 1]\\nwhite shirt now red, my bloody nose\\nsleepin', you're on your tippy toes\\ncreepin' around like no one knows\\nthink you're so criminal\\nbruises on both my knees for you\\ndon't say thank you or please\\ni do what i want when i'm wanting to\\nmy soul? so cynical\\n\\n[chorus]\\nso you're a tough guy\\nlike it really rough guy\\njust can't get enough guy\\nchest always so puffed guy\\ni'm that bad type\\nmake your mama sad type\\nmake your girlfriend mad tight\\nmight seduce your dad type\\ni'm the bad guy\\nduh\\n\\n[post-chorus]\\ni'm the bad guy\\n\\n[verse 2]\\ni like it when you take control\\neven if you know that you don't\\nown me, i'll let you play the role\\ni'll be your animal\\nmy mommy likes to sing along with me\\nbut she won't sing this song\\nif she reads all the lyrics\\nshe'll pity the men i know\\n[chorus]\\nso you're a tough guy\\nlike it really rough guy\\njust can't get enough guy\\nchest always so puffed guy\\ni'm that bad type\\nmake your mama sad type\\nmake your girlfriend mad tight\\nmight seduce your dad type\\ni'm the bad guy\\nduh\\n\\n[post-chorus]\\ni'm the bad guy, duh\\ni'm only good at bein' bad, bad\\n\\n[bridge]\\ni like when you get mad\\ni guess i'm pretty glad that you're alone\\nyou said she's scared of me?\\ni mean, i don't see what she sees\\nbut maybe it's 'cause i'm wearing your cologne\\n\\n[outro]\\ni'm a bad guy\\ni'm, i'm a bad guy\\nbad guy, bad guy\\ni'm a badembedshare url:copyembed:copy\""
      ]
     },
     "execution_count": 6,
     "metadata": {},
     "output_type": "execute_result"
    }
   ],
   "source": [
    "artist_df.lyrics[2]"
   ]
  },
  {
   "cell_type": "code",
   "execution_count": 7,
   "id": "personal-salad",
   "metadata": {},
   "outputs": [
    {
     "name": "stderr",
     "output_type": "stream",
     "text": [
      "/Library/Frameworks/Python.framework/Versions/3.9/lib/python3.9/site-packages/ipykernel/ipkernel.py:283: DeprecationWarning: `should_run_async` will not call `transform_cell` automatically in the future. Please pass the result to `transformed_cell` argument and any exception that happen during thetransform in `preprocessing_exc_tuple` in IPython 7.17 and above.\n",
      "  and should_run_async(code)\n"
     ]
    }
   ],
   "source": [
    "# remove the embed, share, copy at the end of each lyric\n",
    "artist_df.lyrics = artist_df.lyrics.replace(to_replace=\"embedshare url:copyembed:copy\", value=\"\", regex=True) "
   ]
  },
  {
   "cell_type": "code",
   "execution_count": 8,
   "id": "unknown-beast",
   "metadata": {
    "scrolled": true
   },
   "outputs": [
    {
     "name": "stderr",
     "output_type": "stream",
     "text": [
      "/Library/Frameworks/Python.framework/Versions/3.9/lib/python3.9/site-packages/ipykernel/ipkernel.py:283: DeprecationWarning: `should_run_async` will not call `transform_cell` automatically in the future. Please pass the result to `transformed_cell` argument and any exception that happen during thetransform in `preprocessing_exc_tuple` in IPython 7.17 and above.\n",
      "  and should_run_async(code)\n"
     ]
    }
   ],
   "source": [
    "# Remove quotes\n",
    "artist_df.lyrics = artist_df.lyrics.replace(to_replace=\"(\\u2019)\", value=\"'\", regex=True)"
   ]
  },
  {
   "cell_type": "code",
   "execution_count": 9,
   "id": "integral-circuit",
   "metadata": {},
   "outputs": [
    {
     "name": "stderr",
     "output_type": "stream",
     "text": [
      "/Library/Frameworks/Python.framework/Versions/3.9/lib/python3.9/site-packages/ipykernel/ipkernel.py:283: DeprecationWarning: `should_run_async` will not call `transform_cell` automatically in the future. Please pass the result to `transformed_cell` argument and any exception that happen during thetransform in `preprocessing_exc_tuple` in IPython 7.17 and above.\n",
      "  and should_run_async(code)\n"
     ]
    }
   ],
   "source": [
    "# convert common contractions to the full word or phrase\n",
    "artist_df.lyrics = artist_df.lyrics.replace(to_replace=\"won't\", value=\"will not\", regex=True)\n",
    "artist_df.lyrics = artist_df.lyrics.replace(to_replace=\"wouldn't\", value=\"wouldnt\", regex=True)\n",
    "artist_df.lyrics = artist_df.lyrics.replace(to_replace=\"can't\", value=\"cannot\", regex=True)\n",
    "artist_df.lyrics = artist_df.lyrics.replace(to_replace=\"don't\", value=\"dont\", regex=True)\n",
    "artist_df.lyrics = artist_df.lyrics.replace(to_replace=\"wanna\", value=\"want to\", regex=True)\n",
    "artist_df.lyrics = artist_df.lyrics.replace(to_replace=\"ain't\", value=\"aint\", regex=True)\n",
    "artist_df.lyrics = artist_df.lyrics.replace(to_replace=\"gotta\", value=\"got to\", regex=True)\n",
    "artist_df.lyrics = artist_df.lyrics.replace(to_replace=\"'ll\", value=\" will\", regex=True)\n",
    "artist_df.lyrics = artist_df.lyrics.replace(to_replace=\"lil'\", value=\"little\", regex=True)\n",
    "artist_df.lyrics = artist_df.lyrics.replace(to_replace=\"hol'\", value=\"hold\", regex=True)"
   ]
  },
  {
   "cell_type": "code",
   "execution_count": 10,
   "id": "electoral-newsletter",
   "metadata": {
    "scrolled": true
   },
   "outputs": [
    {
     "name": "stderr",
     "output_type": "stream",
     "text": [
      "/Library/Frameworks/Python.framework/Versions/3.9/lib/python3.9/site-packages/ipykernel/ipkernel.py:283: DeprecationWarning: `should_run_async` will not call `transform_cell` automatically in the future. Please pass the result to `transformed_cell` argument and any exception that happen during thetransform in `preprocessing_exc_tuple` in IPython 7.17 and above.\n",
      "  and should_run_async(code)\n"
     ]
    }
   ],
   "source": [
    "# convert more common contractions to the full word or phrase\n",
    "artist_df.lyrics = artist_df.lyrics.replace(to_replace=\"it's\", value=\"it is\", regex=True)\n",
    "artist_df.lyrics = artist_df.lyrics.replace(to_replace=\"i've\", value=\"i have\", regex=True)\n",
    "artist_df.lyrics = artist_df.lyrics.replace(to_replace=\"i'm\", value=\"i am\", regex=True)\n",
    "artist_df.lyrics = artist_df.lyrics.replace(to_replace=\"i'd\", value=\"i would\", regex=True)\n",
    "artist_df.lyrics = artist_df.lyrics.replace(to_replace=\"you're\", value=\"you are\", regex=True)\n",
    "artist_df.lyrics = artist_df.lyrics.replace(to_replace=\"n' \", value=\"ng \", regex=True)\n",
    "artist_df.lyrics = artist_df.lyrics.replace(to_replace=\"'s \", value=\"s \", regex=True)\n",
    "artist_df.lyrics = artist_df.lyrics.replace(to_replace=\"'n \", value=\"ing \", regex=True)\n",
    "artist_df.lyrics = artist_df.lyrics.replace(to_replace=\" 'em \", value=\"them \", regex=True)\n",
    "artist_df.lyrics = artist_df.lyrics.replace(to_replace=\"&\", value=\"and\", regex=True)"
   ]
  },
  {
   "cell_type": "code",
   "execution_count": 11,
   "id": "material-front",
   "metadata": {},
   "outputs": [
    {
     "name": "stderr",
     "output_type": "stream",
     "text": [
      "/Library/Frameworks/Python.framework/Versions/3.9/lib/python3.9/site-packages/ipykernel/ipkernel.py:283: DeprecationWarning: `should_run_async` will not call `transform_cell` automatically in the future. Please pass the result to `transformed_cell` argument and any exception that happen during thetransform in `preprocessing_exc_tuple` in IPython 7.17 and above.\n",
      "  and should_run_async(code)\n"
     ]
    }
   ],
   "source": [
    "# Remove common interjections, or singing sounds\n",
    "artist_df.lyrics = artist_df.lyrics.replace(to_replace=r\"aah|aagh|ayy|ooh|da|ahh\", value=\"\", regex=True) \n",
    "artist_df.lyrics = artist_df.lyrics.replace(to_replace=r\"hmm|mmm|brr\", value=\"\", regex=True)\n",
    "artist_df.lyrics = artist_df.lyrics.replace(to_replace=r\"yeah\", value=\"\", regex=True)\n",
    "artist_df.lyrics = artist_df.lyrics.replace(to_replace=r\"woah\", value=\"\", regex=True)"
   ]
  },
  {
   "cell_type": "code",
   "execution_count": 12,
   "id": "broad-apartment",
   "metadata": {},
   "outputs": [
    {
     "name": "stderr",
     "output_type": "stream",
     "text": [
      "/Library/Frameworks/Python.framework/Versions/3.9/lib/python3.9/site-packages/ipykernel/ipkernel.py:283: DeprecationWarning: `should_run_async` will not call `transform_cell` automatically in the future. Please pass the result to `transformed_cell` argument and any exception that happen during thetransform in `preprocessing_exc_tuple` in IPython 7.17 and above.\n",
      "  and should_run_async(code)\n"
     ]
    }
   ],
   "source": [
    "# remove verse, chorus, bridge, intro , outro anotations \n",
    "artist_df.lyrics = artist_df.lyrics.replace(to_replace=r\"\\[[^]]*\\]\", value=\"\", regex=True) "
   ]
  },
  {
   "cell_type": "code",
   "execution_count": 13,
   "id": "royal-berry",
   "metadata": {
    "scrolled": false
   },
   "outputs": [
    {
     "name": "stderr",
     "output_type": "stream",
     "text": [
      "/Library/Frameworks/Python.framework/Versions/3.9/lib/python3.9/site-packages/ipykernel/ipkernel.py:283: DeprecationWarning: `should_run_async` will not call `transform_cell` automatically in the future. Please pass the result to `transformed_cell` argument and any exception that happen during thetransform in `preprocessing_exc_tuple` in IPython 7.17 and above.\n",
      "  and should_run_async(code)\n"
     ]
    }
   ],
   "source": [
    "# get rid of tabs, new line, return symbols and parentheses\n",
    "artist_df.lyrics = artist_df.lyrics.replace(to_replace=[r\"\\\\t|\\\\n|\\\\r\", \"\\t|\\n|\\r\"], value=\" \", regex=True)\n",
    "artist_df.lyrics = artist_df.lyrics.replace(to_replace=[r\"\\(|\\)\", \"\"], value=\" \", regex=True)"
   ]
  },
  {
   "cell_type": "code",
   "execution_count": 14,
   "id": "flush-cardiff",
   "metadata": {},
   "outputs": [
    {
     "name": "stderr",
     "output_type": "stream",
     "text": [
      "/Library/Frameworks/Python.framework/Versions/3.9/lib/python3.9/site-packages/ipykernel/ipkernel.py:283: DeprecationWarning: `should_run_async` will not call `transform_cell` automatically in the future. Please pass the result to `transformed_cell` argument and any exception that happen during thetransform in `preprocessing_exc_tuple` in IPython 7.17 and above.\n",
      "  and should_run_async(code)\n"
     ]
    },
    {
     "data": {
      "text/plain": [
       "\" white shirt now red, my bloody nose sleepin', you are on your tippy toes creeping around like no one knows think you are so criminal bruises on both my knees for you dont say thank you or please i do what i want when i am wanting to my soul? so cynical   so you are a tough guy like it really rough guy just cannot get enough guy chest always so puffed guy i am that bad type make your mama sad type make your girlfriend mad tight might seduce your d type i am the bad guy duh   i am the bad guy   i like it when you take control even if you know that you dont own me, i will let you play the role i will be your animal my mommy likes to sing along with me but she will not sing this song if she reads all the lyrics she will pity the men i know  so you are a tough guy like it really rough guy just cannot get enough guy chest always so puffed guy i am that bad type make your mama sad type make your girlfriend mad tight might seduce your d type i am the bad guy duh   i am the bad guy, duh i am only good at being bad, bad   i like when you get mad i guess i am pretty glad that you are alone you said shes scared of me? i mean, i dont see what she sees but maybe it is 'cause i am wearing your cologne   i am a bad guy i am, i am a bad guy bad guy, bad guy i am a bad\""
      ]
     },
     "execution_count": 14,
     "metadata": {},
     "output_type": "execute_result"
    }
   ],
   "source": [
    "artist_df.lyrics[2]"
   ]
  },
  {
   "cell_type": "code",
   "execution_count": 15,
   "id": "continued-logic",
   "metadata": {
    "scrolled": false
   },
   "outputs": [
    {
     "name": "stderr",
     "output_type": "stream",
     "text": [
      "/Library/Frameworks/Python.framework/Versions/3.9/lib/python3.9/site-packages/ipykernel/ipkernel.py:283: DeprecationWarning: `should_run_async` will not call `transform_cell` automatically in the future. Please pass the result to `transformed_cell` argument and any exception that happen during thetransform in `preprocessing_exc_tuple` in IPython 7.17 and above.\n",
      "  and should_run_async(code)\n"
     ]
    }
   ],
   "source": [
    "# remove any other symbols except letters, numbers and underscore\n",
    "artist_df.lyrics = artist_df.lyrics.replace(to_replace=r\"\\W\", value=\" \", regex=True)"
   ]
  },
  {
   "cell_type": "code",
   "execution_count": 16,
   "id": "focal-bowling",
   "metadata": {},
   "outputs": [
    {
     "name": "stderr",
     "output_type": "stream",
     "text": [
      "/Library/Frameworks/Python.framework/Versions/3.9/lib/python3.9/site-packages/ipykernel/ipkernel.py:283: DeprecationWarning: `should_run_async` will not call `transform_cell` automatically in the future. Please pass the result to `transformed_cell` argument and any exception that happen during thetransform in `preprocessing_exc_tuple` in IPython 7.17 and above.\n",
      "  and should_run_async(code)\n"
     ]
    },
    {
     "data": {
      "text/plain": [
       "' white shirt now red  my bloody nose sleepin   you are on your tippy toes creeping around like no one knows think you are so criminal bruises on both my knees for you dont say thank you or please i do what i want when i am wanting to my soul  so cynical   so you are a tough guy like it really rough guy just cannot get enough guy chest always so puffed guy i am that bad type make your mama sad type make your girlfriend mad tight might seduce your d type i am the bad guy duh   i am the bad guy   i like it when you take control even if you know that you dont own me  i will let you play the role i will be your animal my mommy likes to sing along with me but she will not sing this song if she reads all the lyrics she will pity the men i know  so you are a tough guy like it really rough guy just cannot get enough guy chest always so puffed guy i am that bad type make your mama sad type make your girlfriend mad tight might seduce your d type i am the bad guy duh   i am the bad guy  duh i am only good at being bad  bad   i like when you get mad i guess i am pretty glad that you are alone you said shes scared of me  i mean  i dont see what she sees but maybe it is  cause i am wearing your cologne   i am a bad guy i am  i am a bad guy bad guy  bad guy i am a bad'"
      ]
     },
     "execution_count": 16,
     "metadata": {},
     "output_type": "execute_result"
    }
   ],
   "source": [
    "artist_df.lyrics[2]"
   ]
  },
  {
   "cell_type": "code",
   "execution_count": 17,
   "id": "secondary-ancient",
   "metadata": {},
   "outputs": [
    {
     "name": "stderr",
     "output_type": "stream",
     "text": [
      "/Library/Frameworks/Python.framework/Versions/3.9/lib/python3.9/site-packages/ipykernel/ipkernel.py:283: DeprecationWarning: `should_run_async` will not call `transform_cell` automatically in the future. Please pass the result to `transformed_cell` argument and any exception that happen during thetransform in `preprocessing_exc_tuple` in IPython 7.17 and above.\n",
      "  and should_run_async(code)\n"
     ]
    }
   ],
   "source": [
    "artist_df_clean = artist_df"
   ]
  },
  {
   "cell_type": "code",
   "execution_count": 18,
   "id": "historic-crest",
   "metadata": {
    "scrolled": true
   },
   "outputs": [
    {
     "name": "stderr",
     "output_type": "stream",
     "text": [
      "/Library/Frameworks/Python.framework/Versions/3.9/lib/python3.9/site-packages/ipykernel/ipkernel.py:283: DeprecationWarning: `should_run_async` will not call `transform_cell` automatically in the future. Please pass the result to `transformed_cell` argument and any exception that happen during thetransform in `preprocessing_exc_tuple` in IPython 7.17 and above.\n",
      "  and should_run_async(code)\n"
     ]
    }
   ],
   "source": [
    "# Tokenize\n",
    "artist_df.lyrics = artist_df.lyrics.apply(word_tokenize)"
   ]
  },
  {
   "cell_type": "code",
   "execution_count": 19,
   "id": "romance-astrology",
   "metadata": {},
   "outputs": [
    {
     "name": "stderr",
     "output_type": "stream",
     "text": [
      "/Library/Frameworks/Python.framework/Versions/3.9/lib/python3.9/site-packages/ipykernel/ipkernel.py:283: DeprecationWarning: `should_run_async` will not call `transform_cell` automatically in the future. Please pass the result to `transformed_cell` argument and any exception that happen during thetransform in `preprocessing_exc_tuple` in IPython 7.17 and above.\n",
      "  and should_run_async(code)\n"
     ]
    },
    {
     "data": {
      "text/plain": [
       "['white',\n",
       " 'shirt',\n",
       " 'now',\n",
       " 'red',\n",
       " 'my',\n",
       " 'bloody',\n",
       " 'nose',\n",
       " 'sleepin',\n",
       " 'you',\n",
       " 'are',\n",
       " 'on',\n",
       " 'your',\n",
       " 'tippy',\n",
       " 'toes',\n",
       " 'creeping',\n",
       " 'around',\n",
       " 'like',\n",
       " 'no',\n",
       " 'one',\n",
       " 'knows',\n",
       " 'think',\n",
       " 'you',\n",
       " 'are',\n",
       " 'so',\n",
       " 'criminal',\n",
       " 'bruises',\n",
       " 'on',\n",
       " 'both',\n",
       " 'my',\n",
       " 'knees',\n",
       " 'for',\n",
       " 'you',\n",
       " 'dont',\n",
       " 'say',\n",
       " 'thank',\n",
       " 'you',\n",
       " 'or',\n",
       " 'please',\n",
       " 'i',\n",
       " 'do',\n",
       " 'what',\n",
       " 'i',\n",
       " 'want',\n",
       " 'when',\n",
       " 'i',\n",
       " 'am',\n",
       " 'wanting',\n",
       " 'to',\n",
       " 'my',\n",
       " 'soul',\n",
       " 'so',\n",
       " 'cynical',\n",
       " 'so',\n",
       " 'you',\n",
       " 'are',\n",
       " 'a',\n",
       " 'tough',\n",
       " 'guy',\n",
       " 'like',\n",
       " 'it',\n",
       " 'really',\n",
       " 'rough',\n",
       " 'guy',\n",
       " 'just',\n",
       " 'can',\n",
       " 'not',\n",
       " 'get',\n",
       " 'enough',\n",
       " 'guy',\n",
       " 'chest',\n",
       " 'always',\n",
       " 'so',\n",
       " 'puffed',\n",
       " 'guy',\n",
       " 'i',\n",
       " 'am',\n",
       " 'that',\n",
       " 'bad',\n",
       " 'type',\n",
       " 'make',\n",
       " 'your',\n",
       " 'mama',\n",
       " 'sad',\n",
       " 'type',\n",
       " 'make',\n",
       " 'your',\n",
       " 'girlfriend',\n",
       " 'mad',\n",
       " 'tight',\n",
       " 'might',\n",
       " 'seduce',\n",
       " 'your',\n",
       " 'd',\n",
       " 'type',\n",
       " 'i',\n",
       " 'am',\n",
       " 'the',\n",
       " 'bad',\n",
       " 'guy',\n",
       " 'duh',\n",
       " 'i',\n",
       " 'am',\n",
       " 'the',\n",
       " 'bad',\n",
       " 'guy',\n",
       " 'i',\n",
       " 'like',\n",
       " 'it',\n",
       " 'when',\n",
       " 'you',\n",
       " 'take',\n",
       " 'control',\n",
       " 'even',\n",
       " 'if',\n",
       " 'you',\n",
       " 'know',\n",
       " 'that',\n",
       " 'you',\n",
       " 'dont',\n",
       " 'own',\n",
       " 'me',\n",
       " 'i',\n",
       " 'will',\n",
       " 'let',\n",
       " 'you',\n",
       " 'play',\n",
       " 'the',\n",
       " 'role',\n",
       " 'i',\n",
       " 'will',\n",
       " 'be',\n",
       " 'your',\n",
       " 'animal',\n",
       " 'my',\n",
       " 'mommy',\n",
       " 'likes',\n",
       " 'to',\n",
       " 'sing',\n",
       " 'along',\n",
       " 'with',\n",
       " 'me',\n",
       " 'but',\n",
       " 'she',\n",
       " 'will',\n",
       " 'not',\n",
       " 'sing',\n",
       " 'this',\n",
       " 'song',\n",
       " 'if',\n",
       " 'she',\n",
       " 'reads',\n",
       " 'all',\n",
       " 'the',\n",
       " 'lyrics',\n",
       " 'she',\n",
       " 'will',\n",
       " 'pity',\n",
       " 'the',\n",
       " 'men',\n",
       " 'i',\n",
       " 'know',\n",
       " 'so',\n",
       " 'you',\n",
       " 'are',\n",
       " 'a',\n",
       " 'tough',\n",
       " 'guy',\n",
       " 'like',\n",
       " 'it',\n",
       " 'really',\n",
       " 'rough',\n",
       " 'guy',\n",
       " 'just',\n",
       " 'can',\n",
       " 'not',\n",
       " 'get',\n",
       " 'enough',\n",
       " 'guy',\n",
       " 'chest',\n",
       " 'always',\n",
       " 'so',\n",
       " 'puffed',\n",
       " 'guy',\n",
       " 'i',\n",
       " 'am',\n",
       " 'that',\n",
       " 'bad',\n",
       " 'type',\n",
       " 'make',\n",
       " 'your',\n",
       " 'mama',\n",
       " 'sad',\n",
       " 'type',\n",
       " 'make',\n",
       " 'your',\n",
       " 'girlfriend',\n",
       " 'mad',\n",
       " 'tight',\n",
       " 'might',\n",
       " 'seduce',\n",
       " 'your',\n",
       " 'd',\n",
       " 'type',\n",
       " 'i',\n",
       " 'am',\n",
       " 'the',\n",
       " 'bad',\n",
       " 'guy',\n",
       " 'duh',\n",
       " 'i',\n",
       " 'am',\n",
       " 'the',\n",
       " 'bad',\n",
       " 'guy',\n",
       " 'duh',\n",
       " 'i',\n",
       " 'am',\n",
       " 'only',\n",
       " 'good',\n",
       " 'at',\n",
       " 'being',\n",
       " 'bad',\n",
       " 'bad',\n",
       " 'i',\n",
       " 'like',\n",
       " 'when',\n",
       " 'you',\n",
       " 'get',\n",
       " 'mad',\n",
       " 'i',\n",
       " 'guess',\n",
       " 'i',\n",
       " 'am',\n",
       " 'pretty',\n",
       " 'glad',\n",
       " 'that',\n",
       " 'you',\n",
       " 'are',\n",
       " 'alone',\n",
       " 'you',\n",
       " 'said',\n",
       " 'shes',\n",
       " 'scared',\n",
       " 'of',\n",
       " 'me',\n",
       " 'i',\n",
       " 'mean',\n",
       " 'i',\n",
       " 'dont',\n",
       " 'see',\n",
       " 'what',\n",
       " 'she',\n",
       " 'sees',\n",
       " 'but',\n",
       " 'maybe',\n",
       " 'it',\n",
       " 'is',\n",
       " 'cause',\n",
       " 'i',\n",
       " 'am',\n",
       " 'wearing',\n",
       " 'your',\n",
       " 'cologne',\n",
       " 'i',\n",
       " 'am',\n",
       " 'a',\n",
       " 'bad',\n",
       " 'guy',\n",
       " 'i',\n",
       " 'am',\n",
       " 'i',\n",
       " 'am',\n",
       " 'a',\n",
       " 'bad',\n",
       " 'guy',\n",
       " 'bad',\n",
       " 'guy',\n",
       " 'bad',\n",
       " 'guy',\n",
       " 'i',\n",
       " 'am',\n",
       " 'a',\n",
       " 'bad']"
      ]
     },
     "execution_count": 19,
     "metadata": {},
     "output_type": "execute_result"
    }
   ],
   "source": [
    "artist_df.lyrics[2]"
   ]
  },
  {
   "cell_type": "markdown",
   "id": "communist-invasion",
   "metadata": {},
   "source": [
    "## Analysis: common 2 and 3 word phrases found in the lyrics"
   ]
  },
  {
   "cell_type": "code",
   "execution_count": 20,
   "id": "specified-chuck",
   "metadata": {},
   "outputs": [
    {
     "name": "stderr",
     "output_type": "stream",
     "text": [
      "/Library/Frameworks/Python.framework/Versions/3.9/lib/python3.9/site-packages/ipykernel/ipkernel.py:283: DeprecationWarning: `should_run_async` will not call `transform_cell` automatically in the future. Please pass the result to `transformed_cell` argument and any exception that happen during thetransform in `preprocessing_exc_tuple` in IPython 7.17 and above.\n",
      "  and should_run_async(code)\n"
     ]
    }
   ],
   "source": [
    "# Divide the lyrics into \"sentences\" so that the phrases don't straddle songs.   Each song = one sentence\n",
    "sentences = []\n",
    "for l in artist_df.lyrics:\n",
    "    sentences.append(l)"
   ]
  },
  {
   "cell_type": "code",
   "execution_count": 21,
   "id": "grand-fence",
   "metadata": {},
   "outputs": [
    {
     "name": "stderr",
     "output_type": "stream",
     "text": [
      "/Library/Frameworks/Python.framework/Versions/3.9/lib/python3.9/site-packages/ipykernel/ipkernel.py:283: DeprecationWarning: `should_run_async` will not call `transform_cell` automatically in the future. Please pass the result to `transformed_cell` argument and any exception that happen during thetransform in `preprocessing_exc_tuple` in IPython 7.17 and above.\n",
      "  and should_run_async(code)\n"
     ]
    },
    {
     "data": {
      "text/plain": [
       "153"
      ]
     },
     "execution_count": 21,
     "metadata": {},
     "output_type": "execute_result"
    }
   ],
   "source": [
    "# Number of sentences should equal the number of songs\n",
    "len(sentences)"
   ]
  },
  {
   "cell_type": "code",
   "execution_count": 22,
   "id": "victorian-island",
   "metadata": {},
   "outputs": [
    {
     "name": "stderr",
     "output_type": "stream",
     "text": [
      "/Library/Frameworks/Python.framework/Versions/3.9/lib/python3.9/site-packages/ipykernel/ipkernel.py:283: DeprecationWarning: `should_run_async` will not call `transform_cell` automatically in the future. Please pass the result to `transformed_cell` argument and any exception that happen during thetransform in `preprocessing_exc_tuple` in IPython 7.17 and above.\n",
      "  and should_run_async(code)\n"
     ]
    },
    {
     "data": {
      "text/plain": [
       "['dont',\n",
       " 'you',\n",
       " 'know',\n",
       " 'i',\n",
       " 'am',\n",
       " 'no',\n",
       " 'good',\n",
       " 'for',\n",
       " 'you',\n",
       " 'i',\n",
       " 'have',\n",
       " 'learned',\n",
       " 'to',\n",
       " 'lose',\n",
       " 'you',\n",
       " 'can',\n",
       " 'not',\n",
       " 'afford',\n",
       " 'to',\n",
       " 'tore',\n",
       " 'my',\n",
       " 'shirt',\n",
       " 'to',\n",
       " 'stop',\n",
       " 'you',\n",
       " 'bleedin',\n",
       " 'but',\n",
       " 'nothing',\n",
       " 'ever',\n",
       " 'stops',\n",
       " 'you',\n",
       " 'leavin',\n",
       " 'quiet',\n",
       " 'when',\n",
       " 'i',\n",
       " 'am',\n",
       " 'coming',\n",
       " 'home',\n",
       " 'and',\n",
       " 'i',\n",
       " 'am',\n",
       " 'on',\n",
       " 'my',\n",
       " 'own',\n",
       " 'i',\n",
       " 'could',\n",
       " 'lie',\n",
       " 'say',\n",
       " 'i',\n",
       " 'like',\n",
       " 'it',\n",
       " 'like',\n",
       " 'that',\n",
       " 'like',\n",
       " 'it',\n",
       " 'like',\n",
       " 'that',\n",
       " 'i',\n",
       " 'could',\n",
       " 'lie',\n",
       " 'say',\n",
       " 'i',\n",
       " 'like',\n",
       " 'it',\n",
       " 'like',\n",
       " 'that',\n",
       " 'like',\n",
       " 'it',\n",
       " 'like',\n",
       " 'that',\n",
       " 'dont',\n",
       " 'you',\n",
       " 'know',\n",
       " 'too',\n",
       " 'much',\n",
       " 'already',\n",
       " 'i',\n",
       " 'will',\n",
       " 'only',\n",
       " 'hurt',\n",
       " 'you',\n",
       " 'if',\n",
       " 'you',\n",
       " 'let',\n",
       " 'me',\n",
       " 'call',\n",
       " 'me',\n",
       " 'friend',\n",
       " 'but',\n",
       " 'keep',\n",
       " 'me',\n",
       " 'closer',\n",
       " 'call',\n",
       " 'me',\n",
       " 'back',\n",
       " 'and',\n",
       " 'i',\n",
       " 'will',\n",
       " 'call',\n",
       " 'you',\n",
       " 'when',\n",
       " 'the',\n",
       " 'partys',\n",
       " 'over',\n",
       " 'quiet',\n",
       " 'when',\n",
       " 'i',\n",
       " 'am',\n",
       " 'coming',\n",
       " 'home',\n",
       " 'and',\n",
       " 'i',\n",
       " 'am',\n",
       " 'on',\n",
       " 'my',\n",
       " 'own',\n",
       " 'and',\n",
       " 'i',\n",
       " 'could',\n",
       " 'lie',\n",
       " 'say',\n",
       " 'i',\n",
       " 'like',\n",
       " 'it',\n",
       " 'like',\n",
       " 'that',\n",
       " 'like',\n",
       " 'it',\n",
       " 'like',\n",
       " 'that',\n",
       " 'i',\n",
       " 'could',\n",
       " 'lie',\n",
       " 'say',\n",
       " 'i',\n",
       " 'like',\n",
       " 'it',\n",
       " 'like',\n",
       " 'that',\n",
       " 'like',\n",
       " 'it',\n",
       " 'like',\n",
       " 'that',\n",
       " 'but',\n",
       " 'nothing',\n",
       " 'is',\n",
       " 'better',\n",
       " 'sometimes',\n",
       " 'once',\n",
       " 'we',\n",
       " 've',\n",
       " 'both',\n",
       " 'said',\n",
       " 'our',\n",
       " 'goodbyes',\n",
       " 'lets',\n",
       " 'just',\n",
       " 'let',\n",
       " 'it',\n",
       " 'go',\n",
       " 'let',\n",
       " 'me',\n",
       " 'let',\n",
       " 'you',\n",
       " 'go',\n",
       " 'quiet',\n",
       " 'when',\n",
       " 'i',\n",
       " 'am',\n",
       " 'coming',\n",
       " 'home',\n",
       " 'and',\n",
       " 'i',\n",
       " 'am',\n",
       " 'on',\n",
       " 'my',\n",
       " 'own',\n",
       " 'i',\n",
       " 'could',\n",
       " 'lie',\n",
       " 'say',\n",
       " 'i',\n",
       " 'like',\n",
       " 'it',\n",
       " 'like',\n",
       " 'that',\n",
       " 'like',\n",
       " 'it',\n",
       " 'like',\n",
       " 'that',\n",
       " 'i',\n",
       " 'could',\n",
       " 'lie',\n",
       " 'say',\n",
       " 'i',\n",
       " 'like',\n",
       " 'it',\n",
       " 'like',\n",
       " 'that',\n",
       " 'like',\n",
       " 'it',\n",
       " 'like',\n",
       " 'that']"
      ]
     },
     "execution_count": 22,
     "metadata": {},
     "output_type": "execute_result"
    }
   ],
   "source": [
    "# check our result on the first sentence\n",
    "sentences[0]"
   ]
  },
  {
   "cell_type": "code",
   "execution_count": 23,
   "id": "overhead-transition",
   "metadata": {
    "scrolled": true
   },
   "outputs": [
    {
     "name": "stderr",
     "output_type": "stream",
     "text": [
      "/Library/Frameworks/Python.framework/Versions/3.9/lib/python3.9/site-packages/ipykernel/ipkernel.py:283: DeprecationWarning: `should_run_async` will not call `transform_cell` automatically in the future. Please pass the result to `transformed_cell` argument and any exception that happen during thetransform in `preprocessing_exc_tuple` in IPython 7.17 and above.\n",
      "  and should_run_async(code)\n"
     ]
    },
    {
     "data": {
      "text/html": [
       "<div>\n",
       "<style scoped>\n",
       "    .dataframe tbody tr th:only-of-type {\n",
       "        vertical-align: middle;\n",
       "    }\n",
       "\n",
       "    .dataframe tbody tr th {\n",
       "        vertical-align: top;\n",
       "    }\n",
       "\n",
       "    .dataframe thead th {\n",
       "        text-align: right;\n",
       "    }\n",
       "</style>\n",
       "<table border=\"1\" class=\"dataframe\">\n",
       "  <thead>\n",
       "    <tr style=\"text-align: right;\">\n",
       "      <th></th>\n",
       "      <th>Phrases</th>\n",
       "      <th>counts</th>\n",
       "    </tr>\n",
       "  </thead>\n",
       "  <tbody>\n",
       "    <tr>\n",
       "      <th>45</th>\n",
       "      <td>can_not</td>\n",
       "      <td>166</td>\n",
       "    </tr>\n",
       "    <tr>\n",
       "      <th>228</th>\n",
       "      <td>those_ocean</td>\n",
       "      <td>103</td>\n",
       "    </tr>\n",
       "    <tr>\n",
       "      <th>174</th>\n",
       "      <td>one_by</td>\n",
       "      <td>80</td>\n",
       "    </tr>\n",
       "    <tr>\n",
       "      <th>172</th>\n",
       "      <td>ocean_eyes</td>\n",
       "      <td>72</td>\n",
       "    </tr>\n",
       "    <tr>\n",
       "      <th>157</th>\n",
       "      <td>my_boy</td>\n",
       "      <td>71</td>\n",
       "    </tr>\n",
       "  </tbody>\n",
       "</table>\n",
       "</div>"
      ],
      "text/plain": [
       "         Phrases  counts\n",
       "45       can_not     166\n",
       "228  those_ocean     103\n",
       "174       one_by      80\n",
       "172   ocean_eyes      72\n",
       "157       my_boy      71"
      ]
     },
     "execution_count": 23,
     "metadata": {},
     "output_type": "execute_result"
    }
   ],
   "source": [
    "# Look for frequently used 2 word combinations\n",
    "from itertools import groupby\n",
    "\n",
    "# Build the bigram model\n",
    "bigram = Phrases(sentences)\n",
    "\n",
    "\n",
    "# Find bigrams in the songs\n",
    "two_word_phrases = []\n",
    "i=0\n",
    "while i < len(sentences): \n",
    "    bigrams = bigram[sentences[i]]\n",
    "    for s in bigrams:\n",
    "        if len(re.findall('_', s)) > 0:\n",
    "            two_word_phrases.append(s)\n",
    "    i = i + 1\n",
    "two_word_phrases_df = pd.DataFrame(two_word_phrases, columns = ['Phrases'])\n",
    "test = two_word_phrases_df.groupby(by = \"Phrases\").size().reset_index(name='counts')\n",
    "test.sort_values(by = 'counts', ascending = False).head()"
   ]
  },
  {
   "cell_type": "code",
   "execution_count": 24,
   "id": "prompt-wholesale",
   "metadata": {},
   "outputs": [
    {
     "name": "stderr",
     "output_type": "stream",
     "text": [
      "/Library/Frameworks/Python.framework/Versions/3.9/lib/python3.9/site-packages/ipykernel/ipkernel.py:283: DeprecationWarning: `should_run_async` will not call `transform_cell` automatically in the future. Please pass the result to `transformed_cell` argument and any exception that happen during thetransform in `preprocessing_exc_tuple` in IPython 7.17 and above.\n",
      "  and should_run_async(code)\n"
     ]
    },
    {
     "data": {
      "text/html": [
       "<div>\n",
       "<style scoped>\n",
       "    .dataframe tbody tr th:only-of-type {\n",
       "        vertical-align: middle;\n",
       "    }\n",
       "\n",
       "    .dataframe tbody tr th {\n",
       "        vertical-align: top;\n",
       "    }\n",
       "\n",
       "    .dataframe thead th {\n",
       "        text-align: right;\n",
       "    }\n",
       "</style>\n",
       "<table border=\"1\" class=\"dataframe\">\n",
       "  <thead>\n",
       "    <tr style=\"text-align: right;\">\n",
       "      <th></th>\n",
       "      <th>Phrases</th>\n",
       "      <th>counts</th>\n",
       "    </tr>\n",
       "  </thead>\n",
       "  <tbody>\n",
       "    <tr>\n",
       "      <th>140</th>\n",
       "      <td>those_ocean_eyes</td>\n",
       "      <td>67</td>\n",
       "    </tr>\n",
       "    <tr>\n",
       "      <th>118</th>\n",
       "      <td>really_know_how</td>\n",
       "      <td>44</td>\n",
       "    </tr>\n",
       "    <tr>\n",
       "      <th>91</th>\n",
       "      <td>make_me_cry</td>\n",
       "      <td>41</td>\n",
       "    </tr>\n",
       "    <tr>\n",
       "      <th>72</th>\n",
       "      <td>have_never_fallen_from</td>\n",
       "      <td>36</td>\n",
       "    </tr>\n",
       "    <tr>\n",
       "      <th>117</th>\n",
       "      <td>quite_this_high_falling</td>\n",
       "      <td>36</td>\n",
       "    </tr>\n",
       "    <tr>\n",
       "      <th>80</th>\n",
       "      <td>into_your_ocean_eyes</td>\n",
       "      <td>35</td>\n",
       "    </tr>\n",
       "    <tr>\n",
       "      <th>123</th>\n",
       "      <td>should_see_me</td>\n",
       "      <td>29</td>\n",
       "    </tr>\n",
       "    <tr>\n",
       "      <th>129</th>\n",
       "      <td>started_in_me</td>\n",
       "      <td>28</td>\n",
       "    </tr>\n",
       "    <tr>\n",
       "      <th>141</th>\n",
       "      <td>those_ocean_eyes_no</td>\n",
       "      <td>25</td>\n",
       "    </tr>\n",
       "    <tr>\n",
       "      <th>93</th>\n",
       "      <td>maybe_it_is</td>\n",
       "      <td>24</td>\n",
       "    </tr>\n",
       "    <tr>\n",
       "      <th>78</th>\n",
       "      <td>in_the_gutter</td>\n",
       "      <td>24</td>\n",
       "    </tr>\n",
       "    <tr>\n",
       "      <th>31</th>\n",
       "      <td>can_not_help_but</td>\n",
       "      <td>24</td>\n",
       "    </tr>\n",
       "    <tr>\n",
       "      <th>148</th>\n",
       "      <td>was_watered_by</td>\n",
       "      <td>23</td>\n",
       "    </tr>\n",
       "    <tr>\n",
       "      <th>161</th>\n",
       "      <td>wonder_if_our_grave</td>\n",
       "      <td>23</td>\n",
       "    </tr>\n",
       "    <tr>\n",
       "      <th>39</th>\n",
       "      <td>could_lie_say</td>\n",
       "      <td>23</td>\n",
       "    </tr>\n",
       "    <tr>\n",
       "      <th>76</th>\n",
       "      <td>in_a_crown</td>\n",
       "      <td>23</td>\n",
       "    </tr>\n",
       "    <tr>\n",
       "      <th>33</th>\n",
       "      <td>can_not_watch_mine</td>\n",
       "      <td>22</td>\n",
       "    </tr>\n",
       "    <tr>\n",
       "      <th>97</th>\n",
       "      <td>my_boy_my_boy</td>\n",
       "      <td>21</td>\n",
       "    </tr>\n",
       "    <tr>\n",
       "      <th>111</th>\n",
       "      <td>one_by_one_by</td>\n",
       "      <td>20</td>\n",
       "    </tr>\n",
       "    <tr>\n",
       "      <th>112</th>\n",
       "      <td>one_one_by</td>\n",
       "      <td>20</td>\n",
       "    </tr>\n",
       "    <tr>\n",
       "      <th>94</th>\n",
       "      <td>me_makethem_bow</td>\n",
       "      <td>20</td>\n",
       "    </tr>\n",
       "    <tr>\n",
       "      <th>146</th>\n",
       "      <td>ve_been_uninvited_cause</td>\n",
       "      <td>19</td>\n",
       "    </tr>\n",
       "    <tr>\n",
       "      <th>149</th>\n",
       "      <td>watch_my_heart</td>\n",
       "      <td>19</td>\n",
       "    </tr>\n",
       "    <tr>\n",
       "      <th>4</th>\n",
       "      <td>all_the_same</td>\n",
       "      <td>19</td>\n",
       "    </tr>\n",
       "    <tr>\n",
       "      <th>43</th>\n",
       "      <td>did_copycat_tryna_cop</td>\n",
       "      <td>18</td>\n",
       "    </tr>\n",
       "    <tr>\n",
       "      <th>86</th>\n",
       "      <td>left_my_lover</td>\n",
       "      <td>18</td>\n",
       "    </tr>\n",
       "    <tr>\n",
       "      <th>102</th>\n",
       "      <td>my_v_is</td>\n",
       "      <td>18</td>\n",
       "    </tr>\n",
       "    <tr>\n",
       "      <th>99</th>\n",
       "      <td>my_manner_watch_your</td>\n",
       "      <td>18</td>\n",
       "    </tr>\n",
       "    <tr>\n",
       "      <th>163</th>\n",
       "      <td>would_feel_better</td>\n",
       "      <td>18</td>\n",
       "    </tr>\n",
       "    <tr>\n",
       "      <th>38</th>\n",
       "      <td>copycat_tryna_cop_my</td>\n",
       "      <td>18</td>\n",
       "    </tr>\n",
       "  </tbody>\n",
       "</table>\n",
       "</div>"
      ],
      "text/plain": [
       "                     Phrases  counts\n",
       "140         those_ocean_eyes      67\n",
       "118          really_know_how      44\n",
       "91               make_me_cry      41\n",
       "72    have_never_fallen_from      36\n",
       "117  quite_this_high_falling      36\n",
       "80      into_your_ocean_eyes      35\n",
       "123            should_see_me      29\n",
       "129            started_in_me      28\n",
       "141      those_ocean_eyes_no      25\n",
       "93               maybe_it_is      24\n",
       "78             in_the_gutter      24\n",
       "31          can_not_help_but      24\n",
       "148           was_watered_by      23\n",
       "161      wonder_if_our_grave      23\n",
       "39             could_lie_say      23\n",
       "76                in_a_crown      23\n",
       "33        can_not_watch_mine      22\n",
       "97             my_boy_my_boy      21\n",
       "111            one_by_one_by      20\n",
       "112               one_one_by      20\n",
       "94           me_makethem_bow      20\n",
       "146  ve_been_uninvited_cause      19\n",
       "149           watch_my_heart      19\n",
       "4               all_the_same      19\n",
       "43     did_copycat_tryna_cop      18\n",
       "86             left_my_lover      18\n",
       "102                  my_v_is      18\n",
       "99      my_manner_watch_your      18\n",
       "163        would_feel_better      18\n",
       "38      copycat_tryna_cop_my      18"
      ]
     },
     "execution_count": 24,
     "metadata": {},
     "output_type": "execute_result"
    }
   ],
   "source": [
    "# Looking for 3 word combinations \n",
    "\n",
    "# Build the trigram models\n",
    "trigram = Phrases(bigram[sentences])\n",
    "\n",
    "tri = []\n",
    "\n",
    "# Construct trigram list looking at all songs\n",
    "i=0\n",
    "while i < len(sentences): \n",
    "    songtrigram = trigram[bigram[sentences[i]]]\n",
    "    for s in songtrigram:\n",
    "        if len(re.findall('_', s)) > 1:\n",
    "            tri.append(s)\n",
    "    i = i + 1\n",
    "\n",
    "tri_df = pd.DataFrame(tri, columns = ['Phrases'])\n",
    "test_tri = tri_df.groupby(by = \"Phrases\").size().reset_index(name='counts')\n",
    "test_tri.sort_values(by = 'counts', ascending = False).head(30)"
   ]
  },
  {
   "cell_type": "code",
   "execution_count": 25,
   "id": "american-closing",
   "metadata": {},
   "outputs": [
    {
     "name": "stderr",
     "output_type": "stream",
     "text": [
      "/Library/Frameworks/Python.framework/Versions/3.9/lib/python3.9/site-packages/ipykernel/ipkernel.py:283: DeprecationWarning: `should_run_async` will not call `transform_cell` automatically in the future. Please pass the result to `transformed_cell` argument and any exception that happen during thetransform in `preprocessing_exc_tuple` in IPython 7.17 and above.\n",
      "  and should_run_async(code)\n"
     ]
    },
    {
     "data": {
      "text/html": [
       "<div>\n",
       "<style scoped>\n",
       "    .dataframe tbody tr th:only-of-type {\n",
       "        vertical-align: middle;\n",
       "    }\n",
       "\n",
       "    .dataframe tbody tr th {\n",
       "        vertical-align: top;\n",
       "    }\n",
       "\n",
       "    .dataframe thead th {\n",
       "        text-align: right;\n",
       "    }\n",
       "</style>\n",
       "<table border=\"1\" class=\"dataframe\">\n",
       "  <thead>\n",
       "    <tr style=\"text-align: right;\">\n",
       "      <th></th>\n",
       "      <th>Phrases</th>\n",
       "      <th>counts</th>\n",
       "    </tr>\n",
       "  </thead>\n",
       "  <tbody>\n",
       "    <tr>\n",
       "      <th>17</th>\n",
       "      <td>give_me_those_ocean</td>\n",
       "      <td>40</td>\n",
       "    </tr>\n",
       "    <tr>\n",
       "      <th>23</th>\n",
       "      <td>high_falling_into_your</td>\n",
       "      <td>36</td>\n",
       "    </tr>\n",
       "    <tr>\n",
       "      <th>22</th>\n",
       "      <td>have_never_fallen_from</td>\n",
       "      <td>36</td>\n",
       "    </tr>\n",
       "    <tr>\n",
       "      <th>34</th>\n",
       "      <td>ocean_eyes_those_ocean</td>\n",
       "      <td>35</td>\n",
       "    </tr>\n",
       "    <tr>\n",
       "      <th>7</th>\n",
       "      <td>can_not_help_but</td>\n",
       "      <td>24</td>\n",
       "    </tr>\n",
       "    <tr>\n",
       "      <th>9</th>\n",
       "      <td>can_not_watch_mine</td>\n",
       "      <td>22</td>\n",
       "    </tr>\n",
       "    <tr>\n",
       "      <th>30</th>\n",
       "      <td>my_boy_my_boy</td>\n",
       "      <td>21</td>\n",
       "    </tr>\n",
       "    <tr>\n",
       "      <th>35</th>\n",
       "      <td>one_by_one_by</td>\n",
       "      <td>20</td>\n",
       "    </tr>\n",
       "    <tr>\n",
       "      <th>8</th>\n",
       "      <td>can_not_say_no</td>\n",
       "      <td>20</td>\n",
       "    </tr>\n",
       "    <tr>\n",
       "      <th>49</th>\n",
       "      <td>would_feel_better_but</td>\n",
       "      <td>18</td>\n",
       "    </tr>\n",
       "    <tr>\n",
       "      <th>39</th>\n",
       "      <td>roses_bloom_could_roses</td>\n",
       "      <td>16</td>\n",
       "    </tr>\n",
       "    <tr>\n",
       "      <th>15</th>\n",
       "      <td>give_me_those_eyes</td>\n",
       "      <td>15</td>\n",
       "    </tr>\n",
       "    <tr>\n",
       "      <th>37</th>\n",
       "      <td>our_love_is_six</td>\n",
       "      <td>15</td>\n",
       "    </tr>\n",
       "    <tr>\n",
       "      <th>45</th>\n",
       "      <td>watch_your_car_burn</td>\n",
       "      <td>15</td>\n",
       "    </tr>\n",
       "    <tr>\n",
       "      <th>18</th>\n",
       "      <td>glamor_why_so_sad</td>\n",
       "      <td>15</td>\n",
       "    </tr>\n",
       "    <tr>\n",
       "      <th>47</th>\n",
       "      <td>what_an_expensive_fake</td>\n",
       "      <td>13</td>\n",
       "    </tr>\n",
       "    <tr>\n",
       "      <th>5</th>\n",
       "      <td>burn_with_the_fire</td>\n",
       "      <td>13</td>\n",
       "    </tr>\n",
       "    <tr>\n",
       "      <th>33</th>\n",
       "      <td>ocean_eyes_no_fair</td>\n",
       "      <td>12</td>\n",
       "    </tr>\n",
       "    <tr>\n",
       "      <th>42</th>\n",
       "      <td>those_ocean_eyes_no</td>\n",
       "      <td>11</td>\n",
       "    </tr>\n",
       "    <tr>\n",
       "      <th>21</th>\n",
       "      <td>have_been_walking_through</td>\n",
       "      <td>11</td>\n",
       "    </tr>\n",
       "  </tbody>\n",
       "</table>\n",
       "</div>"
      ],
      "text/plain": [
       "                      Phrases  counts\n",
       "17        give_me_those_ocean      40\n",
       "23     high_falling_into_your      36\n",
       "22     have_never_fallen_from      36\n",
       "34     ocean_eyes_those_ocean      35\n",
       "7            can_not_help_but      24\n",
       "9          can_not_watch_mine      22\n",
       "30              my_boy_my_boy      21\n",
       "35              one_by_one_by      20\n",
       "8              can_not_say_no      20\n",
       "49      would_feel_better_but      18\n",
       "39    roses_bloom_could_roses      16\n",
       "15         give_me_those_eyes      15\n",
       "37            our_love_is_six      15\n",
       "45        watch_your_car_burn      15\n",
       "18          glamor_why_so_sad      15\n",
       "47     what_an_expensive_fake      13\n",
       "5          burn_with_the_fire      13\n",
       "33         ocean_eyes_no_fair      12\n",
       "42        those_ocean_eyes_no      11\n",
       "21  have_been_walking_through      11"
      ]
     },
     "execution_count": 25,
     "metadata": {},
     "output_type": "execute_result"
    }
   ],
   "source": [
    "fourgram = Phrases(trigram[sentences])\n",
    "four = []\n",
    "\n",
    "# Construct trigram list looking at all songs\n",
    "i=0\n",
    "while i < len(sentences): \n",
    "    songtrigram = fourgram[trigram[sentences[i]]]\n",
    "    for s in songtrigram:\n",
    "        if len(re.findall('_', s)) > 2:\n",
    "            four.append(s)\n",
    "    i = i + 1\n",
    "    \n",
    "four_df = pd.DataFrame(four, columns = ['Phrases'])\n",
    "test_four = four_df.groupby(by = \"Phrases\").size().reset_index(name='counts')\n",
    "test_four.sort_values(by = 'counts', ascending = False).head(20)"
   ]
  },
  {
   "cell_type": "code",
   "execution_count": 26,
   "id": "pretty-dominant",
   "metadata": {},
   "outputs": [
    {
     "name": "stderr",
     "output_type": "stream",
     "text": [
      "/Library/Frameworks/Python.framework/Versions/3.9/lib/python3.9/site-packages/ipykernel/ipkernel.py:283: DeprecationWarning: `should_run_async` will not call `transform_cell` automatically in the future. Please pass the result to `transformed_cell` argument and any exception that happen during thetransform in `preprocessing_exc_tuple` in IPython 7.17 and above.\n",
      "  and should_run_async(code)\n"
     ]
    },
    {
     "data": {
      "text/plain": [
       "170"
      ]
     },
     "execution_count": 26,
     "metadata": {},
     "output_type": "execute_result"
    }
   ],
   "source": [
    "len(set(tri))"
   ]
  },
  {
   "cell_type": "code",
   "execution_count": 27,
   "id": "included-classroom",
   "metadata": {},
   "outputs": [
    {
     "name": "stderr",
     "output_type": "stream",
     "text": [
      "/Library/Frameworks/Python.framework/Versions/3.9/lib/python3.9/site-packages/ipykernel/ipkernel.py:283: DeprecationWarning: `should_run_async` will not call `transform_cell` automatically in the future. Please pass the result to `transformed_cell` argument and any exception that happen during thetransform in `preprocessing_exc_tuple` in IPython 7.17 and above.\n",
      "  and should_run_async(code)\n"
     ]
    },
    {
     "data": {
      "text/html": [
       "<div>\n",
       "<style scoped>\n",
       "    .dataframe tbody tr th:only-of-type {\n",
       "        vertical-align: middle;\n",
       "    }\n",
       "\n",
       "    .dataframe tbody tr th {\n",
       "        vertical-align: top;\n",
       "    }\n",
       "\n",
       "    .dataframe thead th {\n",
       "        text-align: right;\n",
       "    }\n",
       "</style>\n",
       "<table border=\"1\" class=\"dataframe\">\n",
       "  <thead>\n",
       "    <tr style=\"text-align: right;\">\n",
       "      <th></th>\n",
       "      <th>phrase</th>\n",
       "      <th>score</th>\n",
       "      <th>wordcount</th>\n",
       "    </tr>\n",
       "  </thead>\n",
       "  <tbody>\n",
       "    <tr>\n",
       "      <th>57</th>\n",
       "      <td>cities_and_napalm</td>\n",
       "      <td>427.729592</td>\n",
       "      <td>3</td>\n",
       "    </tr>\n",
       "    <tr>\n",
       "      <th>253</th>\n",
       "      <td>killing_the_son</td>\n",
       "      <td>390.839161</td>\n",
       "      <td>3</td>\n",
       "    </tr>\n",
       "    <tr>\n",
       "      <th>35</th>\n",
       "      <td>step_on_the_glass</td>\n",
       "      <td>330.710059</td>\n",
       "      <td>4</td>\n",
       "    </tr>\n",
       "    <tr>\n",
       "      <th>22</th>\n",
       "      <td>filled_by_models</td>\n",
       "      <td>258.750000</td>\n",
       "      <td>3</td>\n",
       "    </tr>\n",
       "    <tr>\n",
       "      <th>122</th>\n",
       "      <td>belong_to_anyone</td>\n",
       "      <td>211.704545</td>\n",
       "      <td>3</td>\n",
       "    </tr>\n",
       "    <tr>\n",
       "      <th>67</th>\n",
       "      <td>fallen_from_quite</td>\n",
       "      <td>211.085526</td>\n",
       "      <td>3</td>\n",
       "    </tr>\n",
       "    <tr>\n",
       "      <th>158</th>\n",
       "      <td>ball_and_chain</td>\n",
       "      <td>190.102041</td>\n",
       "      <td>3</td>\n",
       "    </tr>\n",
       "    <tr>\n",
       "      <th>114</th>\n",
       "      <td>finger_on_the_trigger</td>\n",
       "      <td>190.102041</td>\n",
       "      <td>4</td>\n",
       "    </tr>\n",
       "    <tr>\n",
       "      <th>197</th>\n",
       "      <td>door_and_leave</td>\n",
       "      <td>153.333333</td>\n",
       "      <td>3</td>\n",
       "    </tr>\n",
       "    <tr>\n",
       "      <th>148</th>\n",
       "      <td>burn_with_the_fire</td>\n",
       "      <td>142.450133</td>\n",
       "      <td>4</td>\n",
       "    </tr>\n",
       "    <tr>\n",
       "      <th>157</th>\n",
       "      <td>build_a_wall</td>\n",
       "      <td>141.136364</td>\n",
       "      <td>3</td>\n",
       "    </tr>\n",
       "    <tr>\n",
       "      <th>155</th>\n",
       "      <td>stay_a_sec</td>\n",
       "      <td>126.366279</td>\n",
       "      <td>3</td>\n",
       "    </tr>\n",
       "    <tr>\n",
       "      <th>43</th>\n",
       "      <td>bury_a_friend</td>\n",
       "      <td>123.007203</td>\n",
       "      <td>3</td>\n",
       "    </tr>\n",
       "    <tr>\n",
       "      <th>245</th>\n",
       "      <td>dumb_and_broke</td>\n",
       "      <td>120.750000</td>\n",
       "      <td>3</td>\n",
       "    </tr>\n",
       "    <tr>\n",
       "      <th>211</th>\n",
       "      <td>black_and_white</td>\n",
       "      <td>105.852273</td>\n",
       "      <td>3</td>\n",
       "    </tr>\n",
       "    <tr>\n",
       "      <th>78</th>\n",
       "      <td>lonely_with_a_diamond</td>\n",
       "      <td>90.730519</td>\n",
       "      <td>4</td>\n",
       "    </tr>\n",
       "    <tr>\n",
       "      <th>193</th>\n",
       "      <td>begging_for_giving</td>\n",
       "      <td>74.124668</td>\n",
       "      <td>3</td>\n",
       "    </tr>\n",
       "    <tr>\n",
       "      <th>163</th>\n",
       "      <td>man_and_sure</td>\n",
       "      <td>66.535714</td>\n",
       "      <td>3</td>\n",
       "    </tr>\n",
       "    <tr>\n",
       "      <th>238</th>\n",
       "      <td>trying_to_cop</td>\n",
       "      <td>48.854895</td>\n",
       "      <td>3</td>\n",
       "    </tr>\n",
       "    <tr>\n",
       "      <th>229</th>\n",
       "      <td>left_the_city</td>\n",
       "      <td>45.661765</td>\n",
       "      <td>3</td>\n",
       "    </tr>\n",
       "    <tr>\n",
       "      <th>150</th>\n",
       "      <td>back_to_ask</td>\n",
       "      <td>40.696602</td>\n",
       "      <td>3</td>\n",
       "    </tr>\n",
       "    <tr>\n",
       "      <th>208</th>\n",
       "      <td>more_and_more</td>\n",
       "      <td>40.289792</td>\n",
       "      <td>3</td>\n",
       "    </tr>\n",
       "    <tr>\n",
       "      <th>152</th>\n",
       "      <td>back_to_put</td>\n",
       "      <td>38.078692</td>\n",
       "      <td>3</td>\n",
       "    </tr>\n",
       "    <tr>\n",
       "      <th>96</th>\n",
       "      <td>got_a_bellyache</td>\n",
       "      <td>36.964286</td>\n",
       "      <td>3</td>\n",
       "    </tr>\n",
       "    <tr>\n",
       "      <th>4</th>\n",
       "      <td>had_a_dream</td>\n",
       "      <td>28.227273</td>\n",
       "      <td>3</td>\n",
       "    </tr>\n",
       "    <tr>\n",
       "      <th>80</th>\n",
       "      <td>friend_or_anything</td>\n",
       "      <td>27.157434</td>\n",
       "      <td>3</td>\n",
       "    </tr>\n",
       "    <tr>\n",
       "      <th>92</th>\n",
       "      <td>what_an_expensive</td>\n",
       "      <td>24.834906</td>\n",
       "      <td>3</td>\n",
       "    </tr>\n",
       "    <tr>\n",
       "      <th>63</th>\n",
       "      <td>how_to_make</td>\n",
       "      <td>24.498831</td>\n",
       "      <td>3</td>\n",
       "    </tr>\n",
       "    <tr>\n",
       "      <th>201</th>\n",
       "      <td>call_the_cops</td>\n",
       "      <td>23.884615</td>\n",
       "      <td>3</td>\n",
       "    </tr>\n",
       "    <tr>\n",
       "      <th>126</th>\n",
       "      <td>all_the_same</td>\n",
       "      <td>22.193669</td>\n",
       "      <td>3</td>\n",
       "    </tr>\n",
       "    <tr>\n",
       "      <th>103</th>\n",
       "      <td>one_by_one</td>\n",
       "      <td>21.972529</td>\n",
       "      <td>3</td>\n",
       "    </tr>\n",
       "    <tr>\n",
       "      <th>94</th>\n",
       "      <td>is_for_vendetta</td>\n",
       "      <td>20.957944</td>\n",
       "      <td>3</td>\n",
       "    </tr>\n",
       "    <tr>\n",
       "      <th>25</th>\n",
       "      <td>tell_the_mirror</td>\n",
       "      <td>19.569328</td>\n",
       "      <td>3</td>\n",
       "    </tr>\n",
       "    <tr>\n",
       "      <th>232</th>\n",
       "      <td>gutter_the_gutter</td>\n",
       "      <td>19.386056</td>\n",
       "      <td>3</td>\n",
       "    </tr>\n",
       "    <tr>\n",
       "      <th>90</th>\n",
       "      <td>is_in_the_gutter</td>\n",
       "      <td>17.785650</td>\n",
       "      <td>4</td>\n",
       "    </tr>\n",
       "    <tr>\n",
       "      <th>34</th>\n",
       "      <td>want_to_end</td>\n",
       "      <td>16.200000</td>\n",
       "      <td>3</td>\n",
       "    </tr>\n",
       "    <tr>\n",
       "      <th>33</th>\n",
       "      <td>deadly_the_way</td>\n",
       "      <td>16.032702</td>\n",
       "      <td>3</td>\n",
       "    </tr>\n",
       "    <tr>\n",
       "      <th>23</th>\n",
       "      <td>told_a_tight</td>\n",
       "      <td>15.681818</td>\n",
       "      <td>3</td>\n",
       "    </tr>\n",
       "    <tr>\n",
       "      <th>7</th>\n",
       "      <td>are_a_tough</td>\n",
       "      <td>15.525000</td>\n",
       "      <td>3</td>\n",
       "    </tr>\n",
       "    <tr>\n",
       "      <th>189</th>\n",
       "      <td>what_a_shame</td>\n",
       "      <td>13.181604</td>\n",
       "      <td>3</td>\n",
       "    </tr>\n",
       "    <tr>\n",
       "      <th>124</th>\n",
       "      <td>name_by_the_way</td>\n",
       "      <td>12.469880</td>\n",
       "      <td>4</td>\n",
       "    </tr>\n",
       "    <tr>\n",
       "      <th>140</th>\n",
       "      <td>just_a_clone</td>\n",
       "      <td>10.213816</td>\n",
       "      <td>3</td>\n",
       "    </tr>\n",
       "  </tbody>\n",
       "</table>\n",
       "</div>"
      ],
      "text/plain": [
       "                    phrase       score  wordcount\n",
       "57       cities_and_napalm  427.729592          3\n",
       "253        killing_the_son  390.839161          3\n",
       "35       step_on_the_glass  330.710059          4\n",
       "22        filled_by_models  258.750000          3\n",
       "122       belong_to_anyone  211.704545          3\n",
       "67       fallen_from_quite  211.085526          3\n",
       "158         ball_and_chain  190.102041          3\n",
       "114  finger_on_the_trigger  190.102041          4\n",
       "197         door_and_leave  153.333333          3\n",
       "148     burn_with_the_fire  142.450133          4\n",
       "157           build_a_wall  141.136364          3\n",
       "155             stay_a_sec  126.366279          3\n",
       "43           bury_a_friend  123.007203          3\n",
       "245         dumb_and_broke  120.750000          3\n",
       "211        black_and_white  105.852273          3\n",
       "78   lonely_with_a_diamond   90.730519          4\n",
       "193     begging_for_giving   74.124668          3\n",
       "163           man_and_sure   66.535714          3\n",
       "238          trying_to_cop   48.854895          3\n",
       "229          left_the_city   45.661765          3\n",
       "150            back_to_ask   40.696602          3\n",
       "208          more_and_more   40.289792          3\n",
       "152            back_to_put   38.078692          3\n",
       "96         got_a_bellyache   36.964286          3\n",
       "4              had_a_dream   28.227273          3\n",
       "80      friend_or_anything   27.157434          3\n",
       "92       what_an_expensive   24.834906          3\n",
       "63             how_to_make   24.498831          3\n",
       "201          call_the_cops   23.884615          3\n",
       "126           all_the_same   22.193669          3\n",
       "103             one_by_one   21.972529          3\n",
       "94         is_for_vendetta   20.957944          3\n",
       "25         tell_the_mirror   19.569328          3\n",
       "232      gutter_the_gutter   19.386056          3\n",
       "90        is_in_the_gutter   17.785650          4\n",
       "34             want_to_end   16.200000          3\n",
       "33          deadly_the_way   16.032702          3\n",
       "23            told_a_tight   15.681818          3\n",
       "7              are_a_tough   15.525000          3\n",
       "189           what_a_shame   13.181604          3\n",
       "124        name_by_the_way   12.469880          4\n",
       "140           just_a_clone   10.213816          3"
      ]
     },
     "execution_count": 27,
     "metadata": {},
     "output_type": "execute_result"
    }
   ],
   "source": [
    "from gensim.models.phrases import Phrases, Phraser\n",
    "\n",
    "phrases = Phrases(sentences, min_count=5, threshold=10, connector_words=ENGLISH_CONNECTOR_WORDS)\n",
    "phrases_df = pd.DataFrame(columns = ['phrase', 'score'])\n",
    "phrase_col = []\n",
    "score_col = []\n",
    "wordcount_col = []\n",
    "for phrase, score in phrases.find_phrases(sentences).items():\n",
    "    phrase_col.append(phrase)\n",
    "    score_col.append(score)\n",
    "    wordcount_col.append(len(re.findall('_', phrase)) + 1)   \n",
    "phrases_df['phrase'] = phrase_col\n",
    "phrases_df['score'] = score_col\n",
    "phrases_df['wordcount'] = wordcount_col\n",
    "phrases_df[phrases_df['wordcount'] > 2].sort_values(by='score', ascending = False).head(50)\n"
   ]
  },
  {
   "cell_type": "code",
   "execution_count": 28,
   "id": "surgical-geneva",
   "metadata": {},
   "outputs": [
    {
     "name": "stderr",
     "output_type": "stream",
     "text": [
      "/Library/Frameworks/Python.framework/Versions/3.9/lib/python3.9/site-packages/ipykernel/ipkernel.py:283: DeprecationWarning: `should_run_async` will not call `transform_cell` automatically in the future. Please pass the result to `transformed_cell` argument and any exception that happen during thetransform in `preprocessing_exc_tuple` in IPython 7.17 and above.\n",
      "  and should_run_async(code)\n"
     ]
    },
    {
     "data": {
      "text/html": [
       "<div>\n",
       "<style scoped>\n",
       "    .dataframe tbody tr th:only-of-type {\n",
       "        vertical-align: middle;\n",
       "    }\n",
       "\n",
       "    .dataframe tbody tr th {\n",
       "        vertical-align: top;\n",
       "    }\n",
       "\n",
       "    .dataframe thead th {\n",
       "        text-align: right;\n",
       "    }\n",
       "</style>\n",
       "<table border=\"1\" class=\"dataframe\">\n",
       "  <thead>\n",
       "    <tr style=\"text-align: right;\">\n",
       "      <th></th>\n",
       "      <th>N-gram</th>\n",
       "      <th>Count</th>\n",
       "    </tr>\n",
       "  </thead>\n",
       "  <tbody>\n",
       "    <tr>\n",
       "      <th>44</th>\n",
       "      <td>(i, could, lie, say, i)</td>\n",
       "      <td>6</td>\n",
       "    </tr>\n",
       "    <tr>\n",
       "      <th>45</th>\n",
       "      <td>(could, lie, say, i, like)</td>\n",
       "      <td>6</td>\n",
       "    </tr>\n",
       "    <tr>\n",
       "      <th>52</th>\n",
       "      <td>(that, like, it, like, that)</td>\n",
       "      <td>6</td>\n",
       "    </tr>\n",
       "    <tr>\n",
       "      <th>51</th>\n",
       "      <td>(like, that, like, it, like)</td>\n",
       "      <td>6</td>\n",
       "    </tr>\n",
       "    <tr>\n",
       "      <th>50</th>\n",
       "      <td>(it, like, that, like, it)</td>\n",
       "      <td>6</td>\n",
       "    </tr>\n",
       "    <tr>\n",
       "      <th>49</th>\n",
       "      <td>(like, it, like, that, like)</td>\n",
       "      <td>6</td>\n",
       "    </tr>\n",
       "    <tr>\n",
       "      <th>48</th>\n",
       "      <td>(i, like, it, like, that)</td>\n",
       "      <td>6</td>\n",
       "    </tr>\n",
       "    <tr>\n",
       "      <th>47</th>\n",
       "      <td>(say, i, like, it, like)</td>\n",
       "      <td>6</td>\n",
       "    </tr>\n",
       "    <tr>\n",
       "      <th>46</th>\n",
       "      <td>(lie, say, i, like, it)</td>\n",
       "      <td>6</td>\n",
       "    </tr>\n",
       "    <tr>\n",
       "      <th>37</th>\n",
       "      <td>(home, and, i, am, on)</td>\n",
       "      <td>3</td>\n",
       "    </tr>\n",
       "  </tbody>\n",
       "</table>\n",
       "</div>"
      ],
      "text/plain": [
       "                          N-gram  Count\n",
       "44       (i, could, lie, say, i)      6\n",
       "45    (could, lie, say, i, like)      6\n",
       "52  (that, like, it, like, that)      6\n",
       "51  (like, that, like, it, like)      6\n",
       "50    (it, like, that, like, it)      6\n",
       "49  (like, it, like, that, like)      6\n",
       "48     (i, like, it, like, that)      6\n",
       "47      (say, i, like, it, like)      6\n",
       "46       (lie, say, i, like, it)      6\n",
       "37        (home, and, i, am, on)      3"
      ]
     },
     "execution_count": 28,
     "metadata": {},
     "output_type": "execute_result"
    }
   ],
   "source": [
    "from nltk import ngrams\n",
    "tgs = nltk.ngrams(sentences[0],5)\n",
    "fdist = nltk.FreqDist(tgs)\n",
    "d = Counter()\n",
    "ngrams_df = pd.DataFrame(columns = ['N-gram', 'Count'])\n",
    "ngrams_col = []\n",
    "Count_col = []\n",
    "for k, v in fdist.items():\n",
    "    d[k] = v\n",
    "    ngrams_col.append(k)\n",
    "    Count_col.append(v)\n",
    "ngrams_df['N-gram'] = ngrams_col\n",
    "ngrams_df['Count'] = Count_col\n",
    "ngrams_df.sort_values(by='Count', ascending = False).head(10)"
   ]
  },
  {
   "cell_type": "code",
   "execution_count": 29,
   "id": "international-television",
   "metadata": {
    "scrolled": true
   },
   "outputs": [
    {
     "name": "stderr",
     "output_type": "stream",
     "text": [
      "/Library/Frameworks/Python.framework/Versions/3.9/lib/python3.9/site-packages/ipykernel/ipkernel.py:283: DeprecationWarning: `should_run_async` will not call `transform_cell` automatically in the future. Please pass the result to `transformed_cell` argument and any exception that happen during thetransform in `preprocessing_exc_tuple` in IPython 7.17 and above.\n",
      "  and should_run_async(code)\n"
     ]
    },
    {
     "data": {
      "text/plain": [
       "0      [dont, you, know, i, am, no, good, for, you, i...\n",
       "1      [i, had, a, dream, i, got, everything, i, want...\n",
       "2      [white, shirt, now, red, my, bloody, nose, sle...\n",
       "3      [dont, be, that, way, fall, apart, twice, a, y...\n",
       "4      [billie, what, do, you, want, from, me, why, d...\n",
       "                             ...                        \n",
       "148    [oh, boy, we, bout, to, bomb, the, next, one, ...\n",
       "149    [north, americafebruary, february, 3, 2022, ne...\n",
       "150    [somethings, in, the, air, right, now, like, i...\n",
       "151    [من, دوست, شما, نیستم, یا, هر, چیز, دیگری, لعن...\n",
       "152    [ورس۱, کمک, من, خودم, را, دوباره, گم, کردم, ام...\n",
       "Name: lyrics, Length: 153, dtype: object"
      ]
     },
     "execution_count": 29,
     "metadata": {},
     "output_type": "execute_result"
    }
   ],
   "source": [
    "artist_df.lyrics"
   ]
  },
  {
   "cell_type": "code",
   "execution_count": 30,
   "id": "joined-comment",
   "metadata": {},
   "outputs": [
    {
     "name": "stderr",
     "output_type": "stream",
     "text": [
      "/Library/Frameworks/Python.framework/Versions/3.9/lib/python3.9/site-packages/ipykernel/ipkernel.py:283: DeprecationWarning: `should_run_async` will not call `transform_cell` automatically in the future. Please pass the result to `transformed_cell` argument and any exception that happen during thetransform in `preprocessing_exc_tuple` in IPython 7.17 and above.\n",
      "  and should_run_async(code)\n",
      "/Library/Frameworks/Python.framework/Versions/3.9/lib/python3.9/site-packages/pandas/core/generic.py:5494: SettingWithCopyWarning: \n",
      "A value is trying to be set on a copy of a slice from a DataFrame.\n",
      "Try using .loc[row_indexer,col_indexer] = value instead\n",
      "\n",
      "See the caveats in the documentation: https://pandas.pydata.org/pandas-docs/stable/user_guide/indexing.html#returning-a-view-versus-a-copy\n",
      "  self[name] = value\n"
     ]
    }
   ],
   "source": [
    "stop_words = stopwords.words(\"english\")\n",
    "artist_df.lyrics = artist_df.lyrics.apply(lambda x: [y for y in x if y not in stop_words])"
   ]
  },
  {
   "cell_type": "code",
   "execution_count": 31,
   "id": "steady-thanks",
   "metadata": {
    "scrolled": true
   },
   "outputs": [
    {
     "name": "stderr",
     "output_type": "stream",
     "text": [
      "/Library/Frameworks/Python.framework/Versions/3.9/lib/python3.9/site-packages/ipykernel/ipkernel.py:283: DeprecationWarning: `should_run_async` will not call `transform_cell` automatically in the future. Please pass the result to `transformed_cell` argument and any exception that happen during thetransform in `preprocessing_exc_tuple` in IPython 7.17 and above.\n",
      "  and should_run_async(code)\n"
     ]
    },
    {
     "data": {
      "text/plain": [
       "0      [dont, know, good, learned, lose, afford, tore...\n",
       "1      [dream, got, everything, wanted, think, honest...\n",
       "2      [white, shirt, red, bloody, nose, sleepin, tip...\n",
       "3      [dont, way, fall, apart, twice, wish, could, f...\n",
       "4      [billie, want, dont, run, wondering, know, sca...\n",
       "                             ...                        \n",
       "148    [oh, boy, bout, bomb, next, one, oh, oh, alrig...\n",
       "149    [north, americafebruary, february, 3, 2022, ne...\n",
       "150    [somethings, air, right, like, losing, track, ...\n",
       "151    [من, دوست, شما, نیستم, یا, هر, چیز, دیگری, لعن...\n",
       "152    [ورس۱, کمک, من, خودم, را, دوباره, گم, کردم, ام...\n",
       "Name: lyrics, Length: 153, dtype: object"
      ]
     },
     "execution_count": 31,
     "metadata": {},
     "output_type": "execute_result"
    }
   ],
   "source": [
    "artist_df.lyrics"
   ]
  },
  {
   "cell_type": "code",
   "execution_count": 32,
   "id": "indian-gospel",
   "metadata": {},
   "outputs": [
    {
     "name": "stderr",
     "output_type": "stream",
     "text": [
      "/Library/Frameworks/Python.framework/Versions/3.9/lib/python3.9/site-packages/ipykernel/ipkernel.py:283: DeprecationWarning: `should_run_async` will not call `transform_cell` automatically in the future. Please pass the result to `transformed_cell` argument and any exception that happen during thetransform in `preprocessing_exc_tuple` in IPython 7.17 and above.\n",
      "  and should_run_async(code)\n"
     ]
    }
   ],
   "source": [
    "lemma = WordNetLemmatizer()\n",
    "\n",
    "# Dictionary to convert between part-of-speech tags and the ones the lemmatizer understands\n",
    "\n",
    "tag_dict = defaultdict(lambda : wordnet.NOUN)\n",
    "tag_dict['J'] = wordnet.ADJ\n",
    "tag_dict['V'] = wordnet.VERB\n",
    "tag_dict['R'] = wordnet.ADV\n",
    "\n",
    "# function to lemmatize a sentence\n",
    "\n",
    "def get_lemma(word):\n",
    "    \"\"\"Gets the POS tag for a word, and then returns the lemmatized form of the word\"\"\"\n",
    "    tag = pos_tag([word])[0][1][0]\n",
    "    tag = tag_dict[tag]\n",
    "    \n",
    "    return lemma.lemmatize(word, tag)\n",
    "\n",
    "# Perform the lemmatization\n",
    "#artist_df.lyrics = artist_df.lyrics.apply(lambda x: [get_lemma(word) for word in x])#\n",
    "artist_df.lyrics = artist_df.lyrics.apply(lambda x: [get_lemma(word) for word in x])"
   ]
  },
  {
   "cell_type": "code",
   "execution_count": 33,
   "id": "meaningful-wonder",
   "metadata": {},
   "outputs": [
    {
     "name": "stderr",
     "output_type": "stream",
     "text": [
      "/Library/Frameworks/Python.framework/Versions/3.9/lib/python3.9/site-packages/ipykernel/ipkernel.py:283: DeprecationWarning: `should_run_async` will not call `transform_cell` automatically in the future. Please pass the result to `transformed_cell` argument and any exception that happen during thetransform in `preprocessing_exc_tuple` in IPython 7.17 and above.\n",
      "  and should_run_async(code)\n"
     ]
    }
   ],
   "source": [
    "remove_words = ['like', 'get', 'got', 'know', 'say', 'dont']\n",
    "artist_df.lyrics = artist_df.lyrics.apply(lambda x: [y for y in x if y not in remove_words])"
   ]
  },
  {
   "cell_type": "code",
   "execution_count": 34,
   "id": "random-canon",
   "metadata": {},
   "outputs": [
    {
     "name": "stderr",
     "output_type": "stream",
     "text": [
      "/Library/Frameworks/Python.framework/Versions/3.9/lib/python3.9/site-packages/ipykernel/ipkernel.py:283: DeprecationWarning: `should_run_async` will not call `transform_cell` automatically in the future. Please pass the result to `transformed_cell` argument and any exception that happen during thetransform in `preprocessing_exc_tuple` in IPython 7.17 and above.\n",
      "  and should_run_async(code)\n"
     ]
    },
    {
     "data": {
      "text/plain": [
       "['good',\n",
       " 'learn',\n",
       " 'lose',\n",
       " 'afford',\n",
       " 'tore',\n",
       " 'shirt',\n",
       " 'stop',\n",
       " 'bleedin',\n",
       " 'nothing',\n",
       " 'ever',\n",
       " 'stop',\n",
       " 'leavin',\n",
       " 'quiet',\n",
       " 'come',\n",
       " 'home',\n",
       " 'could',\n",
       " 'lie',\n",
       " 'could',\n",
       " 'lie',\n",
       " 'much',\n",
       " 'already',\n",
       " 'hurt',\n",
       " 'let',\n",
       " 'call',\n",
       " 'friend',\n",
       " 'keep',\n",
       " 'closer',\n",
       " 'call',\n",
       " 'back',\n",
       " 'call',\n",
       " 'party',\n",
       " 'quiet',\n",
       " 'come',\n",
       " 'home',\n",
       " 'could',\n",
       " 'lie',\n",
       " 'could',\n",
       " 'lie',\n",
       " 'nothing',\n",
       " 'well',\n",
       " 'sometimes',\n",
       " 'goodbye',\n",
       " 'let',\n",
       " 'let',\n",
       " 'go',\n",
       " 'let',\n",
       " 'let',\n",
       " 'go',\n",
       " 'quiet',\n",
       " 'come',\n",
       " 'home',\n",
       " 'could',\n",
       " 'lie',\n",
       " 'could',\n",
       " 'lie']"
      ]
     },
     "execution_count": 34,
     "metadata": {},
     "output_type": "execute_result"
    }
   ],
   "source": [
    "artist_df.lyrics[0]"
   ]
  },
  {
   "cell_type": "code",
   "execution_count": 35,
   "id": "streaming-reflection",
   "metadata": {},
   "outputs": [
    {
     "name": "stderr",
     "output_type": "stream",
     "text": [
      "/Library/Frameworks/Python.framework/Versions/3.9/lib/python3.9/site-packages/ipykernel/ipkernel.py:283: DeprecationWarning: `should_run_async` will not call `transform_cell` automatically in the future. Please pass the result to `transformed_cell` argument and any exception that happen during thetransform in `preprocessing_exc_tuple` in IPython 7.17 and above.\n",
      "  and should_run_async(code)\n"
     ]
    }
   ],
   "source": [
    "# Create the list of words and their frequency (corpus)\n",
    "from gensim import corpora\n",
    "pyLDAvis.enable_notebook()\n",
    "#dictionary = corpora.Dictionary(artist_df.lyrics )\n",
    "dictionary = corpora.Dictionary(artist_df.lyrics)\n",
    "corpus = [dictionary.doc2bow(text) for text in artist_df.lyrics ]\n",
    "\n",
    "import pickle\n",
    "pickle.dump(corpus, open('corpus.pkl', 'wb'))\n",
    "dictionary.save('dictionary.gensim')"
   ]
  },
  {
   "cell_type": "code",
   "execution_count": null,
   "id": "former-alaska",
   "metadata": {},
   "outputs": [],
   "source": []
  },
  {
   "cell_type": "code",
   "execution_count": 36,
   "id": "effective-parent",
   "metadata": {},
   "outputs": [
    {
     "name": "stderr",
     "output_type": "stream",
     "text": [
      "/Library/Frameworks/Python.framework/Versions/3.9/lib/python3.9/site-packages/ipykernel/ipkernel.py:283: DeprecationWarning: `should_run_async` will not call `transform_cell` automatically in the future. Please pass the result to `transformed_cell` argument and any exception that happen during thetransform in `preprocessing_exc_tuple` in IPython 7.17 and above.\n",
      "  and should_run_async(code)\n"
     ]
    },
    {
     "name": "stdout",
     "output_type": "stream",
     "text": [
      "(0, '0.056*\"eye\" + 0.046*\"ocean\" + 0.026*\"never\" + 0.023*\"give\" + 0.021*\"fall\" + 0.019*\"watch\" + 0.018*\"make\" + 0.016*\"back\" + 0.015*\"cry\" + 0.013*\"fair\"')\n",
      "(1, '0.035*\"want\" + 0.032*\"one\" + 0.022*\"boy\" + 0.016*\"love\" + 0.014*\"need\" + 0.013*\"mind\" + 0.012*\"see\" + 0.011*\"friend\" + 0.009*\"end\" + 0.009*\"wheres\"')\n",
      "(2, '0.018*\"want\" + 0.015*\"think\" + 0.014*\"cause\" + 0.014*\"sorry\" + 0.013*\"mine\" + 0.013*\"guy\" + 0.012*\"na\" + 0.012*\"make\" + 0.010*\"watch\" + 0.010*\"go\"')\n",
      "(3, '0.022*\"could\" + 0.019*\"would\" + 0.016*\"young\" + 0.013*\"want\" + 0.013*\"من\" + 0.013*\"love\" + 0.012*\"dumb\" + 0.012*\"شما\" + 0.011*\"lie\" + 0.011*\"let\"')\n"
     ]
    }
   ],
   "source": [
    "import gensim\n",
    "NUM_TOPICS = 4\n",
    "ldamodel = gensim.models.ldamodel.LdaModel(corpus, num_topics = NUM_TOPICS, id2word=dictionary, passes=15)\n",
    "ldamodel.save('model3.gensim')\n",
    "topics = ldamodel.print_topics(num_words=10)\n",
    "for topic in topics:\n",
    "    print(topic)"
   ]
  },
  {
   "cell_type": "code",
   "execution_count": 37,
   "id": "written-sweet",
   "metadata": {
    "scrolled": false
   },
   "outputs": [
    {
     "name": "stderr",
     "output_type": "stream",
     "text": [
      "/Library/Frameworks/Python.framework/Versions/3.9/lib/python3.9/site-packages/ipykernel/ipkernel.py:283: DeprecationWarning: `should_run_async` will not call `transform_cell` automatically in the future. Please pass the result to `transformed_cell` argument and any exception that happen during thetransform in `preprocessing_exc_tuple` in IPython 7.17 and above.\n",
      "  and should_run_async(code)\n"
     ]
    },
    {
     "data": {
      "text/html": [
       "\n",
       "<link rel=\"stylesheet\" type=\"text/css\" href=\"https://cdn.jsdelivr.net/gh/bmabey/pyLDAvis@3.3.1/pyLDAvis/js/ldavis.v1.0.0.css\">\n",
       "\n",
       "\n",
       "<div id=\"ldavis_el434741406250609506401627490514\"></div>\n",
       "<script type=\"text/javascript\">\n",
       "\n",
       "var ldavis_el434741406250609506401627490514_data = {\"mdsDat\": {\"x\": [-0.09173809995838672, -0.04989425369940662, 0.22269580135942632, -0.08106344770163308], \"y\": [-0.02678993086577372, -0.14663397867894806, 0.014104886504794592, 0.1593190230399273], \"topics\": [1, 2, 3, 4], \"cluster\": [1, 1, 1, 1], \"Freq\": [33.31174766301915, 26.99300195112169, 24.178203910720338, 15.517046475138818]}, \"tinfo\": {\"Term\": [\"eye\", \"ocean\", \"boy\", \"one\", \"could\", \"fall\", \"never\", \"sorry\", \"young\", \"rose\", \"guy\", \"fair\", \"cry\", \"want\", \"bloom\", \"\\u0645\\u0646\", \"high\", \"give\", \"burn\", \"mine\", \"\\u0634\\u0645\\u0627\", \"help\", \"dumb\", \"quite\", \"copycat\", \"would\", \"lie\", \"watch\", \"wheres\", \"need\", \"copycat\", \"2022\", \"sad\", \"type\", \"guy\", \"manner\", \"bunny\", \"gold\", \"uninvited\", \"sorry\", \"glamor\", \"finger\", \"march\", \"february\", \"trigger\", \"chest\", \"sec\", \"mad\", \"job\", \"duh\", \"commit\", \"pretend\", \"shame\", \"push\", \"fingertip\", \"hurry\", \"crime\", \"poison\", \"gay\", \"seven\", \"tryna\", \"cop\", \"mine\", \"bout\", \"cause\", \"na\", \"alone\", \"bad\", \"told\", \"think\", \"nothing\", \"everybody\", \"kiss\", \"even\", \"feel\", \"gon\", \"want\", \"go\", \"make\", \"watch\", \"time\", \"lie\", \"let\", \"way\", \"call\", \"love\", \"tell\", \"stay\", \"see\", \"never\", \"boy\", \"wheres\", \"bore\", \"gutter\", \"crown\", \"bellyache\", \"makethem\", \"expensive\", \"bow\", \"lover\", \"he\", \"vendetta\", \"v\", \"babe\", \"asleep\", \"town\", \"birthy\", \"bullshit\", \"teach\", \"blah\", \"fade\", \"cannibal\", \"staple\", \"son\", \"afraid\", \"favorite\", \"boyfriend\", \"door\", \"torn\", \"late\", \"bury\", \"sure\", \"one\", \"need\", \"glass\", \"want\", \"mind\", \"run\", \"end\", \"maybe\", \"friend\", \"shes\", \"tongue\", \"love\", \"see\", \"thought\", \"well\", \"pretty\", \"left\", \"way\", \"oh\", \"call\", \"tell\", \"would\", \"feel\", \"go\", \"give\", \"make\", \"cause\", \"watch\", \"rose\", \"bloom\", \"quite\", \"foot\", \"fire\", \"grave\", \"diamond\", \"burning\", \"ocean\", \"flare\", \"fifteen\", \"napalm\", \"eye\", \"blind\", \"creature\", \"erase\", \"help\", \"touch\", \"fair\", \"carelessly\", \"retrace\", \"hug\", \"meant\", \"remember\", \"teeth\", \"fan\", \"burn\", \"tonight\", \"naeco\", \"seye\", \"cry\", \"car\", \"high\", \"six\", \"sky\", \"heart\", \"fall\", \"never\", \"give\", \"start\", \"scar\", \"back\", \"rain\", \"really\", \"watch\", \"make\", \"stop\", \"walk\", \"come\", \"go\", \"love\", \"could\", \"would\", \"let\", \"time\", \"\\u0634\\u0645\\u0627\", \"broke\", \"\\u0641\\u06a9\\u0631\", \"dumb\", \"quiet\", \"\\u06a9\\u0647\", \"oakland\", \"\\u0647\\u0631\", \"\\u0686\\u06cc\\u0632\", \"\\u062f\\u06cc\\u06af\\u0631\\u06cc\", \"\\u06cc\\u0627\", \"\\u0646\\u06cc\\u0633\\u062a\\u0645\", \"\\u062f\\u0648\\u0633\\u062a\", \"\\u0647\\u0633\\u062a\\u06cc\\u062f\", \"\\u0647\\u0633\\u062a\\u0645\", \"\\u0644\\u0639\\u0646\\u062a\\u06cc\", \"\\u06a9\\u0646\\u06cc\\u062f\", \"mirror\", \"nervous\", \"power\", \"kid\", \"school\", \"model\", \"swim\", \"teardrop\", \"showthem\", \"whore\", \"bottle\", \"pool\", \"dress\", \"\\u0645\\u0646\", \"young\", \"\\u0645\\u0631\\u062f\", \"\\u0645\\u06cc\", \"la\", \"\\u067e\\u0633\", \"um\", \"hide\", \"everything\", \"could\", \"blue\", \"would\", \"lie\", \"let\", \"home\", \"love\", \"come\", \"mm\", \"want\", \"make\", \"true\", \"might\", \"try\", \"still\", \"promise\", \"see\", \"go\", \"keep\", \"feel\", \"way\"], \"Freq\": [194.0, 161.0, 82.0, 150.0, 95.0, 96.0, 123.0, 66.0, 38.0, 42.0, 61.0, 46.0, 56.0, 252.0, 38.0, 30.0, 50.0, 122.0, 43.0, 72.0, 25.0, 38.0, 26.0, 32.0, 41.0, 119.0, 60.0, 133.0, 33.0, 64.0, 40.70890684940947, 29.67094848813842, 30.5434686502593, 27.749821834960752, 59.854120266519004, 20.469132693802244, 19.549394659438132, 18.622868364561846, 17.708267794671848, 63.58022645678423, 14.949508936878663, 14.948336786599063, 13.109993512832519, 13.10990097465255, 13.109034094001121, 13.078339073339848, 11.263690891931443, 12.122861092020315, 11.240890335312999, 11.216189023204857, 10.34696407121665, 15.507172728114321, 9.427585553, 9.42741643149868, 9.424447764139, 9.39861897535538, 8.509089338464774, 8.508746840833167, 8.504510825870817, 8.50085503593344, 37.84351209857535, 40.71502075123084, 61.44952529009446, 18.589654603553846, 65.39263457604305, 54.98695237049329, 27.79829907737735, 45.290440229932436, 24.017263499871515, 68.38736153812694, 41.87096089447868, 18.629086504792834, 19.64654911183264, 20.527731698524363, 45.97852860840438, 31.143196894405463, 82.98762712917554, 46.55339705551349, 53.03666449039589, 47.65753283649482, 34.82630367704533, 30.71731278973115, 37.28686622731935, 34.407082321328744, 31.11677990316756, 37.48042206278173, 28.100571319444096, 23.102571455458786, 27.50999265488516, 27.0378862611452, 81.62930453824583, 32.534743748505996, 30.750871669541716, 28.045902121287128, 23.551746035943374, 21.76925471629081, 21.765265856056956, 20.86662425637184, 18.17342650005199, 18.16178916408019, 17.25911043791811, 16.379782230653085, 16.377520612404677, 12.792704856668864, 12.7867655230752, 12.773142375958457, 10.998647738511963, 10.998526211006999, 10.997909092612996, 10.995639717289805, 10.10302105522659, 10.096690420304883, 10.095675105405256, 10.094883883777193, 9.20194976733939, 9.198811599640283, 9.190073685843654, 8.304214021609711, 8.304189888488159, 8.30132580409812, 28.951092415885125, 17.188657237132542, 118.46441885361274, 50.32282290636398, 12.789844219867621, 128.70705346461298, 47.6228954567196, 25.307811587495262, 33.20426893975449, 32.07281511644633, 38.90666009842209, 20.436346213229097, 16.36385264663362, 60.29826593829434, 45.29865175788159, 21.90866831191445, 32.43922140580992, 19.115812830140946, 24.499498537989115, 30.03064968508768, 23.423452637972538, 25.747361920697596, 24.12469564611943, 27.10847170008854, 24.026658287398632, 25.424722771065007, 24.09517739087116, 24.572768418818814, 22.770549996090963, 22.668589281323385, 41.90736011852276, 37.518345389784265, 32.21158465711142, 26.834480587773083, 28.40826104381489, 20.6430811391237, 19.770870394454523, 14.430208737688707, 153.98665620197727, 12.662178889387802, 12.66212253195797, 12.662112495703342, 184.8767780205423, 10.876956936909759, 9.996345847117247, 10.82061803554774, 35.6960518287705, 9.101383685226805, 42.88488514309764, 8.214517692742518, 8.21385838801544, 8.20485432357528, 6.439250932835502, 16.126979634094234, 5.549349745345941, 5.543855667956898, 38.92259343265607, 6.238848158460281, 4.664684780703452, 4.664671656370478, 48.15505214735896, 31.29867149579008, 41.987542072801695, 21.539071631103685, 14.329007778141163, 22.01205560707731, 70.73582524724414, 85.46051159206019, 76.25005852365777, 32.63131008987413, 36.669395595263595, 52.4645673871332, 21.674750985395086, 41.28007876390389, 62.82258742620774, 59.61118975853569, 25.47694745009498, 23.966671781219322, 32.327807573777775, 39.10943143688246, 42.40365445389845, 34.07873873227154, 31.67880158798801, 29.171532104599034, 27.49974530605962, 24.740120093425094, 15.472109547082427, 15.439669444574918, 24.800210138818848, 18.86470690265955, 7.823649094989539, 6.990885195859356, 6.97958808895778, 6.979070823065704, 6.9787884077798, 6.978682378181232, 6.978480228292375, 6.978300869812554, 6.977749416806921, 6.9767411446897025, 6.976709434903214, 9.241267305163795, 6.144695174944212, 6.143882116200056, 6.141407266457792, 5.298437770732781, 5.298422411304951, 5.297709436574397, 5.29749192725771, 5.297473099571983, 5.297299686677129, 5.297110418889032, 5.296965742988183, 5.29684237210013, 5.296809671382815, 27.235392920048955, 33.26754560356041, 7.531694613472332, 16.43089358783337, 11.225450711560063, 6.657596512190317, 10.190552283000086, 17.185423993579413, 13.77433388689513, 47.08324193413596, 11.223464886181285, 41.01772659151638, 24.139804288675897, 23.126981817096166, 13.22536316298494, 26.63524160981716, 18.334957264014903, 13.505865952391447, 28.65961617965547, 22.820052884375663, 9.546844608235268, 10.585440199713519, 12.622764253608647, 9.696040144589643, 9.536856025491716, 14.718732584819866, 14.485078032156116, 10.373222453646123, 11.241066790474314, 10.553313231347573], \"Total\": [194.0, 161.0, 82.0, 150.0, 95.0, 96.0, 123.0, 66.0, 38.0, 42.0, 61.0, 46.0, 56.0, 252.0, 38.0, 30.0, 50.0, 122.0, 43.0, 72.0, 25.0, 38.0, 26.0, 32.0, 41.0, 119.0, 60.0, 133.0, 33.0, 64.0, 41.37108498271422, 30.33041745219984, 31.24898092380634, 28.488148204956484, 61.56207691242488, 21.129606080547607, 20.209565289307324, 19.289369867709656, 18.369347555599095, 66.1655694533812, 15.609224040588105, 15.609188944787313, 13.769134698052984, 13.769134078102688, 13.769070019193311, 13.768307420624328, 11.928821078245424, 12.847387693371939, 11.927886803054006, 11.927637865497196, 11.00875481045557, 16.516547181522935, 10.088764313343221, 10.088746928186131, 10.088705327146917, 10.08795426384125, 9.168733036373178, 9.168716829215548, 9.168614184865392, 9.168462240190136, 43.04837899643809, 46.760079003130286, 72.4025250135351, 21.0816358456947, 95.44543761358157, 78.23887760106489, 36.52248654583543, 65.52899548096512, 30.740462548508237, 112.53806038569509, 63.56471535002167, 22.78115663122229, 24.70077925631534, 26.373052558023176, 87.4835535594564, 51.85352449596468, 252.53949957357514, 125.57262929561708, 160.04067555212603, 133.374761025081, 76.755451131772, 60.318464420031404, 89.91617691322071, 77.41062835048112, 71.97421427210963, 166.81758406479167, 70.13478713579983, 40.57150849790803, 108.23979321579554, 123.32005726738119, 82.6349796646535, 33.22454872104561, 31.42853680801364, 28.733454145414658, 24.242843582537407, 22.445854688032863, 22.446215988224093, 21.547745743386116, 18.85327754581386, 18.852723042074203, 17.954576113933364, 17.056363545258684, 17.056429870974885, 13.463429689237852, 13.463814868456641, 13.46342480904815, 11.666954976753873, 11.666946639258388, 11.667153115810542, 11.666821687566577, 10.768904850494291, 10.769012385562778, 10.76902745913091, 10.769051741089726, 9.870680551755324, 9.87077495193677, 9.870088384883958, 8.972435870125054, 8.972430757690292, 8.97257577762254, 31.471254912834333, 18.797584355936756, 150.16990684771704, 64.64575030284777, 14.383129858813632, 252.53949957357514, 76.23370925402108, 35.02283548362076, 50.0230228664023, 50.714691820405726, 78.36535556919038, 30.222098136591107, 21.499629918720224, 166.81758406479167, 108.23979321579554, 34.8506079184929, 70.87187275277009, 28.809054449023947, 46.73806474478256, 77.41062835048112, 45.92667261455847, 71.97421427210963, 70.13478713579983, 119.85577916198726, 87.4835535594564, 125.57262929561708, 122.17503018726238, 160.04067555212603, 95.44543761358157, 133.374761025081, 42.655248370964316, 38.21026563226719, 32.8782442223178, 27.54576238122274, 29.32597916482921, 21.32653194157052, 20.437708061114567, 15.106278552571675, 161.80291983695687, 13.328831715977262, 13.328829922896464, 13.328829800855173, 194.70366660448045, 11.55174152589734, 10.663001779272145, 11.549839295134312, 38.27408075763122, 9.774465511023786, 46.23573212249454, 8.885849306921958, 8.885841948774976, 8.88601367682434, 7.108553976872986, 17.805671152958045, 6.219936041519542, 6.220070120793409, 43.675320207381475, 7.104976683877959, 5.331333991467736, 5.331332324875171, 56.62006355011992, 36.47992865556948, 50.28639775944838, 25.894621068505103, 16.903223225682293, 26.79755170466451, 96.03208796919927, 123.32005726738119, 122.17503018726238, 46.48591699556495, 58.04435663099667, 93.01075888781092, 29.5700077073913, 73.77057152556476, 133.374761025081, 160.04067555212603, 41.60040146050699, 39.33124038170282, 71.41555423857798, 125.57262929561708, 166.81758406479167, 95.77261592595565, 119.85577916198726, 89.91617691322071, 76.755451131772, 25.482240232169406, 16.150600356310996, 16.15328411158444, 26.36558400488209, 20.461255262304704, 8.52100561849831, 7.671705421474674, 7.672815023039881, 7.672865169728541, 7.672869310845376, 7.672889161779483, 7.6729024073053145, 7.672918663659459, 7.672960366616357, 7.6730546936736825, 7.6730607366937775, 10.240202845737599, 6.823838454358776, 6.823842212714684, 6.82405856707806, 5.975830322326936, 5.975831431459788, 5.975882654764053, 5.975893614122256, 5.975902244200541, 5.975883565732067, 5.975934697994081, 5.975942845583355, 5.975952857991751, 5.97595431405472, 30.789865491925116, 38.44778343475498, 8.545572917726401, 20.66876010562286, 13.751105714172013, 7.699889815696142, 12.860040581449965, 26.02669519178828, 19.824220400644304, 95.77261592595565, 15.591313774604451, 119.85577916198726, 60.318464420031404, 89.91617691322071, 32.71318363518159, 166.81758406479167, 71.41555423857798, 37.29013875327988, 252.53949957357514, 160.04067555212603, 19.379154476188926, 26.579693990479868, 48.074266904770965, 21.105378675320104, 20.09569469777712, 108.23979321579554, 125.57262929561708, 34.44113846339658, 87.4835535594564, 77.41062835048112], \"Category\": [\"Default\", \"Default\", \"Default\", \"Default\", \"Default\", \"Default\", \"Default\", \"Default\", \"Default\", \"Default\", \"Default\", \"Default\", \"Default\", \"Default\", \"Default\", \"Default\", \"Default\", \"Default\", \"Default\", \"Default\", \"Default\", \"Default\", \"Default\", \"Default\", \"Default\", \"Default\", \"Default\", \"Default\", \"Default\", \"Default\", \"Topic1\", \"Topic1\", \"Topic1\", \"Topic1\", \"Topic1\", \"Topic1\", \"Topic1\", \"Topic1\", \"Topic1\", \"Topic1\", \"Topic1\", \"Topic1\", \"Topic1\", \"Topic1\", \"Topic1\", \"Topic1\", \"Topic1\", \"Topic1\", \"Topic1\", \"Topic1\", \"Topic1\", \"Topic1\", \"Topic1\", \"Topic1\", \"Topic1\", \"Topic1\", \"Topic1\", \"Topic1\", \"Topic1\", \"Topic1\", \"Topic1\", \"Topic1\", \"Topic1\", \"Topic1\", \"Topic1\", \"Topic1\", \"Topic1\", \"Topic1\", \"Topic1\", \"Topic1\", \"Topic1\", \"Topic1\", \"Topic1\", \"Topic1\", \"Topic1\", \"Topic1\", \"Topic1\", \"Topic1\", \"Topic1\", \"Topic1\", \"Topic1\", \"Topic1\", \"Topic1\", \"Topic1\", \"Topic1\", \"Topic1\", \"Topic1\", \"Topic1\", \"Topic1\", \"Topic1\", \"Topic2\", \"Topic2\", \"Topic2\", \"Topic2\", \"Topic2\", \"Topic2\", \"Topic2\", \"Topic2\", \"Topic2\", \"Topic2\", \"Topic2\", \"Topic2\", \"Topic2\", \"Topic2\", \"Topic2\", \"Topic2\", \"Topic2\", \"Topic2\", \"Topic2\", \"Topic2\", \"Topic2\", \"Topic2\", \"Topic2\", \"Topic2\", \"Topic2\", \"Topic2\", \"Topic2\", \"Topic2\", \"Topic2\", \"Topic2\", \"Topic2\", \"Topic2\", \"Topic2\", \"Topic2\", \"Topic2\", \"Topic2\", \"Topic2\", \"Topic2\", \"Topic2\", \"Topic2\", \"Topic2\", \"Topic2\", \"Topic2\", \"Topic2\", \"Topic2\", \"Topic2\", \"Topic2\", \"Topic2\", \"Topic2\", \"Topic2\", \"Topic2\", \"Topic2\", \"Topic2\", \"Topic2\", \"Topic2\", \"Topic2\", \"Topic2\", \"Topic2\", \"Topic2\", \"Topic2\", \"Topic3\", \"Topic3\", \"Topic3\", \"Topic3\", \"Topic3\", \"Topic3\", \"Topic3\", \"Topic3\", \"Topic3\", \"Topic3\", \"Topic3\", \"Topic3\", \"Topic3\", \"Topic3\", \"Topic3\", \"Topic3\", \"Topic3\", \"Topic3\", \"Topic3\", \"Topic3\", \"Topic3\", \"Topic3\", \"Topic3\", \"Topic3\", \"Topic3\", \"Topic3\", \"Topic3\", \"Topic3\", \"Topic3\", \"Topic3\", \"Topic3\", \"Topic3\", \"Topic3\", \"Topic3\", \"Topic3\", \"Topic3\", \"Topic3\", \"Topic3\", \"Topic3\", \"Topic3\", \"Topic3\", \"Topic3\", \"Topic3\", \"Topic3\", \"Topic3\", \"Topic3\", \"Topic3\", \"Topic3\", \"Topic3\", \"Topic3\", \"Topic3\", \"Topic3\", \"Topic3\", \"Topic3\", \"Topic3\", \"Topic4\", \"Topic4\", \"Topic4\", \"Topic4\", \"Topic4\", \"Topic4\", \"Topic4\", \"Topic4\", \"Topic4\", \"Topic4\", \"Topic4\", \"Topic4\", \"Topic4\", \"Topic4\", \"Topic4\", \"Topic4\", \"Topic4\", \"Topic4\", \"Topic4\", \"Topic4\", \"Topic4\", \"Topic4\", \"Topic4\", \"Topic4\", \"Topic4\", \"Topic4\", \"Topic4\", \"Topic4\", \"Topic4\", \"Topic4\", \"Topic4\", \"Topic4\", \"Topic4\", \"Topic4\", \"Topic4\", \"Topic4\", \"Topic4\", \"Topic4\", \"Topic4\", \"Topic4\", \"Topic4\", \"Topic4\", \"Topic4\", \"Topic4\", \"Topic4\", \"Topic4\", \"Topic4\", \"Topic4\", \"Topic4\", \"Topic4\", \"Topic4\", \"Topic4\", \"Topic4\", \"Topic4\", \"Topic4\", \"Topic4\", \"Topic4\", \"Topic4\", \"Topic4\", \"Topic4\"], \"logprob\": [30.0, 29.0, 28.0, 27.0, 26.0, 25.0, 24.0, 23.0, 22.0, 21.0, 20.0, 19.0, 18.0, 17.0, 16.0, 15.0, 14.0, 13.0, 12.0, 11.0, 10.0, 9.0, 8.0, 7.0, 6.0, 5.0, 4.0, 3.0, 2.0, 1.0, -4.7205, -5.0367, -5.0078, -5.1037, -4.335, -5.408, -5.454, -5.5025, -5.5529, -4.2746, -5.7222, -5.7223, -5.8535, -5.8535, -5.8536, -5.856, -6.0053, -5.9318, -6.0074, -6.0096, -6.0902, -5.6856, -6.1833, -6.1833, -6.1836, -6.1863, -6.2858, -6.2858, -6.2863, -6.2867, -4.7935, -4.7203, -4.3087, -5.5043, -4.2465, -4.4198, -5.1019, -4.6138, -5.2481, -4.2017, -4.6923, -5.5022, -5.449, -5.4051, -4.5987, -4.9883, -4.0082, -4.5863, -4.4559, -4.5629, -4.8765, -5.0021, -4.8083, -4.8886, -4.9892, -4.8031, -5.0911, -5.287, -5.1124, -5.1297, -3.8144, -4.7343, -4.7907, -4.8827, -5.0574, -5.1361, -5.1363, -5.1784, -5.3166, -5.3173, -5.3682, -5.4205, -5.4207, -5.6677, -5.6682, -5.6692, -5.8188, -5.8188, -5.8189, -5.8191, -5.9037, -5.9044, -5.9045, -5.9046, -5.9972, -5.9975, -5.9985, -6.0998, -6.0998, -6.1002, -4.851, -5.3723, -3.442, -4.2981, -5.6679, -3.359, -4.3533, -4.9855, -4.7139, -4.7486, -4.5554, -5.1993, -5.4215, -4.1173, -4.4033, -5.1297, -4.7372, -5.2661, -5.0179, -4.8144, -5.0628, -4.9682, -5.0333, -4.9167, -5.0374, -4.9809, -5.0346, -5.0149, -5.0911, -5.0956, -4.371, -4.4816, -4.6341, -4.8168, -4.7598, -5.0791, -5.1222, -5.4371, -3.0696, -5.5678, -5.5678, -5.5678, -2.8868, -5.7198, -5.8042, -5.725, -4.5314, -5.898, -4.3479, -6.0006, -6.0006, -6.0017, -6.244, -5.326, -6.3928, -6.3938, -4.4449, -6.2757, -6.5664, -6.5664, -4.232, -4.6629, -4.3691, -5.0366, -5.4442, -5.0149, -3.8475, -3.6584, -3.7724, -4.6212, -4.5045, -4.1463, -5.0303, -4.3861, -3.9661, -4.0186, -4.8687, -4.9298, -4.6305, -4.4401, -4.3592, -4.5778, -4.6508, -4.7333, -4.7923, -4.4545, -4.9239, -4.926, -4.4521, -4.7256, -5.6058, -5.7183, -5.72, -5.72, -5.7201, -5.7201, -5.7201, -5.7201, -5.7202, -5.7204, -5.7204, -5.4393, -5.8474, -5.8475, -5.8479, -5.9955, -5.9955, -5.9957, -5.9957, -5.9957, -5.9957, -5.9958, -5.9958, -5.9958, -5.9958, -4.3584, -4.1584, -5.6438, -4.8638, -5.2448, -5.7672, -5.3415, -4.8189, -5.0401, -3.811, -5.2449, -3.9489, -4.4791, -4.5219, -5.0808, -4.3807, -4.7541, -5.0598, -4.3075, -4.5353, -5.4067, -5.3035, -5.1274, -5.3912, -5.4078, -4.9738, -4.9898, -5.3237, -5.2434, -5.3065], \"loglift\": [30.0, 29.0, 28.0, 27.0, 26.0, 25.0, 24.0, 23.0, 22.0, 21.0, 20.0, 19.0, 18.0, 17.0, 16.0, 15.0, 14.0, 13.0, 12.0, 11.0, 10.0, 9.0, 8.0, 7.0, 6.0, 5.0, 4.0, 3.0, 2.0, 1.0, 1.0831, 1.0773, 1.0764, 1.073, 1.0711, 1.0675, 1.066, 1.0641, 1.0626, 1.0594, 1.0561, 1.056, 1.0502, 1.0502, 1.0501, 1.0478, 1.0419, 1.0412, 1.0399, 1.0378, 1.0373, 1.0362, 1.0315, 1.0315, 1.0312, 1.0285, 1.0246, 1.0246, 1.0241, 1.0237, 0.9704, 0.9608, 0.9352, 0.9735, 0.7211, 0.7466, 0.8263, 0.7299, 0.8525, 0.6012, 0.6818, 0.8981, 0.8703, 0.8487, 0.456, 0.5894, -0.0136, 0.107, -0.0052, 0.0701, 0.309, 0.4244, 0.219, 0.2884, 0.2607, -0.3938, 0.1846, 0.5361, -0.2705, -0.4183, 1.2973, 1.2886, 1.2878, 1.2854, 1.2807, 1.279, 1.2788, 1.2775, 1.2729, 1.2723, 1.2701, 1.2691, 1.269, 1.2585, 1.258, 1.257, 1.2506, 1.2506, 1.2505, 1.2503, 1.2458, 1.2451, 1.245, 1.2449, 1.2394, 1.2391, 1.2382, 1.2322, 1.2322, 1.2318, 1.2261, 1.2201, 1.0724, 1.0591, 1.1922, 0.6356, 0.8391, 0.9847, 0.8998, 0.8514, 0.6094, 0.9183, 1.0366, 0.292, 0.4385, 0.8454, 0.5281, 0.8994, 0.6637, 0.3627, 0.6363, 0.2816, 0.2424, -0.1769, 0.0173, -0.2876, -0.3139, -0.5642, -0.1235, -0.4626, 1.402, 1.4014, 1.3992, 1.3936, 1.3879, 1.3871, 1.3865, 1.3739, 1.3702, 1.3684, 1.3684, 1.3684, 1.3679, 1.3595, 1.3552, 1.3545, 1.35, 1.3484, 1.3445, 1.3412, 1.3411, 1.34, 1.3208, 1.3207, 1.3056, 1.3046, 1.3045, 1.2897, 1.2861, 1.2861, 1.2578, 1.2665, 1.2394, 1.2356, 1.2545, 1.223, 1.114, 1.053, 0.9483, 1.0658, 0.9605, 0.8471, 1.1091, 0.8391, 0.6669, 0.4321, 0.9294, 0.9244, 0.6271, 0.2532, 0.0501, 0.3864, 0.0891, 0.294, 0.3933, 1.8337, 1.8203, 1.818, 1.802, 1.782, 1.7778, 1.7703, 1.7685, 1.7685, 1.7684, 1.7684, 1.7684, 1.7683, 1.7683, 1.7681, 1.7681, 1.7606, 1.7584, 1.7583, 1.7578, 1.7429, 1.7429, 1.7428, 1.7427, 1.7427, 1.7427, 1.7427, 1.7426, 1.7426, 1.7426, 1.7406, 1.7185, 1.7369, 1.6338, 1.6603, 1.7178, 1.6306, 1.4482, 1.4991, 1.1532, 1.5345, 0.7909, 0.9475, 0.5054, 0.9576, 0.0286, 0.5035, 0.8476, -0.3128, -0.0846, 1.1552, 0.9426, 0.526, 1.0854, 1.1179, -0.132, -0.2965, 0.6632, -0.1886, -0.1295]}, \"token.table\": {\"Topic\": [1, 2, 1, 2, 4, 2, 2, 1, 2, 3, 4, 1, 2, 4, 2, 2, 2, 3, 3, 1, 4, 2, 4, 1, 2, 2, 1, 2, 2, 4, 2, 1, 1, 3, 3, 1, 2, 1, 2, 3, 4, 2, 2, 3, 3, 1, 2, 4, 1, 1, 2, 3, 4, 1, 1, 2, 1, 1, 2, 3, 4, 3, 1, 2, 1, 3, 4, 3, 2, 4, 1, 3, 4, 1, 2, 3, 4, 3, 1, 3, 4, 1, 2, 4, 2, 3, 4, 2, 2, 3, 2, 2, 3, 2, 3, 4, 3, 2, 1, 1, 2, 3, 4, 3, 1, 1, 3, 3, 3, 1, 2, 3, 4, 1, 1, 2, 3, 4, 1, 1, 2, 1, 2, 3, 4, 1, 1, 2, 3, 3, 2, 1, 2, 3, 4, 2, 1, 3, 1, 3, 1, 2, 3, 4, 3, 4, 1, 2, 3, 4, 3, 1, 1, 1, 2, 3, 4, 4, 1, 2, 1, 4, 2, 1, 2, 3, 1, 3, 4, 1, 3, 4, 1, 2, 3, 4, 2, 1, 1, 2, 3, 4, 2, 1, 1, 1, 2, 3, 1, 2, 4, 1, 2, 3, 1, 2, 4, 1, 2, 3, 4, 4, 1, 2, 3, 4, 3, 3, 1, 2, 3, 4, 4, 1, 2, 3, 4, 1, 2, 3, 4, 4, 2, 3, 1, 2, 3, 4, 1, 2, 4, 1, 4, 4, 1, 3, 1, 2, 4, 2, 4, 1, 1, 4, 3, 1, 3, 1, 2, 3, 1, 3, 3, 3, 1, 2, 4, 1, 1, 2, 3, 4, 1, 1, 2, 3, 4, 1, 3, 1, 1, 2, 4, 4, 1, 3, 2, 3, 2, 1, 2, 2, 1, 2, 3, 1, 2, 3, 4, 1, 2, 3, 4, 1, 2, 3, 4, 2, 4, 4, 2, 4, 3, 1, 2, 3, 4, 1, 2, 3, 4, 1, 2, 3, 4, 1, 2, 3, 4, 1, 4, 2, 3, 3, 2, 3, 2, 1, 1, 2, 3, 4, 1, 2, 3, 4, 1, 2, 3, 4, 1, 2, 3, 4, 1, 2, 2, 1, 2, 3, 4, 1, 2, 3, 4, 1, 2, 3, 1, 2, 3, 4, 1, 2, 3, 4, 2, 4, 1, 2, 3, 4, 2, 4, 4, 4, 4, 4, 4, 1, 4, 1, 4, 1, 4, 4, 4, 4, 4, 1, 4, 4, 1, 4, 4, 4], \"Freq\": [0.9891060697492684, 0.9117912339285978, 0.7666509771962056, 0.1916627442990514, 0.027380392042721628, 0.9655510066806342, 0.9655786304132965, 0.24728322051153756, 0.11826588807073535, 0.5590751072434762, 0.0645086662204011, 0.6867189046575819, 0.2441667216560291, 0.061041680414007274, 0.9801364352469691, 0.9428338432707793, 0.9428446148039432, 0.9522373726368085, 0.9944971428806393, 0.25655310757168565, 0.7055210458221355, 0.9863647229067193, 0.8366880556254573, 0.9012583339864582, 0.09486929831436401, 0.9547411560806667, 0.012101412792236005, 0.9923158489633525, 0.9118459378523399, 0.9287580442258057, 0.942834517043717, 0.9896303910397221, 0.09158490380853507, 0.8929528121332169, 0.9267669698581492, 0.06355005561549366, 0.9214758064246581, 0.43070980785979424, 0.3612404840114403, 0.08336318861802469, 0.12504478292703702, 0.9285902589736329, 0.137061671562141, 0.8497823636852742, 0.9003078629488018, 0.6810173605485226, 0.24097537373255415, 0.07334033113599474, 0.9441973949918174, 0.05601020733714672, 0.23804338118287355, 0.44808165869717376, 0.2520459330171602, 0.9083679464368208, 0.8768163115647284, 0.12831458218020417, 0.9910303299304509, 0.06264838797594043, 0.09397258196391063, 0.3550075318636624, 0.4907457058115333, 0.9378222199530195, 0.9815969081329122, 0.9899828754943446, 0.03532316770060856, 0.8477560248146054, 0.10596950310182568, 0.9785833098405313, 0.8916196354924184, 0.836686449934968, 0.9222278647325005, 0.03792823249486266, 0.9482058123715664, 0.039981590183812935, 0.6596962380329133, 0.21989874601097112, 0.059972385275719395, 0.9523942038426503, 0.7962673245274904, 0.15166996657666484, 0.07583498328833242, 0.8340226226248716, 0.08779185501314438, 0.08779185501314438, 0.2017733822143138, 0.1008866911071569, 0.7062068377500983, 0.9745799050207262, 0.046224090983774495, 0.9501618702220314, 0.928599531598703, 0.06488488150359459, 0.9300166348848558, 0.21867690731389083, 0.7393362104422023, 0.041652744250264925, 0.964619350502541, 0.9117825139184322, 0.9441407082144798, 0.5258131171905019, 0.27433727853417494, 0.06858431963354374, 0.1257379193281635, 0.9753294231527709, 0.9609724152265611, 0.8920867156048851, 0.9547848289267196, 0.9753292919451378, 0.9801870656665951, 0.29349704130025706, 0.49766889611782716, 0.16588963203927573, 0.0382822227782944, 0.9816096324411029, 0.1227746780746354, 0.19643948491941662, 0.622058368911486, 0.05729484976816319, 0.9609702545748615, 0.06952589664531356, 0.9038366563890763, 0.3742853857854234, 0.19908797116245927, 0.3105772350134364, 0.11148926385097718, 0.9849984800076823, 0.5978378577219465, 0.2892763827686838, 0.0964254609228946, 0.9846889338376659, 0.9744738609669835, 0.9746259874460211, 0.016243766457433688, 0.016243766457433688, 0.016243766457433688, 0.9468338262136649, 0.1492673675596917, 0.8209705215783043, 0.05225468412069526, 0.9405843141725146, 0.1921104451854324, 0.07684417807417297, 0.07684417807417297, 0.6531755136304702, 0.835215920633499, 0.15908874678733315, 0.36682458466361334, 0.2139810077204411, 0.030568715388634444, 0.39739330005224777, 0.9002912094165286, 0.8921531327971165, 0.9222086176390917, 0.11614017940350979, 0.3774555830614068, 0.20324531395614215, 0.2903504485087745, 0.8367038102335281, 0.8096910543778301, 0.161938210875566, 0.14544284958399978, 0.7999356727119988, 0.8916057326539244, 0.17116669343681054, 0.5135000803104317, 0.29954171351441844, 0.41149436364169695, 0.3225226093407895, 0.2557937936151089, 0.5139388129003013, 0.08289335691940343, 0.3978881132131365, 0.22179915988730098, 0.35967431333075833, 0.2517720193315308, 0.16185344099884125, 0.9547692373048098, 0.9340420236707644, 0.3311658102988802, 0.15621028787683028, 0.37490469090439266, 0.14371346484668385, 0.9801206587133354, 0.946539179375069, 0.9441406657048869, 0.3549267353086322, 0.6309808627709018, 0.8440535191152009, 0.41384976079633967, 0.18811352763469985, 0.41384976079633967, 0.07870533991737415, 0.6296427193389932, 0.2885862463637052, 0.8425120531168839, 0.1381167300191613, 0.8792705220281786, 0.4558846002820184, 0.10726696477223963, 0.08045022357917972, 0.3754343767028387, 0.8366964829896607, 0.7029753197693037, 0.17893917230491366, 0.06390684725175488, 0.051125477801403904, 0.9378515786109062, 0.9753294320830719, 0.07734460465809985, 0.7734460465809986, 0.12375136745295977, 0.015468920931619971, 0.8792700377538565, 0.21894248671535158, 0.040544904947287325, 0.6892633841038845, 0.048653885936744794, 0.6607439326790863, 0.2517119743539376, 0.0157319983971211, 0.07865999198560551, 0.9124437938408801, 0.04326250729624443, 0.9517751605173775, 0.26128607444981927, 0.5007983093621536, 0.19596455583736444, 0.021773839537484938, 0.15981897108278628, 0.7857766078236992, 0.046613866565812664, 0.9815986432607514, 0.8366866537967094, 0.8792421608082847, 0.9687254741656418, 0.06054534213535261, 0.24297916519218354, 0.6595148769502125, 0.06942261862633815, 0.4976190248902491, 0.4976190248902491, 0.892083037077244, 0.048872856879034046, 0.9285842807016469, 0.9732879828868221, 0.2367263502014673, 0.7439971006331829, 0.32533298175252634, 0.10844432725084212, 0.5557771771605658, 0.056161881875139014, 0.8985901100022242, 0.900308608471581, 0.98463850531907, 0.19986959660287107, 0.7138199878673966, 0.0856583985440876, 0.9920323506096591, 0.051684611116835935, 0.31010766670101564, 0.6374435371076432, 0.8367036549387052, 0.9221363894928969, 0.2586848992234949, 0.4157435880377597, 0.19401367441762118, 0.13858119601258656, 0.9816259002025793, 0.9378518717864903, 0.8920814998222091, 0.0992651134425303, 0.6617674229502021, 0.1985302268850606, 0.8366963554430435, 0.15447223535026303, 0.8495972944264467, 0.11832062875211012, 0.8282444012647708, 0.9285868654381723, 0.9672704478889582, 0.030227201496529944, 0.9285889592120166, 0.12907134865323702, 0.1505832400954432, 0.7098924175928036, 0.5669002916464381, 0.22183054890512793, 0.07394351630170931, 0.14788703260341862, 0.28428772078921244, 0.14214386039460622, 0.09476257359640415, 0.4738128679820207, 0.048076459115393017, 0.16826760690387554, 0.6009557389424127, 0.16826760690387554, 0.9043715233883745, 0.0531983249051985, 0.8366949485486119, 0.9428178314634046, 0.836693740238534, 0.9646401441990051, 0.39923126801232695, 0.34219822972485164, 0.1425825957186882, 0.11406607657495055, 0.6042400212598973, 0.17771765331173447, 0.17771765331173447, 0.035543530662346896, 0.17216342435209572, 0.6312658892910177, 0.02869390405868262, 0.1434695202934131, 0.4559936719010719, 0.15634068750893892, 0.3517665468951126, 0.026056781251489823, 0.780729956881038, 0.1951824892202595, 0.7441988564681493, 0.23256214264629665, 0.8444784926057135, 0.8916201435316935, 0.9207664592861541, 0.9655789804139061, 0.9441451007133183, 0.4128147081870657, 0.051601838523383216, 0.051601838523383216, 0.5160183852338321, 0.3536195369068206, 0.24961379075775572, 0.14560804460869084, 0.27041493998756866, 0.8827277794395975, 0.06968903521891559, 0.023229678406305194, 0.023229678406305194, 0.9828648671214244, 0.07776025228430891, 0.07776025228430891, 0.7776025228430892, 0.9798932676034803, 0.9380626614733355, 0.9380663092425506, 0.15255049018975878, 0.22882573528463815, 0.6102019607590351, 0.025425081698293127, 0.3286614574755609, 0.5108111808957513, 0.047517319153093145, 0.11483352128664176, 0.35988817997562256, 0.17244641957165247, 0.4723532362180046, 0.4392161738574582, 0.3875436828154043, 0.025836245521026955, 0.14209935036564825, 0.2539794604100744, 0.4515190407290211, 0.19753958031894675, 0.08465982013669146, 0.993241481684795, 0.8366891963659393, 0.1668672144124952, 0.22527073945686849, 0.2669875430599923, 0.34207778954561513, 0.13004650862343956, 0.858306956914701, 0.9122995181942248, 0.9123053862139558, 0.9810754381178538, 0.928603737567065, 0.9122826262178408, 0.11701965563077259, 0.9361572450461807, 0.09743465754297541, 0.8769119178867787, 0.19352878351477962, 0.7741151340591185, 0.9123014510565586, 0.9123118410883676, 0.9122833446986106, 0.9122945597967267, 0.12987198829280788, 0.9091039180496552, 0.9123058785936745, 0.0976543155506184, 0.8788888399555655, 0.9388563226190986, 0.9123030259408272], \"Term\": [\"2022\", \"afraid\", \"alone\", \"alone\", \"alone\", \"asleep\", \"babe\", \"back\", \"back\", \"back\", \"back\", \"bad\", \"bad\", \"bad\", \"bellyache\", \"birthy\", \"blah\", \"blind\", \"bloom\", \"blue\", \"blue\", \"bore\", \"bottle\", \"bout\", \"bout\", \"bow\", \"boy\", \"boy\", \"boyfriend\", \"broke\", \"bullshit\", \"bunny\", \"burn\", \"burn\", \"burning\", \"bury\", \"bury\", \"call\", \"call\", \"call\", \"call\", \"cannibal\", \"car\", \"car\", \"carelessly\", \"cause\", \"cause\", \"cause\", \"chest\", \"come\", \"come\", \"come\", \"come\", \"commit\", \"cop\", \"cop\", \"copycat\", \"could\", \"could\", \"could\", \"could\", \"creature\", \"crime\", \"crown\", \"cry\", \"cry\", \"cry\", \"diamond\", \"door\", \"dress\", \"duh\", \"dumb\", \"dumb\", \"end\", \"end\", \"end\", \"end\", \"erase\", \"even\", \"even\", \"even\", \"everybody\", \"everybody\", \"everybody\", \"everything\", \"everything\", \"everything\", \"expensive\", \"eye\", \"eye\", \"fade\", \"fair\", \"fair\", \"fall\", \"fall\", \"fall\", \"fan\", \"favorite\", \"february\", \"feel\", \"feel\", \"feel\", \"feel\", \"fifteen\", \"finger\", \"fingertip\", \"fire\", \"flare\", \"foot\", \"friend\", \"friend\", \"friend\", \"friend\", \"gay\", \"give\", \"give\", \"give\", \"give\", \"glamor\", \"glass\", \"glass\", \"go\", \"go\", \"go\", \"go\", \"gold\", \"gon\", \"gon\", \"gon\", \"grave\", \"gutter\", \"guy\", \"guy\", \"guy\", \"guy\", \"he\", \"heart\", \"heart\", \"help\", \"help\", \"hide\", \"hide\", \"hide\", \"hide\", \"high\", \"high\", \"home\", \"home\", \"home\", \"home\", \"hug\", \"hurry\", \"job\", \"keep\", \"keep\", \"keep\", \"keep\", \"kid\", \"kiss\", \"kiss\", \"la\", \"la\", \"late\", \"left\", \"left\", \"left\", \"let\", \"let\", \"let\", \"lie\", \"lie\", \"lie\", \"love\", \"love\", \"love\", \"love\", \"lover\", \"mad\", \"make\", \"make\", \"make\", \"make\", \"makethem\", \"manner\", \"march\", \"maybe\", \"maybe\", \"meant\", \"might\", \"might\", \"might\", \"mind\", \"mind\", \"mind\", \"mine\", \"mine\", \"mirror\", \"mm\", \"mm\", \"mm\", \"mm\", \"model\", \"na\", \"na\", \"na\", \"na\", \"naeco\", \"napalm\", \"need\", \"need\", \"need\", \"need\", \"nervous\", \"never\", \"never\", \"never\", \"never\", \"nothing\", \"nothing\", \"nothing\", \"nothing\", \"oakland\", \"ocean\", \"ocean\", \"oh\", \"oh\", \"oh\", \"oh\", \"one\", \"one\", \"one\", \"poison\", \"pool\", \"power\", \"pretend\", \"pretend\", \"pretty\", \"pretty\", \"pretty\", \"promise\", \"promise\", \"push\", \"quiet\", \"quiet\", \"quite\", \"rain\", \"rain\", \"really\", \"really\", \"really\", \"remember\", \"remember\", \"retrace\", \"rose\", \"run\", \"run\", \"run\", \"sad\", \"scar\", \"scar\", \"scar\", \"school\", \"sec\", \"see\", \"see\", \"see\", \"see\", \"seven\", \"seye\", \"shame\", \"shes\", \"shes\", \"shes\", \"showthem\", \"six\", \"six\", \"sky\", \"sky\", \"son\", \"sorry\", \"sorry\", \"staple\", \"start\", \"start\", \"start\", \"stay\", \"stay\", \"stay\", \"stay\", \"still\", \"still\", \"still\", \"still\", \"stop\", \"stop\", \"stop\", \"stop\", \"sure\", \"sure\", \"swim\", \"teach\", \"teardrop\", \"teeth\", \"tell\", \"tell\", \"tell\", \"tell\", \"think\", \"think\", \"think\", \"think\", \"thought\", \"thought\", \"thought\", \"thought\", \"time\", \"time\", \"time\", \"time\", \"told\", \"told\", \"tongue\", \"tongue\", \"tonight\", \"torn\", \"touch\", \"town\", \"trigger\", \"true\", \"true\", \"true\", \"true\", \"try\", \"try\", \"try\", \"try\", \"tryna\", \"tryna\", \"tryna\", \"tryna\", \"type\", \"um\", \"um\", \"um\", \"uninvited\", \"v\", \"vendetta\", \"walk\", \"walk\", \"walk\", \"walk\", \"want\", \"want\", \"want\", \"want\", \"watch\", \"watch\", \"watch\", \"way\", \"way\", \"way\", \"way\", \"well\", \"well\", \"well\", \"well\", \"wheres\", \"whore\", \"would\", \"would\", \"would\", \"would\", \"young\", \"young\", \"\\u062f\\u0648\\u0633\\u062a\", \"\\u062f\\u06cc\\u06af\\u0631\\u06cc\", \"\\u0634\\u0645\\u0627\", \"\\u0641\\u06a9\\u0631\", \"\\u0644\\u0639\\u0646\\u062a\\u06cc\", \"\\u0645\\u0631\\u062f\", \"\\u0645\\u0631\\u062f\", \"\\u0645\\u0646\", \"\\u0645\\u0646\", \"\\u0645\\u06cc\", \"\\u0645\\u06cc\", \"\\u0646\\u06cc\\u0633\\u062a\\u0645\", \"\\u0647\\u0631\", \"\\u0647\\u0633\\u062a\\u0645\", \"\\u0647\\u0633\\u062a\\u06cc\\u062f\", \"\\u067e\\u0633\", \"\\u067e\\u0633\", \"\\u0686\\u06cc\\u0632\", \"\\u06a9\\u0646\\u06cc\\u062f\", \"\\u06a9\\u0646\\u06cc\\u062f\", \"\\u06a9\\u0647\", \"\\u06cc\\u0627\"]}, \"R\": 30, \"lambda.step\": 0.01, \"plot.opts\": {\"xlab\": \"PC1\", \"ylab\": \"PC2\"}, \"topic.order\": [3, 2, 1, 4]};\n",
       "\n",
       "function LDAvis_load_lib(url, callback){\n",
       "  var s = document.createElement('script');\n",
       "  s.src = url;\n",
       "  s.async = true;\n",
       "  s.onreadystatechange = s.onload = callback;\n",
       "  s.onerror = function(){console.warn(\"failed to load library \" + url);};\n",
       "  document.getElementsByTagName(\"head\")[0].appendChild(s);\n",
       "}\n",
       "\n",
       "if(typeof(LDAvis) !== \"undefined\"){\n",
       "   // already loaded: just create the visualization\n",
       "   !function(LDAvis){\n",
       "       new LDAvis(\"#\" + \"ldavis_el434741406250609506401627490514\", ldavis_el434741406250609506401627490514_data);\n",
       "   }(LDAvis);\n",
       "}else if(typeof define === \"function\" && define.amd){\n",
       "   // require.js is available: use it to load d3/LDAvis\n",
       "   require.config({paths: {d3: \"https://d3js.org/d3.v5\"}});\n",
       "   require([\"d3\"], function(d3){\n",
       "      window.d3 = d3;\n",
       "      LDAvis_load_lib(\"https://cdn.jsdelivr.net/gh/bmabey/pyLDAvis@3.3.1/pyLDAvis/js/ldavis.v3.0.0.js\", function(){\n",
       "        new LDAvis(\"#\" + \"ldavis_el434741406250609506401627490514\", ldavis_el434741406250609506401627490514_data);\n",
       "      });\n",
       "    });\n",
       "}else{\n",
       "    // require.js not available: dynamically load d3 & LDAvis\n",
       "    LDAvis_load_lib(\"https://d3js.org/d3.v5.js\", function(){\n",
       "         LDAvis_load_lib(\"https://cdn.jsdelivr.net/gh/bmabey/pyLDAvis@3.3.1/pyLDAvis/js/ldavis.v3.0.0.js\", function(){\n",
       "                 new LDAvis(\"#\" + \"ldavis_el434741406250609506401627490514\", ldavis_el434741406250609506401627490514_data);\n",
       "            })\n",
       "         });\n",
       "}\n",
       "</script>"
      ],
      "text/plain": [
       "<IPython.core.display.HTML object>"
      ]
     },
     "execution_count": 37,
     "metadata": {},
     "output_type": "execute_result"
    }
   ],
   "source": [
    "import pyLDAvis.gensim_models\n",
    "lda_display = pyLDAvis.gensim_models.prepare(ldamodel, corpus, dictionary)\n",
    "pyLDAvis.display(lda_display)"
   ]
  },
  {
   "cell_type": "code",
   "execution_count": 38,
   "id": "desirable-surgery",
   "metadata": {},
   "outputs": [
    {
     "name": "stderr",
     "output_type": "stream",
     "text": [
      "/Library/Frameworks/Python.framework/Versions/3.9/lib/python3.9/site-packages/ipykernel/ipkernel.py:283: DeprecationWarning: `should_run_async` will not call `transform_cell` automatically in the future. Please pass the result to `transformed_cell` argument and any exception that happen during thetransform in `preprocessing_exc_tuple` in IPython 7.17 and above.\n",
      "  and should_run_async(code)\n"
     ]
    },
    {
     "data": {
      "text/plain": [
       "<gensim.corpora.dictionary.Dictionary at 0x7fe5d24fc670>"
      ]
     },
     "execution_count": 38,
     "metadata": {},
     "output_type": "execute_result"
    }
   ],
   "source": [
    "dictionary"
   ]
  },
  {
   "cell_type": "code",
   "execution_count": 39,
   "id": "visible-melbourne",
   "metadata": {},
   "outputs": [
    {
     "name": "stdout",
     "output_type": "stream",
     "text": [
      "['good', 'learn', 'lose', 'afford', 'tore', 'shirt', 'stop', 'bleedin', 'nothing', 'ever', 'stop', 'leavin', 'quiet_come', 'home_could', 'lie', 'could_lie', 'much', 'already', 'hurt', 'let', 'call', 'friend', 'keep', 'closer', 'call', 'back', 'call', 'party', 'quiet_come', 'home_could', 'lie', 'could_lie', 'nothing', 'well', 'sometimes', 'goodbye', 'let', 'let', 'go', 'let', 'let', 'go', 'quiet_come', 'home_could', 'lie', 'could_lie']\n"
     ]
    },
    {
     "name": "stderr",
     "output_type": "stream",
     "text": [
      "/Library/Frameworks/Python.framework/Versions/3.9/lib/python3.9/site-packages/ipykernel/ipkernel.py:283: DeprecationWarning: `should_run_async` will not call `transform_cell` automatically in the future. Please pass the result to `transformed_cell` argument and any exception that happen during thetransform in `preprocessing_exc_tuple` in IPython 7.17 and above.\n",
      "  and should_run_async(code)\n",
      "<ipython-input-39-00f6d1d42edf>:6: UserWarning: Pandas doesn't allow columns to be created via a new attribute name - see https://pandas.pydata.org/pandas-docs/stable/indexing.html#attribute-access\n",
      "  artist_df.lyrics1 = [wd for wd in artist_df.lyrics]\n"
     ]
    }
   ],
   "source": [
    "from gensim.test.utils import datapath\n",
    "from gensim.models.word2vec import Text8Corpus\n",
    "from gensim.models.phrases import Phrases, Phraser\n",
    "\n",
    "#sentences = Text8Corpus(datapath('testcorpus.txt'))\n",
    "artist_df.lyrics1 = [wd for wd in artist_df.lyrics]\n",
    "\n",
    "# Build the bigram models\n",
    "bigram = gensim.models.phrases.Phrases(artist_df.lyrics1, min_count=3, threshold=10)\n",
    "\n",
    "# Construct bigram\n",
    "print(bigram[artist_df.lyrics[0]])"
   ]
  },
  {
   "cell_type": "markdown",
   "id": "cloudy-france",
   "metadata": {},
   "source": [
    "# Wordcloud"
   ]
  },
  {
   "cell_type": "code",
   "execution_count": 40,
   "id": "played-stand",
   "metadata": {},
   "outputs": [
    {
     "name": "stderr",
     "output_type": "stream",
     "text": [
      "/Library/Frameworks/Python.framework/Versions/3.9/lib/python3.9/site-packages/ipykernel/ipkernel.py:283: DeprecationWarning: `should_run_async` will not call `transform_cell` automatically in the future. Please pass the result to `transformed_cell` argument and any exception that happen during thetransform in `preprocessing_exc_tuple` in IPython 7.17 and above.\n",
      "  and should_run_async(code)\n",
      "/Library/Frameworks/Python.framework/Versions/3.9/lib/python3.9/site-packages/pandas/core/generic.py:5494: SettingWithCopyWarning: \n",
      "A value is trying to be set on a copy of a slice from a DataFrame.\n",
      "Try using .loc[row_indexer,col_indexer] = value instead\n",
      "\n",
      "See the caveats in the documentation: https://pandas.pydata.org/pandas-docs/stable/user_guide/indexing.html#returning-a-view-versus-a-copy\n",
      "  self[name] = value\n"
     ]
    }
   ],
   "source": [
    "artist_df.lyrics = artist_df.lyrics.apply(lambda x: \" \".join(x))"
   ]
  },
  {
   "cell_type": "code",
   "execution_count": 41,
   "id": "welsh-organization",
   "metadata": {},
   "outputs": [
    {
     "name": "stderr",
     "output_type": "stream",
     "text": [
      "/Library/Frameworks/Python.framework/Versions/3.9/lib/python3.9/site-packages/ipykernel/ipkernel.py:283: DeprecationWarning: `should_run_async` will not call `transform_cell` automatically in the future. Please pass the result to `transformed_cell` argument and any exception that happen during thetransform in `preprocessing_exc_tuple` in IPython 7.17 and above.\n",
      "  and should_run_async(code)\n"
     ]
    },
    {
     "data": {
      "text/html": [
       "<div>\n",
       "<style scoped>\n",
       "    .dataframe tbody tr th:only-of-type {\n",
       "        vertical-align: middle;\n",
       "    }\n",
       "\n",
       "    .dataframe tbody tr th {\n",
       "        vertical-align: top;\n",
       "    }\n",
       "\n",
       "    .dataframe thead th {\n",
       "        text-align: right;\n",
       "    }\n",
       "</style>\n",
       "<table border=\"1\" class=\"dataframe\">\n",
       "  <thead>\n",
       "    <tr style=\"text-align: right;\">\n",
       "      <th></th>\n",
       "      <th>full_title</th>\n",
       "      <th>title</th>\n",
       "      <th>artist</th>\n",
       "      <th>lyrics</th>\n",
       "      <th>featured_artists</th>\n",
       "      <th>release_date</th>\n",
       "    </tr>\n",
       "  </thead>\n",
       "  <tbody>\n",
       "    <tr>\n",
       "      <th>0</th>\n",
       "      <td>​when the party's over by Billie Eilish</td>\n",
       "      <td>​when the party’s over</td>\n",
       "      <td>Billie Eilish</td>\n",
       "      <td>good learn lose afford tore shirt stop bleedin...</td>\n",
       "      <td>[]</td>\n",
       "      <td>2018-10-17</td>\n",
       "    </tr>\n",
       "    <tr>\n",
       "      <th>1</th>\n",
       "      <td>​everything i wanted by Billie Eilish</td>\n",
       "      <td>​everything i wanted</td>\n",
       "      <td>Billie Eilish</td>\n",
       "      <td>dream everything want think honest might night...</td>\n",
       "      <td>[]</td>\n",
       "      <td>2019-11-13</td>\n",
       "    </tr>\n",
       "    <tr>\n",
       "      <th>2</th>\n",
       "      <td>​bad guy by Billie Eilish</td>\n",
       "      <td>​bad guy</td>\n",
       "      <td>Billie Eilish</td>\n",
       "      <td>white shirt red bloody nose sleepin tippy toe ...</td>\n",
       "      <td>[]</td>\n",
       "      <td>2019-03-29</td>\n",
       "    </tr>\n",
       "    <tr>\n",
       "      <th>3</th>\n",
       "      <td>​idontwannabeyouanymore by Billie Eilish</td>\n",
       "      <td>​idontwannabeyouanymore</td>\n",
       "      <td>Billie Eilish</td>\n",
       "      <td>way fall apart twice wish could feel show neve...</td>\n",
       "      <td>[]</td>\n",
       "      <td>2017-07-21</td>\n",
       "    </tr>\n",
       "    <tr>\n",
       "      <th>4</th>\n",
       "      <td>​bury a friend by Billie Eilish</td>\n",
       "      <td>​bury a friend</td>\n",
       "      <td>Billie Eilish</td>\n",
       "      <td>billie want run wonder scar care fall asleep g...</td>\n",
       "      <td>[]</td>\n",
       "      <td>2019-01-30</td>\n",
       "    </tr>\n",
       "  </tbody>\n",
       "</table>\n",
       "</div>"
      ],
      "text/plain": [
       "                                 full_title                    title  \\\n",
       "0   ​when the party's over by Billie Eilish   ​when the party’s over   \n",
       "1     ​everything i wanted by Billie Eilish     ​everything i wanted   \n",
       "2                 ​bad guy by Billie Eilish                 ​bad guy   \n",
       "3  ​idontwannabeyouanymore by Billie Eilish  ​idontwannabeyouanymore   \n",
       "4           ​bury a friend by Billie Eilish           ​bury a friend   \n",
       "\n",
       "          artist                                             lyrics  \\\n",
       "0  Billie Eilish  good learn lose afford tore shirt stop bleedin...   \n",
       "1  Billie Eilish  dream everything want think honest might night...   \n",
       "2  Billie Eilish  white shirt red bloody nose sleepin tippy toe ...   \n",
       "3  Billie Eilish  way fall apart twice wish could feel show neve...   \n",
       "4  Billie Eilish  billie want run wonder scar care fall asleep g...   \n",
       "\n",
       "  featured_artists release_date  \n",
       "0               []   2018-10-17  \n",
       "1               []   2019-11-13  \n",
       "2               []   2019-03-29  \n",
       "3               []   2017-07-21  \n",
       "4               []   2019-01-30  "
      ]
     },
     "execution_count": 41,
     "metadata": {},
     "output_type": "execute_result"
    }
   ],
   "source": [
    "artist_df.head()"
   ]
  },
  {
   "cell_type": "code",
   "execution_count": 42,
   "id": "living-government",
   "metadata": {},
   "outputs": [
    {
     "name": "stderr",
     "output_type": "stream",
     "text": [
      "/Library/Frameworks/Python.framework/Versions/3.9/lib/python3.9/site-packages/ipykernel/ipkernel.py:283: DeprecationWarning: `should_run_async` will not call `transform_cell` automatically in the future. Please pass the result to `transformed_cell` argument and any exception that happen during thetransform in `preprocessing_exc_tuple` in IPython 7.17 and above.\n",
      "  and should_run_async(code)\n"
     ]
    }
   ],
   "source": [
    "# Create an object that converts strings into a sparse matrix\n",
    "from sklearn.feature_extraction.text import CountVectorizer\n",
    "\n",
    "vectorizer = CountVectorizer(max_features= 20000 , min_df=0.01, ngram_range= (1,1))\n",
    "\n",
    "# Convert the text column to a sparse matrix\n",
    "\n",
    "data_dtm = vectorizer.fit_transform(artist_df.lyrics)"
   ]
  },
  {
   "cell_type": "code",
   "execution_count": 43,
   "id": "soviet-executive",
   "metadata": {},
   "outputs": [
    {
     "name": "stderr",
     "output_type": "stream",
     "text": [
      "/Library/Frameworks/Python.framework/Versions/3.9/lib/python3.9/site-packages/ipykernel/ipkernel.py:283: DeprecationWarning: `should_run_async` will not call `transform_cell` automatically in the future. Please pass the result to `transformed_cell` argument and any exception that happen during thetransform in `preprocessing_exc_tuple` in IPython 7.17 and above.\n",
      "  and should_run_async(code)\n"
     ]
    }
   ],
   "source": [
    "# Create a dataframe of terms and frequencies\n",
    "# Get the frequency of each term\n",
    "\n",
    "term_frequencies = data_dtm.sum(axis=0)\n",
    "\n",
    "# Match frequencies to terms\n",
    "\n",
    "frequent_terms = [(word, term_frequencies[0, id]) for word, id in vectorizer.vocabulary_.items()]\n",
    "\n",
    "# Convert the word-frequency pairings to a dataframe\n",
    "\n",
    "term_df = pd.DataFrame(columns=[\"term\",\"frequency\"], data=frequent_terms)\n",
    "\n",
    "# Sort the dataframe\n",
    "\n",
    "term_df.sort_values(by=\"frequency\", ascending=False, inplace=True)"
   ]
  },
  {
   "cell_type": "code",
   "execution_count": 44,
   "id": "mental-beatles",
   "metadata": {},
   "outputs": [
    {
     "name": "stderr",
     "output_type": "stream",
     "text": [
      "/Library/Frameworks/Python.framework/Versions/3.9/lib/python3.9/site-packages/ipykernel/ipkernel.py:283: DeprecationWarning: `should_run_async` will not call `transform_cell` automatically in the future. Please pass the result to `transformed_cell` argument and any exception that happen during thetransform in `preprocessing_exc_tuple` in IPython 7.17 and above.\n",
      "  and should_run_async(code)\n"
     ]
    },
    {
     "data": {
      "text/html": [
       "<div>\n",
       "<style scoped>\n",
       "    .dataframe tbody tr th:only-of-type {\n",
       "        vertical-align: middle;\n",
       "    }\n",
       "\n",
       "    .dataframe tbody tr th {\n",
       "        vertical-align: top;\n",
       "    }\n",
       "\n",
       "    .dataframe thead th {\n",
       "        text-align: right;\n",
       "    }\n",
       "</style>\n",
       "<table border=\"1\" class=\"dataframe\">\n",
       "  <thead>\n",
       "    <tr style=\"text-align: right;\">\n",
       "      <th></th>\n",
       "      <th>term</th>\n",
       "      <th>frequency</th>\n",
       "    </tr>\n",
       "  </thead>\n",
       "  <tbody>\n",
       "    <tr>\n",
       "      <th>32</th>\n",
       "      <td>want</td>\n",
       "      <td>280</td>\n",
       "    </tr>\n",
       "    <tr>\n",
       "      <th>222</th>\n",
       "      <td>eye</td>\n",
       "      <td>218</td>\n",
       "    </tr>\n",
       "    <tr>\n",
       "      <th>160</th>\n",
       "      <td>love</td>\n",
       "      <td>186</td>\n",
       "    </tr>\n",
       "    <tr>\n",
       "      <th>315</th>\n",
       "      <td>ocean</td>\n",
       "      <td>181</td>\n",
       "    </tr>\n",
       "    <tr>\n",
       "      <th>110</th>\n",
       "      <td>make</td>\n",
       "      <td>178</td>\n",
       "    </tr>\n",
       "    <tr>\n",
       "      <th>55</th>\n",
       "      <td>one</td>\n",
       "      <td>166</td>\n",
       "    </tr>\n",
       "    <tr>\n",
       "      <th>314</th>\n",
       "      <td>watch</td>\n",
       "      <td>147</td>\n",
       "    </tr>\n",
       "    <tr>\n",
       "      <th>29</th>\n",
       "      <td>go</td>\n",
       "      <td>139</td>\n",
       "    </tr>\n",
       "    <tr>\n",
       "      <th>146</th>\n",
       "      <td>never</td>\n",
       "      <td>137</td>\n",
       "    </tr>\n",
       "    <tr>\n",
       "      <th>233</th>\n",
       "      <td>give</td>\n",
       "      <td>136</td>\n",
       "    </tr>\n",
       "    <tr>\n",
       "      <th>81</th>\n",
       "      <td>would</td>\n",
       "      <td>135</td>\n",
       "    </tr>\n",
       "    <tr>\n",
       "      <th>33</th>\n",
       "      <td>think</td>\n",
       "      <td>123</td>\n",
       "    </tr>\n",
       "    <tr>\n",
       "      <th>53</th>\n",
       "      <td>see</td>\n",
       "      <td>120</td>\n",
       "    </tr>\n",
       "    <tr>\n",
       "      <th>14</th>\n",
       "      <td>could</td>\n",
       "      <td>109</td>\n",
       "    </tr>\n",
       "    <tr>\n",
       "      <th>141</th>\n",
       "      <td>fall</td>\n",
       "      <td>107</td>\n",
       "    </tr>\n",
       "    <tr>\n",
       "      <th>76</th>\n",
       "      <td>cause</td>\n",
       "      <td>104</td>\n",
       "    </tr>\n",
       "    <tr>\n",
       "      <th>24</th>\n",
       "      <td>back</td>\n",
       "      <td>103</td>\n",
       "    </tr>\n",
       "    <tr>\n",
       "      <th>19</th>\n",
       "      <td>let</td>\n",
       "      <td>100</td>\n",
       "    </tr>\n",
       "    <tr>\n",
       "      <th>71</th>\n",
       "      <td>feel</td>\n",
       "      <td>96</td>\n",
       "    </tr>\n",
       "    <tr>\n",
       "      <th>580</th>\n",
       "      <td>boy</td>\n",
       "      <td>91</td>\n",
       "    </tr>\n",
       "  </tbody>\n",
       "</table>\n",
       "</div>"
      ],
      "text/plain": [
       "      term  frequency\n",
       "32    want        280\n",
       "222    eye        218\n",
       "160   love        186\n",
       "315  ocean        181\n",
       "110   make        178\n",
       "55     one        166\n",
       "314  watch        147\n",
       "29      go        139\n",
       "146  never        137\n",
       "233   give        136\n",
       "81   would        135\n",
       "33   think        123\n",
       "53     see        120\n",
       "14   could        109\n",
       "141   fall        107\n",
       "76   cause        104\n",
       "24    back        103\n",
       "19     let        100\n",
       "71    feel         96\n",
       "580    boy         91"
      ]
     },
     "execution_count": 44,
     "metadata": {},
     "output_type": "execute_result"
    }
   ],
   "source": [
    "term_df.head(20)"
   ]
  },
  {
   "cell_type": "code",
   "execution_count": 45,
   "id": "rotary-repair",
   "metadata": {},
   "outputs": [
    {
     "name": "stderr",
     "output_type": "stream",
     "text": [
      "/Library/Frameworks/Python.framework/Versions/3.9/lib/python3.9/site-packages/ipykernel/ipkernel.py:283: DeprecationWarning: `should_run_async` will not call `transform_cell` automatically in the future. Please pass the result to `transformed_cell` argument and any exception that happen during thetransform in `preprocessing_exc_tuple` in IPython 7.17 and above.\n",
      "  and should_run_async(code)\n"
     ]
    },
    {
     "data": {
      "image/png": "[encoded data removed]",
      "text/plain": [
       "<Figure size 1440x720 with 1 Axes>"
      ]
     },
     "metadata": {
      "needs_background": "light"
     },
     "output_type": "display_data"
    }
   ],
   "source": [
    "# Create a dictionary of most frequent terms ((required for word clouds)\n",
    "\n",
    "term_dict = term_df.set_index('term')['frequency'].to_dict()\n",
    "\n",
    "# Create a wordcloud of most frequent terms\n",
    "\n",
    "wc = WordCloud(width=800, height=300, background_color=\"white\",\n",
    "               max_words=100)\n",
    "\n",
    "wc.generate_from_frequencies(term_dict)\n",
    "\n",
    "# Display the cloud\n",
    "\n",
    "plt.figure(figsize=(20, 10))\n",
    "plt.title(\"Word cloud for lyrics\", fontsize = 40, pad = 50 )\n",
    "plt.imshow(wc, interpolation=\"bilinear\")\n",
    "plt.axis(\"off\")\n",
    "plt.show()"
   ]
  },
  {
   "cell_type": "code",
   "execution_count": null,
   "id": "australian-earthquake",
   "metadata": {},
   "outputs": [],
   "source": []
  },
  {
   "cell_type": "code",
   "execution_count": null,
   "id": "about-shuttle",
   "metadata": {},
   "outputs": [],
   "source": []
  },
  {
   "cell_type": "markdown",
   "id": "national-senegal",
   "metadata": {},
   "source": [
    "# Sentiment"
   ]
  },
  {
   "cell_type": "code",
   "execution_count": 46,
   "id": "dense-foundation",
   "metadata": {},
   "outputs": [
    {
     "name": "stderr",
     "output_type": "stream",
     "text": [
      "/Library/Frameworks/Python.framework/Versions/3.9/lib/python3.9/site-packages/ipykernel/ipkernel.py:283: DeprecationWarning: `should_run_async` will not call `transform_cell` automatically in the future. Please pass the result to `transformed_cell` argument and any exception that happen during thetransform in `preprocessing_exc_tuple` in IPython 7.17 and above.\n",
      "  and should_run_async(code)\n",
      "<ipython-input-46-d312c35c4e1f>:2: SettingWithCopyWarning: \n",
      "A value is trying to be set on a copy of a slice from a DataFrame.\n",
      "Try using .loc[row_indexer,col_indexer] = value instead\n",
      "\n",
      "See the caveats in the documentation: https://pandas.pydata.org/pandas-docs/stable/user_guide/indexing.html#returning-a-view-versus-a-copy\n",
      "  artist_df[\"sentiment\"] = artist_df.lyrics.apply(lambda x: TextBlob(x).sentiment.polarity)\n"
     ]
    }
   ],
   "source": [
    "# Assign sentiment to each lyric\n",
    "artist_df[\"sentiment\"] = artist_df.lyrics.apply(lambda x: TextBlob(x).sentiment.polarity)"
   ]
  },
  {
   "cell_type": "code",
   "execution_count": 47,
   "id": "sealed-settle",
   "metadata": {},
   "outputs": [
    {
     "name": "stderr",
     "output_type": "stream",
     "text": [
      "/Library/Frameworks/Python.framework/Versions/3.9/lib/python3.9/site-packages/ipykernel/ipkernel.py:283: DeprecationWarning: `should_run_async` will not call `transform_cell` automatically in the future. Please pass the result to `transformed_cell` argument and any exception that happen during thetransform in `preprocessing_exc_tuple` in IPython 7.17 and above.\n",
      "  and should_run_async(code)\n"
     ]
    },
    {
     "data": {
      "text/html": [
       "<div>\n",
       "<style scoped>\n",
       "    .dataframe tbody tr th:only-of-type {\n",
       "        vertical-align: middle;\n",
       "    }\n",
       "\n",
       "    .dataframe tbody tr th {\n",
       "        vertical-align: top;\n",
       "    }\n",
       "\n",
       "    .dataframe thead th {\n",
       "        text-align: right;\n",
       "    }\n",
       "</style>\n",
       "<table border=\"1\" class=\"dataframe\">\n",
       "  <thead>\n",
       "    <tr style=\"text-align: right;\">\n",
       "      <th></th>\n",
       "      <th>full_title</th>\n",
       "      <th>title</th>\n",
       "      <th>artist</th>\n",
       "      <th>lyrics</th>\n",
       "      <th>featured_artists</th>\n",
       "      <th>release_date</th>\n",
       "      <th>sentiment</th>\n",
       "    </tr>\n",
       "  </thead>\n",
       "  <tbody>\n",
       "    <tr>\n",
       "      <th>128</th>\n",
       "      <td>Billie Bossa Nova pt 2 by Billie Eilish</td>\n",
       "      <td>Billie Bossa Nova pt 2</td>\n",
       "      <td>Billie Eilish</td>\n",
       "      <td>jk pranked idiot</td>\n",
       "      <td>[]</td>\n",
       "      <td>2021-05-12</td>\n",
       "      <td>-0.800000</td>\n",
       "    </tr>\n",
       "    <tr>\n",
       "      <th>66</th>\n",
       "      <td>Getting Older by Billie Eilish</td>\n",
       "      <td>Getting Older</td>\n",
       "      <td>Billie Eilish</td>\n",
       "      <td>decision abuse trauma thing want afraid tell y...</td>\n",
       "      <td>[]</td>\n",
       "      <td>2021-07-30</td>\n",
       "      <td>-0.600000</td>\n",
       "    </tr>\n",
       "    <tr>\n",
       "      <th>51</th>\n",
       "      <td>​daddy* by Billie Eilish (Ft. MadeinTYO)</td>\n",
       "      <td>​daddy*</td>\n",
       "      <td>Billie Eilish</td>\n",
       "      <td>make sad boy well look who sad ddy givenchy ki...</td>\n",
       "      <td>[{'api_path': '/artists/346237', 'header_image...</td>\n",
       "      <td>None</td>\n",
       "      <td>-0.500000</td>\n",
       "    </tr>\n",
       "    <tr>\n",
       "      <th>84</th>\n",
       "      <td>Stoned by Billie Eilish</td>\n",
       "      <td>Stoned</td>\n",
       "      <td>Billie Eilish</td>\n",
       "      <td>want nce little girl shadow see thing hid burn...</td>\n",
       "      <td>[]</td>\n",
       "      <td>None</td>\n",
       "      <td>-0.393750</td>\n",
       "    </tr>\n",
       "    <tr>\n",
       "      <th>2</th>\n",
       "      <td>​bad guy by Billie Eilish</td>\n",
       "      <td>​bad guy</td>\n",
       "      <td>Billie Eilish</td>\n",
       "      <td>white shirt red bloody nose sleepin tippy toe ...</td>\n",
       "      <td>[]</td>\n",
       "      <td>2019-03-29</td>\n",
       "      <td>-0.368061</td>\n",
       "    </tr>\n",
       "    <tr>\n",
       "      <th>131</th>\n",
       "      <td>Bad guy (Topic Remix) by Billie Eilish (Ft. To...</td>\n",
       "      <td>Bad guy (Topic Remix)</td>\n",
       "      <td>Billie Eilish</td>\n",
       "      <td>white shirt red bloody nose sleepin tippy toe ...</td>\n",
       "      <td>[{'api_path': '/artists/18954', 'header_image_...</td>\n",
       "      <td>None</td>\n",
       "      <td>-0.368061</td>\n",
       "    </tr>\n",
       "    <tr>\n",
       "      <th>75</th>\n",
       "      <td>​bad guy (Demo) by Billie Eilish</td>\n",
       "      <td>​bad guy (Demo)</td>\n",
       "      <td>Billie Eilish</td>\n",
       "      <td>white shirt red bloody nose sleepin tippy toe ...</td>\n",
       "      <td>[]</td>\n",
       "      <td>None</td>\n",
       "      <td>-0.363478</td>\n",
       "    </tr>\n",
       "    <tr>\n",
       "      <th>142</th>\n",
       "      <td>​bad guy (Live at Third Man Records) by Billie...</td>\n",
       "      <td>​bad guy (Live at Third Man Records)</td>\n",
       "      <td>Billie Eilish</td>\n",
       "      <td>must song white shirt red bloody nose sleepin ...</td>\n",
       "      <td>[]</td>\n",
       "      <td>2019-12-06</td>\n",
       "      <td>-0.314874</td>\n",
       "    </tr>\n",
       "    <tr>\n",
       "      <th>65</th>\n",
       "      <td>COPYCAT (Sofi Tukker Remix) by Billie Eilish</td>\n",
       "      <td>COPYCAT (Sofi Tukker Remix)</td>\n",
       "      <td>Billie Eilish</td>\n",
       "      <td>copycat try cop manner watch back watch mine c...</td>\n",
       "      <td>[]</td>\n",
       "      <td>2018-01-12</td>\n",
       "      <td>-0.252381</td>\n",
       "    </tr>\n",
       "    <tr>\n",
       "      <th>44</th>\n",
       "      <td>​another stupid song* by Billie Eilish</td>\n",
       "      <td>​another stupid song*</td>\n",
       "      <td>Billie Eilish</td>\n",
       "      <td>miss oh well never even kiss without countdown...</td>\n",
       "      <td>[]</td>\n",
       "      <td>None</td>\n",
       "      <td>-0.245455</td>\n",
       "    </tr>\n",
       "  </tbody>\n",
       "</table>\n",
       "</div>"
      ],
      "text/plain": [
       "                                            full_title  \\\n",
       "128            Billie Bossa Nova pt 2 by Billie Eilish   \n",
       "66                      Getting Older by Billie Eilish   \n",
       "51            ​daddy* by Billie Eilish (Ft. MadeinTYO)   \n",
       "84                             Stoned by Billie Eilish   \n",
       "2                            ​bad guy by Billie Eilish   \n",
       "131  Bad guy (Topic Remix) by Billie Eilish (Ft. To...   \n",
       "75                    ​bad guy (Demo) by Billie Eilish   \n",
       "142  ​bad guy (Live at Third Man Records) by Billie...   \n",
       "65        COPYCAT (Sofi Tukker Remix) by Billie Eilish   \n",
       "44              ​another stupid song* by Billie Eilish   \n",
       "\n",
       "                                    title         artist  \\\n",
       "128                Billie Bossa Nova pt 2  Billie Eilish   \n",
       "66                          Getting Older  Billie Eilish   \n",
       "51                                ​daddy*  Billie Eilish   \n",
       "84                                 Stoned  Billie Eilish   \n",
       "2                                ​bad guy  Billie Eilish   \n",
       "131                 Bad guy (Topic Remix)  Billie Eilish   \n",
       "75                        ​bad guy (Demo)  Billie Eilish   \n",
       "142  ​bad guy (Live at Third Man Records)  Billie Eilish   \n",
       "65            COPYCAT (Sofi Tukker Remix)  Billie Eilish   \n",
       "44                  ​another stupid song*  Billie Eilish   \n",
       "\n",
       "                                                lyrics  \\\n",
       "128                                   jk pranked idiot   \n",
       "66   decision abuse trauma thing want afraid tell y...   \n",
       "51   make sad boy well look who sad ddy givenchy ki...   \n",
       "84   want nce little girl shadow see thing hid burn...   \n",
       "2    white shirt red bloody nose sleepin tippy toe ...   \n",
       "131  white shirt red bloody nose sleepin tippy toe ...   \n",
       "75   white shirt red bloody nose sleepin tippy toe ...   \n",
       "142  must song white shirt red bloody nose sleepin ...   \n",
       "65   copycat try cop manner watch back watch mine c...   \n",
       "44   miss oh well never even kiss without countdown...   \n",
       "\n",
       "                                      featured_artists release_date  sentiment  \n",
       "128                                                 []   2021-05-12  -0.800000  \n",
       "66                                                  []   2021-07-30  -0.600000  \n",
       "51   [{'api_path': '/artists/346237', 'header_image...         None  -0.500000  \n",
       "84                                                  []         None  -0.393750  \n",
       "2                                                   []   2019-03-29  -0.368061  \n",
       "131  [{'api_path': '/artists/18954', 'header_image_...         None  -0.368061  \n",
       "75                                                  []         None  -0.363478  \n",
       "142                                                 []   2019-12-06  -0.314874  \n",
       "65                                                  []   2018-01-12  -0.252381  \n",
       "44                                                  []         None  -0.245455  "
      ]
     },
     "execution_count": 47,
     "metadata": {},
     "output_type": "execute_result"
    }
   ],
   "source": [
    "artist_df.sort_values(by=\"sentiment\", ascending=True).head(10)"
   ]
  },
  {
   "cell_type": "code",
   "execution_count": 48,
   "id": "imperial-editing",
   "metadata": {},
   "outputs": [
    {
     "name": "stderr",
     "output_type": "stream",
     "text": [
      "/Library/Frameworks/Python.framework/Versions/3.9/lib/python3.9/site-packages/ipykernel/ipkernel.py:283: DeprecationWarning: `should_run_async` will not call `transform_cell` automatically in the future. Please pass the result to `transformed_cell` argument and any exception that happen during thetransform in `preprocessing_exc_tuple` in IPython 7.17 and above.\n",
      "  and should_run_async(code)\n"
     ]
    },
    {
     "data": {
      "text/html": [
       "<div>\n",
       "<style scoped>\n",
       "    .dataframe tbody tr th:only-of-type {\n",
       "        vertical-align: middle;\n",
       "    }\n",
       "\n",
       "    .dataframe tbody tr th {\n",
       "        vertical-align: top;\n",
       "    }\n",
       "\n",
       "    .dataframe thead th {\n",
       "        text-align: right;\n",
       "    }\n",
       "</style>\n",
       "<table border=\"1\" class=\"dataframe\">\n",
       "  <thead>\n",
       "    <tr style=\"text-align: right;\">\n",
       "      <th></th>\n",
       "      <th>sentiment</th>\n",
       "    </tr>\n",
       "  </thead>\n",
       "  <tbody>\n",
       "    <tr>\n",
       "      <th>count</th>\n",
       "      <td>153.000000</td>\n",
       "    </tr>\n",
       "    <tr>\n",
       "      <th>mean</th>\n",
       "      <td>0.085237</td>\n",
       "    </tr>\n",
       "    <tr>\n",
       "      <th>std</th>\n",
       "      <td>0.235495</td>\n",
       "    </tr>\n",
       "    <tr>\n",
       "      <th>min</th>\n",
       "      <td>-0.800000</td>\n",
       "    </tr>\n",
       "    <tr>\n",
       "      <th>25%</th>\n",
       "      <td>-0.046429</td>\n",
       "    </tr>\n",
       "    <tr>\n",
       "      <th>50%</th>\n",
       "      <td>0.100000</td>\n",
       "    </tr>\n",
       "    <tr>\n",
       "      <th>75%</th>\n",
       "      <td>0.224167</td>\n",
       "    </tr>\n",
       "    <tr>\n",
       "      <th>max</th>\n",
       "      <td>0.700000</td>\n",
       "    </tr>\n",
       "  </tbody>\n",
       "</table>\n",
       "</div>"
      ],
      "text/plain": [
       "        sentiment\n",
       "count  153.000000\n",
       "mean     0.085237\n",
       "std      0.235495\n",
       "min     -0.800000\n",
       "25%     -0.046429\n",
       "50%      0.100000\n",
       "75%      0.224167\n",
       "max      0.700000"
      ]
     },
     "execution_count": 48,
     "metadata": {},
     "output_type": "execute_result"
    }
   ],
   "source": [
    "artist_df.describe()"
   ]
  },
  {
   "cell_type": "code",
   "execution_count": 49,
   "id": "fleet-uncle",
   "metadata": {
    "scrolled": true
   },
   "outputs": [
    {
     "name": "stderr",
     "output_type": "stream",
     "text": [
      "/Library/Frameworks/Python.framework/Versions/3.9/lib/python3.9/site-packages/ipykernel/ipkernel.py:283: DeprecationWarning: `should_run_async` will not call `transform_cell` automatically in the future. Please pass the result to `transformed_cell` argument and any exception that happen during thetransform in `preprocessing_exc_tuple` in IPython 7.17 and above.\n",
      "  and should_run_async(code)\n",
      "<ipython-input-49-20a3b369a7a7>:1: SettingWithCopyWarning: \n",
      "A value is trying to be set on a copy of a slice from a DataFrame.\n",
      "Try using .loc[row_indexer,col_indexer] = value instead\n",
      "\n",
      "See the caveats in the documentation: https://pandas.pydata.org/pandas-docs/stable/user_guide/indexing.html#returning-a-view-versus-a-copy\n",
      "  artist_df['Datetime'] = pd.to_datetime(df['release_date'], format=\"%Y/%m/%d\")\n"
     ]
    }
   ],
   "source": [
    "artist_df['Datetime'] = pd.to_datetime(df['release_date'], format=\"%Y/%m/%d\")\n",
    "artist_df = artist_df.sort_values(by = \"Datetime\")"
   ]
  },
  {
   "cell_type": "code",
   "execution_count": 50,
   "id": "french-increase",
   "metadata": {},
   "outputs": [
    {
     "name": "stderr",
     "output_type": "stream",
     "text": [
      "/Library/Frameworks/Python.framework/Versions/3.9/lib/python3.9/site-packages/ipykernel/ipkernel.py:283: DeprecationWarning: `should_run_async` will not call `transform_cell` automatically in the future. Please pass the result to `transformed_cell` argument and any exception that happen during thetransform in `preprocessing_exc_tuple` in IPython 7.17 and above.\n",
      "  and should_run_async(code)\n"
     ]
    },
    {
     "data": {
      "image/png": "[encoded data removed]",
      "text/plain": [
       "<Figure size 1080x360 with 1 Axes>"
      ]
     },
     "metadata": {
      "needs_background": "light"
     },
     "output_type": "display_data"
    }
   ],
   "source": [
    "plt = artist_df.plot(x = 'release_date', y = 'sentiment', figsize=(15, 5))"
   ]
  },
  {
   "cell_type": "code",
   "execution_count": null,
   "id": "minor-strand",
   "metadata": {},
   "outputs": [],
   "source": []
  },
  {
   "cell_type": "code",
   "execution_count": null,
   "id": "reasonable-mason",
   "metadata": {},
   "outputs": [],
   "source": []
  }
 ],
 "metadata": {
  "kernelspec": {
   "display_name": "Python 3",
   "language": "python",
   "name": "python3"
  },
  "language_info": {
   "codemirror_mode": {
    "name": "ipython",
    "version": 3
   },
   "file_extension": ".py",
   "mimetype": "text/x-python",
   "name": "python",
   "nbconvert_exporter": "python",
   "pygments_lexer": "ipython3",
   "version": "3.9.1"
  }
 },
 "nbformat": 4,
 "nbformat_minor": 5
}
